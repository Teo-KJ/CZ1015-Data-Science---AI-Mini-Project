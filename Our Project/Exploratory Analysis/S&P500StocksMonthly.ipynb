{
 "cells": [
  {
   "cell_type": "code",
   "execution_count": 1,
   "metadata": {},
   "outputs": [],
   "source": [
    "import numpy as np\n",
    "import pandas as pd\n",
    "import seaborn as sb\n",
    "import matplotlib.pyplot as plt\n",
    "sb.set()"
   ]
  },
  {
   "cell_type": "code",
   "execution_count": 2,
   "metadata": {},
   "outputs": [
    {
     "ename": "FileNotFoundError",
     "evalue": "[Errno 2] File b'Data/sandp500/all_stocks_5yr.csv' does not exist: b'Data/sandp500/all_stocks_5yr.csv'",
     "output_type": "error",
     "traceback": [
      "\u001b[1;31m---------------------------------------------------------------------------\u001b[0m",
      "\u001b[1;31mFileNotFoundError\u001b[0m                         Traceback (most recent call last)",
      "\u001b[1;32m<ipython-input-2-95a678d645be>\u001b[0m in \u001b[0;36m<module>\u001b[1;34m\u001b[0m\n\u001b[1;32m----> 1\u001b[1;33m \u001b[0mStocks\u001b[0m \u001b[1;33m=\u001b[0m \u001b[0mpd\u001b[0m\u001b[1;33m.\u001b[0m\u001b[0mread_csv\u001b[0m\u001b[1;33m(\u001b[0m\u001b[1;34m'Data/sandp500/all_stocks_5yr.csv'\u001b[0m\u001b[1;33m)\u001b[0m\u001b[1;33m\u001b[0m\u001b[1;33m\u001b[0m\u001b[0m\n\u001b[0m",
      "\u001b[1;32m~\\Anaconda3\\lib\\site-packages\\pandas\\io\\parsers.py\u001b[0m in \u001b[0;36mparser_f\u001b[1;34m(filepath_or_buffer, sep, delimiter, header, names, index_col, usecols, squeeze, prefix, mangle_dupe_cols, dtype, engine, converters, true_values, false_values, skipinitialspace, skiprows, skipfooter, nrows, na_values, keep_default_na, na_filter, verbose, skip_blank_lines, parse_dates, infer_datetime_format, keep_date_col, date_parser, dayfirst, iterator, chunksize, compression, thousands, decimal, lineterminator, quotechar, quoting, doublequote, escapechar, comment, encoding, dialect, tupleize_cols, error_bad_lines, warn_bad_lines, delim_whitespace, low_memory, memory_map, float_precision)\u001b[0m\n\u001b[0;32m    700\u001b[0m                     skip_blank_lines=skip_blank_lines)\n\u001b[0;32m    701\u001b[0m \u001b[1;33m\u001b[0m\u001b[0m\n\u001b[1;32m--> 702\u001b[1;33m         \u001b[1;32mreturn\u001b[0m \u001b[0m_read\u001b[0m\u001b[1;33m(\u001b[0m\u001b[0mfilepath_or_buffer\u001b[0m\u001b[1;33m,\u001b[0m \u001b[0mkwds\u001b[0m\u001b[1;33m)\u001b[0m\u001b[1;33m\u001b[0m\u001b[1;33m\u001b[0m\u001b[0m\n\u001b[0m\u001b[0;32m    703\u001b[0m \u001b[1;33m\u001b[0m\u001b[0m\n\u001b[0;32m    704\u001b[0m     \u001b[0mparser_f\u001b[0m\u001b[1;33m.\u001b[0m\u001b[0m__name__\u001b[0m \u001b[1;33m=\u001b[0m \u001b[0mname\u001b[0m\u001b[1;33m\u001b[0m\u001b[1;33m\u001b[0m\u001b[0m\n",
      "\u001b[1;32m~\\Anaconda3\\lib\\site-packages\\pandas\\io\\parsers.py\u001b[0m in \u001b[0;36m_read\u001b[1;34m(filepath_or_buffer, kwds)\u001b[0m\n\u001b[0;32m    427\u001b[0m \u001b[1;33m\u001b[0m\u001b[0m\n\u001b[0;32m    428\u001b[0m     \u001b[1;31m# Create the parser.\u001b[0m\u001b[1;33m\u001b[0m\u001b[1;33m\u001b[0m\u001b[1;33m\u001b[0m\u001b[0m\n\u001b[1;32m--> 429\u001b[1;33m     \u001b[0mparser\u001b[0m \u001b[1;33m=\u001b[0m \u001b[0mTextFileReader\u001b[0m\u001b[1;33m(\u001b[0m\u001b[0mfilepath_or_buffer\u001b[0m\u001b[1;33m,\u001b[0m \u001b[1;33m**\u001b[0m\u001b[0mkwds\u001b[0m\u001b[1;33m)\u001b[0m\u001b[1;33m\u001b[0m\u001b[1;33m\u001b[0m\u001b[0m\n\u001b[0m\u001b[0;32m    430\u001b[0m \u001b[1;33m\u001b[0m\u001b[0m\n\u001b[0;32m    431\u001b[0m     \u001b[1;32mif\u001b[0m \u001b[0mchunksize\u001b[0m \u001b[1;32mor\u001b[0m \u001b[0miterator\u001b[0m\u001b[1;33m:\u001b[0m\u001b[1;33m\u001b[0m\u001b[1;33m\u001b[0m\u001b[0m\n",
      "\u001b[1;32m~\\Anaconda3\\lib\\site-packages\\pandas\\io\\parsers.py\u001b[0m in \u001b[0;36m__init__\u001b[1;34m(self, f, engine, **kwds)\u001b[0m\n\u001b[0;32m    893\u001b[0m             \u001b[0mself\u001b[0m\u001b[1;33m.\u001b[0m\u001b[0moptions\u001b[0m\u001b[1;33m[\u001b[0m\u001b[1;34m'has_index_names'\u001b[0m\u001b[1;33m]\u001b[0m \u001b[1;33m=\u001b[0m \u001b[0mkwds\u001b[0m\u001b[1;33m[\u001b[0m\u001b[1;34m'has_index_names'\u001b[0m\u001b[1;33m]\u001b[0m\u001b[1;33m\u001b[0m\u001b[1;33m\u001b[0m\u001b[0m\n\u001b[0;32m    894\u001b[0m \u001b[1;33m\u001b[0m\u001b[0m\n\u001b[1;32m--> 895\u001b[1;33m         \u001b[0mself\u001b[0m\u001b[1;33m.\u001b[0m\u001b[0m_make_engine\u001b[0m\u001b[1;33m(\u001b[0m\u001b[0mself\u001b[0m\u001b[1;33m.\u001b[0m\u001b[0mengine\u001b[0m\u001b[1;33m)\u001b[0m\u001b[1;33m\u001b[0m\u001b[1;33m\u001b[0m\u001b[0m\n\u001b[0m\u001b[0;32m    896\u001b[0m \u001b[1;33m\u001b[0m\u001b[0m\n\u001b[0;32m    897\u001b[0m     \u001b[1;32mdef\u001b[0m \u001b[0mclose\u001b[0m\u001b[1;33m(\u001b[0m\u001b[0mself\u001b[0m\u001b[1;33m)\u001b[0m\u001b[1;33m:\u001b[0m\u001b[1;33m\u001b[0m\u001b[1;33m\u001b[0m\u001b[0m\n",
      "\u001b[1;32m~\\Anaconda3\\lib\\site-packages\\pandas\\io\\parsers.py\u001b[0m in \u001b[0;36m_make_engine\u001b[1;34m(self, engine)\u001b[0m\n\u001b[0;32m   1120\u001b[0m     \u001b[1;32mdef\u001b[0m \u001b[0m_make_engine\u001b[0m\u001b[1;33m(\u001b[0m\u001b[0mself\u001b[0m\u001b[1;33m,\u001b[0m \u001b[0mengine\u001b[0m\u001b[1;33m=\u001b[0m\u001b[1;34m'c'\u001b[0m\u001b[1;33m)\u001b[0m\u001b[1;33m:\u001b[0m\u001b[1;33m\u001b[0m\u001b[1;33m\u001b[0m\u001b[0m\n\u001b[0;32m   1121\u001b[0m         \u001b[1;32mif\u001b[0m \u001b[0mengine\u001b[0m \u001b[1;33m==\u001b[0m \u001b[1;34m'c'\u001b[0m\u001b[1;33m:\u001b[0m\u001b[1;33m\u001b[0m\u001b[1;33m\u001b[0m\u001b[0m\n\u001b[1;32m-> 1122\u001b[1;33m             \u001b[0mself\u001b[0m\u001b[1;33m.\u001b[0m\u001b[0m_engine\u001b[0m \u001b[1;33m=\u001b[0m \u001b[0mCParserWrapper\u001b[0m\u001b[1;33m(\u001b[0m\u001b[0mself\u001b[0m\u001b[1;33m.\u001b[0m\u001b[0mf\u001b[0m\u001b[1;33m,\u001b[0m \u001b[1;33m**\u001b[0m\u001b[0mself\u001b[0m\u001b[1;33m.\u001b[0m\u001b[0moptions\u001b[0m\u001b[1;33m)\u001b[0m\u001b[1;33m\u001b[0m\u001b[1;33m\u001b[0m\u001b[0m\n\u001b[0m\u001b[0;32m   1123\u001b[0m         \u001b[1;32melse\u001b[0m\u001b[1;33m:\u001b[0m\u001b[1;33m\u001b[0m\u001b[1;33m\u001b[0m\u001b[0m\n\u001b[0;32m   1124\u001b[0m             \u001b[1;32mif\u001b[0m \u001b[0mengine\u001b[0m \u001b[1;33m==\u001b[0m \u001b[1;34m'python'\u001b[0m\u001b[1;33m:\u001b[0m\u001b[1;33m\u001b[0m\u001b[1;33m\u001b[0m\u001b[0m\n",
      "\u001b[1;32m~\\Anaconda3\\lib\\site-packages\\pandas\\io\\parsers.py\u001b[0m in \u001b[0;36m__init__\u001b[1;34m(self, src, **kwds)\u001b[0m\n\u001b[0;32m   1851\u001b[0m         \u001b[0mkwds\u001b[0m\u001b[1;33m[\u001b[0m\u001b[1;34m'usecols'\u001b[0m\u001b[1;33m]\u001b[0m \u001b[1;33m=\u001b[0m \u001b[0mself\u001b[0m\u001b[1;33m.\u001b[0m\u001b[0musecols\u001b[0m\u001b[1;33m\u001b[0m\u001b[1;33m\u001b[0m\u001b[0m\n\u001b[0;32m   1852\u001b[0m \u001b[1;33m\u001b[0m\u001b[0m\n\u001b[1;32m-> 1853\u001b[1;33m         \u001b[0mself\u001b[0m\u001b[1;33m.\u001b[0m\u001b[0m_reader\u001b[0m \u001b[1;33m=\u001b[0m \u001b[0mparsers\u001b[0m\u001b[1;33m.\u001b[0m\u001b[0mTextReader\u001b[0m\u001b[1;33m(\u001b[0m\u001b[0msrc\u001b[0m\u001b[1;33m,\u001b[0m \u001b[1;33m**\u001b[0m\u001b[0mkwds\u001b[0m\u001b[1;33m)\u001b[0m\u001b[1;33m\u001b[0m\u001b[1;33m\u001b[0m\u001b[0m\n\u001b[0m\u001b[0;32m   1854\u001b[0m         \u001b[0mself\u001b[0m\u001b[1;33m.\u001b[0m\u001b[0munnamed_cols\u001b[0m \u001b[1;33m=\u001b[0m \u001b[0mself\u001b[0m\u001b[1;33m.\u001b[0m\u001b[0m_reader\u001b[0m\u001b[1;33m.\u001b[0m\u001b[0munnamed_cols\u001b[0m\u001b[1;33m\u001b[0m\u001b[1;33m\u001b[0m\u001b[0m\n\u001b[0;32m   1855\u001b[0m \u001b[1;33m\u001b[0m\u001b[0m\n",
      "\u001b[1;32mpandas/_libs/parsers.pyx\u001b[0m in \u001b[0;36mpandas._libs.parsers.TextReader.__cinit__\u001b[1;34m()\u001b[0m\n",
      "\u001b[1;32mpandas/_libs/parsers.pyx\u001b[0m in \u001b[0;36mpandas._libs.parsers.TextReader._setup_parser_source\u001b[1;34m()\u001b[0m\n",
      "\u001b[1;31mFileNotFoundError\u001b[0m: [Errno 2] File b'Data/sandp500/all_stocks_5yr.csv' does not exist: b'Data/sandp500/all_stocks_5yr.csv'"
     ]
    }
   ],
   "source": [
    "Stocks = pd.read_csv('Data/sandp500/all_stocks_5yr.csv')"
   ]
  },
  {
   "cell_type": "code",
   "execution_count": null,
   "metadata": {},
   "outputs": [],
   "source": [
    "for i in range(1, 10):\n",
    "    print('Stocks0' + str(i) + \" = Stocks.loc[(Stocks['date'].str.contains('-0\" + str(i) + \"-'))]\\n\"\n",
    "          + 'Stocks0' + str(i) + \" = Stocks.loc[(Stocks['open'].str.contains('-0\" + str(i) + \"-'))]\\n\"\n",
    "          + 'Stocks0' + str(i) + \" = Stocks.loc[(Stocks['high'].str.contains('-0\" + str(i) + \"-'))]\\n\"\n",
    "          + 'Stocks0' + str(i) + \" = Stocks.loc[(Stocks['low'].str.contains('-0\" + str(i) + \"-'))]\\n\"\n",
    "          + 'Stocks0' + str(i) + \" = Stocks.loc[(Stocks['close'].str.contains('-0\" + str(i) + \"-'))]\\n\"\n",
    "          + 'Stocks0' + str(i) + \" = Stocks.loc[(Stocks['log_volume'].str.contains('-0\" + str(i) + \"-'))]\\n\"\n",
    "          )"
   ]
  },
  {
   "cell_type": "code",
   "execution_count": null,
   "metadata": {
    "scrolled": true
   },
   "outputs": [],
   "source": [
    "StocksDrop = Stocks.drop(['Name'],axis = 1)\n",
    "Stocks2015 = StocksDrop.loc[(StocksDrop['date'].str.contains('2015'))]\n",
    "Stocks2015['log_volume'] = np.log(Stocks2015['volume'])"
   ]
  },
  {
   "cell_type": "markdown",
   "metadata": {},
   "source": [
    "//For rounding off to 2 dp\n",
    "Stocks20152d = Stocks2015.round({\"open\": 2, \"high\": 2, \"low\": 2, \"close\": 2, \"log_volume\": 2})"
   ]
  },
  {
   "cell_type": "code",
   "execution_count": null,
   "metadata": {},
   "outputs": [],
   "source": [
    "Stocks201501 = Stocks2015.loc[(Stocks2015['date'].str.contains('/1/'))]\n",
    "M1Stocks201501 = Stocks201501['open'].mean()\n",
    "M2Stocks201501 = Stocks201501['high'].mean()\n",
    "M3Stocks201501 = Stocks201501['low'].mean()\n",
    "M4Stocks201501 = Stocks201501['close'].mean()\n",
    "T1Stocks201501 = Stocks201501['log_volume'].sum()\n",
    "MeanStocks201501 = pd.DataFrame({'open': [M1Stocks201501, 'Null'], 'high': [M2Stocks201501,'Null'], 'low': [M3Stocks201501,'Null'], 'close': [M4Stocks201501,'Null'], 'log_volume':['Null',T1Stocks201501]},index=['Mean','Sum'])\n",
    "MeanStocks201501"
   ]
  },
  {
   "cell_type": "code",
   "execution_count": null,
   "metadata": {
    "scrolled": false
   },
   "outputs": [],
   "source": [
    "Stocks201502 = Stocks2015.loc[(Stocks2015['date'].str.contains('/2/'))]\n",
    "M1Stocks201502 = Stocks201502['open'].mean()\n",
    "M2Stocks201502 = Stocks201502['high'].mean()\n",
    "M3Stocks201502 = Stocks201502['low'].mean()\n",
    "M4Stocks201502 = Stocks201502['close'].mean()\n",
    "T1Stocks201502 = Stocks201502['log_volume'].sum()\n",
    "MeanStocks201502 = pd.DataFrame({'open': [M1Stocks201502, 'Null'], 'high': [M2Stocks201502,'Null'], 'low': [M3Stocks201502,'Null'], 'close': [M4Stocks201502,'Null'], 'log_volume':['Null',T1Stocks201502]},index=['Mean','Sum'])\n",
    "MeanStocks201502"
   ]
  },
  {
   "cell_type": "code",
   "execution_count": null,
   "metadata": {},
   "outputs": [],
   "source": [
    "Stocks201503 = Stocks2015.loc[(Stocks2015['date'].str.contains('/3/'))]\n",
    "M1Stocks201503 = Stocks201503['open'].mean()\n",
    "M2Stocks201503 = Stocks201503['high'].mean()\n",
    "M3Stocks201503 = Stocks201503['low'].mean()\n",
    "M4Stocks201503 = Stocks201503['close'].mean()\n",
    "T1Stocks201503 = Stocks201503['log_volume'].sum()\n",
    "MeanStocks201503 = pd.DataFrame({'open': [M1Stocks201503, 'Null'], 'high': [M2Stocks201503,'Null'], 'low': [M3Stocks201503,'Null'], 'close': [M4Stocks201503,'Null'], 'log_volume':['Null',T1Stocks201503]},index=['Mean','Sum'])\n",
    "MeanStocks201503"
   ]
  },
  {
   "cell_type": "code",
   "execution_count": null,
   "metadata": {
    "scrolled": true
   },
   "outputs": [],
   "source": [
    "Stocks201504 = Stocks2015.loc[(Stocks2015['date'].str.contains('/4/'))]\n",
    "M1Stocks201504 = Stocks201504['open'].mean()\n",
    "M2Stocks201504 = Stocks201504['high'].mean()\n",
    "M3Stocks201504 = Stocks201504['low'].mean()\n",
    "M4Stocks201504 = Stocks201504['close'].mean()\n",
    "T1Stocks201504 = Stocks201504['log_volume'].sum()\n",
    "MeanStocks201504 = pd.DataFrame({'open': [M1Stocks201504, 'Null'], 'high': [M2Stocks201504,'Null'], 'low': [M3Stocks201504,'Null'], 'close': [M4Stocks201504,'Null'], 'log_volume':['Null',T1Stocks201504]},index=['Mean','Sum'])\n",
    "MeanStocks201504"
   ]
  },
  {
   "cell_type": "code",
   "execution_count": null,
   "metadata": {},
   "outputs": [],
   "source": [
    "Stocks201505 = Stocks2015.loc[(Stocks2015['date'].str.contains('/5/'))]\n",
    "M1Stocks201505 = Stocks201505['open'].mean()\n",
    "M2Stocks201505 = Stocks201505['high'].mean()\n",
    "M3Stocks201505 = Stocks201505['low'].mean()\n",
    "M4Stocks201505 = Stocks201505['close'].mean()\n",
    "T1Stocks201505 = Stocks201505['log_volume'].sum()\n",
    "MeanStocks201505 = pd.DataFrame({'open': [M1Stocks201505, 'Null'], 'high': [M2Stocks201505,'Null'], 'low': [M3Stocks201505,'Null'], 'close': [M4Stocks201505,'Null'], 'log_volume':['Null',T1Stocks201505]},index=['Mean','Sum'])\n",
    "MeanStocks201505"
   ]
  },
  {
   "cell_type": "code",
   "execution_count": null,
   "metadata": {},
   "outputs": [],
   "source": [
    "Stocks201506 = Stocks2015.loc[(Stocks2015['date'].str.contains('/6/'))]\n",
    "M1Stocks201506 = Stocks201506['open'].mean()\n",
    "M2Stocks201506 = Stocks201506['high'].mean()\n",
    "M3Stocks201506 = Stocks201506['low'].mean()\n",
    "M4Stocks201506 = Stocks201506['close'].mean()\n",
    "T1Stocks201506 = Stocks201506['log_volume'].sum()\n",
    "MeanStocks201506 = pd.DataFrame({'open': [M1Stocks201506, 'Null'], 'high': [M2Stocks201506,'Null'], 'low': [M3Stocks201506,'Null'], 'close': [M4Stocks201506,'Null'], 'log_volume':['Null',T1Stocks201506]},index=['Mean','Sum'])\n",
    "MeanStocks201506"
   ]
  },
  {
   "cell_type": "code",
   "execution_count": null,
   "metadata": {},
   "outputs": [],
   "source": [
    "Stocks201507 = Stocks2015.loc[(Stocks2015['date'].str.contains('/7/'))]\n",
    "M1Stocks201507 = Stocks201507['open'].mean()\n",
    "M2Stocks201507 = Stocks201507['high'].mean()\n",
    "M3Stocks201507 = Stocks201507['low'].mean()\n",
    "M4Stocks201507 = Stocks201507['close'].mean()\n",
    "T1Stocks201507 = Stocks201507['log_volume'].sum()\n",
    "MeanStocks201507 = pd.DataFrame({'open': [M1Stocks201507, 'Null'], 'high': [M2Stocks201507,'Null'], 'low': [M3Stocks201507,'Null'], 'close': [M4Stocks201507,'Null'], 'log_volume':['Null',T1Stocks201507]},index=['Mean','Sum'])\n",
    "MeanStocks201507"
   ]
  },
  {
   "cell_type": "code",
   "execution_count": null,
   "metadata": {},
   "outputs": [],
   "source": [
    "Stocks201508 = Stocks2015.loc[(Stocks2015['date'].str.contains('/8/'))]\n",
    "M1Stocks201508 = Stocks201508['open'].mean()\n",
    "M2Stocks201508 = Stocks201508['high'].mean()\n",
    "M3Stocks201508 = Stocks201508['low'].mean()\n",
    "M4Stocks201508 = Stocks201508['close'].mean()\n",
    "T1Stocks201508 = Stocks201508['log_volume'].sum()\n",
    "MeanStocks201508 = pd.DataFrame({'open': [M1Stocks201508, 'Null'], 'high': [M2Stocks201508,'Null'], 'low': [M3Stocks201508,'Null'], 'close': [M4Stocks201508,'Null'], 'log_volume':['Null',T1Stocks201508]},index=['Mean','Sum'])\n",
    "MeanStocks201508"
   ]
  },
  {
   "cell_type": "code",
   "execution_count": null,
   "metadata": {},
   "outputs": [],
   "source": [
    "Stocks201509 = Stocks2015.loc[(Stocks2015['date'].str.contains('/9/'))]\n",
    "M1Stocks201509 = Stocks201509['open'].mean()\n",
    "M2Stocks201509 = Stocks201509['high'].mean()\n",
    "M3Stocks201509 = Stocks201509['low'].mean()\n",
    "M4Stocks201509 = Stocks201509['close'].mean()\n",
    "T1Stocks201509 = Stocks201509['log_volume'].sum()\n",
    "MeanStocks201509 = pd.DataFrame({'open': [M1Stocks201509, 'Null'], 'high': [M2Stocks201509,'Null'], 'low': [M3Stocks201509,'Null'], 'close': [M4Stocks201509,'Null'], 'log_volume':['Null',T1Stocks201509]},index=['Mean','Sum'])\n",
    "MeanStocks201509"
   ]
  },
  {
   "cell_type": "code",
   "execution_count": null,
   "metadata": {},
   "outputs": [],
   "source": [
    "Stocks201510 = Stocks2015.loc[(Stocks2015['date'].str.contains('/10/'))]\n",
    "M1Stocks201510 = Stocks201510['open'].mean()\n",
    "M2Stocks201510 = Stocks201510['high'].mean()\n",
    "M3Stocks201510 = Stocks201510['low'].mean()\n",
    "M4Stocks201510 = Stocks201510['close'].mean()\n",
    "T1Stocks201510 = Stocks201510['log_volume'].sum()\n",
    "MeanStocks201510 = pd.DataFrame({'open': [M1Stocks201510, 'Null'], 'high': [M2Stocks201510,'Null'], 'low': [M3Stocks201510,'Null'], 'close': [M4Stocks201510,'Null'], 'log_volume':['Null',T1Stocks201510]},index=['Mean','Sum'])\n",
    "MeanStocks201510"
   ]
  },
  {
   "cell_type": "code",
   "execution_count": null,
   "metadata": {},
   "outputs": [],
   "source": [
    "Stocks201511 = Stocks2015.loc[(Stocks2015['date'].str.contains('/11/'))]\n",
    "M1Stocks201511 = Stocks201511['open'].mean()\n",
    "M2Stocks201511 = Stocks201511['high'].mean()\n",
    "M3Stocks201511 = Stocks201511['low'].mean()\n",
    "M4Stocks201511 = Stocks201511['close'].mean()\n",
    "T1Stocks201511 = Stocks201511['log_volume'].sum()\n",
    "MeanStocks201511 = pd.DataFrame({'open': [M1Stocks201511, 'Null'], 'high': [M2Stocks201511,'Null'], 'low': [M3Stocks201511,'Null'], 'close': [M4Stocks201511,'Null'], 'log_volume':['Null',T1Stocks201511]},index=['Mean','Sum'])\n",
    "MeanStocks201511"
   ]
  },
  {
   "cell_type": "code",
   "execution_count": null,
   "metadata": {},
   "outputs": [],
   "source": [
    "Stocks201512 = Stocks2015.loc[(Stocks2015['date'].str.contains('/12/'))]\n",
    "M1Stocks201512 = Stocks201512['open'].mean()\n",
    "M2Stocks201512 = Stocks201512['high'].mean()\n",
    "M3Stocks201512 = Stocks201512['low'].mean()\n",
    "M4Stocks201512 = Stocks201512['close'].mean()\n",
    "T1Stocks201512 = Stocks201512['log_volume'].sum()\n",
    "MeanStocks201512 = pd.DataFrame({'open': [M1Stocks201512, 'Null'], 'high': [M2Stocks201512,'Null'], 'low': [M3Stocks201512,'Null'], 'close': [M4Stocks201512,'Null'], 'log_volume':['Null',T1Stocks201512]},index=['Mean','Sum'])\n",
    "MeanStocks201512"
   ]
  },
  {
   "cell_type": "code",
   "execution_count": null,
   "metadata": {},
   "outputs": [],
   "source": [
    "Stocks2016 = StocksDrop.loc[(StocksDrop['date'].str.contains('2016'))]\n",
    "Stocks2016['log_volume'] = np.log(Stocks2016['volume'])"
   ]
  },
  {
   "cell_type": "code",
   "execution_count": null,
   "metadata": {},
   "outputs": [],
   "source": [
    "Stocks201601 = Stocks2016.loc[(Stocks2016['date'].str.contains('/1/'))]\n",
    "M1Stocks201601 = Stocks201601['open'].mean()\n",
    "M2Stocks201601 = Stocks201601['high'].mean()\n",
    "M3Stocks201601 = Stocks201601['low'].mean()\n",
    "M4Stocks201601 = Stocks201601['close'].mean()\n",
    "T1Stocks201601 = Stocks201601['log_volume'].sum()\n",
    "MeanStocks201601 = pd.DataFrame({'open': [M1Stocks201601, 'Null'], 'high': [M2Stocks201601,'Null'], 'low': [M3Stocks201601,'Null'], 'close': [M4Stocks201601,'Null'], 'log_volume':['Null',T1Stocks201601]},index=['Mean','Sum'])\n",
    "MeanStocks201601"
   ]
  },
  {
   "cell_type": "code",
   "execution_count": null,
   "metadata": {},
   "outputs": [],
   "source": [
    "Stocks201602 = Stocks2016.loc[(Stocks2016['date'].str.contains('/2/'))]\n",
    "M1Stocks201602 = Stocks201602['open'].mean()\n",
    "M2Stocks201602 = Stocks201602['high'].mean()\n",
    "M3Stocks201602 = Stocks201602['low'].mean()\n",
    "M4Stocks201602 = Stocks201602['close'].mean()\n",
    "T1Stocks201602 = Stocks201602['log_volume'].sum()\n",
    "MeanStocks201602 = pd.DataFrame({'open': [M1Stocks201602, 'Null'], 'high': [M2Stocks201602,'Null'], 'low': [M3Stocks201602,'Null'], 'close': [M4Stocks201602,'Null'], 'log_volume':['Null',T1Stocks201602]},index=['Mean','Sum'])\n",
    "MeanStocks201602"
   ]
  },
  {
   "cell_type": "code",
   "execution_count": null,
   "metadata": {},
   "outputs": [],
   "source": [
    "Stocks201603 = Stocks2016.loc[(Stocks2016['date'].str.contains('/3/'))]\n",
    "M1Stocks201603 = Stocks201603['open'].mean()\n",
    "M2Stocks201603 = Stocks201603['high'].mean()\n",
    "M3Stocks201603 = Stocks201603['low'].mean()\n",
    "M4Stocks201603 = Stocks201603['close'].mean()\n",
    "T1Stocks201603 = Stocks201603['log_volume'].sum()\n",
    "MeanStocks201603 = pd.DataFrame({'open': [M1Stocks201603, 'Null'], 'high': [M2Stocks201603,'Null'], 'low': [M3Stocks201603,'Null'], 'close': [M4Stocks201603,'Null'], 'log_volume':['Null',T1Stocks201603]},index=['Mean','Sum'])\n",
    "MeanStocks201603"
   ]
  },
  {
   "cell_type": "code",
   "execution_count": null,
   "metadata": {},
   "outputs": [],
   "source": [
    "Stocks201604 = Stocks2016.loc[(Stocks2016['date'].str.contains('/4/'))]\n",
    "M1Stocks201604 = Stocks201604['open'].mean()\n",
    "M2Stocks201604 = Stocks201604['high'].mean()\n",
    "M3Stocks201604 = Stocks201604['low'].mean()\n",
    "M4Stocks201604 = Stocks201604['close'].mean()\n",
    "T1Stocks201604 = Stocks201604['log_volume'].sum()\n",
    "MeanStocks201604 = pd.DataFrame({'open': [M1Stocks201604, 'Null'], 'high': [M2Stocks201604,'Null'], 'low': [M3Stocks201604,'Null'], 'close': [M4Stocks201604,'Null'], 'log_volume':['Null',T1Stocks201604]},index=['Mean','Sum'])\n",
    "MeanStocks201604"
   ]
  },
  {
   "cell_type": "code",
   "execution_count": null,
   "metadata": {},
   "outputs": [],
   "source": [
    "Stocks201605 = Stocks2016.loc[(Stocks2016['date'].str.contains('/5/'))]\n",
    "M1Stocks201605 = Stocks201605['open'].mean()\n",
    "M2Stocks201605 = Stocks201605['high'].mean()\n",
    "M3Stocks201605 = Stocks201605['low'].mean()\n",
    "M4Stocks201605 = Stocks201605['close'].mean()\n",
    "T1Stocks201605 = Stocks201605['log_volume'].sum()\n",
    "MeanStocks201605 = pd.DataFrame({'open': [M1Stocks201605, 'Null'], 'high': [M2Stocks201605,'Null'], 'low': [M3Stocks201605,'Null'], 'close': [M4Stocks201605,'Null'], 'log_volume':['Null',T1Stocks201605]},index=['Mean','Sum'])\n",
    "MeanStocks201605"
   ]
  },
  {
   "cell_type": "code",
   "execution_count": null,
   "metadata": {},
   "outputs": [],
   "source": [
    "Stocks201606 = Stocks2016.loc[(Stocks2016['date'].str.contains('/6/'))]\n",
    "M1Stocks201606 = Stocks201606['open'].mean()\n",
    "M2Stocks201606 = Stocks201606['high'].mean()\n",
    "M3Stocks201606 = Stocks201606['low'].mean()\n",
    "M4Stocks201606 = Stocks201606['close'].mean()\n",
    "T1Stocks201606 = Stocks201606['log_volume'].sum()\n",
    "MeanStocks201606 = pd.DataFrame({'open': [M1Stocks201606, 'Null'], 'high': [M2Stocks201606,'Null'], 'low': [M3Stocks201606,'Null'], 'close': [M4Stocks201606,'Null'], 'log_volume':['Null',T1Stocks201606]},index=['Mean','Sum'])\n",
    "MeanStocks201606"
   ]
  },
  {
   "cell_type": "code",
   "execution_count": null,
   "metadata": {},
   "outputs": [],
   "source": [
    "Stocks201607 = Stocks2016.loc[(Stocks2016['date'].str.contains('/7/'))]\n",
    "M1Stocks201607 = Stocks201607['open'].mean()\n",
    "M2Stocks201607 = Stocks201607['high'].mean()\n",
    "M3Stocks201607 = Stocks201607['low'].mean()\n",
    "M4Stocks201607 = Stocks201607['close'].mean()\n",
    "T1Stocks201607 = Stocks201607['log_volume'].sum()\n",
    "MeanStocks201607 = pd.DataFrame({'open': [M1Stocks201607, 'Null'], 'high': [M2Stocks201607,'Null'], 'low': [M3Stocks201607,'Null'], 'close': [M4Stocks201607,'Null'], 'log_volume':['Null',T1Stocks201607]},index=['Mean','Sum'])\n",
    "MeanStocks201607"
   ]
  },
  {
   "cell_type": "code",
   "execution_count": null,
   "metadata": {},
   "outputs": [],
   "source": [
    "Stocks201608 = Stocks2016.loc[(Stocks2016['date'].str.contains('/8/'))]\n",
    "M1Stocks201608 = Stocks201608['open'].mean()\n",
    "M2Stocks201608 = Stocks201608['high'].mean()\n",
    "M3Stocks201608 = Stocks201608['low'].mean()\n",
    "M4Stocks201608 = Stocks201608['close'].mean()\n",
    "T1Stocks201608 = Stocks201608['log_volume'].sum()\n",
    "MeanStocks201608 = pd.DataFrame({'open': [M1Stocks201608, 'Null'], 'high': [M2Stocks201608,'Null'], 'low': [M3Stocks201608,'Null'], 'close': [M4Stocks201608,'Null'], 'log_volume':['Null',T1Stocks201608]},index=['Mean','Sum'])\n",
    "MeanStocks201608"
   ]
  },
  {
   "cell_type": "code",
   "execution_count": null,
   "metadata": {},
   "outputs": [],
   "source": [
    "Stocks201609 = Stocks2016.loc[(Stocks2016['date'].str.contains('/9/'))]\n",
    "M1Stocks201609 = Stocks201609['open'].mean()\n",
    "M2Stocks201609 = Stocks201609['high'].mean()\n",
    "M3Stocks201609 = Stocks201609['low'].mean()\n",
    "M4Stocks201609 = Stocks201609['close'].mean()\n",
    "T1Stocks201609 = Stocks201609['log_volume'].sum()\n",
    "MeanStocks201609 = pd.DataFrame({'open': [M1Stocks201609, 'Null'], 'high': [M2Stocks201609,'Null'], 'low': [M3Stocks201609,'Null'], 'close': [M4Stocks201609,'Null'], 'log_volume':['Null',T1Stocks201609]},index=['Mean','Sum'])\n",
    "MeanStocks201609"
   ]
  },
  {
   "cell_type": "code",
   "execution_count": null,
   "metadata": {},
   "outputs": [],
   "source": [
    "Stocks201610 = Stocks2016.loc[(Stocks2016['date'].str.contains('/10/'))]\n",
    "M1Stocks201610 = Stocks201610['open'].mean()\n",
    "M2Stocks201610 = Stocks201610['high'].mean()\n",
    "M3Stocks201610 = Stocks201610['low'].mean()\n",
    "M4Stocks201610 = Stocks201610['close'].mean()\n",
    "T1Stocks201610 = Stocks201610['log_volume'].sum()\n",
    "MeanStocks201610 = pd.DataFrame({'open': [M1Stocks201610, 'Null'], 'high': [M2Stocks201610,'Null'], 'low': [M3Stocks201610,'Null'], 'close': [M4Stocks201610,'Null'], 'log_volume':['Null',T1Stocks201610]},index=['Mean','Sum'])\n",
    "MeanStocks201610"
   ]
  },
  {
   "cell_type": "code",
   "execution_count": null,
   "metadata": {},
   "outputs": [],
   "source": [
    "Stocks201611 = Stocks2016.loc[(Stocks2016['date'].str.contains('/11/'))]\n",
    "M1Stocks201611 = Stocks201611['open'].mean()\n",
    "M2Stocks201611 = Stocks201611['high'].mean()\n",
    "M3Stocks201611 = Stocks201611['low'].mean()\n",
    "M4Stocks201611 = Stocks201611['close'].mean()\n",
    "T1Stocks201611 = Stocks201611['log_volume'].sum()\n",
    "MeanStocks201611 = pd.DataFrame({'open': [M1Stocks201611, 'Null'], 'high': [M2Stocks201611,'Null'], 'low': [M3Stocks201611,'Null'], 'close': [M4Stocks201611,'Null'], 'log_volume':['Null',T1Stocks201611]},index=['Mean','Sum'])\n",
    "MeanStocks201611"
   ]
  },
  {
   "cell_type": "code",
   "execution_count": null,
   "metadata": {},
   "outputs": [],
   "source": [
    "Stocks201612 = Stocks2016.loc[(Stocks2016['date'].str.contains('/12/'))]\n",
    "M1Stocks201612 = Stocks201612['open'].mean()\n",
    "M2Stocks201612 = Stocks201612['high'].mean()\n",
    "M3Stocks201612 = Stocks201612['low'].mean()\n",
    "M4Stocks201612 = Stocks201612['close'].mean()\n",
    "T1Stocks201612 = Stocks201612['log_volume'].sum()\n",
    "MeanStocks201612 = pd.DataFrame({'open': [M1Stocks201612, 'Null'], 'high': [M2Stocks201612,'Null'], 'low': [M3Stocks201612,'Null'], 'close': [M4Stocks201612,'Null'], 'log_volume':['Null',T1Stocks201612]},index=['Mean','Sum'])\n",
    "MeanStocks201612"
   ]
  },
  {
   "cell_type": "code",
   "execution_count": null,
   "metadata": {},
   "outputs": [],
   "source": [
    "Stocks2017 = StocksDrop.loc[(StocksDrop['date'].str.contains('2017'))]\n",
    "Stocks2017['log_volume'] = np.log(Stocks2017['volume'])"
   ]
  },
  {
   "cell_type": "code",
   "execution_count": null,
   "metadata": {},
   "outputs": [],
   "source": [
    "Stocks201701 = Stocks2017.loc[(Stocks2017['date'].str.contains('/1/'))]\n",
    "M1Stocks201701 = Stocks201701['open'].mean()\n",
    "M2Stocks201701 = Stocks201701['high'].mean()\n",
    "M3Stocks201701 = Stocks201701['low'].mean()\n",
    "M4Stocks201701 = Stocks201701['close'].mean()\n",
    "T1Stocks201701 = Stocks201701['log_volume'].sum()\n",
    "MeanStocks201701 = pd.DataFrame({'open': [M1Stocks201701, 'Null'], 'high': [M2Stocks201701,'Null'], 'low': [M3Stocks201701,'Null'], 'close': [M4Stocks201701,'Null'], 'log_volume':['Null',T1Stocks201701]},index=['Mean','Sum'])\n",
    "MeanStocks201701"
   ]
  },
  {
   "cell_type": "code",
   "execution_count": null,
   "metadata": {},
   "outputs": [],
   "source": [
    "Stocks201702 = Stocks2017.loc[(Stocks2017['date'].str.contains('/2/'))]\n",
    "M1Stocks201702 = Stocks201702['open'].mean()\n",
    "M2Stocks201702 = Stocks201702['high'].mean()\n",
    "M3Stocks201702 = Stocks201702['low'].mean()\n",
    "M4Stocks201702 = Stocks201702['close'].mean()\n",
    "T1Stocks201702 = Stocks201702['log_volume'].sum()\n",
    "MeanStocks201702 = pd.DataFrame({'open': [M1Stocks201702, 'Null'], 'high': [M2Stocks201702,'Null'], 'low': [M3Stocks201702,'Null'], 'close': [M4Stocks201702,'Null'], 'log_volume':['Null',T1Stocks201702]},index=['Mean','Sum'])\n",
    "MeanStocks201702"
   ]
  },
  {
   "cell_type": "code",
   "execution_count": null,
   "metadata": {},
   "outputs": [],
   "source": [
    "Stocks201703 = Stocks2017.loc[(Stocks2017['date'].str.contains('/3/'))]\n",
    "M1Stocks201703 = Stocks201703['open'].mean()\n",
    "M2Stocks201703 = Stocks201703['high'].mean()\n",
    "M3Stocks201703 = Stocks201703['low'].mean()\n",
    "M4Stocks201703 = Stocks201703['close'].mean()\n",
    "T1Stocks201703 = Stocks201703['log_volume'].sum()\n",
    "MeanStocks201703 = pd.DataFrame({'open': [M1Stocks201703, 'Null'], 'high': [M2Stocks201703,'Null'], 'low': [M3Stocks201703,'Null'], 'close': [M4Stocks201703,'Null'], 'log_volume':['Null',T1Stocks201703]},index=['Mean','Sum'])\n",
    "MeanStocks201703"
   ]
  },
  {
   "cell_type": "code",
   "execution_count": null,
   "metadata": {},
   "outputs": [],
   "source": [
    "Stocks201704 = Stocks2017.loc[(Stocks2017['date'].str.contains('/4/'))]\n",
    "M1Stocks201704 = Stocks201704['open'].mean()\n",
    "M2Stocks201704 = Stocks201704['high'].mean()\n",
    "M3Stocks201704 = Stocks201704['low'].mean()\n",
    "M4Stocks201704 = Stocks201704['close'].mean()\n",
    "T1Stocks201704 = Stocks201704['log_volume'].sum()\n",
    "MeanStocks201704 = pd.DataFrame({'open': [M1Stocks201704, 'Null'], 'high': [M2Stocks201704,'Null'], 'low': [M3Stocks201704,'Null'], 'close': [M4Stocks201704,'Null'], 'log_volume':['Null',T1Stocks201704]},index=['Mean','Sum'])\n",
    "MeanStocks201704"
   ]
  },
  {
   "cell_type": "code",
   "execution_count": null,
   "metadata": {},
   "outputs": [],
   "source": [
    "Stocks201705 = Stocks2017.loc[(Stocks2017['date'].str.contains('/5/'))]\n",
    "M1Stocks201705 = Stocks201705['open'].mean()\n",
    "M2Stocks201705 = Stocks201705['high'].mean()\n",
    "M3Stocks201705 = Stocks201705['low'].mean()\n",
    "M4Stocks201705 = Stocks201705['close'].mean()\n",
    "T1Stocks201705 = Stocks201705['log_volume'].sum()\n",
    "MeanStocks201705 = pd.DataFrame({'open': [M1Stocks201705, 'Null'], 'high': [M2Stocks201705,'Null'], 'low': [M3Stocks201705,'Null'], 'close': [M4Stocks201705,'Null'], 'log_volume':['Null',T1Stocks201705]},index=['Mean','Sum'])\n",
    "MeanStocks201705"
   ]
  },
  {
   "cell_type": "code",
   "execution_count": null,
   "metadata": {},
   "outputs": [],
   "source": [
    "Stocks201706 = Stocks2017.loc[(Stocks2017['date'].str.contains('/6/'))]\n",
    "M1Stocks201706 = Stocks201706['open'].mean()\n",
    "M2Stocks201706 = Stocks201706['high'].mean()\n",
    "M3Stocks201706 = Stocks201706['low'].mean()\n",
    "M4Stocks201706 = Stocks201706['close'].mean()\n",
    "T1Stocks201706 = Stocks201706['log_volume'].sum()\n",
    "MeanStocks201706 = pd.DataFrame({'open': [M1Stocks201706, 'Null'], 'high': [M2Stocks201706,'Null'], 'low': [M3Stocks201706,'Null'], 'close': [M4Stocks201706,'Null'], 'log_volume':['Null',T1Stocks201706]},index=['Mean','Sum'])\n",
    "MeanStocks201706"
   ]
  },
  {
   "cell_type": "code",
   "execution_count": null,
   "metadata": {},
   "outputs": [],
   "source": [
    "Stocks201707 = Stocks2017.loc[(Stocks2017['date'].str.contains('/7/'))]\n",
    "M1Stocks201707 = Stocks201707['open'].mean()\n",
    "M2Stocks201707 = Stocks201707['high'].mean()\n",
    "M3Stocks201707 = Stocks201707['low'].mean()\n",
    "M4Stocks201707 = Stocks201707['close'].mean()\n",
    "T1Stocks201707 = Stocks201707['log_volume'].sum()\n",
    "MeanStocks201707 = pd.DataFrame({'open': [M1Stocks201707, 'Null'], 'high': [M2Stocks201707,'Null'], 'low': [M3Stocks201707,'Null'], 'close': [M4Stocks201707,'Null'], 'log_volume':['Null',T1Stocks201707]},index=['Mean','Sum'])\n",
    "MeanStocks201707"
   ]
  },
  {
   "cell_type": "code",
   "execution_count": null,
   "metadata": {},
   "outputs": [],
   "source": [
    "Stocks201708 = Stocks2017.loc[(Stocks2017['date'].str.contains('/8/'))]\n",
    "M1Stocks201708 = Stocks201708['open'].mean()\n",
    "M2Stocks201708 = Stocks201708['high'].mean()\n",
    "M3Stocks201708 = Stocks201708['low'].mean()\n",
    "M4Stocks201708 = Stocks201708['close'].mean()\n",
    "T1Stocks201708 = Stocks201708['log_volume'].sum()\n",
    "MeanStocks201708 = pd.DataFrame({'open': [M1Stocks201708, 'Null'], 'high': [M2Stocks201708,'Null'], 'low': [M3Stocks201708,'Null'], 'close': [M4Stocks201708,'Null'], 'log_volume':['Null',T1Stocks201708]},index=['Mean','Sum'])\n",
    "MeanStocks201708"
   ]
  },
  {
   "cell_type": "code",
   "execution_count": null,
   "metadata": {},
   "outputs": [],
   "source": [
    "Stocks201709 = Stocks2017.loc[(Stocks2017['date'].str.contains('/9/'))]\n",
    "M1Stocks201709 = Stocks201709['open'].mean()\n",
    "M2Stocks201709 = Stocks201709['high'].mean()\n",
    "M3Stocks201709 = Stocks201709['low'].mean()\n",
    "M4Stocks201709 = Stocks201709['close'].mean()\n",
    "T1Stocks201709 = Stocks201709['log_volume'].sum()\n",
    "MeanStocks201709 = pd.DataFrame({'open': [M1Stocks201709, 'Null'], 'high': [M2Stocks201709,'Null'], 'low': [M3Stocks201709,'Null'], 'close': [M4Stocks201709,'Null'], 'log_volume':['Null',T1Stocks201709]},index=['Mean','Sum'])\n",
    "MeanStocks201709"
   ]
  },
  {
   "cell_type": "code",
   "execution_count": null,
   "metadata": {},
   "outputs": [],
   "source": [
    "Stocks201710 = Stocks2017.loc[(Stocks2017['date'].str.contains('/10/'))]\n",
    "M1Stocks201710 = Stocks201710['open'].mean()\n",
    "M2Stocks201710 = Stocks201710['high'].mean()\n",
    "M3Stocks201710 = Stocks201710['low'].mean()\n",
    "M4Stocks201710 = Stocks201710['close'].mean()\n",
    "T1Stocks201710 = Stocks201710['log_volume'].sum()\n",
    "MeanStocks201710 = pd.DataFrame({'open': [M1Stocks201710, 'Null'], 'high': [M2Stocks201710,'Null'], 'low': [M3Stocks201710,'Null'], 'close': [M4Stocks201710,'Null'], 'log_volume':['Null',T1Stocks201710]},index=['Mean','Sum'])\n",
    "MeanStocks201710"
   ]
  },
  {
   "cell_type": "code",
   "execution_count": null,
   "metadata": {},
   "outputs": [],
   "source": [
    "Stocks201711 = Stocks2017.loc[(Stocks2017['date'].str.contains('/11/'))]\n",
    "M1Stocks201711 = Stocks201711['open'].mean()\n",
    "M2Stocks201711 = Stocks201711['high'].mean()\n",
    "M3Stocks201711 = Stocks201711['low'].mean()\n",
    "M4Stocks201711 = Stocks201711['close'].mean()\n",
    "T1Stocks201711 = Stocks201711['log_volume'].sum()\n",
    "MeanStocks201711 = pd.DataFrame({'open': [M1Stocks201711, 'Null'], 'high': [M2Stocks201711,'Null'], 'low': [M3Stocks201711,'Null'], 'close': [M4Stocks201711,'Null'], 'log_volume':['Null',T1Stocks201711]},index=['Mean','Sum'])\n",
    "MeanStocks201711"
   ]
  },
  {
   "cell_type": "code",
   "execution_count": null,
   "metadata": {},
   "outputs": [],
   "source": [
    "Stocks201712 = Stocks2017.loc[(Stocks2017['date'].str.contains('/12/'))]\n",
    "M1Stocks201712 = Stocks201712['open'].mean()\n",
    "M2Stocks201712 = Stocks201712['high'].mean()\n",
    "M3Stocks201712 = Stocks201712['low'].mean()\n",
    "M4Stocks201712 = Stocks201712['close'].mean()\n",
    "T1Stocks201712 = Stocks201712['log_volume'].sum()\n",
    "MeanStocks201712 = pd.DataFrame({'open': [M1Stocks201712, 'Null'], 'high': [M2Stocks201712,'Null'], 'low': [M3Stocks201712,'Null'], 'close': [M4Stocks201712,'Null'], 'log_volume':['Null',T1Stocks201712]},index=['Mean','Sum'])\n",
    "MeanStocks201712"
   ]
  },
  {
   "cell_type": "code",
   "execution_count": null,
   "metadata": {},
   "outputs": [],
   "source": []
  }
 ],
 "metadata": {
  "kernelspec": {
   "display_name": "Python 3",
   "language": "python",
   "name": "python3"
  },
  "language_info": {
   "codemirror_mode": {
    "name": "ipython",
    "version": 3
   },
   "file_extension": ".py",
   "mimetype": "text/x-python",
   "name": "python",
   "nbconvert_exporter": "python",
   "pygments_lexer": "ipython3",
   "version": "3.7.3"
  }
 },
 "nbformat": 4,
 "nbformat_minor": 2
}
