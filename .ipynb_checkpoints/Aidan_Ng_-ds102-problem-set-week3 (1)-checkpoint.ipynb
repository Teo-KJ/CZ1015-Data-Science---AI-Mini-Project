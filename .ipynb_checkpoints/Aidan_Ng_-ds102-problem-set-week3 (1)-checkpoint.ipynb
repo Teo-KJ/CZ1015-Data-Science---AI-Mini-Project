{
 "cells": [
  {
   "cell_type": "markdown",
   "metadata": {},
   "source": [
    "<center><h2>DS102 Problem Set - Week 3</h2></center>\n",
    "**Hackwagon Academy**\n",
    "\n",
    "`HWA-DS102-PS3-201810`\n",
    "<hr>\n",
    "\n",
    "If you have any questions to the Problem Set, feel free to send a message to your TAs or Instructors in the Telegram chat. You are encouraged to also discuss the problem sets within your own groups.\n",
    "\n",
    "<div class=\"alert alert-success\">Before you start, fill in your details for this notebook and rename the notebook to `<First_Name>_<Last_Name>-problem-set-week-3`, for example `jane-doe-problem-set-week-3`.</div>"
   ]
  },
  {
   "cell_type": "code",
   "execution_count": 220,
   "metadata": {
    "ExecuteTime": {
     "end_time": "2018-10-01T12:52:56.498206Z",
     "start_time": "2018-10-01T12:52:56.492232Z"
    }
   },
   "outputs": [],
   "source": [
    "# Rename the notebook. Then, fill in your details here.\n",
    "# Name  : Ng Weng Choon Aidan Paul\n",
    "# Class : 3 March 2019 / 7 Pm"
   ]
  },
  {
   "cell_type": "markdown",
   "metadata": {},
   "source": [
    "#### Datasets Required:\n",
    "\n",
    "- `sgp-literacy-rate.csv`\n",
    "\n",
    "- `insurance-claims.csv`\n",
    "\n",
    "- `ks-projects-15k.csv`\n",
    "\n",
    "- `wines-200.csv`\n",
    "\n",
    "- `loans-by-grade.csv`"
   ]
  },
  {
   "cell_type": "code",
   "execution_count": 1,
   "metadata": {
    "ExecuteTime": {
     "end_time": "2018-10-01T12:52:58.213015Z",
     "start_time": "2018-10-01T12:52:56.501399Z"
    }
   },
   "outputs": [],
   "source": [
    "# import the relevant packages\n",
    "import pandas as pd\n",
    "import numpy as np\n",
    "import matplotlib.pyplot as plt\n",
    "import seaborn as sns\n",
    "# Set matplotlib inline\n",
    "%matplotlib inline"
   ]
  },
  {
   "cell_type": "markdown",
   "metadata": {},
   "source": [
    "### Part 1 (5 Marks)\n",
    "Mark breakdowns are stated in the question e.g. **`[1]`**. For questions wtih short answers, <span style=\"color:darkblue\">**both the <u>code</u> and <u>typed answers</u> must be provided to receive full credit.**</span> <span style=\"color:darkblue\">**For plotting, <u>all features</u> must be present to receive full credit.**</span>"
   ]
  },
  {
   "cell_type": "markdown",
   "metadata": {},
   "source": [
    "**1A**. \n",
    "\n",
    "**i)** What are the key features of a plot that needs to be explicitly stated? **`[0.5]`**"
   ]
  },
  {
   "cell_type": "code",
   "execution_count": 222,
   "metadata": {
    "ExecuteTime": {
     "end_time": "2018-10-01T12:52:58.221037Z",
     "start_time": "2018-10-01T12:52:58.215961Z"
    }
   },
   "outputs": [],
   "source": [
    "# What are the key features of a plot that needs to be explicitly stated?\n",
    "# Code is not required.\n",
    "# (Type your answer here)\n",
    "# Kind of graph (bar,line etc)\n",
    "# x-axis of the graph (x for the series)\n",
    "# y-axis of the graph (y for the series)\n",
    "# type of marker (diamond, circle etc)\n",
    "# figure size (figsize)"
   ]
  },
  {
   "cell_type": "markdown",
   "metadata": {},
   "source": [
    "**ii)**  You are given the following data in `sgp-literacy-rate.csv`, taken from [World Bank Open Data](https://data.worldbank.org/indicator/SE.ADT.LITR.ZS?view=chart). The definition of each column is as follows:\n",
    "\n",
    "`sgp-literacy-rate.csv`\n",
    "\n",
    "| col name | definition | datatype | example |\n",
    "| -------- | ---------- | -------- | ------- |\n",
    "| literacy_rate | The percentage of people aged 15 and above who can both read and write | float | 96.716660 |\n",
    "| year | The year in which the literacy rate was obtained | int | 2010 |"
   ]
  },
  {
   "cell_type": "markdown",
   "metadata": {},
   "source": [
    "** Read from CSV to `df`**\n",
    "\n",
    "Read the data from the `sgp-literacy-rate.csv` CSV file into a `DataFrame` called `sgp_lr_df`."
   ]
  },
  {
   "cell_type": "code",
   "execution_count": 223,
   "metadata": {
    "ExecuteTime": {
     "end_time": "2018-10-01T12:52:58.239202Z",
     "start_time": "2018-10-01T12:52:58.224782Z"
    }
   },
   "outputs": [],
   "source": [
    "# Read from CSV to sgp_lr_df. Write your code here.\n",
    "sgp_lr_df = pd.read_csv ('sgp-literacy-rate.csv',\n",
    "                        sep = '|',\n",
    "                        header = 0)"
   ]
  },
  {
   "cell_type": "markdown",
   "metadata": {},
   "source": [
    "The following code to plot the line graph is given to you. It plots the literacy rate of Singapore (% of people ages 15 and above) from 2010 to 2016. Perform the following steps:\n",
    "\n",
    "1. Run the code to plot the line graph. \n",
    "2. Using your answer from **1A** or otherwise, modify the code to add the missing features of the plot. **`[1]`**"
   ]
  },
  {
   "cell_type": "code",
   "execution_count": 224,
   "metadata": {
    "ExecuteTime": {
     "end_time": "2018-10-01T12:52:58.524776Z",
     "start_time": "2018-10-01T12:52:58.244215Z"
    }
   },
   "outputs": [
    {
     "data": {
      "image/png": "[encoded data removed]",
      "text/plain": [
       "<Figure size 720x360 with 1 Axes>"
      ]
     },
     "metadata": {
      "needs_background": "light"
     },
     "output_type": "display_data"
    }
   ],
   "source": [
    "# Instructions: modify the code to add the missing features of the plot\n",
    "\n",
    "fig, ax1 = plt.subplots()\n",
    "sgp_lr_df.plot(kind='line', x='year', y='literacy_rate', ax=ax1, figsize=(10,5), marker='o')\n",
    "\n",
    "# Display the line graph\n",
    "plt.show()"
   ]
  },
  {
   "cell_type": "markdown",
   "metadata": {},
   "source": [
    "**1B.** You are given a baggage loss dataset from the [TSA Claims Database](https://www.kaggle.com/terminal-security-agency/tsa-claims-database). In this dataset, the `case_number` represents the unique ID associated with the case from the insurer and `claim_amount` is the amount of claim filed by the passenger, or the loss due to travelling borne by the passenger."
   ]
  },
  {
   "cell_type": "markdown",
   "metadata": {},
   "source": [
    "#### Read from CSV to `df`\n",
    "Read the dataset from `insurance-claims.csv` to a `DataFrame` called `ins_df`."
   ]
  },
  {
   "cell_type": "code",
   "execution_count": 225,
   "metadata": {
    "ExecuteTime": {
     "end_time": "2018-10-01T12:52:58.797966Z",
     "start_time": "2018-10-01T12:52:58.787462Z"
    }
   },
   "outputs": [
    {
     "data": {
      "text/html": [
       "<div>\n",
       "<style scoped>\n",
       "    .dataframe tbody tr th:only-of-type {\n",
       "        vertical-align: middle;\n",
       "    }\n",
       "\n",
       "    .dataframe tbody tr th {\n",
       "        vertical-align: top;\n",
       "    }\n",
       "\n",
       "    .dataframe thead th {\n",
       "        text-align: right;\n",
       "    }\n",
       "</style>\n",
       "<table border=\"1\" class=\"dataframe\">\n",
       "  <thead>\n",
       "    <tr style=\"text-align: right;\">\n",
       "      <th></th>\n",
       "      <th>case_number</th>\n",
       "      <th>claim_amount</th>\n",
       "    </tr>\n",
       "  </thead>\n",
       "  <tbody>\n",
       "    <tr>\n",
       "      <th>0</th>\n",
       "      <td>2004103065920</td>\n",
       "      <td>50.00</td>\n",
       "    </tr>\n",
       "    <tr>\n",
       "      <th>1</th>\n",
       "      <td>0226059M</td>\n",
       "      <td>312.50</td>\n",
       "    </tr>\n",
       "    <tr>\n",
       "      <th>2</th>\n",
       "      <td>2006012099982</td>\n",
       "      <td>90.00</td>\n",
       "    </tr>\n",
       "    <tr>\n",
       "      <th>3</th>\n",
       "      <td>2005010372123</td>\n",
       "      <td>216.00</td>\n",
       "    </tr>\n",
       "    <tr>\n",
       "      <th>4</th>\n",
       "      <td>2004092263584</td>\n",
       "      <td>178.74</td>\n",
       "    </tr>\n",
       "  </tbody>\n",
       "</table>\n",
       "</div>"
      ],
      "text/plain": [
       "     case_number  claim_amount\n",
       "0  2004103065920         50.00\n",
       "1       0226059M        312.50\n",
       "2  2006012099982         90.00\n",
       "3  2005010372123        216.00\n",
       "4  2004092263584        178.74"
      ]
     },
     "execution_count": 225,
     "metadata": {},
     "output_type": "execute_result"
    }
   ],
   "source": [
    "# Read from CSV to ins_df. Write your code here.\n",
    "ins_df = pd.read_csv('insurance-claims.csv')\n",
    "ins_df.head()"
   ]
  },
  {
   "cell_type": "markdown",
   "metadata": {},
   "source": [
    "**i)** Plot a histogram for `claim_amount` using $8$ bins. Use the `bins` parameter to specify this. Also, as we do not need the KDE component, set the parameter `kde=False`. Ensure that **all features of the plot have to be shown** for full credit. Clue: Use `sns.distplot()`. **`[1]`**\n",
    "\n",
    "**Note**: If you see this error:\n",
    "\n",
    "```\n",
    "Warning: The 'normed' kwarg is deprecated, and has been replaced by the 'density' kwarg.\n",
    "```\n",
    "\n",
    "You can ignore it. The plot will not be affected."
   ]
  },
  {
   "cell_type": "code",
   "execution_count": 226,
   "metadata": {
    "ExecuteTime": {
     "end_time": "2018-10-01T12:52:59.174036Z",
     "start_time": "2018-10-01T12:52:58.801939Z"
    },
    "scrolled": false
   },
   "outputs": [
    {
     "data": {
      "text/plain": [
       "Text(3.2,0.5,'Claim Amount')"
      ]
     },
     "execution_count": 226,
     "metadata": {},
     "output_type": "execute_result"
    },
    {
     "data": {
      "image/png": "[encoded data removed]",
      "text/plain": [
       "<Figure size 1296x576 with 1 Axes>"
      ]
     },
     "metadata": {
      "needs_background": "light"
     },
     "output_type": "display_data"
    }
   ],
   "source": [
    "# Plot a histogram for claim_amount using 8 bins.\n",
    "# Write your code here.\n",
    "DIMS=(16, 6)\n",
    "\n",
    "fig = plt.figure(figsize=(18, 8))\n",
    "ax = fig.add_subplot(1,1,1)\n",
    "\n",
    "sns.distplot(ins_df['claim_amount'], kde=False, ax=ax, bins=8)\n",
    "\n",
    "ax1.set_title(\"Histogram of Claim Amount\", fontsize=16)\n",
    "ax1.set_ylabel(\"Claim Amount\")"
   ]
  },
  {
   "cell_type": "markdown",
   "metadata": {},
   "source": [
    "**ii)** The following `DataFrame` called `ins_df_agg_c` is given to you. Run the code. What is the interpretation of `count` in `ins_df_agg_c` with respect to the plotted histogram in **i)** ?  **`[0.5]`**"
   ]
  },
  {
   "cell_type": "code",
   "execution_count": 227,
   "metadata": {
    "ExecuteTime": {
     "end_time": "2018-10-01T12:52:59.201024Z",
     "start_time": "2018-10-01T12:52:59.177307Z"
    }
   },
   "outputs": [
    {
     "data": {
      "text/html": [
       "<div>\n",
       "<style scoped>\n",
       "    .dataframe tbody tr th:only-of-type {\n",
       "        vertical-align: middle;\n",
       "    }\n",
       "\n",
       "    .dataframe tbody tr th {\n",
       "        vertical-align: top;\n",
       "    }\n",
       "\n",
       "    .dataframe thead th {\n",
       "        text-align: right;\n",
       "    }\n",
       "</style>\n",
       "<table border=\"1\" class=\"dataframe\">\n",
       "  <thead>\n",
       "    <tr style=\"text-align: right;\">\n",
       "      <th></th>\n",
       "      <th>bin_range</th>\n",
       "      <th>count</th>\n",
       "    </tr>\n",
       "  </thead>\n",
       "  <tbody>\n",
       "    <tr>\n",
       "      <th>0</th>\n",
       "      <td>(1.011, 125.625]</td>\n",
       "      <td>1689</td>\n",
       "    </tr>\n",
       "    <tr>\n",
       "      <th>1</th>\n",
       "      <td>(125.625, 249.25]</td>\n",
       "      <td>440</td>\n",
       "    </tr>\n",
       "    <tr>\n",
       "      <th>2</th>\n",
       "      <td>(249.25, 372.875]</td>\n",
       "      <td>181</td>\n",
       "    </tr>\n",
       "    <tr>\n",
       "      <th>3</th>\n",
       "      <td>(372.875, 496.5]</td>\n",
       "      <td>76</td>\n",
       "    </tr>\n",
       "    <tr>\n",
       "      <th>4</th>\n",
       "      <td>(496.5, 620.125]</td>\n",
       "      <td>48</td>\n",
       "    </tr>\n",
       "    <tr>\n",
       "      <th>5</th>\n",
       "      <td>(620.125, 743.75]</td>\n",
       "      <td>26</td>\n",
       "    </tr>\n",
       "    <tr>\n",
       "      <th>6</th>\n",
       "      <td>(743.75, 867.375]</td>\n",
       "      <td>27</td>\n",
       "    </tr>\n",
       "    <tr>\n",
       "      <th>7</th>\n",
       "      <td>(867.375, 991.0]</td>\n",
       "      <td>13</td>\n",
       "    </tr>\n",
       "  </tbody>\n",
       "</table>\n",
       "</div>"
      ],
      "text/plain": [
       "           bin_range  count\n",
       "0   (1.011, 125.625]   1689\n",
       "1  (125.625, 249.25]    440\n",
       "2  (249.25, 372.875]    181\n",
       "3   (372.875, 496.5]     76\n",
       "4   (496.5, 620.125]     48\n",
       "5  (620.125, 743.75]     26\n",
       "6  (743.75, 867.375]     27\n",
       "7   (867.375, 991.0]     13"
      ]
     },
     "execution_count": 227,
     "metadata": {},
     "output_type": "execute_result"
    }
   ],
   "source": [
    "# No additional code is required.\n",
    "ins_df_agg = pd.cut(ins_df['claim_amount'], 8).reset_index(name='bin_range')\n",
    "ins_df_agg_c = ins_df_agg.groupby('bin_range').size().reset_index(name='count')\n",
    "ins_df_agg_c\n",
    "\n",
    "# What is the interpretation of count in ins_df_agg_c with respect to the plotted histogram?\n",
    "# (Type your answer here)\n",
    "# The count represents the number of data points that are within the bin range\n",
    "# There are 1689 data points within the range of 1.011 to 125.625, \n",
    "# meaning that 1689 people have claim amounts between $1.011 to $125.625\n",
    "# the same goes for the other bins and their respective counts"
   ]
  },
  {
   "cell_type": "markdown",
   "metadata": {
    "ExecuteTime": {
     "end_time": "2018-09-30T05:05:18.886068Z",
     "start_time": "2018-09-30T05:05:13.885Z"
    }
   },
   "source": [
    "**1C.** You are given the details of some projects taken from the [KickStarter Projects](https://www.kaggle.com/kemical/kickstarter-projects) dataset. The definition of each column is as follows:\n",
    "\n",
    "`ks-projects-15k.csv`\n",
    "\n",
    "| col name | definition | datatype | example |\n",
    "| -------- | ---------- | -------- | ------- |\n",
    "| ID | internal kickstart ID | int | 59178964 |\n",
    "| name | name of a kickstarter project | str | I Believe in King The Kid |\n",
    "| main_category | category of a campaign | str | Music |\n",
    "| backers | the number of backers a project has | int | 444 |\n",
    "| usd_pledged_real | the amount that was pledged for the project, in USD | float | 27591.46 |\n",
    "| usd_goal_real | the fundraising goal of the project, in USD | float | 55000 | "
   ]
  },
  {
   "cell_type": "markdown",
   "metadata": {},
   "source": [
    "#### Read from CSV to `df`\n",
    "Read the dataset from `ks-projects-15k.csv` to a `DataFrame` called `kst_df`."
   ]
  },
  {
   "cell_type": "code",
   "execution_count": 228,
   "metadata": {
    "ExecuteTime": {
     "end_time": "2018-10-01T12:52:59.227012Z",
     "start_time": "2018-10-01T12:52:59.204107Z"
    },
    "scrolled": true
   },
   "outputs": [
    {
     "data": {
      "text/html": [
       "<div>\n",
       "<style scoped>\n",
       "    .dataframe tbody tr th:only-of-type {\n",
       "        vertical-align: middle;\n",
       "    }\n",
       "\n",
       "    .dataframe tbody tr th {\n",
       "        vertical-align: top;\n",
       "    }\n",
       "\n",
       "    .dataframe thead th {\n",
       "        text-align: right;\n",
       "    }\n",
       "</style>\n",
       "<table border=\"1\" class=\"dataframe\">\n",
       "  <thead>\n",
       "    <tr style=\"text-align: right;\">\n",
       "      <th></th>\n",
       "      <th>ID</th>\n",
       "      <th>name</th>\n",
       "      <th>main_category</th>\n",
       "      <th>backers</th>\n",
       "      <th>usd_pledged_real</th>\n",
       "      <th>usd_goal_real</th>\n",
       "    </tr>\n",
       "  </thead>\n",
       "  <tbody>\n",
       "    <tr>\n",
       "      <th>0</th>\n",
       "      <td>200590717</td>\n",
       "      <td>Brian's Songs: Love. Friendship. Dreams... and...</td>\n",
       "      <td>Film &amp; Video</td>\n",
       "      <td>444</td>\n",
       "      <td>65050.50</td>\n",
       "      <td>55000.0</td>\n",
       "    </tr>\n",
       "    <tr>\n",
       "      <th>1</th>\n",
       "      <td>59178964</td>\n",
       "      <td>PUPPYCIDE: The Documentary</td>\n",
       "      <td>Film &amp; Video</td>\n",
       "      <td>958</td>\n",
       "      <td>60397.50</td>\n",
       "      <td>100000.0</td>\n",
       "    </tr>\n",
       "    <tr>\n",
       "      <th>2</th>\n",
       "      <td>1696773081</td>\n",
       "      <td>I Believe In King The Kid</td>\n",
       "      <td>Music</td>\n",
       "      <td>676</td>\n",
       "      <td>27591.46</td>\n",
       "      <td>20000.0</td>\n",
       "    </tr>\n",
       "    <tr>\n",
       "      <th>3</th>\n",
       "      <td>1072617654</td>\n",
       "      <td>Lullabies from the Heart with Robert Robinson</td>\n",
       "      <td>Music</td>\n",
       "      <td>146</td>\n",
       "      <td>22259.32</td>\n",
       "      <td>22000.0</td>\n",
       "    </tr>\n",
       "    <tr>\n",
       "      <th>4</th>\n",
       "      <td>1003478705</td>\n",
       "      <td>The Wheelhouse: A Farm to Table Restaurant in ...</td>\n",
       "      <td>Food</td>\n",
       "      <td>43</td>\n",
       "      <td>10205.00</td>\n",
       "      <td>10000.0</td>\n",
       "    </tr>\n",
       "  </tbody>\n",
       "</table>\n",
       "</div>"
      ],
      "text/plain": [
       "           ID                                               name  \\\n",
       "0   200590717  Brian's Songs: Love. Friendship. Dreams... and...   \n",
       "1    59178964                         PUPPYCIDE: The Documentary   \n",
       "2  1696773081                          I Believe In King The Kid   \n",
       "3  1072617654      Lullabies from the Heart with Robert Robinson   \n",
       "4  1003478705  The Wheelhouse: A Farm to Table Restaurant in ...   \n",
       "\n",
       "  main_category  backers  usd_pledged_real  usd_goal_real  \n",
       "0  Film & Video      444          65050.50        55000.0  \n",
       "1  Film & Video      958          60397.50       100000.0  \n",
       "2         Music      676          27591.46        20000.0  \n",
       "3         Music      146          22259.32        22000.0  \n",
       "4          Food       43          10205.00        10000.0  "
      ]
     },
     "execution_count": 228,
     "metadata": {},
     "output_type": "execute_result"
    }
   ],
   "source": [
    "# Read from CSV to kst_df. Write your code here.\n",
    "kst_df = pd.read_csv('ks-projects-15k.csv')\n",
    "kst_df.head()"
   ]
  },
  {
   "cell_type": "markdown",
   "metadata": {},
   "source": [
    "**i)** Filter for all Kickstarter Projects where the total amount pledged in USD, or `usd_pledged_real` is greater than $\\$10000$.  Store this in a new `DataFrame` called `kst_df_10k`. **`[0.5]`**"
   ]
  },
  {
   "cell_type": "code",
   "execution_count": 229,
   "metadata": {
    "ExecuteTime": {
     "end_time": "2018-10-01T12:52:59.237996Z",
     "start_time": "2018-10-01T12:52:59.230256Z"
    }
   },
   "outputs": [
    {
     "data": {
      "text/html": [
       "<div>\n",
       "<style scoped>\n",
       "    .dataframe tbody tr th:only-of-type {\n",
       "        vertical-align: middle;\n",
       "    }\n",
       "\n",
       "    .dataframe tbody tr th {\n",
       "        vertical-align: top;\n",
       "    }\n",
       "\n",
       "    .dataframe thead th {\n",
       "        text-align: right;\n",
       "    }\n",
       "</style>\n",
       "<table border=\"1\" class=\"dataframe\">\n",
       "  <thead>\n",
       "    <tr style=\"text-align: right;\">\n",
       "      <th></th>\n",
       "      <th>ID</th>\n",
       "      <th>name</th>\n",
       "      <th>main_category</th>\n",
       "      <th>backers</th>\n",
       "      <th>usd_pledged_real</th>\n",
       "      <th>usd_goal_real</th>\n",
       "    </tr>\n",
       "  </thead>\n",
       "  <tbody>\n",
       "    <tr>\n",
       "      <th>0</th>\n",
       "      <td>200590717</td>\n",
       "      <td>Brian's Songs: Love. Friendship. Dreams... and...</td>\n",
       "      <td>Film &amp; Video</td>\n",
       "      <td>444</td>\n",
       "      <td>65050.50</td>\n",
       "      <td>55000.0</td>\n",
       "    </tr>\n",
       "    <tr>\n",
       "      <th>1</th>\n",
       "      <td>59178964</td>\n",
       "      <td>PUPPYCIDE: The Documentary</td>\n",
       "      <td>Film &amp; Video</td>\n",
       "      <td>958</td>\n",
       "      <td>60397.50</td>\n",
       "      <td>100000.0</td>\n",
       "    </tr>\n",
       "    <tr>\n",
       "      <th>2</th>\n",
       "      <td>1696773081</td>\n",
       "      <td>I Believe In King The Kid</td>\n",
       "      <td>Music</td>\n",
       "      <td>676</td>\n",
       "      <td>27591.46</td>\n",
       "      <td>20000.0</td>\n",
       "    </tr>\n",
       "    <tr>\n",
       "      <th>3</th>\n",
       "      <td>1072617654</td>\n",
       "      <td>Lullabies from the Heart with Robert Robinson</td>\n",
       "      <td>Music</td>\n",
       "      <td>146</td>\n",
       "      <td>22259.32</td>\n",
       "      <td>22000.0</td>\n",
       "    </tr>\n",
       "    <tr>\n",
       "      <th>4</th>\n",
       "      <td>1003478705</td>\n",
       "      <td>The Wheelhouse: A Farm to Table Restaurant in ...</td>\n",
       "      <td>Food</td>\n",
       "      <td>43</td>\n",
       "      <td>10205.00</td>\n",
       "      <td>10000.0</td>\n",
       "    </tr>\n",
       "  </tbody>\n",
       "</table>\n",
       "</div>"
      ],
      "text/plain": [
       "           ID                                               name  \\\n",
       "0   200590717  Brian's Songs: Love. Friendship. Dreams... and...   \n",
       "1    59178964                         PUPPYCIDE: The Documentary   \n",
       "2  1696773081                          I Believe In King The Kid   \n",
       "3  1072617654      Lullabies from the Heart with Robert Robinson   \n",
       "4  1003478705  The Wheelhouse: A Farm to Table Restaurant in ...   \n",
       "\n",
       "  main_category  backers  usd_pledged_real  usd_goal_real  \n",
       "0  Film & Video      444          65050.50        55000.0  \n",
       "1  Film & Video      958          60397.50       100000.0  \n",
       "2         Music      676          27591.46        20000.0  \n",
       "3         Music      146          22259.32        22000.0  \n",
       "4          Food       43          10205.00        10000.0  "
      ]
     },
     "execution_count": 229,
     "metadata": {},
     "output_type": "execute_result"
    }
   ],
   "source": [
    "# Filter for all Kickstarter Projects where the usd_pledged_real is greater than 10000.\n",
    "# (Write your code here)\n",
    "#\n",
    "kst_df_10k = kst_df.copy()\n",
    "cond1 = kst_df_10k['usd_pledged_real'] > 10000\n",
    "kst_df_10k = kst_df_10k[cond1]\n",
    "kst_df_10k.head()"
   ]
  },
  {
   "cell_type": "markdown",
   "metadata": {},
   "source": [
    "**ii)** Create a new `DataFrame`, `kst_df_agg` where the first column is the `main_category` and the second column is called `n`. In `kst_df_agg`, `main_category` is the main category of `kst_df_10k` and `n` is the number of projects belonging to that `main_category`. Hint: use `df.groupby().size()`.  **`[0.5]`**"
   ]
  },
  {
   "cell_type": "code",
   "execution_count": 230,
   "metadata": {
    "ExecuteTime": {
     "end_time": "2018-10-01T12:52:59.258867Z",
     "start_time": "2018-10-01T12:52:59.241884Z"
    },
    "scrolled": false
   },
   "outputs": [
    {
     "data": {
      "text/html": [
       "<div>\n",
       "<style scoped>\n",
       "    .dataframe tbody tr th:only-of-type {\n",
       "        vertical-align: middle;\n",
       "    }\n",
       "\n",
       "    .dataframe tbody tr th {\n",
       "        vertical-align: top;\n",
       "    }\n",
       "\n",
       "    .dataframe thead th {\n",
       "        text-align: right;\n",
       "    }\n",
       "</style>\n",
       "<table border=\"1\" class=\"dataframe\">\n",
       "  <thead>\n",
       "    <tr style=\"text-align: right;\">\n",
       "      <th></th>\n",
       "      <th>main_category</th>\n",
       "      <th>n</th>\n",
       "    </tr>\n",
       "  </thead>\n",
       "  <tbody>\n",
       "    <tr>\n",
       "      <th>0</th>\n",
       "      <td>Art</td>\n",
       "      <td>77</td>\n",
       "    </tr>\n",
       "    <tr>\n",
       "      <th>1</th>\n",
       "      <td>Comics</td>\n",
       "      <td>70</td>\n",
       "    </tr>\n",
       "    <tr>\n",
       "      <th>2</th>\n",
       "      <td>Crafts</td>\n",
       "      <td>13</td>\n",
       "    </tr>\n",
       "    <tr>\n",
       "      <th>3</th>\n",
       "      <td>Dance</td>\n",
       "      <td>11</td>\n",
       "    </tr>\n",
       "    <tr>\n",
       "      <th>4</th>\n",
       "      <td>Design</td>\n",
       "      <td>289</td>\n",
       "    </tr>\n",
       "  </tbody>\n",
       "</table>\n",
       "</div>"
      ],
      "text/plain": [
       "  main_category    n\n",
       "0           Art   77\n",
       "1        Comics   70\n",
       "2        Crafts   13\n",
       "3         Dance   11\n",
       "4        Design  289"
      ]
     },
     "execution_count": 230,
     "metadata": {},
     "output_type": "execute_result"
    }
   ],
   "source": [
    "# Create an aggregated df with 1 column being the main_category and the other column\n",
    "# being the no. of projects in that category.\n",
    "# (Write your code here)\n",
    "# \n",
    "kst_df_agg = kst_df_10k.groupby('main_category').size().reset_index(name = 'n')\n",
    "kst_df_agg.head()"
   ]
  },
  {
   "cell_type": "markdown",
   "metadata": {},
   "source": [
    "**iii)** Using your answers to **(i)** and **(ii)** or otherwise, plot a bar graph where the $x$-axis is the `main_category` and the $y$-axis is the number of projects belonging to that `main_category`. **`[1]`**"
   ]
  },
  {
   "cell_type": "code",
   "execution_count": 231,
   "metadata": {
    "ExecuteTime": {
     "end_time": "2018-10-01T12:52:59.715896Z",
     "start_time": "2018-10-01T12:52:59.262323Z"
    }
   },
   "outputs": [
    {
     "data": {
      "text/plain": [
       "Text(0.5,1,'Number of Projects by Category')"
      ]
     },
     "execution_count": 231,
     "metadata": {},
     "output_type": "execute_result"
    },
    {
     "data": {
      "image/png": "[encoded data removed]",
      "text/plain": [
       "<Figure size 1152x432 with 1 Axes>"
      ]
     },
     "metadata": {
      "needs_background": "light"
     },
     "output_type": "display_data"
    }
   ],
   "source": [
    "# Plot the bar graph where the x-axis is the main_category and \n",
    "# the y-axis is the number of projects belonging to that main_category\n",
    "# (Write your code here)\n",
    "#\n",
    "fig, ax = plt.subplots()\n",
    "\n",
    "kst_df_agg.plot(kind='bar', \n",
    "                x = 'main_category', \n",
    "                y = 'n', \n",
    "                color ='mediumturquoise', \n",
    "                ax = ax,\n",
    "                figsize = DIMS\n",
    "                )\n",
    "\n",
    "y1 = \"Number of Projects\"\n",
    "ax.set_ylabel(y1)\n",
    "t1 = \"Number of Projects by Category\"\n",
    "ax.set_title(t1)"
   ]
  },
  {
   "cell_type": "markdown",
   "metadata": {},
   "source": [
    "<div class=\"alert alert-success\">\n",
    "**Checkpoint**: When you have completed Part 1, upload your progress to eLearn. eLearn only accepts the latest notebooks so if you have an existing notebook, your latest upload will **override** it.\n",
    "</div>\n",
    "\n",
    "### Part 2 (7 Marks)\n",
    "For questions wtih short answers, <span style=\"color:darkblue\">**both the <u>code</u> and <u>typed answers</u> must be provided to receive full credit.**</span> <span style=\"color:darkblue\">**For plotting, <u>all features</u> must be present to receive full credit.**</span>"
   ]
  },
  {
   "cell_type": "markdown",
   "metadata": {},
   "source": [
    "\n",
    "**2A**. You are given the score and price of some bottles of wines taken from the [Wine Reviews](https://www.kaggle.com/zynicide/wine-reviews) dataset. The definition of each column is as follows:\n",
    "\n",
    "`wines-200.csv`\n",
    "\n",
    "| col name | definition | datatype | example |\n",
    "| -------- | ---------- | -------- | ------- |\n",
    "| country | The country that the wine is from | str | US |\n",
    "| points | The number of points WineEnthusiast rated the wine on a scale of 1-100 | int | 86 |\n",
    "| price | The price of the bottle of wine | float | 12.0 |\n",
    "\n",
    "#### Read from CSV to `df`\n",
    "Read the dataset from `wines-200.csv` to a `DataFrame` called `wines_df`."
   ]
  },
  {
   "cell_type": "code",
   "execution_count": 232,
   "metadata": {
    "ExecuteTime": {
     "end_time": "2018-10-01T12:52:59.729220Z",
     "start_time": "2018-10-01T12:52:59.719328Z"
    },
    "scrolled": true
   },
   "outputs": [],
   "source": [
    "# Read from CSV to wines_df. Write your code here.\n",
    "wines_df = pd.read_csv('wines-200.csv')"
   ]
  },
  {
   "cell_type": "markdown",
   "metadata": {},
   "source": [
    "**i)**. Using `dropna()`, remove all records where the `price` value is not given. What is the `shape` of `wines_df` after removing the values?**`[0.5]`**"
   ]
  },
  {
   "cell_type": "code",
   "execution_count": 233,
   "metadata": {
    "ExecuteTime": {
     "end_time": "2018-10-01T12:52:59.742389Z",
     "start_time": "2018-10-01T12:52:59.731970Z"
    }
   },
   "outputs": [
    {
     "name": "stdout",
     "output_type": "stream",
     "text": [
      "(200, 3)\n",
      "(185, 3)\n",
      "  country  points  price\n",
      "0      US      86   50.0\n",
      "1   Italy      92   48.0\n",
      "2  France      89   19.0\n",
      "3      US      92   34.0\n",
      "4      US      84   20.0\n"
     ]
    }
   ],
   "source": [
    "# Remove the records where the price is not given\n",
    "# (Write your code here)\n",
    "#\n",
    "# Shape of graph before dropping\n",
    "print(wines_df.shape)\n",
    "\n",
    "wines_df_drop = wines_df.dropna(axis= 0, how ='any')\n",
    "\n",
    "\n",
    "# What is the shape of wines_df after removing the values?\n",
    "# (Write your code here)\n",
    "print(wines_df_drop.shape)\n",
    "\n",
    "print(wines_df_drop.head())\n",
    "# The shape of wines_df after removing the values is 185 rows long, when it was originally 200 rows long\n",
    "# this means that 15 rows had no price value given and were removed."
   ]
  },
  {
   "cell_type": "markdown",
   "metadata": {},
   "source": [
    "**ii)**. Using your answers to **i)** or otherwise, plot a scatterplot where the $x$-axis represents the number of points a wine has received, and the $y$-axis is the price of the wine. Only plot for points where <u>both the point and price value exist</u>. The title, $x$-axis label and $y$-axis label **must be shown** to obtain full credit. **`[1]`**"
   ]
  },
  {
   "cell_type": "code",
   "execution_count": 234,
   "metadata": {
    "ExecuteTime": {
     "end_time": "2018-10-01T12:52:59.761188Z",
     "start_time": "2018-10-01T12:52:59.756803Z"
    }
   },
   "outputs": [
    {
     "data": {
      "text/plain": [
       "[<matplotlib.lines.Line2D at 0x211cb21d9e8>]"
      ]
     },
     "execution_count": 234,
     "metadata": {},
     "output_type": "execute_result"
    },
    {
     "data": {
      "image/png": "[encoded data removed]",
      "text/plain": [
       "<Figure size 504x504 with 1 Axes>"
      ]
     },
     "metadata": {
      "needs_background": "light"
     },
     "output_type": "display_data"
    }
   ],
   "source": [
    "# Plot the scatterplot where the x-axis represents the number of points a wine has received, \n",
    "# and the y-axis is the price of the wine.\n",
    "# Write your code here\n",
    "#\n",
    "wines_df_drop.plot(kind='scatter', \n",
    "                    x='points', \n",
    "                    y='price',\n",
    "                    figsize=(7, 7),\n",
    "                    title='Chart of Price of Wine Againsts Points')\n",
    "x = wines_df_drop['points']\n",
    "y = wines_df_drop['price']\n",
    "z = np.polyfit(x, y, 1)\n",
    "p = np.poly1d(z)\n",
    "plt.plot(x,p(x),\"r--\")"
   ]
  },
  {
   "cell_type": "markdown",
   "metadata": {
    "ExecuteTime": {
     "end_time": "2018-08-08T07:08:47.260447Z",
     "start_time": "2018-08-08T07:08:47.255394Z"
    }
   },
   "source": [
    "**iii)** Complete the code below to plot a boxplot showing the distribution of the `point`s of the bottles of wines.  **`[0.5]`**"
   ]
  },
  {
   "cell_type": "code",
   "execution_count": 235,
   "metadata": {
    "ExecuteTime": {
     "end_time": "2018-10-01T12:53:00.317929Z",
     "start_time": "2018-10-01T12:53:00.029081Z"
    },
    "scrolled": false
   },
   "outputs": [
    {
     "data": {
      "image/png": "[encoded data removed]",
      "text/plain": [
       "<Figure size 432x288 with 1 Axes>"
      ]
     },
     "metadata": {},
     "output_type": "display_data"
    }
   ],
   "source": [
    "# Complete the code below to plot a boxplot.\n",
    "sns.set(style=\"whitegrid\")\n",
    "sns.boxplot(orient=\"h\", width=0.2)\n",
    "ax = sns.boxplot(x = wines_df_drop[\"points\"])\n",
    "\n",
    "# Show the boxplot\n",
    "plt.show()"
   ]
  },
  {
   "cell_type": "markdown",
   "metadata": {},
   "source": [
    "**iv)** Using the plot of **iii)** to help you or otherwise, find the number of outliers for the `point`s distribtution of the wines dataset. **`[0.5]`**"
   ]
  },
  {
   "cell_type": "code",
   "execution_count": 236,
   "metadata": {
    "ExecuteTime": {
     "end_time": "2018-10-01T12:53:00.332443Z",
     "start_time": "2018-10-01T12:53:00.321253Z"
    },
    "scrolled": true
   },
   "outputs": [
    {
     "data": {
      "text/plain": [
       "75"
      ]
     },
     "execution_count": 236,
     "metadata": {},
     "output_type": "execute_result"
    }
   ],
   "source": [
    "# Find the number of outliers for the points distribtution of the wines dataset.\n",
    "# (Write your code here)\n",
    "# Hint: Use the following code to help you:\n",
    "p25 = np.percentile(wines_df_drop['points'], 25)\n",
    "p75 = np.percentile(wines_df_drop['points'],75)\n",
    "\n",
    "# How many outliers are there for the points distribtution of the wines dataset?\n",
    "# (Type your answer here)\n",
    "#\n",
    "cond1 = wines_df_drop['points'] < p25\n",
    "cond2 = wines_df_drop['points'] > p75\n",
    "wines_outlier_25_df = wines_df_drop[cond1]\n",
    "wines_outlier__75_df = wines_df_drop[cond2]\n",
    "\n",
    "total_outlier = len(wines_outlier_25_df) + len(wines_outlier__75_df)\n",
    "total_outlier\n",
    "\n",
    "# There are 75 outliers for the point distribution of the wines dataset,\n",
    "# if outliers are defined by being data points outside the interquartile range"
   ]
  },
  {
   "cell_type": "markdown",
   "metadata": {},
   "source": [
    "<hr>\n",
    "**2B.** You are given the number of loans per term for each grade taken from a sample from the [Lending Club Dataset](https://www.kaggle.com/wendykan/lending-club-loan-data). The definition of each column is as below.\n",
    "\n",
    "`loans-by-grade.csv`\n",
    "\n",
    "| col name | definition | datatype | example |\n",
    "| -------- | ---------- | -------- | ------- |\n",
    "| grade | The grade scored | str | A |\n",
    "| 36 months | The number of loans with a 36 month term (repayment must be complete in 3 years) | int | 18572 |\n",
    "| 60 months | The number of loans with a 60 month term (repayment must be complete in 5 years) | int | 8013 |\n",
    "\n",
    "#### Read from CSV to `df`\n",
    "Read the dataset from `loans-by-grade.csv` to a `DataFrame` called `loans_df`."
   ]
  },
  {
   "cell_type": "code",
   "execution_count": 237,
   "metadata": {
    "ExecuteTime": {
     "end_time": "2018-10-01T12:53:00.350481Z",
     "start_time": "2018-10-01T12:53:00.335685Z"
    }
   },
   "outputs": [
    {
     "data": {
      "text/html": [
       "<div>\n",
       "<style scoped>\n",
       "    .dataframe tbody tr th:only-of-type {\n",
       "        vertical-align: middle;\n",
       "    }\n",
       "\n",
       "    .dataframe tbody tr th {\n",
       "        vertical-align: top;\n",
       "    }\n",
       "\n",
       "    .dataframe thead th {\n",
       "        text-align: right;\n",
       "    }\n",
       "</style>\n",
       "<table border=\"1\" class=\"dataframe\">\n",
       "  <thead>\n",
       "    <tr style=\"text-align: right;\">\n",
       "      <th></th>\n",
       "      <th>grade</th>\n",
       "      <th>36 months</th>\n",
       "      <th>60 months</th>\n",
       "    </tr>\n",
       "  </thead>\n",
       "  <tbody>\n",
       "    <tr>\n",
       "      <th>0</th>\n",
       "      <td>A</td>\n",
       "      <td>18572</td>\n",
       "      <td>670</td>\n",
       "    </tr>\n",
       "    <tr>\n",
       "      <th>1</th>\n",
       "      <td>B</td>\n",
       "      <td>27570</td>\n",
       "      <td>5572</td>\n",
       "    </tr>\n",
       "    <tr>\n",
       "      <th>2</th>\n",
       "      <td>C</td>\n",
       "      <td>21087</td>\n",
       "      <td>10739</td>\n",
       "    </tr>\n",
       "    <tr>\n",
       "      <th>3</th>\n",
       "      <td>D</td>\n",
       "      <td>9973</td>\n",
       "      <td>8013</td>\n",
       "    </tr>\n",
       "    <tr>\n",
       "      <th>4</th>\n",
       "      <td>E</td>\n",
       "      <td>2859</td>\n",
       "      <td>6296</td>\n",
       "    </tr>\n",
       "  </tbody>\n",
       "</table>\n",
       "</div>"
      ],
      "text/plain": [
       "  grade  36 months  60 months\n",
       "0     A      18572        670\n",
       "1     B      27570       5572\n",
       "2     C      21087      10739\n",
       "3     D       9973       8013\n",
       "4     E       2859       6296"
      ]
     },
     "execution_count": 237,
     "metadata": {},
     "output_type": "execute_result"
    }
   ],
   "source": [
    "# Read from CSV to loans_df. Write your code here.\n",
    "loans_df = pd.read_csv('loans-by-grade.csv')\n",
    "loans_df.head()"
   ]
  },
  {
   "cell_type": "markdown",
   "metadata": {},
   "source": [
    "**i)** Add a column to `loans_df` called `Total Loans`. This represents the total number of 36 & 60 month loans belonging to the grade. **`[0.5]`**."
   ]
  },
  {
   "cell_type": "code",
   "execution_count": 238,
   "metadata": {
    "ExecuteTime": {
     "end_time": "2018-10-01T12:53:00.370573Z",
     "start_time": "2018-10-01T12:53:00.353990Z"
    }
   },
   "outputs": [
    {
     "data": {
      "text/html": [
       "<div>\n",
       "<style scoped>\n",
       "    .dataframe tbody tr th:only-of-type {\n",
       "        vertical-align: middle;\n",
       "    }\n",
       "\n",
       "    .dataframe tbody tr th {\n",
       "        vertical-align: top;\n",
       "    }\n",
       "\n",
       "    .dataframe thead th {\n",
       "        text-align: right;\n",
       "    }\n",
       "</style>\n",
       "<table border=\"1\" class=\"dataframe\">\n",
       "  <thead>\n",
       "    <tr style=\"text-align: right;\">\n",
       "      <th></th>\n",
       "      <th>grade</th>\n",
       "      <th>36 months</th>\n",
       "      <th>60 months</th>\n",
       "      <th>Total Loans</th>\n",
       "    </tr>\n",
       "  </thead>\n",
       "  <tbody>\n",
       "    <tr>\n",
       "      <th>0</th>\n",
       "      <td>A</td>\n",
       "      <td>18572</td>\n",
       "      <td>670</td>\n",
       "      <td>19242</td>\n",
       "    </tr>\n",
       "    <tr>\n",
       "      <th>1</th>\n",
       "      <td>B</td>\n",
       "      <td>27570</td>\n",
       "      <td>5572</td>\n",
       "      <td>33142</td>\n",
       "    </tr>\n",
       "    <tr>\n",
       "      <th>2</th>\n",
       "      <td>C</td>\n",
       "      <td>21087</td>\n",
       "      <td>10739</td>\n",
       "      <td>31826</td>\n",
       "    </tr>\n",
       "    <tr>\n",
       "      <th>3</th>\n",
       "      <td>D</td>\n",
       "      <td>9973</td>\n",
       "      <td>8013</td>\n",
       "      <td>17986</td>\n",
       "    </tr>\n",
       "    <tr>\n",
       "      <th>4</th>\n",
       "      <td>E</td>\n",
       "      <td>2859</td>\n",
       "      <td>6296</td>\n",
       "      <td>9155</td>\n",
       "    </tr>\n",
       "    <tr>\n",
       "      <th>5</th>\n",
       "      <td>F</td>\n",
       "      <td>580</td>\n",
       "      <td>2353</td>\n",
       "      <td>2933</td>\n",
       "    </tr>\n",
       "    <tr>\n",
       "      <th>6</th>\n",
       "      <td>G</td>\n",
       "      <td>96</td>\n",
       "      <td>620</td>\n",
       "      <td>716</td>\n",
       "    </tr>\n",
       "  </tbody>\n",
       "</table>\n",
       "</div>"
      ],
      "text/plain": [
       "  grade  36 months  60 months  Total Loans\n",
       "0     A      18572        670        19242\n",
       "1     B      27570       5572        33142\n",
       "2     C      21087      10739        31826\n",
       "3     D       9973       8013        17986\n",
       "4     E       2859       6296         9155\n",
       "5     F        580       2353         2933\n",
       "6     G         96        620          716"
      ]
     },
     "execution_count": 238,
     "metadata": {},
     "output_type": "execute_result"
    }
   ],
   "source": [
    "#Add a column to loans_df called 'Total Loans'\n",
    "# Write your code here\n",
    "loans_df['Total Loans'] = loans_df['36 months'] + loans_df['60 months']\n",
    "loans_df"
   ]
  },
  {
   "cell_type": "markdown",
   "metadata": {},
   "source": [
    "**ii)** \n",
    "- What proportion of the loans in Grade **A** are 36 month loans?\n",
    "- What proportion of the loans in Grade **A** are 60 month loans? \n",
    "\n",
    "**`[0.5]`**"
   ]
  },
  {
   "cell_type": "code",
   "execution_count": 239,
   "metadata": {
    "ExecuteTime": {
     "end_time": "2018-10-01T12:53:00.380782Z",
     "start_time": "2018-10-01T12:53:00.373786Z"
    },
    "scrolled": true
   },
   "outputs": [
    {
     "data": {
      "text/plain": [
       "0.9651803346845442"
      ]
     },
     "execution_count": 239,
     "metadata": {},
     "output_type": "execute_result"
    }
   ],
   "source": [
    "# What proportion of the loans in Grade A are 36 month loans?\n",
    "# Code is not required. However, you could modify this line of code to help you\n",
    "18572 / (18572 + 670)\n",
    "\n",
    "# (Type your answer here)\n",
    "# The proportion of the loans in Grade A that are 36 month loans are 0.96518 (5 d.p.)"
   ]
  },
  {
   "cell_type": "code",
   "execution_count": 240,
   "metadata": {
    "ExecuteTime": {
     "end_time": "2018-10-01T12:53:00.390454Z",
     "start_time": "2018-10-01T12:53:00.383795Z"
    }
   },
   "outputs": [
    {
     "data": {
      "text/plain": [
       "0.03481966531545577"
      ]
     },
     "execution_count": 240,
     "metadata": {},
     "output_type": "execute_result"
    }
   ],
   "source": [
    "# What proportion of the loans in Grade A are 60 month loans?\n",
    "# Code is not required. However, you could modify this line of code to help you\n",
    "670 / (18572 + 670)\n",
    "\n",
    "# (Type your answer here)\n",
    "# The proportion of the loans in Grade A that are 60 month loans are 0.03482 (5 d.p.)"
   ]
  },
  {
   "cell_type": "markdown",
   "metadata": {},
   "source": [
    "**iii)** Using the answers to **i)** and **ii)** or otherwise, add 2 columns to `loan_df`:\n",
    "\n",
    "- `36 months percentage` is the proportion of loans that has a 36 month term **belonging to the grade**\n",
    "\n",
    "- `60 months percentage` is the proportion of loans that has a 60 month term **belonging to the grade**\n",
    "\n",
    "**`[1]`**"
   ]
  },
  {
   "cell_type": "code",
   "execution_count": 241,
   "metadata": {
    "ExecuteTime": {
     "end_time": "2018-10-01T12:53:00.420082Z",
     "start_time": "2018-10-01T12:53:00.393912Z"
    }
   },
   "outputs": [
    {
     "data": {
      "text/html": [
       "<div>\n",
       "<style scoped>\n",
       "    .dataframe tbody tr th:only-of-type {\n",
       "        vertical-align: middle;\n",
       "    }\n",
       "\n",
       "    .dataframe tbody tr th {\n",
       "        vertical-align: top;\n",
       "    }\n",
       "\n",
       "    .dataframe thead th {\n",
       "        text-align: right;\n",
       "    }\n",
       "</style>\n",
       "<table border=\"1\" class=\"dataframe\">\n",
       "  <thead>\n",
       "    <tr style=\"text-align: right;\">\n",
       "      <th></th>\n",
       "      <th>grade</th>\n",
       "      <th>36 months</th>\n",
       "      <th>60 months</th>\n",
       "      <th>Total Loans</th>\n",
       "      <th>36 months percentage</th>\n",
       "      <th>60 months percentage</th>\n",
       "    </tr>\n",
       "  </thead>\n",
       "  <tbody>\n",
       "    <tr>\n",
       "      <th>0</th>\n",
       "      <td>A</td>\n",
       "      <td>18572</td>\n",
       "      <td>670</td>\n",
       "      <td>19242</td>\n",
       "      <td>0.965180</td>\n",
       "      <td>0.034820</td>\n",
       "    </tr>\n",
       "    <tr>\n",
       "      <th>1</th>\n",
       "      <td>B</td>\n",
       "      <td>27570</td>\n",
       "      <td>5572</td>\n",
       "      <td>33142</td>\n",
       "      <td>0.831875</td>\n",
       "      <td>0.168125</td>\n",
       "    </tr>\n",
       "    <tr>\n",
       "      <th>2</th>\n",
       "      <td>C</td>\n",
       "      <td>21087</td>\n",
       "      <td>10739</td>\n",
       "      <td>31826</td>\n",
       "      <td>0.662571</td>\n",
       "      <td>0.337429</td>\n",
       "    </tr>\n",
       "    <tr>\n",
       "      <th>3</th>\n",
       "      <td>D</td>\n",
       "      <td>9973</td>\n",
       "      <td>8013</td>\n",
       "      <td>17986</td>\n",
       "      <td>0.554487</td>\n",
       "      <td>0.445513</td>\n",
       "    </tr>\n",
       "    <tr>\n",
       "      <th>4</th>\n",
       "      <td>E</td>\n",
       "      <td>2859</td>\n",
       "      <td>6296</td>\n",
       "      <td>9155</td>\n",
       "      <td>0.312288</td>\n",
       "      <td>0.687712</td>\n",
       "    </tr>\n",
       "    <tr>\n",
       "      <th>5</th>\n",
       "      <td>F</td>\n",
       "      <td>580</td>\n",
       "      <td>2353</td>\n",
       "      <td>2933</td>\n",
       "      <td>0.197750</td>\n",
       "      <td>0.802250</td>\n",
       "    </tr>\n",
       "    <tr>\n",
       "      <th>6</th>\n",
       "      <td>G</td>\n",
       "      <td>96</td>\n",
       "      <td>620</td>\n",
       "      <td>716</td>\n",
       "      <td>0.134078</td>\n",
       "      <td>0.865922</td>\n",
       "    </tr>\n",
       "  </tbody>\n",
       "</table>\n",
       "</div>"
      ],
      "text/plain": [
       "  grade  36 months  60 months  Total Loans  36 months percentage  \\\n",
       "0     A      18572        670        19242              0.965180   \n",
       "1     B      27570       5572        33142              0.831875   \n",
       "2     C      21087      10739        31826              0.662571   \n",
       "3     D       9973       8013        17986              0.554487   \n",
       "4     E       2859       6296         9155              0.312288   \n",
       "5     F        580       2353         2933              0.197750   \n",
       "6     G         96        620          716              0.134078   \n",
       "\n",
       "   60 months percentage  \n",
       "0              0.034820  \n",
       "1              0.168125  \n",
       "2              0.337429  \n",
       "3              0.445513  \n",
       "4              0.687712  \n",
       "5              0.802250  \n",
       "6              0.865922  "
      ]
     },
     "execution_count": 241,
     "metadata": {},
     "output_type": "execute_result"
    }
   ],
   "source": [
    "# Write the code for adding the columns to loans_df below.\n",
    "# Write your code here\n",
    "#\n",
    "loans_df['36 months percentage'] = loans_df['36 months'] / loans_df['Total Loans']\n",
    "loans_df['60 months percentage'] = loans_df['60 months'] / loans_df['Total Loans']\n",
    "\n",
    "loans_df"
   ]
  },
  {
   "cell_type": "markdown",
   "metadata": {},
   "source": [
    "**iv)** Plot a stacked bar-graph where each bar in the $x$-axis is a grade and the $y$-axis represents the percentage of loans belonging to the grade. Hint: As **each bar represents a percentage**, all bars have the **same height** of $100\\%$. Also, use `DataFrame.plot(kind='bar', stacked=True)` and add more parameters accordingly. **`[1]`**"
   ]
  },
  {
   "cell_type": "code",
   "execution_count": 242,
   "metadata": {
    "ExecuteTime": {
     "end_time": "2018-10-01T12:53:00.428920Z",
     "start_time": "2018-10-01T12:53:00.423331Z"
    }
   },
   "outputs": [
    {
     "data": {
      "image/png": "[encoded data removed]",
      "text/plain": [
       "<Figure size 1152x432 with 1 Axes>"
      ]
     },
     "metadata": {},
     "output_type": "display_data"
    }
   ],
   "source": [
    "# Write the code for plotting the stacked bar-graph below.\n",
    "# Write your code here\n",
    "#\n",
    "loans_df_stacked = loans_df.drop(columns = ['36 months', '60 months', 'Total Loans'])\n",
    "fig, ax1 = plt.subplots()\n",
    "loans_df_stacked.plot(kind='bar', stacked=True, \n",
    "              figsize= DIMS, title=\"No. of Loans by Grade\",\n",
    "              ax=ax1)\n",
    "ax1.set_ylabel(\"No. of Loans\")\n",
    "plt.show()"
   ]
  },
  {
   "cell_type": "markdown",
   "metadata": {},
   "source": [
    "**2C**. You will be using the `wines-200.csv` again for this question. Read from the `wines-200.csv` dataset from **2A** to `wines_df2`. Remember to perform the `dropna()` step."
   ]
  },
  {
   "cell_type": "code",
   "execution_count": 48,
   "metadata": {
    "ExecuteTime": {
     "end_time": "2018-10-01T12:53:00.819678Z",
     "start_time": "2018-10-01T12:53:00.805352Z"
    }
   },
   "outputs": [
    {
     "data": {
      "text/html": [
       "<div>\n",
       "<style scoped>\n",
       "    .dataframe tbody tr th:only-of-type {\n",
       "        vertical-align: middle;\n",
       "    }\n",
       "\n",
       "    .dataframe tbody tr th {\n",
       "        vertical-align: top;\n",
       "    }\n",
       "\n",
       "    .dataframe thead th {\n",
       "        text-align: right;\n",
       "    }\n",
       "</style>\n",
       "<table border=\"1\" class=\"dataframe\">\n",
       "  <thead>\n",
       "    <tr style=\"text-align: right;\">\n",
       "      <th></th>\n",
       "      <th>country</th>\n",
       "      <th>points</th>\n",
       "      <th>price</th>\n",
       "    </tr>\n",
       "  </thead>\n",
       "  <tbody>\n",
       "    <tr>\n",
       "      <th>0</th>\n",
       "      <td>US</td>\n",
       "      <td>86</td>\n",
       "      <td>50.0</td>\n",
       "    </tr>\n",
       "    <tr>\n",
       "      <th>1</th>\n",
       "      <td>Italy</td>\n",
       "      <td>92</td>\n",
       "      <td>48.0</td>\n",
       "    </tr>\n",
       "    <tr>\n",
       "      <th>2</th>\n",
       "      <td>France</td>\n",
       "      <td>89</td>\n",
       "      <td>19.0</td>\n",
       "    </tr>\n",
       "    <tr>\n",
       "      <th>3</th>\n",
       "      <td>US</td>\n",
       "      <td>92</td>\n",
       "      <td>34.0</td>\n",
       "    </tr>\n",
       "    <tr>\n",
       "      <th>4</th>\n",
       "      <td>US</td>\n",
       "      <td>84</td>\n",
       "      <td>20.0</td>\n",
       "    </tr>\n",
       "  </tbody>\n",
       "</table>\n",
       "</div>"
      ],
      "text/plain": [
       "  country  points  price\n",
       "0      US      86   50.0\n",
       "1   Italy      92   48.0\n",
       "2  France      89   19.0\n",
       "3      US      92   34.0\n",
       "4      US      84   20.0"
      ]
     },
     "execution_count": 48,
     "metadata": {},
     "output_type": "execute_result"
    }
   ],
   "source": [
    "# Read from CSV file to wines_df2\n",
    "# Remember to dropna\n",
    "# Write your code here.\n",
    "wines_df2 = pd.read_csv('wines-200.csv').reset_index(drop=True)\n",
    "\n",
    "# wines_df2 = wines_df2.dropna(axis = 0, how = 'any')\n",
    "wines_df2.head()"
   ]
  },
  {
   "cell_type": "markdown",
   "metadata": {},
   "source": [
    "**i) **Find the top 2 countries with the most wines in the dataset. **`[0.5]`**"
   ]
  },
  {
   "cell_type": "code",
   "execution_count": 50,
   "metadata": {
    "ExecuteTime": {
     "end_time": "2018-10-01T12:53:00.841047Z",
     "start_time": "2018-10-01T12:53:00.824327Z"
    },
    "scrolled": true
   },
   "outputs": [
    {
     "data": {
      "text/plain": [
       "0       US\n",
       "1    Italy\n",
       "Name: country, dtype: object"
      ]
     },
     "execution_count": 50,
     "metadata": {},
     "output_type": "execute_result"
    }
   ],
   "source": [
    "# What are the top 2 countries in terms of number of wines produced?\n",
    "# Write your code here\n",
    "# \n",
    "wines_df2_group = wines_df2.groupby('country').size().reset_index(name = \"Number of Wines\")\n",
    "wines_df2_group_sorted = wines_df2_group.sort_values(by='Number of Wines', ascending=False)\n",
    "wines_df2_group_sorted.head(2)\n",
    "top_2_df = wines_df2_group_sorted.drop(wines_df2_group_sorted.index[2:])\n",
    "top_2_df = top_2_df.reset_index().drop(['index'], axis=1)['country']\n",
    "\n",
    "top_2_df\n",
    "# (Type your answer here)\n",
    "# The top 2 countries with the most wines in the dataset are US and Italy"
   ]
  },
  {
   "cell_type": "code",
   "execution_count": 73,
   "metadata": {},
   "outputs": [
    {
     "data": {
      "text/html": [
       "<div>\n",
       "<style scoped>\n",
       "    .dataframe tbody tr th:only-of-type {\n",
       "        vertical-align: middle;\n",
       "    }\n",
       "\n",
       "    .dataframe tbody tr th {\n",
       "        vertical-align: top;\n",
       "    }\n",
       "\n",
       "    .dataframe thead th {\n",
       "        text-align: right;\n",
       "    }\n",
       "</style>\n",
       "<table border=\"1\" class=\"dataframe\">\n",
       "  <thead>\n",
       "    <tr style=\"text-align: right;\">\n",
       "      <th></th>\n",
       "      <th>country</th>\n",
       "      <th>points</th>\n",
       "      <th>price</th>\n",
       "    </tr>\n",
       "  </thead>\n",
       "  <tbody>\n",
       "    <tr>\n",
       "      <th>0</th>\n",
       "      <td>US</td>\n",
       "      <td>86</td>\n",
       "      <td>50.0</td>\n",
       "    </tr>\n",
       "    <tr>\n",
       "      <th>1</th>\n",
       "      <td>Italy</td>\n",
       "      <td>92</td>\n",
       "      <td>48.0</td>\n",
       "    </tr>\n",
       "    <tr>\n",
       "      <th>3</th>\n",
       "      <td>US</td>\n",
       "      <td>92</td>\n",
       "      <td>34.0</td>\n",
       "    </tr>\n",
       "    <tr>\n",
       "      <th>4</th>\n",
       "      <td>US</td>\n",
       "      <td>84</td>\n",
       "      <td>20.0</td>\n",
       "    </tr>\n",
       "    <tr>\n",
       "      <th>10</th>\n",
       "      <td>Italy</td>\n",
       "      <td>87</td>\n",
       "      <td>22.0</td>\n",
       "    </tr>\n",
       "  </tbody>\n",
       "</table>\n",
       "</div>"
      ],
      "text/plain": [
       "   country  points  price\n",
       "0       US      86   50.0\n",
       "1    Italy      92   48.0\n",
       "3       US      92   34.0\n",
       "4       US      84   20.0\n",
       "10   Italy      87   22.0"
      ]
     },
     "execution_count": 73,
     "metadata": {},
     "output_type": "execute_result"
    }
   ],
   "source": [
    "# df1 = wines_df2[wines_df2['country'] == 'US']\n",
    "# df2 = wines_df2[wines_df2['country'] == 'Italy']\n",
    "# df_row = pd.concat([df1, df2])\n",
    "# print(df_row.head(n=5), '\\n\\n', df_row.tail(n=5))\n",
    "\n",
    "df_row = wines_df2.loc[wines_df2['country'].isin(top_2_df)]\n",
    "# df_row['country'].astype('category')\n",
    "df_row.head()"
   ]
  },
  {
   "cell_type": "markdown",
   "metadata": {},
   "source": [
    "**ii)** Using your answer in **(i)** or otherwise, debug and complete the following code to plot a violin plot of the wine prices of the top 2 countries with the most wines in the dataset. There should be a seperate violin plot for each country in the top 2. Refer to the [seaborn documentation](https://seaborn.pydata.org/generated/seaborn.violinplot.html), this [Stackoverflow answer](https://stackoverflow.com/questions/46134113/seaborn-violin-plot-from-pandas-dataframe-each-column-its-own-separate-violin-p) and this [Stackoverflow answer](https://stackoverflow.com/questions/48803619/what-is-the-correct-way-to-create-a-violin-plot-that-has-one-violin-split-by-hue) to help you. **`[1]`**"
   ]
  },
  {
   "cell_type": "code",
   "execution_count": 74,
   "metadata": {
    "ExecuteTime": {
     "end_time": "2018-10-01T12:53:01.255360Z",
     "start_time": "2018-10-01T12:53:00.844257Z"
    },
    "scrolled": true
   },
   "outputs": [
    {
     "data": {
      "image/png": "[encoded data removed]",
      "text/plain": [
       "<Figure size 1152x576 with 1 Axes>"
      ]
     },
     "metadata": {
      "needs_background": "light"
     },
     "output_type": "display_data"
    },
    {
     "data": {
      "text/plain": [
       "<Figure size 1440x576 with 0 Axes>"
      ]
     },
     "metadata": {},
     "output_type": "display_data"
    }
   ],
   "source": [
    "# Debug and complete the code for plotting the violin below.\n",
    "# top_2_df['one'] = 1\n",
    "plt.figure(figsize=(16,8))\n",
    "sns.violinplot(x='country',y='price', data=df_row, split=True, hue='country', inner=\"quartile\")\n",
    "plt.show();\n",
    "\n",
    "fig = plt.figure(figsize=(20, 8))"
   ]
  },
  {
   "cell_type": "markdown",
   "metadata": {},
   "source": [
    "<div class=\"alert alert-success\">\n",
    "**Checkpoint**: When you have completed Part 2, upload your progress to eLearn. eLearn only accepts the latest notebooks so if you have an existing notebook, your latest upload will **override** it.\n",
    "</div>"
   ]
  }
 ],
 "metadata": {
  "kernelspec": {
   "display_name": "Python 3",
   "language": "python",
   "name": "python3"
  },
  "language_info": {
   "codemirror_mode": {
    "name": "ipython",
    "version": 3
   },
   "file_extension": ".py",
   "mimetype": "text/x-python",
   "name": "python",
   "nbconvert_exporter": "python",
   "pygments_lexer": "ipython3",
   "version": "3.6.6"
  }
 },
 "nbformat": 4,
 "nbformat_minor": 2
}
