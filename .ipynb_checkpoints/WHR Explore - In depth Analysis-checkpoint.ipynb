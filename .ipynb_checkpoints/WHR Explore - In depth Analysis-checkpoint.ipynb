{
 "cells": [
  {
   "cell_type": "code",
   "execution_count": 1,
   "metadata": {},
   "outputs": [
    {
     "ename": "ModuleNotFoundError",
     "evalue": "No module named 'plotly'",
     "output_type": "error",
     "traceback": [
      "\u001b[1;31m---------------------------------------------------------------------------\u001b[0m",
      "\u001b[1;31mModuleNotFoundError\u001b[0m                       Traceback (most recent call last)",
      "\u001b[1;32m<ipython-input-1-9fe64d98f1e1>\u001b[0m in \u001b[0;36m<module>\u001b[1;34m\u001b[0m\n\u001b[0;32m      5\u001b[0m \u001b[1;32mimport\u001b[0m \u001b[0mmath\u001b[0m\u001b[1;33m\u001b[0m\u001b[1;33m\u001b[0m\u001b[0m\n\u001b[0;32m      6\u001b[0m \u001b[1;32mimport\u001b[0m \u001b[0mmatplotlib\u001b[0m\u001b[1;33m.\u001b[0m\u001b[0mpyplot\u001b[0m \u001b[1;32mas\u001b[0m \u001b[0mplt\u001b[0m\u001b[1;33m\u001b[0m\u001b[1;33m\u001b[0m\u001b[0m\n\u001b[1;32m----> 7\u001b[1;33m \u001b[1;32mimport\u001b[0m \u001b[0mplotly\u001b[0m\u001b[1;33m.\u001b[0m\u001b[0mplotly\u001b[0m \u001b[1;32mas\u001b[0m \u001b[0mpy\u001b[0m\u001b[1;33m\u001b[0m\u001b[1;33m\u001b[0m\u001b[0m\n\u001b[0m\u001b[0;32m      8\u001b[0m \u001b[1;32mimport\u001b[0m \u001b[0mplotly\u001b[0m\u001b[1;33m.\u001b[0m\u001b[0mgraph_objs\u001b[0m \u001b[1;32mas\u001b[0m \u001b[0mgo\u001b[0m\u001b[1;33m\u001b[0m\u001b[1;33m\u001b[0m\u001b[0m\n\u001b[0;32m      9\u001b[0m \u001b[1;32mfrom\u001b[0m \u001b[0mplotly\u001b[0m\u001b[1;33m.\u001b[0m\u001b[0moffline\u001b[0m \u001b[1;32mimport\u001b[0m \u001b[0mdownload_plotlyjs\u001b[0m\u001b[1;33m,\u001b[0m \u001b[0minit_notebook_mode\u001b[0m\u001b[1;33m,\u001b[0m \u001b[0mplot\u001b[0m\u001b[1;33m,\u001b[0m\u001b[0miplot\u001b[0m\u001b[1;33m\u001b[0m\u001b[1;33m\u001b[0m\u001b[0m\n",
      "\u001b[1;31mModuleNotFoundError\u001b[0m: No module named 'plotly'"
     ]
    }
   ],
   "source": [
    "import pandas as pd\n",
    "import numpy as np\n",
    "import matplotlib.pyplot as plt\n",
    "import seaborn as sb\n",
    "import math\n",
    "import matplotlib.pyplot as plt\n",
    "import plotly.plotly as py\n",
    "import plotly.graph_objs as go\n",
    "from plotly.offline import download_plotlyjs, init_notebook_mode, plot,iplot\n",
    "init_notebook_mode(connected=True)"
   ]
  },
  {
   "cell_type": "markdown",
   "metadata": {},
   "source": [
    "* d1 is the Overall Data for the past years since 2007 up till 2019\n",
    "* d2 is the scores of key statistics up till 2018\n",
    "* d3 refers to the Changes in happiness scores up till 2018\n",
    "* d4 refers to the Average happiness of foreign born up till 2018\n",
    "* d5 refers to the Supporting factors up till 2018"
   ]
  },
  {
   "cell_type": "code",
   "execution_count": null,
   "metadata": {},
   "outputs": [],
   "source": [
    "d1 = pd.read_excel(\"Data/World Happiness Report/WHR2019.xlsx\", sheet_name='Table2.1')\n",
    "d2 = pd.read_excel(\"Data/World Happiness Report/WHR2018.xlsx\", sheet_name='Figure2.2')\n",
    "d3 = pd.read_excel(\"Data/World Happiness Report/WHR2018.xlsx\", sheet_name='Figure2.3')\n",
    "d4 = pd.read_excel(\"Data/World Happiness Report/WHR2018.xlsx\", sheet_name='Figure2.4')\n",
    "d5 = pd.read_excel(\"Data/World Happiness Report/WHR2018.xlsx\", sheet_name='SupportingFactors')"
   ]
  },
  {
   "cell_type": "code",
   "execution_count": null,
   "metadata": {},
   "outputs": [],
   "source": [
    "print(\"(No. of countries, No. of columns) =\", d1.shape)\n",
    "d1 = d1.rename(columns={'country':'Country'})\n",
    "# d1['Average'] = d1.groupby('Country')['Life Ladder'].transform('mean')\n",
    "# d1['Rank'] = d1['Average'].rank(method='dense', ascending=False)\n",
    "d1.head()"
   ]
  },
  {
   "cell_type": "code",
   "execution_count": null,
   "metadata": {},
   "outputs": [],
   "source": [
    "# Data_2008 = pd.DataFrame(d1[(d1['year'] == 2008)])\n",
    "# Data_2009 = pd.DataFrame(d1[(d1['year'] == 2009)])\n",
    "# Data_2010 = pd.DataFrame(d1[(d1['year'] == 2010)])\n",
    "# Data_2011 = pd.DataFrame(d1[(d1['year'] == 2011)])\n",
    "# Data_2012 = pd.DataFrame(d1[(d1['year'] == 2012)])\n",
    "# Data_2013 = pd.DataFrame(d1[(d1['year'] == 2013)])\n",
    "# Data_2014 = pd.DataFrame(d1[(d1['year'] == 2014)])\n",
    "# Data_2015 = pd.DataFrame(d1[(d1['year'] == 2015)])\n",
    "# Data_2016 = pd.DataFrame(d1[(d1['year'] == 2016)])\n",
    "# Data_2017 = pd.DataFrame(d1[(d1['year'] == 2017)])\n",
    "# Data_2018 = pd.DataFrame(d1[(d1['year'] == 2018)])"
   ]
  },
  {
   "cell_type": "markdown",
   "metadata": {},
   "source": [
    "From WHR 2018 Report"
   ]
  },
  {
   "cell_type": "code",
   "execution_count": null,
   "metadata": {},
   "outputs": [],
   "source": [
    "print(\"(No. of countries, No. of columns) =\", d2.shape)\n",
    "d2 = d2.iloc[0:157, 0:11].sort_values(by=['Country']).reset_index(drop=True)\n",
    "d2.head()"
   ]
  },
  {
   "cell_type": "code",
   "execution_count": null,
   "metadata": {},
   "outputs": [],
   "source": [
    "print(\"(No. of countries, No. of columns) =\", d3.shape)\n",
    "d3= d3.sort_values(by=['Country']).reset_index(drop=True)\n",
    "d3.head()"
   ]
  },
  {
   "cell_type": "code",
   "execution_count": null,
   "metadata": {},
   "outputs": [],
   "source": [
    "print(\"(No. of countries, No. of columns) =\", d4.shape)\n",
    "d4= d4.sort_values(by=['Country']).reset_index(drop=True)\n",
    "d4.head()"
   ]
  },
  {
   "cell_type": "code",
   "execution_count": null,
   "metadata": {},
   "outputs": [],
   "source": [
    "print(\"(No. of countries, No. of columns) =\", d5.shape)\n",
    "d5 = d5.sort_values(by=['country']).reset_index(drop=True)\n",
    "d5 = d5.rename(columns={'country':'Country'})\n",
    "d5.head()"
   ]
  },
  {
   "cell_type": "code",
   "execution_count": null,
   "metadata": {},
   "outputs": [],
   "source": [
    "data = pd.merge(d5, d2, on='Country')\n",
    "data = pd.merge(data, d4, on='Country')\n",
    "Main_Data = pd.merge(data, d3, on='Country')\n",
    "\n",
    "newcol_Rank = Main_Data['Happiness score'].rank(method='dense', ascending=False)\n",
    "Main_Data.insert(loc=2, column='Rank', value=newcol_Rank)"
   ]
  },
  {
   "cell_type": "code",
   "execution_count": null,
   "metadata": {},
   "outputs": [],
   "source": [
    "Main_Data.head()"
   ]
  },
  {
   "cell_type": "code",
   "execution_count": null,
   "metadata": {},
   "outputs": [],
   "source": [
    "Main_Data.tail()"
   ]
  },
  {
   "cell_type": "code",
   "execution_count": null,
   "metadata": {},
   "outputs": [],
   "source": [
    "df = Main_Data[[\n",
    "       'Rank',\n",
    "       'Life ladder, 2015-2017',\n",
    "       'Log of GDP per person, 2015-2017', \n",
    "       'GDP per person, 2015-2017',\n",
    "       'Healthy life expectancy, 2015-2017', \n",
    "       'Social support, 2015-2017',\n",
    "       'Freedom to make life choices, 2015-2017',\n",
    "       'Generosity, 2015-2017, without adjustment for GDP per person',\n",
    "       'Perceptions of corruption, 2015-2017',\n",
    "       'Happiness score',\n",
    "       'Dystopia (1.92) + residual',\n",
    "       'Average happiness of foreign born',\n",
    "       'Average happiness of locally born'\n",
    "        ]]\n",
    "df.plot(subplots=True, figsize=(12, 16));"
   ]
  },
  {
   "cell_type": "markdown",
   "metadata": {},
   "source": [
    "## Basic Analysis of the Indicators"
   ]
  },
  {
   "cell_type": "code",
   "execution_count": null,
   "metadata": {},
   "outputs": [],
   "source": [
    "plt.figure(figsize=(12,12))\n",
    "sb.jointplot(x = 'GDP per person, 2015-2017', y = 'Happiness score', data = df, size=8, color='red')\n",
    "# plt.ylabel('Happiness score')\n",
    "# plt.xlabel('GDP per person, 2015-2017')\n",
    "plt.title('GDP per person, 2015-2017 Vs Happiness')\n",
    "plt.show()"
   ]
  },
  {
   "cell_type": "code",
   "execution_count": null,
   "metadata": {},
   "outputs": [],
   "source": [
    "print(\"Comparing between GDP per capita and Average Happiness of Foreigners\")\n",
    "trace = go.Scatter(\n",
    "    x = df['GDP per person, 2015-2017'],\n",
    "    y = df['Average happiness of foreign born'],\n",
    "    mode = 'markers'\n",
    ")\n",
    "data = [trace]\n",
    "# Plot and embed in ipython notebook!\n",
    "iplot(data)"
   ]
  },
  {
   "cell_type": "code",
   "execution_count": null,
   "metadata": {},
   "outputs": [],
   "source": [
    "print(\"Comparing between GDP per capita and Average Happiness of Locals\")\n",
    "trace = go.Scatter(\n",
    "    x = df['GDP per person, 2015-2017'],\n",
    "    y = df['Average happiness of locally born'],\n",
    "    mode = 'markers'\n",
    ")\n",
    "data = [trace]\n",
    "# Plot and embed in ipython notebook!\n",
    "iplot(data)"
   ]
  },
  {
   "cell_type": "markdown",
   "metadata": {},
   "source": [
    "From the gradient plot below, it seems that individuals with lower income are more happy than individuals with higher income."
   ]
  },
  {
   "cell_type": "code",
   "execution_count": null,
   "metadata": {
    "scrolled": false
   },
   "outputs": [],
   "source": [
    "print(\"Comparing between GDP per capita and Happiness Score\")\n",
    "x = df['Happiness score']\n",
    "y = df['GDP per person, 2015-2017']\n",
    "iplot([go.Histogram2dContour(x=x, y=y, contours=dict(coloring='heatmap')),\n",
    "       go.Scatter(x=x, y=y, mode='markers', marker=dict(color='white', size=3, opacity=0.3))], show_link=False)"
   ]
  },
  {
   "cell_type": "code",
   "execution_count": null,
   "metadata": {},
   "outputs": [],
   "source": [
    "print(\"Comparing between GDP per capita and Perceptions of corruption\")\n",
    "trace = go.Scatter(\n",
    "    x = df['GDP per person, 2015-2017'],\n",
    "    y = df['Perceptions of corruption, 2015-2017'],\n",
    "    mode = 'markers')\n",
    "data = [trace]\n",
    "# Plot and embed in ipython notebook!\n",
    "iplot(data)"
   ]
  },
  {
   "cell_type": "code",
   "execution_count": null,
   "metadata": {},
   "outputs": [],
   "source": [
    "print(\"Comparing between Life Expectancy and Social Support\")\n",
    "trace = go.Scatter(\n",
    "    x = df['Healthy life expectancy, 2015-2017'],\n",
    "    y = df['Social support, 2015-2017'],\n",
    "    mode = 'markers')\n",
    "data = [trace]\n",
    "# Plot and embed in ipython notebook!\n",
    "iplot(data)"
   ]
  },
  {
   "cell_type": "markdown",
   "metadata": {},
   "source": [
    "## WHR Annual Analysis - In the United States"
   ]
  },
  {
   "cell_type": "code",
   "execution_count": null,
   "metadata": {},
   "outputs": [],
   "source": [
    "# for i in range(2007, 2019):\n",
    "#     print('print(Data_' + str(i) + \".shape)\")"
   ]
  },
  {
   "cell_type": "code",
   "execution_count": null,
   "metadata": {},
   "outputs": [],
   "source": [
    "# print(Data_2008.shape)\n",
    "# print(Data_2009.shape)\n",
    "# print(Data_2010.shape)\n",
    "# print(Data_2011.shape)\n",
    "# print(Data_2012.shape)\n",
    "# print(Data_2013.shape)\n",
    "# print(Data_2014.shape)\n",
    "# print(Data_2015.shape)\n",
    "# print(Data_2016.shape)\n",
    "# print(Data_2017.shape)"
   ]
  },
  {
   "cell_type": "code",
   "execution_count": null,
   "metadata": {},
   "outputs": [],
   "source": [
    "# for i in range(2007, 2019):\n",
    "#     print('US_' + str(i) + \"_Data = pd.DataFrame(Data_\" + str(i) + \"[(Data_\" + str(i) + \"['Country'] == 'United States')])\")"
   ]
  },
  {
   "cell_type": "code",
   "execution_count": null,
   "metadata": {},
   "outputs": [],
   "source": [
    "# US_2008_Data = pd.DataFrame(Data_2008[(Data_2008['Country'] == 'United States')])\n",
    "# US_2009_Data = pd.DataFrame(Data_2009[(Data_2009['Country'] == 'United States')])\n",
    "# US_2010_Data = pd.DataFrame(Data_2010[(Data_2010['Country'] == 'United States')])\n",
    "# US_2011_Data = pd.DataFrame(Data_2011[(Data_2011['Country'] == 'United States')])\n",
    "# US_2012_Data = pd.DataFrame(Data_2012[(Data_2012['Country'] == 'United States')])\n",
    "# US_2013_Data = pd.DataFrame(Data_2013[(Data_2013['Country'] == 'United States')])\n",
    "# US_2014_Data = pd.DataFrame(Data_2014[(Data_2014['Country'] == 'United States')])\n",
    "# US_2015_Data = pd.DataFrame(Data_2015[(Data_2015['Country'] == 'United States')])\n",
    "# US_2016_Data = pd.DataFrame(Data_2016[(Data_2016['Country'] == 'United States')])\n",
    "# US_2017_Data = pd.DataFrame(Data_2017[(Data_2017['Country'] == 'United States')])"
   ]
  },
  {
   "cell_type": "code",
   "execution_count": null,
   "metadata": {},
   "outputs": [],
   "source": [
    "# for i in range(2008, 2018):\n",
    "#     print('(US_' + str(i) + \"_Data['Life Ladder']), \")"
   ]
  },
  {
   "cell_type": "code",
   "execution_count": null,
   "metadata": {},
   "outputs": [],
   "source": [
    "# print(US_2008_Data['Life Ladder'])\n",
    "# print(US_2009_Data['Life Ladder'])\n",
    "# print(US_2010_Data['Life Ladder'])\n",
    "# print(US_2011_Data['Life Ladder'])\n",
    "# print(US_2012_Data['Life Ladder'])\n",
    "# print(US_2013_Data['Life Ladder'])\n",
    "# print(US_2014_Data['Life Ladder'])\n",
    "# print(US_2015_Data['Life Ladder'])\n",
    "# print(US_2016_Data['Life Ladder'])\n",
    "# print(US_2017_Data['Life Ladder'])"
   ]
  },
  {
   "cell_type": "code",
   "execution_count": null,
   "metadata": {},
   "outputs": [],
   "source": [
    "US_Data =  pd.DataFrame(d1[(d1['Country name'] == \"United States\")])\n",
    "print(\"(No. of Years, No. of columns) =\", US_Data.shape)"
   ]
  },
  {
   "cell_type": "code",
   "execution_count": null,
   "metadata": {},
   "outputs": [],
   "source": [
    "US_Data = US_Data[['Year', 'Life Ladder']]\n",
    "US_Data_LL = list(US_Data['Life Ladder'])\n",
    "US_Data\n",
    "# US_Data.sort_values(by = 'Life Ladder', ascending = False)"
   ]
  },
  {
   "cell_type": "code",
   "execution_count": null,
   "metadata": {},
   "outputs": [],
   "source": [
    "# Create a trace\n",
    "trace = go.Scatter(\n",
    "    x = US_Data['Year'],\n",
    "    y = US_Data['Life Ladder'])\n",
    "data = [trace]\n",
    "iplot(data)"
   ]
  },
  {
   "cell_type": "code",
   "execution_count": null,
   "metadata": {},
   "outputs": [],
   "source": [
    "US_Data_LL = list(US_Data['Life Ladder'])\n",
    "US_Data_LL"
   ]
  },
  {
   "cell_type": "code",
   "execution_count": null,
   "metadata": {},
   "outputs": [],
   "source": [
    "x = np.array(tuple(range(2006,2019)))\n",
    "y = np.array(US_Data_LL)\n",
    "\n",
    "t = np.linspace(0, 1, len(x))\n",
    "t2 = np.linspace(0, 1, 100)\n",
    "# One-dimensional linear interpolation.\n",
    "x2 = np.interp(t2, t, x)\n",
    "y2 = np.interp(t2, t, y)\n",
    "# Plot x,y data\n",
    "plt.figure(figsize=(12,8))\n",
    "plt.scatter(x, y, marker='o', color='k', s=40, lw=0.)\n",
    "plt.scatter(x2, y2, marker='o', color='r', s=10, lw=0.5)"
   ]
  },
  {
   "cell_type": "code",
   "execution_count": null,
   "metadata": {
    "scrolled": false
   },
   "outputs": [],
   "source": [
    "x = np.array(tuple(range(1,14)))\n",
    "y = np.array(US_Data_LL)\n",
    "z = np.polyfit(x, y, 5)\n",
    "f = np.poly1d(z)\n",
    "x_new = np.linspace(0, 13, 3270)\n",
    "y_new = f(x_new)\n",
    "print(\"The interpolated y-values are:\\n\", y_new)\n",
    "print(\"Total:\", len(y_new), \"datapoints generated for this specific diagram.\")\n",
    "trace1 = go.Scatter(\n",
    "    x=x,\n",
    "    y=y,\n",
    "    mode='markers',\n",
    "    name='Data',\n",
    "    marker=dict(\n",
    "        size=12))\n",
    "trace2 = go.Scatter(\n",
    "    x=x_new,\n",
    "    y=y_new,\n",
    "    mode='lines',\n",
    "    name='Fit')\n",
    "annotation = go.Annotation(\n",
    "    x=1,\n",
    "    y=1,\n",
    "    showarrow=False)\n",
    "layout = go.Layout(title='Polynomial Fit in Python',\n",
    "                   annotations=[annotation])\n",
    "data = [trace1, trace2]\n",
    "fig = go.Figure(data=data, layout=layout)\n",
    "iplot(fig)"
   ]
  },
  {
   "cell_type": "code",
   "execution_count": null,
   "metadata": {},
   "outputs": [],
   "source": [
    "Values_for_13yr = pd.DataFrame({'Daily Life Ladder': y_new})\n",
    "Values_for_13yr.head()"
   ]
  },
  {
   "cell_type": "code",
   "execution_count": null,
   "metadata": {},
   "outputs": [],
   "source": [
    "Values_for_13yr.tail()"
   ]
  },
  {
   "cell_type": "markdown",
   "metadata": {},
   "source": [
    "### Dataframe Concatenation"
   ]
  },
  {
   "cell_type": "code",
   "execution_count": null,
   "metadata": {},
   "outputs": [],
   "source": [
    "Stocks = pd.read_csv('Data\\Stocks\\S&P 500 (^GSPC)_2005to2018_daily.csv')\n",
    "Stocks[\"Average\"] = (Stocks[\"High\"] + Stocks[\"Low\"])/2\n",
    "Stocks.head()"
   ]
  },
  {
   "cell_type": "code",
   "execution_count": null,
   "metadata": {},
   "outputs": [],
   "source": [
    "Stocks.tail()"
   ]
  },
  {
   "cell_type": "code",
   "execution_count": null,
   "metadata": {
    "scrolled": true
   },
   "outputs": [],
   "source": [
    "for i in range(2006, 2019):\n",
    "    print('Stocks_' + str(i) + \" = pd.DataFrame(Stocks[Stocks['Date'].str.contains('/\" + str(i) + \"')])\")"
   ]
  },
  {
   "cell_type": "code",
   "execution_count": null,
   "metadata": {},
   "outputs": [],
   "source": [
    "Stocks_2006 = pd.DataFrame(Stocks[Stocks['Date'].str.contains('/2006')])\n",
    "Stocks_2007 = pd.DataFrame(Stocks[Stocks['Date'].str.contains('/2007')])\n",
    "Stocks_2008 = pd.DataFrame(Stocks[Stocks['Date'].str.contains('/2008')])\n",
    "Stocks_2009 = pd.DataFrame(Stocks[Stocks['Date'].str.contains('/2009')])\n",
    "Stocks_2010 = pd.DataFrame(Stocks[Stocks['Date'].str.contains('/2010')])\n",
    "Stocks_2011 = pd.DataFrame(Stocks[Stocks['Date'].str.contains('/2011')])\n",
    "Stocks_2012 = pd.DataFrame(Stocks[Stocks['Date'].str.contains('/2012')])\n",
    "Stocks_2013 = pd.DataFrame(Stocks[Stocks['Date'].str.contains('/2013')])\n",
    "Stocks_2014 = pd.DataFrame(Stocks[Stocks['Date'].str.contains('/2014')])\n",
    "Stocks_2015 = pd.DataFrame(Stocks[Stocks['Date'].str.contains('/2015')])\n",
    "Stocks_2016 = pd.DataFrame(Stocks[Stocks['Date'].str.contains('/2016')])\n",
    "Stocks_2017 = pd.DataFrame(Stocks[Stocks['Date'].str.contains('/2017')])\n",
    "Stocks_2018 = pd.DataFrame(Stocks[Stocks['Date'].str.contains('/2018')])"
   ]
  },
  {
   "cell_type": "code",
   "execution_count": null,
   "metadata": {},
   "outputs": [],
   "source": [
    "# for i in range(2006, 2019):\n",
    "#     print('Stocks_' + str(i) + \", \")"
   ]
  },
  {
   "cell_type": "code",
   "execution_count": null,
   "metadata": {},
   "outputs": [],
   "source": [
    "frames = [Stocks_2006, Stocks_2007, Stocks_2008, Stocks_2009, Stocks_2010, Stocks_2011, Stocks_2012, Stocks_2013, Stocks_2014, \n",
    "          Stocks_2015, Stocks_2016, Stocks_2017, Stocks_2018]\n",
    "Resulting_Data = pd.concat(frames)\n",
    "print(\"Total number of days:\", len(Resulting_Data))\n",
    "Resulting_Data.head()"
   ]
  },
  {
   "cell_type": "code",
   "execution_count": null,
   "metadata": {},
   "outputs": [],
   "source": [
    "Resulting_Data.reset_index(drop=True)\n",
    "Resulting_Data.index = np.arange(1, len(Resulting_Data)+1)\n",
    "Values_for_13yr.reset_index(drop=True)\n",
    "Values_for_13yr.index = np.arange(1, len(Resulting_Data)+1)\n",
    "LLwithStocks = Resulting_Data.join(Values_for_13yr)\n",
    "LLwithStocks.head().round(2)"
   ]
  },
  {
   "cell_type": "code",
   "execution_count": null,
   "metadata": {},
   "outputs": [],
   "source": [
    "LLwithStocks.tail().round(2)"
   ]
  },
  {
   "cell_type": "code",
   "execution_count": null,
   "metadata": {},
   "outputs": [],
   "source": [
    "trace = go.Scatter(\n",
    "    x = LLwithStocks['Date'],\n",
    "    y = LLwithStocks['Daily Life Ladder'])\n",
    "data = [trace]\n",
    "iplot(data)"
   ]
  },
  {
   "cell_type": "code",
   "execution_count": null,
   "metadata": {},
   "outputs": [],
   "source": [
    "trace = go.Scatter(\n",
    "    x = US_Data['Year'],\n",
    "    y = US_Data['Life Ladder'])\n",
    "data = [trace]\n",
    "iplot(data)"
   ]
  },
  {
   "cell_type": "code",
   "execution_count": null,
   "metadata": {},
   "outputs": [],
   "source": [
    "# for i in range(2007, 2018):\n",
    "#     print('Data_' + str(i) + \" = pd.DataFrame(d1[(d1['year'] == \" + str(i) + \")])\")"
   ]
  },
  {
   "cell_type": "code",
   "execution_count": null,
   "metadata": {},
   "outputs": [],
   "source": [
    "import plotly.figure_factory as ff"
   ]
  },
  {
   "cell_type": "markdown",
   "metadata": {},
   "source": [
    "## WHR Life Ladder Analysis in Different Regions\n",
    "Let's look at the life ladder results, or also known as the main Happiness results across the other regions. There are in total 10 regions classified in the dataframe.\n",
    "\n",
    "First, a look at life ladder results in the world."
   ]
  },
  {
   "cell_type": "code",
   "execution_count": null,
   "metadata": {},
   "outputs": [],
   "source": [
    "print(len(Main_Data[\"Region indicator\"].unique()))\n",
    "# print(Main_Data.shape, \"\\n\")\n",
    "print(Main_Data['Region indicator'].value_counts())\n",
    "plt.figure(figsize=(12,8))\n",
    "sb.countplot(Main_Data['Region indicator']).set_xticklabels(labels=Main_Data['Region indicator'].unique(), rotation=60)"
   ]
  },
  {
   "cell_type": "markdown",
   "metadata": {},
   "source": [
    "#### World Analysis of Life Ladder"
   ]
  },
  {
   "cell_type": "code",
   "execution_count": null,
   "metadata": {
    "scrolled": false
   },
   "outputs": [],
   "source": [
    "Boxplot_of_Life_Ladder = go.Box(x=Main_Data[\"Life ladder, 2015-2017\"])\n",
    "data = [Boxplot_of_Life_Ladder]\n",
    "iplot(data)"
   ]
  },
  {
   "cell_type": "code",
   "execution_count": null,
   "metadata": {},
   "outputs": [],
   "source": [
    "SubSaharan_Data = pd.DataFrame(Main_Data[Main_Data['Region indicator'] == 'Sub-Saharan Africa'])\n",
    "print(\"(No. of countries, No. of columns) =\", SubSaharan_Data.shape)\n",
    "American_Data = pd.DataFrame(Main_Data[Main_Data['Region indicator'] == 'North America and ANZ'])\n",
    "print(\"(No. of countries, No. of columns) =\", American_Data.shape)\n",
    "WesternEurope_Data = pd.DataFrame(Main_Data[Main_Data['Region indicator'] == 'Western Europe'])\n",
    "print(\"(No. of countries, No. of columns) =\", WesternEurope_Data.shape)\n",
    "CentralandEasternEurope_Data = pd.DataFrame(Main_Data[Main_Data['Region indicator'] == 'Central and Eastern Europe'])\n",
    "print(\"(No. of countries, No. of columns) =\", CentralandEasternEurope_Data.shape)\n",
    "MiddleEastandNorthAfrica_Data = pd.DataFrame(Main_Data[Main_Data['Region indicator'] == 'Middle East and North Africa'])\n",
    "print(\"(No. of countries, No. of columns) =\", MiddleEastandNorthAfrica_Data.shape)\n",
    "CIS_Data = pd.DataFrame(Main_Data[Main_Data['Region indicator'] == 'Commonwealth of Independent States'])\n",
    "print(\"(No. of countries, No. of columns) =\", CIS_Data.shape)\n",
    "LatinAmericaandCaribbean_Data = pd.DataFrame(Main_Data[Main_Data['Region indicator'] == 'Latin America and Caribbean'])\n",
    "print(\"(No. of countries, No. of columns) =\", LatinAmericaandCaribbean_Data.shape)\n",
    "SouthAsia_Data = pd.DataFrame(Main_Data[Main_Data['Region indicator'] == 'South Asia'])\n",
    "print(\"(No. of countries, No. of columns) =\", SouthAsia_Data.shape)\n",
    "EastAsiaData = pd.DataFrame(Main_Data[Main_Data['Region indicator'] == 'East Asia'])\n",
    "print(\"(No. of countries, No. of columns) =\", EastAsiaData.shape)\n",
    "SoutheastAsia_Data = pd.DataFrame(Main_Data[Main_Data['Region indicator'] == 'Southeast Asia'])\n",
    "print(\"(No. of countries, No. of columns) =\", SoutheastAsia_Data.shape)"
   ]
  },
  {
   "cell_type": "code",
   "execution_count": null,
   "metadata": {},
   "outputs": [],
   "source": [
    "trace0 = go.Box(x=SubSaharan_Data[\"Life ladder, 2015-2017\"], name='SS Africa')\n",
    "trace1 = go.Box(x=American_Data[\"Life ladder, 2015-2017\"], name='US & ANZ')\n",
    "trace2 = go.Box(x=WesternEurope_Data[\"Life ladder, 2015-2017\"], name='West Euro')\n",
    "trace3 = go.Box(x=CentralandEasternEurope_Data[\"Life ladder, 2015-2017\"], name='Cent. & East Euro')\n",
    "trace4 = go.Box(x=MiddleEastandNorthAfrica_Data[\"Life ladder, 2015-2017\"], name='Mid East & Africa')\n",
    "trace5 = go.Box(x=CIS_Data[\"Life ladder, 2015-2017\"], name='CIS')\n",
    "trace6 = go.Box(x=LatinAmericaandCaribbean_Data[\"Life ladder, 2015-2017\"], name='South America')\n",
    "trace7 = go.Box(x=SouthAsia_Data[\"Life ladder, 2015-2017\"], name='South Asia')\n",
    "trace8 = go.Box(x=EastAsiaData[\"Life ladder, 2015-2017\"], name='East Asia')\n",
    "trace9 = go.Box(x=SoutheastAsia_Data[\"Life ladder, 2015-2017\"], name='SEA')\n",
    "\n",
    "data = [trace0, trace1, trace2, trace3, trace4, trace5, trace6, trace7, trace8, trace9]\n",
    "iplot(data)"
   ]
  },
  {
   "cell_type": "code",
   "execution_count": null,
   "metadata": {
    "scrolled": false
   },
   "outputs": [],
   "source": [
    "hist_data = [MiddleEastandNorthAfrica_Data[\"Life ladder, 2015-2017\"], American_Data[\"Life ladder, 2015-2017\"],\n",
    "             American_Data[\"Life ladder, 2015-2017\"], CentralandEasternEurope_Data[\"Life ladder, 2015-2017\"]]\n",
    "group_labels = ['Group 1', 'Group 2', 'Group 3', 'Group 4']\n",
    "\n",
    "# Create distplot with custom bin_size\n",
    "fig = ff.create_distplot(hist_data, group_labels, bin_size=.2)\n",
    "\n",
    "# Plot!\n",
    "iplot(fig)"
   ]
  },
  {
   "cell_type": "code",
   "execution_count": null,
   "metadata": {},
   "outputs": [],
   "source": [
    "x = SubSaharan_Data[\"Life ladder, 2015-2017\"]\n",
    "hist_data = [x]\n",
    "group_labels = ['distplot']\n",
    "fig = ff.create_distplot(hist_data, group_labels)\n",
    "iplot(fig)"
   ]
  },
  {
   "cell_type": "markdown",
   "metadata": {},
   "source": [
    "#### Let's analyse a specific region. The Middle Eastern region, where there are 14 countries in total."
   ]
  },
  {
   "cell_type": "code",
   "execution_count": null,
   "metadata": {
    "scrolled": false
   },
   "outputs": [],
   "source": []
  },
  {
   "cell_type": "code",
   "execution_count": null,
   "metadata": {},
   "outputs": [],
   "source": [
    "# # Create traces\n",
    "# trace0 = go.Scatter(\n",
    "#     x = data_Rank,\n",
    "#     y = data['Rank'],\n",
    "#     mode = 'lines',\n",
    "#     name = 'lines'\n",
    "# )\n",
    "# iplot(trace0)"
   ]
  },
  {
   "cell_type": "code",
   "execution_count": null,
   "metadata": {},
   "outputs": [],
   "source": []
  },
  {
   "cell_type": "code",
   "execution_count": null,
   "metadata": {},
   "outputs": [],
   "source": [
    "# data_Rank = data['Rank']"
   ]
  }
 ],
 "metadata": {
  "kernelspec": {
   "display_name": "Python 3",
   "language": "python",
   "name": "python3"
  },
  "language_info": {
   "codemirror_mode": {
    "name": "ipython",
    "version": 3
   },
   "file_extension": ".py",
   "mimetype": "text/x-python",
   "name": "python",
   "nbconvert_exporter": "python",
   "pygments_lexer": "ipython3",
   "version": "3.6.8"
  }
 },
 "nbformat": 4,
 "nbformat_minor": 2
}
