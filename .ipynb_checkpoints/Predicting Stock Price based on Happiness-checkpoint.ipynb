{
 "cells": [
  {
   "cell_type": "code",
   "execution_count": 1,
   "metadata": {},
   "outputs": [],
   "source": [
    "import pandas as pd\n",
    "import numpy as np\n",
    "import matplotlib.pyplot as plt\n",
    "import seaborn as sb\n",
    "import math\n",
    "import matplotlib.pyplot as plt\n",
    "from pprint import pprint\n",
    "sb.set()"
   ]
  },
  {
   "cell_type": "code",
   "execution_count": 2,
   "metadata": {},
   "outputs": [],
   "source": [
    "from sklearn.linear_model import LinearRegression\n",
    "from sklearn.model_selection import train_test_split\n",
    "from sklearn.metrics import mean_squared_error"
   ]
  },
  {
   "cell_type": "code",
   "execution_count": 3,
   "metadata": {},
   "outputs": [],
   "source": [
    "d1 = pd.read_excel(\"Data/World Happiness Report/WHR2019.xlsx\", sheet_name='Table2.1')\n",
    "d2 = pd.read_excel(\"Data/World Happiness Report/WHR2019.xlsx\", sheet_name='Figure2.6')\n",
    "d3 = pd.read_excel(\"Data/World Happiness Report/WHR2019.xlsx\", sheet_name='Figure2.7')"
   ]
  },
  {
   "cell_type": "code",
   "execution_count": 4,
   "metadata": {},
   "outputs": [
    {
     "name": "stdout",
     "output_type": "stream",
     "text": [
      "(1704, 26)\n"
     ]
    },
    {
     "data": {
      "text/html": [
       "<div>\n",
       "<style scoped>\n",
       "    .dataframe tbody tr th:only-of-type {\n",
       "        vertical-align: middle;\n",
       "    }\n",
       "\n",
       "    .dataframe tbody tr th {\n",
       "        vertical-align: top;\n",
       "    }\n",
       "\n",
       "    .dataframe thead th {\n",
       "        text-align: right;\n",
       "    }\n",
       "</style>\n",
       "<table border=\"1\" class=\"dataframe\">\n",
       "  <thead>\n",
       "    <tr style=\"text-align: right;\">\n",
       "      <th></th>\n",
       "      <th>Country</th>\n",
       "      <th>Year</th>\n",
       "      <th>Happiness</th>\n",
       "      <th>LogGDP</th>\n",
       "      <th>Social support</th>\n",
       "      <th>Life_expectancy</th>\n",
       "      <th>Freedom</th>\n",
       "      <th>Generosity</th>\n",
       "      <th>Perceptions of corruption</th>\n",
       "      <th>Pos_affect</th>\n",
       "      <th>Neg_affect</th>\n",
       "      <th>Confidence in national government</th>\n",
       "      <th>Democratic Quality</th>\n",
       "      <th>Delivery Quality</th>\n",
       "      <th>Standard deviation of ladder by country-year</th>\n",
       "      <th>Standard deviation/Mean of ladder by country-year</th>\n",
       "      <th>GINI_householdincome</th>\n",
       "    </tr>\n",
       "  </thead>\n",
       "  <tbody>\n",
       "    <tr>\n",
       "      <th>0</th>\n",
       "      <td>Afghanistan</td>\n",
       "      <td>2008</td>\n",
       "      <td>3.723590</td>\n",
       "      <td>7.168690</td>\n",
       "      <td>0.450662</td>\n",
       "      <td>50.799999</td>\n",
       "      <td>0.718114</td>\n",
       "      <td>0.177889</td>\n",
       "      <td>0.881686</td>\n",
       "      <td>0.517637</td>\n",
       "      <td>0.258195</td>\n",
       "      <td>0.612072</td>\n",
       "      <td>-1.929690</td>\n",
       "      <td>-1.655084</td>\n",
       "      <td>1.774662</td>\n",
       "      <td>0.476600</td>\n",
       "      <td>NaN</td>\n",
       "    </tr>\n",
       "    <tr>\n",
       "      <th>1</th>\n",
       "      <td>Afghanistan</td>\n",
       "      <td>2009</td>\n",
       "      <td>4.401778</td>\n",
       "      <td>7.333790</td>\n",
       "      <td>0.552308</td>\n",
       "      <td>51.200001</td>\n",
       "      <td>0.678896</td>\n",
       "      <td>0.200178</td>\n",
       "      <td>0.850035</td>\n",
       "      <td>0.583926</td>\n",
       "      <td>0.237092</td>\n",
       "      <td>0.611545</td>\n",
       "      <td>-2.044093</td>\n",
       "      <td>-1.635025</td>\n",
       "      <td>1.722688</td>\n",
       "      <td>0.391362</td>\n",
       "      <td>0.441906</td>\n",
       "    </tr>\n",
       "    <tr>\n",
       "      <th>2</th>\n",
       "      <td>Afghanistan</td>\n",
       "      <td>2010</td>\n",
       "      <td>4.758381</td>\n",
       "      <td>7.386629</td>\n",
       "      <td>0.539075</td>\n",
       "      <td>51.599998</td>\n",
       "      <td>0.600127</td>\n",
       "      <td>0.134353</td>\n",
       "      <td>0.706766</td>\n",
       "      <td>0.618265</td>\n",
       "      <td>0.275324</td>\n",
       "      <td>0.299357</td>\n",
       "      <td>-1.991810</td>\n",
       "      <td>-1.617176</td>\n",
       "      <td>1.878622</td>\n",
       "      <td>0.394803</td>\n",
       "      <td>0.327318</td>\n",
       "    </tr>\n",
       "    <tr>\n",
       "      <th>3</th>\n",
       "      <td>Afghanistan</td>\n",
       "      <td>2011</td>\n",
       "      <td>3.831719</td>\n",
       "      <td>7.415019</td>\n",
       "      <td>0.521104</td>\n",
       "      <td>51.919998</td>\n",
       "      <td>0.495901</td>\n",
       "      <td>0.172137</td>\n",
       "      <td>0.731109</td>\n",
       "      <td>0.611387</td>\n",
       "      <td>0.267175</td>\n",
       "      <td>0.307386</td>\n",
       "      <td>-1.919018</td>\n",
       "      <td>-1.616221</td>\n",
       "      <td>1.785360</td>\n",
       "      <td>0.465942</td>\n",
       "      <td>0.336764</td>\n",
       "    </tr>\n",
       "    <tr>\n",
       "      <th>4</th>\n",
       "      <td>Afghanistan</td>\n",
       "      <td>2012</td>\n",
       "      <td>3.782938</td>\n",
       "      <td>7.517126</td>\n",
       "      <td>0.520637</td>\n",
       "      <td>52.240002</td>\n",
       "      <td>0.530935</td>\n",
       "      <td>0.244273</td>\n",
       "      <td>0.775620</td>\n",
       "      <td>0.710385</td>\n",
       "      <td>0.267919</td>\n",
       "      <td>0.435440</td>\n",
       "      <td>-1.842996</td>\n",
       "      <td>-1.404078</td>\n",
       "      <td>1.798283</td>\n",
       "      <td>0.475367</td>\n",
       "      <td>0.344540</td>\n",
       "    </tr>\n",
       "  </tbody>\n",
       "</table>\n",
       "</div>"
      ],
      "text/plain": [
       "       Country  Year  Happiness    LogGDP  Social support  Life_expectancy  \\\n",
       "0  Afghanistan  2008   3.723590  7.168690        0.450662        50.799999   \n",
       "1  Afghanistan  2009   4.401778  7.333790        0.552308        51.200001   \n",
       "2  Afghanistan  2010   4.758381  7.386629        0.539075        51.599998   \n",
       "3  Afghanistan  2011   3.831719  7.415019        0.521104        51.919998   \n",
       "4  Afghanistan  2012   3.782938  7.517126        0.520637        52.240002   \n",
       "\n",
       "    Freedom  Generosity  Perceptions of corruption  Pos_affect  Neg_affect  \\\n",
       "0  0.718114    0.177889                   0.881686    0.517637    0.258195   \n",
       "1  0.678896    0.200178                   0.850035    0.583926    0.237092   \n",
       "2  0.600127    0.134353                   0.706766    0.618265    0.275324   \n",
       "3  0.495901    0.172137                   0.731109    0.611387    0.267175   \n",
       "4  0.530935    0.244273                   0.775620    0.710385    0.267919   \n",
       "\n",
       "   Confidence in national government  Democratic Quality  Delivery Quality  \\\n",
       "0                           0.612072           -1.929690         -1.655084   \n",
       "1                           0.611545           -2.044093         -1.635025   \n",
       "2                           0.299357           -1.991810         -1.617176   \n",
       "3                           0.307386           -1.919018         -1.616221   \n",
       "4                           0.435440           -1.842996         -1.404078   \n",
       "\n",
       "   Standard deviation of ladder by country-year  \\\n",
       "0                                      1.774662   \n",
       "1                                      1.722688   \n",
       "2                                      1.878622   \n",
       "3                                      1.785360   \n",
       "4                                      1.798283   \n",
       "\n",
       "   Standard deviation/Mean of ladder by country-year  GINI_householdincome  \n",
       "0                                           0.476600                   NaN  \n",
       "1                                           0.391362              0.441906  \n",
       "2                                           0.394803              0.327318  \n",
       "3                                           0.465942              0.336764  \n",
       "4                                           0.475367              0.344540  "
      ]
     },
     "execution_count": 4,
     "metadata": {},
     "output_type": "execute_result"
    }
   ],
   "source": [
    "print(d1.shape)\n",
    "data=d1.rename(columns={'Country name':'Country', \n",
    "                      'Life Ladder':'Happiness',\n",
    "                      'Log GDP per capita':'LogGDP',\n",
    "                      'Healthy life expectancy at birth':'Life_expectancy',\n",
    "                      'Freedom to make life choices': 'Freedom',\n",
    "                      'Positive affect':'Pos_affect',\n",
    "                      'Negative affect':'Neg_affect',\n",
    "                      'GINI index (World Bank estimate)':'GINI',\n",
    "                      'GINI index (World Bank estimate), average 2000-16':'GINI_average',\n",
    "                      'gini of household income reported in Gallup, by wp5-year':'GINI_householdincome',\n",
    "                       })\n",
    "data = data.iloc[:,0:20]\n",
    "data = data.drop(['GINI','GINI_average', 'Most people can be trusted, Gallup'], axis=1)\n",
    "data.head()"
   ]
  },
  {
   "cell_type": "code",
   "execution_count": 5,
   "metadata": {},
   "outputs": [
    {
     "name": "stdout",
     "output_type": "stream",
     "text": [
      "WHR05 = data.loc[(data['Year'] == 2005)].reset_index(drop=True)\n",
      "WHR06 = data.loc[(data['Year'] == 2006)].reset_index(drop=True)\n",
      "WHR07 = data.loc[(data['Year'] == 2007)].reset_index(drop=True)\n",
      "WHR08 = data.loc[(data['Year'] == 2008)].reset_index(drop=True)\n",
      "WHR09 = data.loc[(data['Year'] == 2009)].reset_index(drop=True)\n",
      "WHR10 = data.loc[(data['Year'] == 2010)].reset_index(drop=True)\n",
      "WHR11 = data.loc[(data['Year'] == 2011)].reset_index(drop=True)\n",
      "WHR12 = data.loc[(data['Year'] == 2012)].reset_index(drop=True)\n",
      "WHR13 = data.loc[(data['Year'] == 2013)].reset_index(drop=True)\n",
      "WHR14 = data.loc[(data['Year'] == 2014)].reset_index(drop=True)\n",
      "WHR15 = data.loc[(data['Year'] == 2015)].reset_index(drop=True)\n",
      "WHR16 = data.loc[(data['Year'] == 2016)].reset_index(drop=True)\n",
      "WHR17 = data.loc[(data['Year'] == 2017)].reset_index(drop=True)\n",
      "WHR18 = data.loc[(data['Year'] == 2018)].reset_index(drop=True)\n"
     ]
    }
   ],
   "source": [
    "for i in range(5, 19):\n",
    "    new = str(i)\n",
    "    if i<10:\n",
    "        new = str(0) + str(i)\n",
    "    dfname = 'WHR' + new\n",
    "    print(dfname + \" = data.loc[(data['Year'] == \" + str(i+2000) + ')].reset_index(drop=True)')"
   ]
  },
  {
   "cell_type": "code",
   "execution_count": 6,
   "metadata": {},
   "outputs": [],
   "source": [
    "WHR05 = data.loc[(data['Year'] == 2005)].reset_index(drop=True)\n",
    "WHR06 = data.loc[(data['Year'] == 2006)].reset_index(drop=True)\n",
    "WHR07 = data.loc[(data['Year'] == 2007)].reset_index(drop=True)\n",
    "WHR08 = data.loc[(data['Year'] == 2008)].reset_index(drop=True)\n",
    "WHR09 = data.loc[(data['Year'] == 2009)].reset_index(drop=True)\n",
    "WHR10 = data.loc[(data['Year'] == 2010)].reset_index(drop=True)\n",
    "WHR11 = data.loc[(data['Year'] == 2011)].reset_index(drop=True)\n",
    "WHR12 = data.loc[(data['Year'] == 2012)].reset_index(drop=True)\n",
    "WHR13 = data.loc[(data['Year'] == 2013)].reset_index(drop=True)\n",
    "WHR14 = data.loc[(data['Year'] == 2014)].reset_index(drop=True)\n",
    "WHR15 = data.loc[(data['Year'] == 2015)].reset_index(drop=True)\n",
    "WHR16 = data.loc[(data['Year'] == 2016)].reset_index(drop=True)\n",
    "WHR17 = data.loc[(data['Year'] == 2017)].reset_index(drop=True)\n",
    "WHR18 = data.loc[(data['Year'] == 2018)].reset_index(drop=True)"
   ]
  },
  {
   "cell_type": "code",
   "execution_count": 7,
   "metadata": {
    "scrolled": true
   },
   "outputs": [
    {
     "name": "stdout",
     "output_type": "stream",
     "text": [
      "(114, 17)\n"
     ]
    }
   ],
   "source": [
    "print(WHR09.shape)"
   ]
  },
  {
   "cell_type": "code",
   "execution_count": 8,
   "metadata": {},
   "outputs": [
    {
     "data": {
      "text/html": [
       "<div>\n",
       "<style scoped>\n",
       "    .dataframe tbody tr th:only-of-type {\n",
       "        vertical-align: middle;\n",
       "    }\n",
       "\n",
       "    .dataframe tbody tr th {\n",
       "        vertical-align: top;\n",
       "    }\n",
       "\n",
       "    .dataframe thead th {\n",
       "        text-align: right;\n",
       "    }\n",
       "</style>\n",
       "<table border=\"1\" class=\"dataframe\">\n",
       "  <thead>\n",
       "    <tr style=\"text-align: right;\">\n",
       "      <th></th>\n",
       "      <th>Country</th>\n",
       "      <th>Year</th>\n",
       "      <th>Happiness</th>\n",
       "      <th>LogGDP</th>\n",
       "      <th>Social support</th>\n",
       "      <th>Life_expectancy</th>\n",
       "      <th>Freedom</th>\n",
       "      <th>Generosity</th>\n",
       "      <th>Perceptions of corruption</th>\n",
       "      <th>Pos_affect</th>\n",
       "      <th>Neg_affect</th>\n",
       "      <th>Confidence in national government</th>\n",
       "      <th>Democratic Quality</th>\n",
       "      <th>Delivery Quality</th>\n",
       "      <th>Standard deviation of ladder by country-year</th>\n",
       "      <th>Standard deviation/Mean of ladder by country-year</th>\n",
       "      <th>GINI_householdincome</th>\n",
       "    </tr>\n",
       "  </thead>\n",
       "  <tbody>\n",
       "    <tr>\n",
       "      <th>0</th>\n",
       "      <td>Afghanistan</td>\n",
       "      <td>2009</td>\n",
       "      <td>4.401778</td>\n",
       "      <td>7.333790</td>\n",
       "      <td>0.552308</td>\n",
       "      <td>51.200001</td>\n",
       "      <td>0.678896</td>\n",
       "      <td>0.200178</td>\n",
       "      <td>0.850035</td>\n",
       "      <td>0.583926</td>\n",
       "      <td>0.237092</td>\n",
       "      <td>0.611545</td>\n",
       "      <td>-2.044093</td>\n",
       "      <td>-1.635025</td>\n",
       "      <td>1.722688</td>\n",
       "      <td>0.391362</td>\n",
       "      <td>0.441906</td>\n",
       "    </tr>\n",
       "    <tr>\n",
       "      <th>1</th>\n",
       "      <td>Albania</td>\n",
       "      <td>2009</td>\n",
       "      <td>5.485470</td>\n",
       "      <td>9.161638</td>\n",
       "      <td>0.833047</td>\n",
       "      <td>66.199997</td>\n",
       "      <td>0.525223</td>\n",
       "      <td>-0.160855</td>\n",
       "      <td>0.863665</td>\n",
       "      <td>0.640024</td>\n",
       "      <td>0.279257</td>\n",
       "      <td>NaN</td>\n",
       "      <td>0.048114</td>\n",
       "      <td>-0.264635</td>\n",
       "      <td>1.919640</td>\n",
       "      <td>0.349950</td>\n",
       "      <td>0.617361</td>\n",
       "    </tr>\n",
       "    <tr>\n",
       "      <th>2</th>\n",
       "      <td>Argentina</td>\n",
       "      <td>2009</td>\n",
       "      <td>6.424133</td>\n",
       "      <td>9.750825</td>\n",
       "      <td>0.918693</td>\n",
       "      <td>67.180000</td>\n",
       "      <td>0.636646</td>\n",
       "      <td>-0.125714</td>\n",
       "      <td>0.884742</td>\n",
       "      <td>0.863786</td>\n",
       "      <td>0.236901</td>\n",
       "      <td>0.273822</td>\n",
       "      <td>0.023821</td>\n",
       "      <td>-0.570944</td>\n",
       "      <td>2.067742</td>\n",
       "      <td>0.321871</td>\n",
       "      <td>0.368422</td>\n",
       "    </tr>\n",
       "    <tr>\n",
       "      <th>3</th>\n",
       "      <td>Armenia</td>\n",
       "      <td>2009</td>\n",
       "      <td>4.177582</td>\n",
       "      <td>8.784616</td>\n",
       "      <td>0.680007</td>\n",
       "      <td>65.099998</td>\n",
       "      <td>0.441413</td>\n",
       "      <td>-0.199945</td>\n",
       "      <td>0.881887</td>\n",
       "      <td>0.542872</td>\n",
       "      <td>0.411280</td>\n",
       "      <td>0.373952</td>\n",
       "      <td>-0.324350</td>\n",
       "      <td>-0.207272</td>\n",
       "      <td>2.179482</td>\n",
       "      <td>0.521709</td>\n",
       "      <td>0.427577</td>\n",
       "    </tr>\n",
       "    <tr>\n",
       "      <th>4</th>\n",
       "      <td>Azerbaijan</td>\n",
       "      <td>2009</td>\n",
       "      <td>4.573725</td>\n",
       "      <td>9.641726</td>\n",
       "      <td>0.735970</td>\n",
       "      <td>63.020000</td>\n",
       "      <td>0.498138</td>\n",
       "      <td>-0.106351</td>\n",
       "      <td>0.753850</td>\n",
       "      <td>0.543640</td>\n",
       "      <td>0.233942</td>\n",
       "      <td>0.774252</td>\n",
       "      <td>-0.767848</td>\n",
       "      <td>-0.758656</td>\n",
       "      <td>1.893334</td>\n",
       "      <td>0.413959</td>\n",
       "      <td>0.331236</td>\n",
       "    </tr>\n",
       "  </tbody>\n",
       "</table>\n",
       "</div>"
      ],
      "text/plain": [
       "       Country  Year  Happiness    LogGDP  Social support  Life_expectancy  \\\n",
       "0  Afghanistan  2009   4.401778  7.333790        0.552308        51.200001   \n",
       "1      Albania  2009   5.485470  9.161638        0.833047        66.199997   \n",
       "2    Argentina  2009   6.424133  9.750825        0.918693        67.180000   \n",
       "3      Armenia  2009   4.177582  8.784616        0.680007        65.099998   \n",
       "4   Azerbaijan  2009   4.573725  9.641726        0.735970        63.020000   \n",
       "\n",
       "    Freedom  Generosity  Perceptions of corruption  Pos_affect  Neg_affect  \\\n",
       "0  0.678896    0.200178                   0.850035    0.583926    0.237092   \n",
       "1  0.525223   -0.160855                   0.863665    0.640024    0.279257   \n",
       "2  0.636646   -0.125714                   0.884742    0.863786    0.236901   \n",
       "3  0.441413   -0.199945                   0.881887    0.542872    0.411280   \n",
       "4  0.498138   -0.106351                   0.753850    0.543640    0.233942   \n",
       "\n",
       "   Confidence in national government  Democratic Quality  Delivery Quality  \\\n",
       "0                           0.611545           -2.044093         -1.635025   \n",
       "1                                NaN            0.048114         -0.264635   \n",
       "2                           0.273822            0.023821         -0.570944   \n",
       "3                           0.373952           -0.324350         -0.207272   \n",
       "4                           0.774252           -0.767848         -0.758656   \n",
       "\n",
       "   Standard deviation of ladder by country-year  \\\n",
       "0                                      1.722688   \n",
       "1                                      1.919640   \n",
       "2                                      2.067742   \n",
       "3                                      2.179482   \n",
       "4                                      1.893334   \n",
       "\n",
       "   Standard deviation/Mean of ladder by country-year  GINI_householdincome  \n",
       "0                                           0.391362              0.441906  \n",
       "1                                           0.349950              0.617361  \n",
       "2                                           0.321871              0.368422  \n",
       "3                                           0.521709              0.427577  \n",
       "4                                           0.413959              0.331236  "
      ]
     },
     "execution_count": 8,
     "metadata": {},
     "output_type": "execute_result"
    }
   ],
   "source": [
    "WHR09.head()"
   ]
  },
  {
   "cell_type": "markdown",
   "metadata": {},
   "source": [
    "## GINI_householdincome only available starting from WHR09"
   ]
  },
  {
   "cell_type": "code",
   "execution_count": 9,
   "metadata": {
    "scrolled": true
   },
   "outputs": [],
   "source": [
    "Country_id = {}\n",
    "\n",
    "data['Country'] = data['Country'].astype('category')\n",
    "countryno = 0\n",
    "for i in range(1703):\n",
    "    if (data['Country'][i] != data['Country'][i+1]):\n",
    "#         print(str(countryno) + '\\t' + data['Country'][i] + '\\t')\n",
    "        Country_id[countryno] = data['Country'][i]\n",
    "        countryno+=1"
   ]
  },
  {
   "cell_type": "code",
   "execution_count": 10,
   "metadata": {},
   "outputs": [
    {
     "data": {
      "text/plain": [
       "Index(['Country', 'Year', 'Happiness', 'LogGDP', 'Social support',\n",
       "       'Life_expectancy', 'Freedom', 'Generosity', 'Perceptions of corruption',\n",
       "       'Pos_affect', 'Neg_affect', 'Confidence in national government',\n",
       "       'Democratic Quality', 'Delivery Quality',\n",
       "       'Standard deviation of ladder by country-year',\n",
       "       'Standard deviation/Mean of ladder by country-year',\n",
       "       'GINI_householdincome'],\n",
       "      dtype='object')"
      ]
     },
     "execution_count": 10,
     "metadata": {},
     "output_type": "execute_result"
    }
   ],
   "source": [
    "data.columns"
   ]
  },
  {
   "cell_type": "code",
   "execution_count": 11,
   "metadata": {},
   "outputs": [
    {
     "name": "stdout",
     "output_type": "stream",
     "text": [
      "Intercept of Regression \t: b =  [4.71114628]\n",
      "Coefficients of Regression \t: a =  [[ 8.93247038e-02  2.19305478e-01 -2.89589985e-03  2.19097592e-01\n",
      "   3.72845181e-01 -1.02267685e+00  7.39220654e-01  5.86122647e-01\n",
      "  -3.84034964e-01  2.74052917e-02  7.87078472e-02  1.85227608e+00\n",
      "  -9.50731665e+00  1.41711854e-02]]\n",
      "\n",
      "                                           Predictors  Coefficients\n",
      "0                                              LogGDP      0.089325\n",
      "1                                      Social support      0.219305\n",
      "2                                     Life_expectancy     -0.002896\n",
      "3                                             Freedom      0.219098\n",
      "4                                          Generosity      0.372845\n",
      "5                           Perceptions of corruption     -1.022677\n",
      "6                                          Pos_affect      0.739221\n",
      "7                                          Neg_affect      0.586123\n",
      "8                   Confidence in national government     -0.384035\n",
      "9                                  Democratic Quality      0.027405\n",
      "10                                   Delivery Quality      0.078708\n",
      "11       Standard deviation of ladder by country-year      1.852276\n",
      "12  Standard deviation/Mean of ladder by country-year     -9.507317\n",
      "13                               GINI_householdincome      0.014171\n",
      "\n"
     ]
    },
    {
     "data": {
      "image/png": "[encoded data removed]",
      "text/plain": [
       "<Figure size 1728x864 with 2 Axes>"
      ]
     },
     "metadata": {
      "needs_background": "light"
     },
     "output_type": "display_data"
    },
    {
     "name": "stdout",
     "output_type": "stream",
     "text": [
      "Goodness of Fit of Model \tTrain Dataset\n",
      "Explained Variance (R^2) \t: 0.9416019526996944\n",
      "Mean Squared Error (MSE) \t: 0.0786496281155355\n",
      "\n",
      "Goodness of Fit of Model \tTest Dataset\n",
      "Explained Variance (R^2) \t: 0.9426609894901861\n",
      "Mean Squared Error (MSE) \t: 0.07605259363594137\n",
      "\n"
     ]
    }
   ],
   "source": [
    "data = data.dropna()\n",
    "# Extract Response and Predictors\n",
    "y = pd.DataFrame(data[\"Happiness\"])\n",
    "X = pd.DataFrame(data[['LogGDP', 'Social support',\n",
    "                       'Life_expectancy', 'Freedom', 'Generosity', 'Perceptions of corruption',\n",
    "                       'Pos_affect', 'Neg_affect', 'Confidence in national government',\n",
    "                       'Democratic Quality', 'Delivery Quality',\n",
    "                       'Standard deviation of ladder by country-year',\n",
    "                       'Standard deviation/Mean of ladder by country-year',\n",
    "                       'GINI_householdincome']])\n",
    "\n",
    "# Split the Dataset into Train and Test\n",
    "X_train, X_test, y_train, y_test = train_test_split(X, y, test_size = 0.25)\n",
    "\n",
    "# Linear Regression using Train Data\n",
    "linreg = LinearRegression()         # create the linear regression object\n",
    "linreg.fit(X_train, y_train)        # train the linear regression model\n",
    "\n",
    "# Coefficients of the Linear Regression line\n",
    "print('Intercept of Regression \\t: b = ', linreg.intercept_)\n",
    "print('Coefficients of Regression \\t: a = ', linreg.coef_)\n",
    "print()\n",
    "\n",
    "# Print the Coefficients against Predictors\n",
    "print(pd.DataFrame(list(zip(X_train.columns, linreg.coef_[0])), columns = [\"Predictors\", \"Coefficients\"]))\n",
    "print()\n",
    "\n",
    "# Predict Response corresponding to Predictors\n",
    "y_train_pred = linreg.predict(X_train)\n",
    "y_test_pred = linreg.predict(X_test)\n",
    "\n",
    "# Plot the Predictions vs the True values\n",
    "f, axes = plt.subplots(1, 2, figsize=(24, 12))\n",
    "axes[0].scatter(y_train, y_train_pred, color = \"blue\")\n",
    "axes[0].plot(y_train, y_train, 'w-', linewidth = 1)\n",
    "axes[0].set_xlabel(\"True values of the Response Variable (Train)\")\n",
    "axes[0].set_ylabel(\"Predicted values of the Response Variable (Train)\")\n",
    "axes[1].scatter(y_test, y_test_pred, color = \"green\")\n",
    "axes[1].plot(y_test, y_test, 'w-', linewidth = 1)\n",
    "axes[1].set_xlabel(\"True values of the Response Variable (Test)\")\n",
    "axes[1].set_ylabel(\"Predicted values of the Response Variable (Test)\")\n",
    "plt.show()\n",
    "\n",
    "# Check the Goodness of Fit (on Train Data)\n",
    "print(\"Goodness of Fit of Model \\tTrain Dataset\")\n",
    "print(\"Explained Variance (R^2) \\t:\", linreg.score(X_train, y_train))\n",
    "print(\"Mean Squared Error (MSE) \\t:\", mean_squared_error(y_train, y_train_pred))\n",
    "print()\n",
    "\n",
    "# Check the Goodness of Fit (on Test Data)\n",
    "print(\"Goodness of Fit of Model \\tTest Dataset\")\n",
    "print(\"Explained Variance (R^2) \\t:\", linreg.score(X_test, y_test))\n",
    "print(\"Mean Squared Error (MSE) \\t:\", mean_squared_error(y_test, y_test_pred))\n",
    "print()"
   ]
  },
  {
   "cell_type": "code",
   "execution_count": 12,
   "metadata": {
    "scrolled": false
   },
   "outputs": [
    {
     "name": "stdout",
     "output_type": "stream",
     "text": [
      "Intercept of Regression \t: b =  [-2.64435309]\n",
      "Coefficients of Regression \t: a =  [[0.21533264 3.01036267 0.05783525]]\n",
      "\n",
      "        Predictors  Coefficients\n",
      "0           LogGDP      0.215333\n",
      "1   Social support      3.010363\n",
      "2  Life_expectancy      0.057835\n",
      "\n"
     ]
    },
    {
     "data": {
      "image/png": "[encoded data removed]",
      "text/plain": [
       "<Figure size 1728x864 with 2 Axes>"
      ]
     },
     "metadata": {
      "needs_background": "light"
     },
     "output_type": "display_data"
    },
    {
     "name": "stdout",
     "output_type": "stream",
     "text": [
      "Goodness of Fit of Model \tTrain Dataset\n",
      "Explained Variance (R^2) \t: 0.6931789066669778\n",
      "Mean Squared Error (MSE) \t: 0.4001629650141296\n",
      "\n",
      "Goodness of Fit of Model \tTest Dataset\n",
      "Explained Variance (R^2) \t: 0.6846720088513119\n",
      "Mean Squared Error (MSE) \t: 0.46049117168568593\n",
      "\n"
     ]
    }
   ],
   "source": [
    "# Extract Response and Predictors\n",
    "predictors = ['LogGDP', 'Social support', 'Life_expectancy']\n",
    "\n",
    "y = pd.DataFrame(data[\"Happiness\"])\n",
    "X = pd.DataFrame(data[predictors])\n",
    "\n",
    "# Split the Dataset into Train and Test\n",
    "X_train, X_test, y_train, y_test = train_test_split(X, y, test_size = 0.25)\n",
    "\n",
    "# Linear Regression using Train Data\n",
    "linreg = LinearRegression()         # create the linear regression object\n",
    "linreg.fit(X_train, y_train)        # train the linear regression model\n",
    "\n",
    "# Coefficients of the Linear Regression line\n",
    "print('Intercept of Regression \\t: b = ', linreg.intercept_)\n",
    "print('Coefficients of Regression \\t: a = ', linreg.coef_)\n",
    "print()\n",
    "\n",
    "# Print the Coefficients against Predictors\n",
    "print(pd.DataFrame(list(zip(X_train.columns, linreg.coef_[0])), columns = [\"Predictors\", \"Coefficients\"]))\n",
    "print()\n",
    "\n",
    "# Predict Response corresponding to Predictors\n",
    "y_train_pred = linreg.predict(X_train)\n",
    "y_test_pred = linreg.predict(X_test)\n",
    "\n",
    "# Plot the Predictions vs the True values\n",
    "f, axes = plt.subplots(1, 2, figsize=(24, 12))\n",
    "axes[0].scatter(y_train, y_train_pred, color = \"blue\")\n",
    "axes[0].plot(y_train, y_train, 'w-', linewidth = 1)\n",
    "axes[0].set_xlabel(\"True values of the Response Variable (Train)\")\n",
    "axes[0].set_ylabel(\"Predicted values of the Response Variable (Train)\")\n",
    "axes[1].scatter(y_test, y_test_pred, color = \"green\")\n",
    "axes[1].plot(y_test, y_test, 'w-', linewidth = 1)\n",
    "axes[1].set_xlabel(\"True values of the Response Variable (Test)\")\n",
    "axes[1].set_ylabel(\"Predicted values of the Response Variable (Test)\")\n",
    "plt.show()\n",
    "\n",
    "# Check the Goodness of Fit (on Train Data)\n",
    "print(\"Goodness of Fit of Model \\tTrain Dataset\")\n",
    "print(\"Explained Variance (R^2) \\t:\", linreg.score(X_train, y_train))\n",
    "print(\"Mean Squared Error (MSE) \\t:\", mean_squared_error(y_train, y_train_pred))\n",
    "print()\n",
    "\n",
    "# Check the Goodness of Fit (on Test Data)\n",
    "print(\"Goodness of Fit of Model \\tTest Dataset\")\n",
    "print(\"Explained Variance (R^2) \\t:\", linreg.score(X_test, y_test))\n",
    "print(\"Mean Squared Error (MSE) \\t:\", mean_squared_error(y_test, y_test_pred))\n",
    "print()"
   ]
  },
  {
   "cell_type": "code",
   "execution_count": 13,
   "metadata": {},
   "outputs": [],
   "source": [
    "Stocks = pd.read_csv('Data\\Stocks\\S&P 500 (^GSPC)_2005to2018_daily.csv')"
   ]
  },
  {
   "cell_type": "code",
   "execution_count": 14,
   "metadata": {},
   "outputs": [
    {
     "data": {
      "text/html": [
       "<div>\n",
       "<style scoped>\n",
       "    .dataframe tbody tr th:only-of-type {\n",
       "        vertical-align: middle;\n",
       "    }\n",
       "\n",
       "    .dataframe tbody tr th {\n",
       "        vertical-align: top;\n",
       "    }\n",
       "\n",
       "    .dataframe thead th {\n",
       "        text-align: right;\n",
       "    }\n",
       "</style>\n",
       "<table border=\"1\" class=\"dataframe\">\n",
       "  <thead>\n",
       "    <tr style=\"text-align: right;\">\n",
       "      <th></th>\n",
       "      <th>Date</th>\n",
       "      <th>Open</th>\n",
       "      <th>High</th>\n",
       "      <th>Low</th>\n",
       "      <th>Close</th>\n",
       "      <th>Adj Close</th>\n",
       "      <th>Volume</th>\n",
       "      <th>Average</th>\n",
       "    </tr>\n",
       "  </thead>\n",
       "  <tbody>\n",
       "    <tr>\n",
       "      <th>0</th>\n",
       "      <td>31/12/2004</td>\n",
       "      <td>1213.550049</td>\n",
       "      <td>1217.329956</td>\n",
       "      <td>1211.650024</td>\n",
       "      <td>1211.920044</td>\n",
       "      <td>1211.920044</td>\n",
       "      <td>786900000</td>\n",
       "      <td>1214.489990</td>\n",
       "    </tr>\n",
       "    <tr>\n",
       "      <th>1</th>\n",
       "      <td>3/1/2005</td>\n",
       "      <td>1211.920044</td>\n",
       "      <td>1217.800049</td>\n",
       "      <td>1200.319946</td>\n",
       "      <td>1202.079956</td>\n",
       "      <td>1202.079956</td>\n",
       "      <td>1510800000</td>\n",
       "      <td>1209.059998</td>\n",
       "    </tr>\n",
       "    <tr>\n",
       "      <th>2</th>\n",
       "      <td>4/1/2005</td>\n",
       "      <td>1202.079956</td>\n",
       "      <td>1205.839966</td>\n",
       "      <td>1185.390015</td>\n",
       "      <td>1188.050049</td>\n",
       "      <td>1188.050049</td>\n",
       "      <td>1721000000</td>\n",
       "      <td>1195.614990</td>\n",
       "    </tr>\n",
       "    <tr>\n",
       "      <th>3</th>\n",
       "      <td>5/1/2005</td>\n",
       "      <td>1188.050049</td>\n",
       "      <td>1192.729980</td>\n",
       "      <td>1183.719971</td>\n",
       "      <td>1183.739990</td>\n",
       "      <td>1183.739990</td>\n",
       "      <td>1738900000</td>\n",
       "      <td>1188.224976</td>\n",
       "    </tr>\n",
       "    <tr>\n",
       "      <th>4</th>\n",
       "      <td>6/1/2005</td>\n",
       "      <td>1183.739990</td>\n",
       "      <td>1191.630005</td>\n",
       "      <td>1183.270020</td>\n",
       "      <td>1187.890015</td>\n",
       "      <td>1187.890015</td>\n",
       "      <td>1569100000</td>\n",
       "      <td>1187.450012</td>\n",
       "    </tr>\n",
       "  </tbody>\n",
       "</table>\n",
       "</div>"
      ],
      "text/plain": [
       "         Date         Open         High          Low        Close  \\\n",
       "0  31/12/2004  1213.550049  1217.329956  1211.650024  1211.920044   \n",
       "1    3/1/2005  1211.920044  1217.800049  1200.319946  1202.079956   \n",
       "2    4/1/2005  1202.079956  1205.839966  1185.390015  1188.050049   \n",
       "3    5/1/2005  1188.050049  1192.729980  1183.719971  1183.739990   \n",
       "4    6/1/2005  1183.739990  1191.630005  1183.270020  1187.890015   \n",
       "\n",
       "     Adj Close      Volume      Average  \n",
       "0  1211.920044   786900000  1214.489990  \n",
       "1  1202.079956  1510800000  1209.059998  \n",
       "2  1188.050049  1721000000  1195.614990  \n",
       "3  1183.739990  1738900000  1188.224976  \n",
       "4  1187.890015  1569100000  1187.450012  "
      ]
     },
     "execution_count": 14,
     "metadata": {},
     "output_type": "execute_result"
    }
   ],
   "source": [
    "Stocks[\"Average\"] = (Stocks[\"High\"] + Stocks[\"Low\"])/2\n",
    "Stocks.head()"
   ]
  },
  {
   "cell_type": "code",
   "execution_count": 15,
   "metadata": {
    "scrolled": false
   },
   "outputs": [
    {
     "name": "stdout",
     "output_type": "stream",
     "text": [
      "Stocks2005 = Stocks.loc[(Stocks['Date'].str.contains('2005'))]\n",
      "Stocks2005['Log10_volume'] = np.log10(Stocks2005['Volume'])\n",
      "Stocks2005 = Stocks2005.drop(['Volume', 'Adj Close'], axis=1).reset_index(drop=True)\n",
      "temp = Stocks2005['Log10_volume'].sum()\n",
      "Stocks2005 = Stocks2005.describe().drop(['count', '25%', '50%', '75%', 'std', 'min', 'max'])\n",
      "Stocks2005 = Stocks2005.append([0]).rename(index={'mean':'2005'})\n",
      "Stocks2005['Log10_volume'] = temp\n",
      "Stocks2005 = Stocks2005.drop(0, axis=1).drop(0, axis=0)\n",
      "Stocks2005\n",
      "\n",
      "Stocks2006 = Stocks.loc[(Stocks['Date'].str.contains('2006'))]\n",
      "Stocks2006['Log10_volume'] = np.log10(Stocks2006['Volume'])\n",
      "Stocks2006 = Stocks2006.drop(['Volume', 'Adj Close'], axis=1).reset_index(drop=True)\n",
      "temp = Stocks2006['Log10_volume'].sum()\n",
      "Stocks2006 = Stocks2006.describe().drop(['count', '25%', '50%', '75%', 'std', 'min', 'max'])\n",
      "Stocks2006 = Stocks2006.append([0]).rename(index={'mean':'2006'})\n",
      "Stocks2006['Log10_volume'] = temp\n",
      "Stocks2006 = Stocks2006.drop(0, axis=1).drop(0, axis=0)\n",
      "Stocks2006\n",
      "\n",
      "Stocks2007 = Stocks.loc[(Stocks['Date'].str.contains('2007'))]\n",
      "Stocks2007['Log10_volume'] = np.log10(Stocks2007['Volume'])\n",
      "Stocks2007 = Stocks2007.drop(['Volume', 'Adj Close'], axis=1).reset_index(drop=True)\n",
      "temp = Stocks2007['Log10_volume'].sum()\n",
      "Stocks2007 = Stocks2007.describe().drop(['count', '25%', '50%', '75%', 'std', 'min', 'max'])\n",
      "Stocks2007 = Stocks2007.append([0]).rename(index={'mean':'2007'})\n",
      "Stocks2007['Log10_volume'] = temp\n",
      "Stocks2007 = Stocks2007.drop(0, axis=1).drop(0, axis=0)\n",
      "Stocks2007\n",
      "\n",
      "Stocks2008 = Stocks.loc[(Stocks['Date'].str.contains('2008'))]\n",
      "Stocks2008['Log10_volume'] = np.log10(Stocks2008['Volume'])\n",
      "Stocks2008 = Stocks2008.drop(['Volume', 'Adj Close'], axis=1).reset_index(drop=True)\n",
      "temp = Stocks2008['Log10_volume'].sum()\n",
      "Stocks2008 = Stocks2008.describe().drop(['count', '25%', '50%', '75%', 'std', 'min', 'max'])\n",
      "Stocks2008 = Stocks2008.append([0]).rename(index={'mean':'2008'})\n",
      "Stocks2008['Log10_volume'] = temp\n",
      "Stocks2008 = Stocks2008.drop(0, axis=1).drop(0, axis=0)\n",
      "Stocks2008\n",
      "\n",
      "Stocks2009 = Stocks.loc[(Stocks['Date'].str.contains('2009'))]\n",
      "Stocks2009['Log10_volume'] = np.log10(Stocks2009['Volume'])\n",
      "Stocks2009 = Stocks2009.drop(['Volume', 'Adj Close'], axis=1).reset_index(drop=True)\n",
      "temp = Stocks2009['Log10_volume'].sum()\n",
      "Stocks2009 = Stocks2009.describe().drop(['count', '25%', '50%', '75%', 'std', 'min', 'max'])\n",
      "Stocks2009 = Stocks2009.append([0]).rename(index={'mean':'2009'})\n",
      "Stocks2009['Log10_volume'] = temp\n",
      "Stocks2009 = Stocks2009.drop(0, axis=1).drop(0, axis=0)\n",
      "Stocks2009\n",
      "\n",
      "Stocks2010 = Stocks.loc[(Stocks['Date'].str.contains('2010'))]\n",
      "Stocks2010['Log10_volume'] = np.log10(Stocks2010['Volume'])\n",
      "Stocks2010 = Stocks2010.drop(['Volume', 'Adj Close'], axis=1).reset_index(drop=True)\n",
      "temp = Stocks2010['Log10_volume'].sum()\n",
      "Stocks2010 = Stocks2010.describe().drop(['count', '25%', '50%', '75%', 'std', 'min', 'max'])\n",
      "Stocks2010 = Stocks2010.append([0]).rename(index={'mean':'2010'})\n",
      "Stocks2010['Log10_volume'] = temp\n",
      "Stocks2010 = Stocks2010.drop(0, axis=1).drop(0, axis=0)\n",
      "Stocks2010\n",
      "\n",
      "Stocks2011 = Stocks.loc[(Stocks['Date'].str.contains('2011'))]\n",
      "Stocks2011['Log10_volume'] = np.log10(Stocks2011['Volume'])\n",
      "Stocks2011 = Stocks2011.drop(['Volume', 'Adj Close'], axis=1).reset_index(drop=True)\n",
      "temp = Stocks2011['Log10_volume'].sum()\n",
      "Stocks2011 = Stocks2011.describe().drop(['count', '25%', '50%', '75%', 'std', 'min', 'max'])\n",
      "Stocks2011 = Stocks2011.append([0]).rename(index={'mean':'2011'})\n",
      "Stocks2011['Log10_volume'] = temp\n",
      "Stocks2011 = Stocks2011.drop(0, axis=1).drop(0, axis=0)\n",
      "Stocks2011\n",
      "\n",
      "Stocks2012 = Stocks.loc[(Stocks['Date'].str.contains('2012'))]\n",
      "Stocks2012['Log10_volume'] = np.log10(Stocks2012['Volume'])\n",
      "Stocks2012 = Stocks2012.drop(['Volume', 'Adj Close'], axis=1).reset_index(drop=True)\n",
      "temp = Stocks2012['Log10_volume'].sum()\n",
      "Stocks2012 = Stocks2012.describe().drop(['count', '25%', '50%', '75%', 'std', 'min', 'max'])\n",
      "Stocks2012 = Stocks2012.append([0]).rename(index={'mean':'2012'})\n",
      "Stocks2012['Log10_volume'] = temp\n",
      "Stocks2012 = Stocks2012.drop(0, axis=1).drop(0, axis=0)\n",
      "Stocks2012\n",
      "\n",
      "Stocks2013 = Stocks.loc[(Stocks['Date'].str.contains('2013'))]\n",
      "Stocks2013['Log10_volume'] = np.log10(Stocks2013['Volume'])\n",
      "Stocks2013 = Stocks2013.drop(['Volume', 'Adj Close'], axis=1).reset_index(drop=True)\n",
      "temp = Stocks2013['Log10_volume'].sum()\n",
      "Stocks2013 = Stocks2013.describe().drop(['count', '25%', '50%', '75%', 'std', 'min', 'max'])\n",
      "Stocks2013 = Stocks2013.append([0]).rename(index={'mean':'2013'})\n",
      "Stocks2013['Log10_volume'] = temp\n",
      "Stocks2013 = Stocks2013.drop(0, axis=1).drop(0, axis=0)\n",
      "Stocks2013\n",
      "\n",
      "Stocks2014 = Stocks.loc[(Stocks['Date'].str.contains('2014'))]\n",
      "Stocks2014['Log10_volume'] = np.log10(Stocks2014['Volume'])\n",
      "Stocks2014 = Stocks2014.drop(['Volume', 'Adj Close'], axis=1).reset_index(drop=True)\n",
      "temp = Stocks2014['Log10_volume'].sum()\n",
      "Stocks2014 = Stocks2014.describe().drop(['count', '25%', '50%', '75%', 'std', 'min', 'max'])\n",
      "Stocks2014 = Stocks2014.append([0]).rename(index={'mean':'2014'})\n",
      "Stocks2014['Log10_volume'] = temp\n",
      "Stocks2014 = Stocks2014.drop(0, axis=1).drop(0, axis=0)\n",
      "Stocks2014\n",
      "\n",
      "Stocks2015 = Stocks.loc[(Stocks['Date'].str.contains('2015'))]\n",
      "Stocks2015['Log10_volume'] = np.log10(Stocks2015['Volume'])\n",
      "Stocks2015 = Stocks2015.drop(['Volume', 'Adj Close'], axis=1).reset_index(drop=True)\n",
      "temp = Stocks2015['Log10_volume'].sum()\n",
      "Stocks2015 = Stocks2015.describe().drop(['count', '25%', '50%', '75%', 'std', 'min', 'max'])\n",
      "Stocks2015 = Stocks2015.append([0]).rename(index={'mean':'2015'})\n",
      "Stocks2015['Log10_volume'] = temp\n",
      "Stocks2015 = Stocks2015.drop(0, axis=1).drop(0, axis=0)\n",
      "Stocks2015\n",
      "\n",
      "Stocks2016 = Stocks.loc[(Stocks['Date'].str.contains('2016'))]\n",
      "Stocks2016['Log10_volume'] = np.log10(Stocks2016['Volume'])\n",
      "Stocks2016 = Stocks2016.drop(['Volume', 'Adj Close'], axis=1).reset_index(drop=True)\n",
      "temp = Stocks2016['Log10_volume'].sum()\n",
      "Stocks2016 = Stocks2016.describe().drop(['count', '25%', '50%', '75%', 'std', 'min', 'max'])\n",
      "Stocks2016 = Stocks2016.append([0]).rename(index={'mean':'2016'})\n",
      "Stocks2016['Log10_volume'] = temp\n",
      "Stocks2016 = Stocks2016.drop(0, axis=1).drop(0, axis=0)\n",
      "Stocks2016\n",
      "\n",
      "Stocks2017 = Stocks.loc[(Stocks['Date'].str.contains('2017'))]\n",
      "Stocks2017['Log10_volume'] = np.log10(Stocks2017['Volume'])\n",
      "Stocks2017 = Stocks2017.drop(['Volume', 'Adj Close'], axis=1).reset_index(drop=True)\n",
      "temp = Stocks2017['Log10_volume'].sum()\n",
      "Stocks2017 = Stocks2017.describe().drop(['count', '25%', '50%', '75%', 'std', 'min', 'max'])\n",
      "Stocks2017 = Stocks2017.append([0]).rename(index={'mean':'2017'})\n",
      "Stocks2017['Log10_volume'] = temp\n",
      "Stocks2017 = Stocks2017.drop(0, axis=1).drop(0, axis=0)\n",
      "Stocks2017\n",
      "\n",
      "Stocks2018 = Stocks.loc[(Stocks['Date'].str.contains('2018'))]\n",
      "Stocks2018['Log10_volume'] = np.log10(Stocks2018['Volume'])\n",
      "Stocks2018 = Stocks2018.drop(['Volume', 'Adj Close'], axis=1).reset_index(drop=True)\n",
      "temp = Stocks2018['Log10_volume'].sum()\n",
      "Stocks2018 = Stocks2018.describe().drop(['count', '25%', '50%', '75%', 'std', 'min', 'max'])\n",
      "Stocks2018 = Stocks2018.append([0]).rename(index={'mean':'2018'})\n",
      "Stocks2018['Log10_volume'] = temp\n",
      "Stocks2018 = Stocks2018.drop(0, axis=1).drop(0, axis=0)\n",
      "Stocks2018\n",
      "\n"
     ]
    }
   ],
   "source": [
    "for i in range(2005, 2019):\n",
    "    print('Stocks' + str(i) + \" = Stocks.loc[(Stocks['Date'].str.contains('\" + str(i) + \"'))]\\nStocks\"\n",
    "          + str(i) + \"['Log10_volume'] = np.log10(Stocks\" + str(i) + \"['Volume'])\\nStocks\"\n",
    "          + str(i) + ' = Stocks' + str(i) + \".drop(['Volume', 'Adj Close'], axis=1).reset_index(drop=True)\\ntemp = Stocks\"\n",
    "          + str(i) + \"['Log10_volume'].sum()\\nStocks\"\n",
    "          + str(i) + ' = Stocks' + str(i) + \".describe().drop(['count', '25%', '50%', '75%', 'std', 'min', 'max'])\\nStocks\"\n",
    "          + str(i) + ' = Stocks' + str(i) + \".append([0]).rename(index={'mean':'\" + str(i) +\"'})\\nStocks\"\n",
    "          + str(i) + \"['Log10_volume'] = temp\\nStocks\"\n",
    "          + str(i) + ' = Stocks' + str(i) + '.drop(0, axis=1).drop(0, axis=0)\\nStocks'\n",
    "          + str(i) + \"\\n\")"
   ]
  },
  {
   "cell_type": "code",
   "execution_count": 16,
   "metadata": {
    "scrolled": true
   },
   "outputs": [
    {
     "name": "stderr",
     "output_type": "stream",
     "text": [
      "C:\\Users\\wilso\\Anaconda3\\lib\\site-packages\\ipykernel_launcher.py:2: SettingWithCopyWarning: \n",
      "A value is trying to be set on a copy of a slice from a DataFrame.\n",
      "Try using .loc[row_indexer,col_indexer] = value instead\n",
      "\n",
      "See the caveats in the documentation: http://pandas.pydata.org/pandas-docs/stable/indexing.html#indexing-view-versus-copy\n",
      "  \n",
      "C:\\Users\\wilso\\Anaconda3\\lib\\site-packages\\pandas\\core\\indexes\\api.py:107: RuntimeWarning: '<' not supported between instances of 'str' and 'int', sort order is undefined for incomparable objects\n",
      "  result = result.union(other)\n",
      "C:\\Users\\wilso\\Anaconda3\\lib\\site-packages\\ipykernel_launcher.py:12: SettingWithCopyWarning: \n",
      "A value is trying to be set on a copy of a slice from a DataFrame.\n",
      "Try using .loc[row_indexer,col_indexer] = value instead\n",
      "\n",
      "See the caveats in the documentation: http://pandas.pydata.org/pandas-docs/stable/indexing.html#indexing-view-versus-copy\n",
      "  if sys.path[0] == '':\n",
      "C:\\Users\\wilso\\Anaconda3\\lib\\site-packages\\ipykernel_launcher.py:22: SettingWithCopyWarning: \n",
      "A value is trying to be set on a copy of a slice from a DataFrame.\n",
      "Try using .loc[row_indexer,col_indexer] = value instead\n",
      "\n",
      "See the caveats in the documentation: http://pandas.pydata.org/pandas-docs/stable/indexing.html#indexing-view-versus-copy\n",
      "C:\\Users\\wilso\\Anaconda3\\lib\\site-packages\\ipykernel_launcher.py:32: SettingWithCopyWarning: \n",
      "A value is trying to be set on a copy of a slice from a DataFrame.\n",
      "Try using .loc[row_indexer,col_indexer] = value instead\n",
      "\n",
      "See the caveats in the documentation: http://pandas.pydata.org/pandas-docs/stable/indexing.html#indexing-view-versus-copy\n",
      "C:\\Users\\wilso\\Anaconda3\\lib\\site-packages\\ipykernel_launcher.py:42: SettingWithCopyWarning: \n",
      "A value is trying to be set on a copy of a slice from a DataFrame.\n",
      "Try using .loc[row_indexer,col_indexer] = value instead\n",
      "\n",
      "See the caveats in the documentation: http://pandas.pydata.org/pandas-docs/stable/indexing.html#indexing-view-versus-copy\n",
      "C:\\Users\\wilso\\Anaconda3\\lib\\site-packages\\ipykernel_launcher.py:52: SettingWithCopyWarning: \n",
      "A value is trying to be set on a copy of a slice from a DataFrame.\n",
      "Try using .loc[row_indexer,col_indexer] = value instead\n",
      "\n",
      "See the caveats in the documentation: http://pandas.pydata.org/pandas-docs/stable/indexing.html#indexing-view-versus-copy\n",
      "C:\\Users\\wilso\\Anaconda3\\lib\\site-packages\\ipykernel_launcher.py:62: SettingWithCopyWarning: \n",
      "A value is trying to be set on a copy of a slice from a DataFrame.\n",
      "Try using .loc[row_indexer,col_indexer] = value instead\n",
      "\n",
      "See the caveats in the documentation: http://pandas.pydata.org/pandas-docs/stable/indexing.html#indexing-view-versus-copy\n",
      "C:\\Users\\wilso\\Anaconda3\\lib\\site-packages\\ipykernel_launcher.py:72: SettingWithCopyWarning: \n",
      "A value is trying to be set on a copy of a slice from a DataFrame.\n",
      "Try using .loc[row_indexer,col_indexer] = value instead\n",
      "\n",
      "See the caveats in the documentation: http://pandas.pydata.org/pandas-docs/stable/indexing.html#indexing-view-versus-copy\n",
      "C:\\Users\\wilso\\Anaconda3\\lib\\site-packages\\ipykernel_launcher.py:82: SettingWithCopyWarning: \n",
      "A value is trying to be set on a copy of a slice from a DataFrame.\n",
      "Try using .loc[row_indexer,col_indexer] = value instead\n",
      "\n",
      "See the caveats in the documentation: http://pandas.pydata.org/pandas-docs/stable/indexing.html#indexing-view-versus-copy\n",
      "C:\\Users\\wilso\\Anaconda3\\lib\\site-packages\\ipykernel_launcher.py:92: SettingWithCopyWarning: \n",
      "A value is trying to be set on a copy of a slice from a DataFrame.\n",
      "Try using .loc[row_indexer,col_indexer] = value instead\n",
      "\n",
      "See the caveats in the documentation: http://pandas.pydata.org/pandas-docs/stable/indexing.html#indexing-view-versus-copy\n",
      "C:\\Users\\wilso\\Anaconda3\\lib\\site-packages\\ipykernel_launcher.py:102: SettingWithCopyWarning: \n",
      "A value is trying to be set on a copy of a slice from a DataFrame.\n",
      "Try using .loc[row_indexer,col_indexer] = value instead\n",
      "\n",
      "See the caveats in the documentation: http://pandas.pydata.org/pandas-docs/stable/indexing.html#indexing-view-versus-copy\n",
      "C:\\Users\\wilso\\Anaconda3\\lib\\site-packages\\ipykernel_launcher.py:112: SettingWithCopyWarning: \n",
      "A value is trying to be set on a copy of a slice from a DataFrame.\n",
      "Try using .loc[row_indexer,col_indexer] = value instead\n",
      "\n",
      "See the caveats in the documentation: http://pandas.pydata.org/pandas-docs/stable/indexing.html#indexing-view-versus-copy\n",
      "C:\\Users\\wilso\\Anaconda3\\lib\\site-packages\\ipykernel_launcher.py:122: SettingWithCopyWarning: \n",
      "A value is trying to be set on a copy of a slice from a DataFrame.\n",
      "Try using .loc[row_indexer,col_indexer] = value instead\n",
      "\n",
      "See the caveats in the documentation: http://pandas.pydata.org/pandas-docs/stable/indexing.html#indexing-view-versus-copy\n",
      "C:\\Users\\wilso\\Anaconda3\\lib\\site-packages\\ipykernel_launcher.py:132: SettingWithCopyWarning: \n",
      "A value is trying to be set on a copy of a slice from a DataFrame.\n",
      "Try using .loc[row_indexer,col_indexer] = value instead\n",
      "\n",
      "See the caveats in the documentation: http://pandas.pydata.org/pandas-docs/stable/indexing.html#indexing-view-versus-copy\n"
     ]
    }
   ],
   "source": [
    "Stocks2005 = Stocks.loc[(Stocks['Date'].str.contains('2005'))]\n",
    "Stocks2005['Log10_volume'] = np.log10(Stocks2005['Volume'])\n",
    "Stocks2005 = Stocks2005.drop(['Volume', 'Adj Close'], axis=1).reset_index(drop=True)\n",
    "temp = Stocks2005['Log10_volume'].sum()\n",
    "Stocks2005 = Stocks2005.describe().drop(['count', '25%', '50%', '75%', 'std', 'min', 'max'])\n",
    "Stocks2005 = Stocks2005.append([0]).rename(index={'mean':'2005'})\n",
    "Stocks2005['Log10_volume'] = temp\n",
    "Stocks2005 = Stocks2005.drop(0, axis=1).drop(0, axis=0)\n",
    "Stocks2005\n",
    "\n",
    "Stocks2006 = Stocks.loc[(Stocks['Date'].str.contains('2006'))]\n",
    "Stocks2006['Log10_volume'] = np.log10(Stocks2006['Volume'])\n",
    "Stocks2006 = Stocks2006.drop(['Volume', 'Adj Close'], axis=1).reset_index(drop=True)\n",
    "temp = Stocks2006['Log10_volume'].sum()\n",
    "Stocks2006 = Stocks2006.describe().drop(['count', '25%', '50%', '75%', 'std', 'min', 'max'])\n",
    "Stocks2006 = Stocks2006.append([0]).rename(index={'mean':'2006'})\n",
    "Stocks2006['Log10_volume'] = temp\n",
    "Stocks2006 = Stocks2006.drop(0, axis=1).drop(0, axis=0)\n",
    "Stocks2006\n",
    "\n",
    "Stocks2007 = Stocks.loc[(Stocks['Date'].str.contains('2007'))]\n",
    "Stocks2007['Log10_volume'] = np.log10(Stocks2007['Volume'])\n",
    "Stocks2007 = Stocks2007.drop(['Volume', 'Adj Close'], axis=1).reset_index(drop=True)\n",
    "temp = Stocks2007['Log10_volume'].sum()\n",
    "Stocks2007 = Stocks2007.describe().drop(['count', '25%', '50%', '75%', 'std', 'min', 'max'])\n",
    "Stocks2007 = Stocks2007.append([0]).rename(index={'mean':'2007'})\n",
    "Stocks2007['Log10_volume'] = temp\n",
    "Stocks2007 = Stocks2007.drop(0, axis=1).drop(0, axis=0)\n",
    "Stocks2007\n",
    "\n",
    "Stocks2008 = Stocks.loc[(Stocks['Date'].str.contains('2008'))]\n",
    "Stocks2008['Log10_volume'] = np.log10(Stocks2008['Volume'])\n",
    "Stocks2008 = Stocks2008.drop(['Volume', 'Adj Close'], axis=1).reset_index(drop=True)\n",
    "temp = Stocks2008['Log10_volume'].sum()\n",
    "Stocks2008 = Stocks2008.describe().drop(['count', '25%', '50%', '75%', 'std', 'min', 'max'])\n",
    "Stocks2008 = Stocks2008.append([0]).rename(index={'mean':'2008'})\n",
    "Stocks2008['Log10_volume'] = temp\n",
    "Stocks2008 = Stocks2008.drop(0, axis=1).drop(0, axis=0)\n",
    "Stocks2008\n",
    "\n",
    "Stocks2009 = Stocks.loc[(Stocks['Date'].str.contains('2009'))]\n",
    "Stocks2009['Log10_volume'] = np.log10(Stocks2009['Volume'])\n",
    "Stocks2009 = Stocks2009.drop(['Volume', 'Adj Close'], axis=1).reset_index(drop=True)\n",
    "temp = Stocks2009['Log10_volume'].sum()\n",
    "Stocks2009 = Stocks2009.describe().drop(['count', '25%', '50%', '75%', 'std', 'min', 'max'])\n",
    "Stocks2009 = Stocks2009.append([0]).rename(index={'mean':'2009'})\n",
    "Stocks2009['Log10_volume'] = temp\n",
    "Stocks2009 = Stocks2009.drop(0, axis=1).drop(0, axis=0)\n",
    "Stocks2009\n",
    "\n",
    "Stocks2010 = Stocks.loc[(Stocks['Date'].str.contains('2010'))]\n",
    "Stocks2010['Log10_volume'] = np.log10(Stocks2010['Volume'])\n",
    "Stocks2010 = Stocks2010.drop(['Volume', 'Adj Close'], axis=1).reset_index(drop=True)\n",
    "temp = Stocks2010['Log10_volume'].sum()\n",
    "Stocks2010 = Stocks2010.describe().drop(['count', '25%', '50%', '75%', 'std', 'min', 'max'])\n",
    "Stocks2010 = Stocks2010.append([0]).rename(index={'mean':'2010'})\n",
    "Stocks2010['Log10_volume'] = temp\n",
    "Stocks2010 = Stocks2010.drop(0, axis=1).drop(0, axis=0)\n",
    "Stocks2010\n",
    "\n",
    "Stocks2011 = Stocks.loc[(Stocks['Date'].str.contains('2011'))]\n",
    "Stocks2011['Log10_volume'] = np.log10(Stocks2011['Volume'])\n",
    "Stocks2011 = Stocks2011.drop(['Volume', 'Adj Close'], axis=1).reset_index(drop=True)\n",
    "temp = Stocks2011['Log10_volume'].sum()\n",
    "Stocks2011 = Stocks2011.describe().drop(['count', '25%', '50%', '75%', 'std', 'min', 'max'])\n",
    "Stocks2011 = Stocks2011.append([0]).rename(index={'mean':'2011'})\n",
    "Stocks2011['Log10_volume'] = temp\n",
    "Stocks2011 = Stocks2011.drop(0, axis=1).drop(0, axis=0)\n",
    "Stocks2011\n",
    "\n",
    "Stocks2012 = Stocks.loc[(Stocks['Date'].str.contains('2012'))]\n",
    "Stocks2012['Log10_volume'] = np.log10(Stocks2012['Volume'])\n",
    "Stocks2012 = Stocks2012.drop(['Volume', 'Adj Close'], axis=1).reset_index(drop=True)\n",
    "temp = Stocks2012['Log10_volume'].sum()\n",
    "Stocks2012 = Stocks2012.describe().drop(['count', '25%', '50%', '75%', 'std', 'min', 'max'])\n",
    "Stocks2012 = Stocks2012.append([0]).rename(index={'mean':'2012'})\n",
    "Stocks2012['Log10_volume'] = temp\n",
    "Stocks2012 = Stocks2012.drop(0, axis=1).drop(0, axis=0)\n",
    "Stocks2012\n",
    "\n",
    "Stocks2013 = Stocks.loc[(Stocks['Date'].str.contains('2013'))]\n",
    "Stocks2013['Log10_volume'] = np.log10(Stocks2013['Volume'])\n",
    "Stocks2013 = Stocks2013.drop(['Volume', 'Adj Close'], axis=1).reset_index(drop=True)\n",
    "temp = Stocks2013['Log10_volume'].sum()\n",
    "Stocks2013 = Stocks2013.describe().drop(['count', '25%', '50%', '75%', 'std', 'min', 'max'])\n",
    "Stocks2013 = Stocks2013.append([0]).rename(index={'mean':'2013'})\n",
    "Stocks2013['Log10_volume'] = temp\n",
    "Stocks2013 = Stocks2013.drop(0, axis=1).drop(0, axis=0)\n",
    "Stocks2013\n",
    "\n",
    "Stocks2014 = Stocks.loc[(Stocks['Date'].str.contains('2014'))]\n",
    "Stocks2014['Log10_volume'] = np.log10(Stocks2014['Volume'])\n",
    "Stocks2014 = Stocks2014.drop(['Volume', 'Adj Close'], axis=1).reset_index(drop=True)\n",
    "temp = Stocks2014['Log10_volume'].sum()\n",
    "Stocks2014 = Stocks2014.describe().drop(['count', '25%', '50%', '75%', 'std', 'min', 'max'])\n",
    "Stocks2014 = Stocks2014.append([0]).rename(index={'mean':'2014'})\n",
    "Stocks2014['Log10_volume'] = temp\n",
    "Stocks2014 = Stocks2014.drop(0, axis=1).drop(0, axis=0)\n",
    "Stocks2014\n",
    "\n",
    "Stocks2015 = Stocks.loc[(Stocks['Date'].str.contains('2015'))]\n",
    "Stocks2015['Log10_volume'] = np.log10(Stocks2015['Volume'])\n",
    "Stocks2015 = Stocks2015.drop(['Volume', 'Adj Close'], axis=1).reset_index(drop=True)\n",
    "temp = Stocks2015['Log10_volume'].sum()\n",
    "Stocks2015 = Stocks2015.describe().drop(['count', '25%', '50%', '75%', 'std', 'min', 'max'])\n",
    "Stocks2015 = Stocks2015.append([0]).rename(index={'mean':'2015'})\n",
    "Stocks2015['Log10_volume'] = temp\n",
    "Stocks2015 = Stocks2015.drop(0, axis=1).drop(0, axis=0)\n",
    "Stocks2015\n",
    "\n",
    "Stocks2016 = Stocks.loc[(Stocks['Date'].str.contains('2016'))]\n",
    "Stocks2016['Log10_volume'] = np.log10(Stocks2016['Volume'])\n",
    "Stocks2016 = Stocks2016.drop(['Volume', 'Adj Close'], axis=1).reset_index(drop=True)\n",
    "temp = Stocks2016['Log10_volume'].sum()\n",
    "Stocks2016 = Stocks2016.describe().drop(['count', '25%', '50%', '75%', 'std', 'min', 'max'])\n",
    "Stocks2016 = Stocks2016.append([0]).rename(index={'mean':'2016'})\n",
    "Stocks2016['Log10_volume'] = temp\n",
    "Stocks2016 = Stocks2016.drop(0, axis=1).drop(0, axis=0)\n",
    "Stocks2016\n",
    "\n",
    "Stocks2017 = Stocks.loc[(Stocks['Date'].str.contains('2017'))]\n",
    "Stocks2017['Log10_volume'] = np.log10(Stocks2017['Volume'])\n",
    "Stocks2017 = Stocks2017.drop(['Volume', 'Adj Close'], axis=1).reset_index(drop=True)\n",
    "temp = Stocks2017['Log10_volume'].sum()\n",
    "Stocks2017 = Stocks2017.describe().drop(['count', '25%', '50%', '75%', 'std', 'min', 'max'])\n",
    "Stocks2017 = Stocks2017.append([0]).rename(index={'mean':'2017'})\n",
    "Stocks2017['Log10_volume'] = temp\n",
    "Stocks2017 = Stocks2017.drop(0, axis=1).drop(0, axis=0)\n",
    "Stocks2017\n",
    "\n",
    "Stocks2018 = Stocks.loc[(Stocks['Date'].str.contains('2018'))]\n",
    "Stocks2018['Log10_volume'] = np.log10(Stocks2018['Volume'])\n",
    "Stocks2018 = Stocks2018.drop(['Volume', 'Adj Close'], axis=1).reset_index(drop=True)\n",
    "temp = Stocks2018['Log10_volume'].sum()\n",
    "Stocks2018 = Stocks2018.describe().drop(['count', '25%', '50%', '75%', 'std', 'min', 'max'])\n",
    "Stocks2018 = Stocks2018.append([0]).rename(index={'mean':'2018'})\n",
    "Stocks2018['Log10_volume'] = temp\n",
    "Stocks2018 = Stocks2018.drop(0, axis=1).drop(0, axis=0)\n",
    "Stocks2018;"
   ]
  },
  {
   "cell_type": "code",
   "execution_count": 17,
   "metadata": {},
   "outputs": [
    {
     "name": "stdout",
     "output_type": "stream",
     "text": [
      "Stocks2006,\n",
      "Stocks2007,\n",
      "Stocks2008,\n",
      "Stocks2009,\n",
      "Stocks2010,\n",
      "Stocks2011,\n",
      "Stocks2012,\n",
      "Stocks2013,\n",
      "Stocks2014,\n",
      "Stocks2015,\n",
      "Stocks2016,\n",
      "Stocks2017,\n",
      "Stocks2018,\n"
     ]
    }
   ],
   "source": [
    "for i in range(2006, 2019):\n",
    "    print(\"Stocks\" + str(i) + \",\")"
   ]
  },
  {
   "cell_type": "code",
   "execution_count": 18,
   "metadata": {
    "scrolled": true
   },
   "outputs": [
    {
     "data": {
      "text/html": [
       "<div>\n",
       "<style scoped>\n",
       "    .dataframe tbody tr th:only-of-type {\n",
       "        vertical-align: middle;\n",
       "    }\n",
       "\n",
       "    .dataframe tbody tr th {\n",
       "        vertical-align: top;\n",
       "    }\n",
       "\n",
       "    .dataframe thead th {\n",
       "        text-align: right;\n",
       "    }\n",
       "</style>\n",
       "<table border=\"1\" class=\"dataframe\">\n",
       "  <thead>\n",
       "    <tr style=\"text-align: right;\">\n",
       "      <th></th>\n",
       "      <th>Open</th>\n",
       "      <th>High</th>\n",
       "      <th>Low</th>\n",
       "      <th>Close</th>\n",
       "      <th>Average</th>\n",
       "      <th>Log10_volume</th>\n",
       "    </tr>\n",
       "  </thead>\n",
       "  <tbody>\n",
       "    <tr>\n",
       "      <th>2005</th>\n",
       "      <td>1207.087063</td>\n",
       "      <td>1212.572896</td>\n",
       "      <td>1202.005837</td>\n",
       "      <td>1207.229443</td>\n",
       "      <td>1207.289366</td>\n",
       "      <td>2337.654564</td>\n",
       "    </tr>\n",
       "    <tr>\n",
       "      <th>2006</th>\n",
       "      <td>1309.762590</td>\n",
       "      <td>1315.611637</td>\n",
       "      <td>1304.494979</td>\n",
       "      <td>1310.461236</td>\n",
       "      <td>1310.053308</td>\n",
       "      <td>2352.813144</td>\n",
       "    </tr>\n",
       "    <tr>\n",
       "      <th>2007</th>\n",
       "      <td>1476.958364</td>\n",
       "      <td>1485.241034</td>\n",
       "      <td>1467.946455</td>\n",
       "      <td>1477.184342</td>\n",
       "      <td>1476.593744</td>\n",
       "      <td>2384.140989</td>\n",
       "    </tr>\n",
       "    <tr>\n",
       "      <th>2008</th>\n",
       "      <td>1222.026956</td>\n",
       "      <td>1235.699725</td>\n",
       "      <td>1204.980832</td>\n",
       "      <td>1220.042056</td>\n",
       "      <td>1220.340279</td>\n",
       "      <td>2450.126057</td>\n",
       "    </tr>\n",
       "    <tr>\n",
       "      <th>2009</th>\n",
       "      <td>947.022063</td>\n",
       "      <td>956.346349</td>\n",
       "      <td>938.286864</td>\n",
       "      <td>948.046388</td>\n",
       "      <td>947.316607</td>\n",
       "      <td>2452.652220</td>\n",
       "    </tr>\n",
       "    <tr>\n",
       "      <th>2010</th>\n",
       "      <td>1139.369761</td>\n",
       "      <td>1146.573372</td>\n",
       "      <td>1131.280990</td>\n",
       "      <td>1139.965512</td>\n",
       "      <td>1138.927181</td>\n",
       "      <td>2430.873599</td>\n",
       "    </tr>\n",
       "    <tr>\n",
       "      <th>2011</th>\n",
       "      <td>1267.618211</td>\n",
       "      <td>1277.223450</td>\n",
       "      <td>1257.176747</td>\n",
       "      <td>1267.638809</td>\n",
       "      <td>1267.200099</td>\n",
       "      <td>2419.027587</td>\n",
       "    </tr>\n",
       "    <tr>\n",
       "      <th>2012</th>\n",
       "      <td>1378.680638</td>\n",
       "      <td>1385.845401</td>\n",
       "      <td>1371.269002</td>\n",
       "      <td>1379.354160</td>\n",
       "      <td>1378.557202</td>\n",
       "      <td>2388.513785</td>\n",
       "    </tr>\n",
       "    <tr>\n",
       "      <th>2013</th>\n",
       "      <td>1642.298649</td>\n",
       "      <td>1649.615712</td>\n",
       "      <td>1635.740156</td>\n",
       "      <td>1643.798968</td>\n",
       "      <td>1642.677934</td>\n",
       "      <td>2399.137974</td>\n",
       "    </tr>\n",
       "    <tr>\n",
       "      <th>2014</th>\n",
       "      <td>1930.754485</td>\n",
       "      <td>1938.835599</td>\n",
       "      <td>1922.292981</td>\n",
       "      <td>1931.376110</td>\n",
       "      <td>1930.564290</td>\n",
       "      <td>2398.547225</td>\n",
       "    </tr>\n",
       "    <tr>\n",
       "      <th>2015</th>\n",
       "      <td>2061.268016</td>\n",
       "      <td>2071.862899</td>\n",
       "      <td>2049.336906</td>\n",
       "      <td>2061.067741</td>\n",
       "      <td>2060.599903</td>\n",
       "      <td>2408.178091</td>\n",
       "    </tr>\n",
       "    <tr>\n",
       "      <th>2016</th>\n",
       "      <td>2094.091550</td>\n",
       "      <td>2103.306866</td>\n",
       "      <td>2083.753058</td>\n",
       "      <td>2094.651264</td>\n",
       "      <td>2093.529962</td>\n",
       "      <td>2414.883075</td>\n",
       "    </tr>\n",
       "    <tr>\n",
       "      <th>2017</th>\n",
       "      <td>2448.275888</td>\n",
       "      <td>2454.344818</td>\n",
       "      <td>2441.850751</td>\n",
       "      <td>2449.076379</td>\n",
       "      <td>2448.097785</td>\n",
       "      <td>2391.522527</td>\n",
       "    </tr>\n",
       "    <tr>\n",
       "      <th>2018</th>\n",
       "      <td>2748.906600</td>\n",
       "      <td>2763.658801</td>\n",
       "      <td>2731.273959</td>\n",
       "      <td>2747.171640</td>\n",
       "      <td>2747.466380</td>\n",
       "      <td>2387.688191</td>\n",
       "    </tr>\n",
       "  </tbody>\n",
       "</table>\n",
       "</div>"
      ],
      "text/plain": [
       "             Open         High          Low        Close      Average  \\\n",
       "2005  1207.087063  1212.572896  1202.005837  1207.229443  1207.289366   \n",
       "2006  1309.762590  1315.611637  1304.494979  1310.461236  1310.053308   \n",
       "2007  1476.958364  1485.241034  1467.946455  1477.184342  1476.593744   \n",
       "2008  1222.026956  1235.699725  1204.980832  1220.042056  1220.340279   \n",
       "2009   947.022063   956.346349   938.286864   948.046388   947.316607   \n",
       "2010  1139.369761  1146.573372  1131.280990  1139.965512  1138.927181   \n",
       "2011  1267.618211  1277.223450  1257.176747  1267.638809  1267.200099   \n",
       "2012  1378.680638  1385.845401  1371.269002  1379.354160  1378.557202   \n",
       "2013  1642.298649  1649.615712  1635.740156  1643.798968  1642.677934   \n",
       "2014  1930.754485  1938.835599  1922.292981  1931.376110  1930.564290   \n",
       "2015  2061.268016  2071.862899  2049.336906  2061.067741  2060.599903   \n",
       "2016  2094.091550  2103.306866  2083.753058  2094.651264  2093.529962   \n",
       "2017  2448.275888  2454.344818  2441.850751  2449.076379  2448.097785   \n",
       "2018  2748.906600  2763.658801  2731.273959  2747.171640  2747.466380   \n",
       "\n",
       "      Log10_volume  \n",
       "2005   2337.654564  \n",
       "2006   2352.813144  \n",
       "2007   2384.140989  \n",
       "2008   2450.126057  \n",
       "2009   2452.652220  \n",
       "2010   2430.873599  \n",
       "2011   2419.027587  \n",
       "2012   2388.513785  \n",
       "2013   2399.137974  \n",
       "2014   2398.547225  \n",
       "2015   2408.178091  \n",
       "2016   2414.883075  \n",
       "2017   2391.522527  \n",
       "2018   2387.688191  "
      ]
     },
     "execution_count": 18,
     "metadata": {},
     "output_type": "execute_result"
    }
   ],
   "source": [
    "stock_aggregate = Stocks2005.append([Stocks2006,\n",
    "                                    Stocks2007,\n",
    "                                    Stocks2008,\n",
    "                                    Stocks2009,\n",
    "                                    Stocks2010,\n",
    "                                    Stocks2011,\n",
    "                                    Stocks2012,\n",
    "                                    Stocks2013,\n",
    "                                    Stocks2014,\n",
    "                                    Stocks2015,\n",
    "                                    Stocks2016,\n",
    "                                    Stocks2017,\n",
    "                                    Stocks2018,])\n",
    "stock_aggregate"
   ]
  },
  {
   "cell_type": "code",
   "execution_count": 19,
   "metadata": {},
   "outputs": [
    {
     "name": "stderr",
     "output_type": "stream",
     "text": [
      "Using TensorFlow backend.\n"
     ]
    }
   ],
   "source": [
    "import numpy as np\n",
    "import pandas as pd\n",
    "import matplotlib.pyplot as plt\n",
    "from sklearn.preprocessing import MinMaxScaler\n",
    "from keras.models import Sequential, load_model\n",
    "from keras.layers import LSTM, Dense, Dropout\n",
    "import os"
   ]
  },
  {
   "cell_type": "code",
   "execution_count": 20,
   "metadata": {},
   "outputs": [
    {
     "name": "stdout",
     "output_type": "stream",
     "text": [
      "(3523, 1)\n"
     ]
    },
    {
     "data": {
      "text/plain": [
       "array([[1214.48999  ],\n",
       "       [1209.0599975],\n",
       "       [1195.6149905],\n",
       "       [1188.2249755],\n",
       "       [1187.4500125]])"
      ]
     },
     "execution_count": 20,
     "metadata": {},
     "output_type": "execute_result"
    }
   ],
   "source": [
    "df = Stocks['Average'].values\n",
    "df = df.reshape(-1, 1)\n",
    "print(df.shape)\n",
    "df[:5]"
   ]
  },
  {
   "cell_type": "code",
   "execution_count": 21,
   "metadata": {
    "scrolled": true
   },
   "outputs": [
    {
     "name": "stdout",
     "output_type": "stream",
     "text": [
      "(2818, 1)\n",
      "(755, 1)\n"
     ]
    }
   ],
   "source": [
    "dataset_train = np.array(df[:int(df.shape[0]*0.8)])\n",
    "dataset_test = np.array(df[int(df.shape[0]*0.8)-50:])\n",
    "print(dataset_train.shape)\n",
    "print(dataset_test.shape)"
   ]
  },
  {
   "cell_type": "code",
   "execution_count": 22,
   "metadata": {},
   "outputs": [
    {
     "data": {
      "text/plain": [
       "array([[0.36755833],\n",
       "       [0.36380358],\n",
       "       [0.35450657],\n",
       "       [0.34939649],\n",
       "       [0.34886062]])"
      ]
     },
     "execution_count": 22,
     "metadata": {},
     "output_type": "execute_result"
    }
   ],
   "source": [
    "scaler = MinMaxScaler(feature_range=(0,1))\n",
    "dataset_train = scaler.fit_transform(dataset_train)\n",
    "dataset_train[:5]"
   ]
  },
  {
   "cell_type": "code",
   "execution_count": 23,
   "metadata": {},
   "outputs": [
    {
     "data": {
      "text/plain": [
       "array([[0.95889131],\n",
       "       [0.94742995],\n",
       "       [0.92036526],\n",
       "       [0.91975329],\n",
       "       [0.90753131]])"
      ]
     },
     "execution_count": 23,
     "metadata": {},
     "output_type": "execute_result"
    }
   ],
   "source": [
    "dataset_test = scaler.transform(dataset_test)\n",
    "dataset_test[:5]"
   ]
  },
  {
   "cell_type": "code",
   "execution_count": 24,
   "metadata": {},
   "outputs": [
    {
     "data": {
      "text/plain": [
       "0.3604049502850012"
      ]
     },
     "execution_count": 24,
     "metadata": {},
     "output_type": "execute_result"
    }
   ],
   "source": [
    "def create_dataset(df):\n",
    "    x = []\n",
    "    y = []\n",
    "    for i in range(50, df.shape[0]):\n",
    "        x.append(df[i-50:i, 0])\n",
    "        y.append(df[i, 0])\n",
    "    x = np.array(x)\n",
    "    y = np.array(y)\n",
    "    return x,y\n",
    "\n",
    "dataset_train[50-50:50, 0]\n",
    "dataset_train[50, 0]"
   ]
  },
  {
   "cell_type": "code",
   "execution_count": 25,
   "metadata": {},
   "outputs": [
    {
     "data": {
      "text/plain": [
       "(2768, 50)"
      ]
     },
     "execution_count": 25,
     "metadata": {},
     "output_type": "execute_result"
    }
   ],
   "source": [
    "x_train, y_train = create_dataset(dataset_train)\n",
    "x_train[:1]\n",
    "x_train.shape\n",
    "# y_train[:1]"
   ]
  },
  {
   "cell_type": "code",
   "execution_count": 26,
   "metadata": {},
   "outputs": [
    {
     "data": {
      "text/plain": [
       "(705, 50)"
      ]
     },
     "execution_count": 26,
     "metadata": {},
     "output_type": "execute_result"
    }
   ],
   "source": [
    "x_test, y_test = create_dataset(dataset_test)\n",
    "x_test[:1]\n",
    "x_test.shape"
   ]
  },
  {
   "cell_type": "code",
   "execution_count": 27,
   "metadata": {},
   "outputs": [
    {
     "data": {
      "text/plain": [
       "(2768, 50, 1)"
      ]
     },
     "execution_count": 27,
     "metadata": {},
     "output_type": "execute_result"
    }
   ],
   "source": [
    "# Reshape features for LSTM Layer\n",
    "x_train = np.reshape(x_train, (x_train.shape[0], x_train.shape[1], 1))\n",
    "x_test = np.reshape(x_test, (x_test.shape[0], x_test.shape[1], 1))\n",
    "x_train.shape"
   ]
  },
  {
   "cell_type": "code",
   "execution_count": 28,
   "metadata": {},
   "outputs": [],
   "source": [
    "model = Sequential()\n",
    "model.add(LSTM(units=96, return_sequences=True, input_shape=(x_train.shape[1], 1)))\n",
    "model.add(Dropout(0.2))\n",
    "model.add(LSTM(units=96, return_sequences=True))\n",
    "model.add(Dropout(0.2))\n",
    "model.add(LSTM(units=96, return_sequences=True))\n",
    "model.add(Dropout(0.2))\n",
    "model.add(LSTM(units=96))\n",
    "model.add(Dropout(0.2))\n",
    "model.add(Dense(units=1))"
   ]
  },
  {
   "cell_type": "code",
   "execution_count": 29,
   "metadata": {
    "scrolled": false
   },
   "outputs": [
    {
     "name": "stdout",
     "output_type": "stream",
     "text": [
      "_________________________________________________________________\n",
      "Layer (type)                 Output Shape              Param #   \n",
      "=================================================================\n",
      "lstm_1 (LSTM)                (None, 50, 96)            37632     \n",
      "_________________________________________________________________\n",
      "dropout_1 (Dropout)          (None, 50, 96)            0         \n",
      "_________________________________________________________________\n",
      "lstm_2 (LSTM)                (None, 50, 96)            74112     \n",
      "_________________________________________________________________\n",
      "dropout_2 (Dropout)          (None, 50, 96)            0         \n",
      "_________________________________________________________________\n",
      "lstm_3 (LSTM)                (None, 50, 96)            74112     \n",
      "_________________________________________________________________\n",
      "dropout_3 (Dropout)          (None, 50, 96)            0         \n",
      "_________________________________________________________________\n",
      "lstm_4 (LSTM)                (None, 96)                74112     \n",
      "_________________________________________________________________\n",
      "dropout_4 (Dropout)          (None, 96)                0         \n",
      "_________________________________________________________________\n",
      "dense_1 (Dense)              (None, 1)                 97        \n",
      "=================================================================\n",
      "Total params: 260,065\n",
      "Trainable params: 260,065\n",
      "Non-trainable params: 0\n",
      "_________________________________________________________________\n"
     ]
    }
   ],
   "source": [
    "model.summary()"
   ]
  },
  {
   "cell_type": "code",
   "execution_count": 30,
   "metadata": {},
   "outputs": [],
   "source": [
    "model.compile(loss='mean_squared_error', \n",
    "              optimizer='adam',\n",
    "              metrics=['mean_squared_error', 'mean_absolute_error', 'mean_absolute_percentage_error', 'cosine_proximity'])"
   ]
  },
  {
   "cell_type": "code",
   "execution_count": 31,
   "metadata": {
    "scrolled": false
   },
   "outputs": [
    {
     "name": "stdout",
     "output_type": "stream",
     "text": [
      "Epoch 1/50\n",
      "2768/2768 [==============================] - 20s 7ms/step - loss: 0.0172 - mean_squared_error: 0.0172 - mean_absolute_error: 0.0792 - mean_absolute_percentage_error: 82434.2855 - cosine_proximity: -0.9845\n",
      "Epoch 2/50\n",
      "2768/2768 [==============================] - 17s 6ms/step - loss: 0.0026 - mean_squared_error: 0.0026 - mean_absolute_error: 0.0385 - mean_absolute_percentage_error: 30964.0386 - cosine_proximity: -0.9996\n",
      "Epoch 3/50\n",
      "2768/2768 [==============================] - 17s 6ms/step - loss: 0.0025 - mean_squared_error: 0.0025 - mean_absolute_error: 0.0378 - mean_absolute_percentage_error: 28551.9353 - cosine_proximity: -0.9996\n",
      "Epoch 4/50\n",
      "2768/2768 [==============================] - 17s 6ms/step - loss: 0.0024 - mean_squared_error: 0.0024 - mean_absolute_error: 0.0372 - mean_absolute_percentage_error: 30985.8475 - cosine_proximity: -0.9996\n",
      "Epoch 5/50\n",
      "2768/2768 [==============================] - 17s 6ms/step - loss: 0.0021 - mean_squared_error: 0.0021 - mean_absolute_error: 0.0348 - mean_absolute_percentage_error: 23898.2442 - cosine_proximity: -0.9996\n",
      "Epoch 6/50\n",
      "2768/2768 [==============================] - 17s 6ms/step - loss: 0.0022 - mean_squared_error: 0.0022 - mean_absolute_error: 0.0353 - mean_absolute_percentage_error: 25201.5464 - cosine_proximity: -0.9996\n",
      "Epoch 7/50\n",
      "2768/2768 [==============================] - 17s 6ms/step - loss: 0.0019 - mean_squared_error: 0.0019 - mean_absolute_error: 0.0327 - mean_absolute_percentage_error: 30689.0817 - cosine_proximity: -0.9996\n",
      "Epoch 8/50\n",
      "2768/2768 [==============================] - 17s 6ms/step - loss: 0.0023 - mean_squared_error: 0.0023 - mean_absolute_error: 0.0356 - mean_absolute_percentage_error: 19188.2671 - cosine_proximity: -0.9996\n",
      "Epoch 9/50\n",
      "2768/2768 [==============================] - 17s 6ms/step - loss: 0.0019 - mean_squared_error: 0.0019 - mean_absolute_error: 0.0323 - mean_absolute_percentage_error: 24040.9216 - cosine_proximity: -0.9996\n",
      "Epoch 10/50\n",
      "2768/2768 [==============================] - 16s 6ms/step - loss: 0.0021 - mean_squared_error: 0.0021 - mean_absolute_error: 0.0335 - mean_absolute_percentage_error: 26132.8668 - cosine_proximity: -0.9996\n",
      "Epoch 11/50\n",
      "2768/2768 [==============================] - 16s 6ms/step - loss: 0.0019 - mean_squared_error: 0.0019 - mean_absolute_error: 0.0327 - mean_absolute_percentage_error: 13820.7858 - cosine_proximity: -0.9982\n",
      "Epoch 12/50\n",
      "2768/2768 [==============================] - 16s 6ms/step - loss: 0.0019 - mean_squared_error: 0.0019 - mean_absolute_error: 0.0322 - mean_absolute_percentage_error: 13909.6822 - cosine_proximity: -0.9996\n",
      "Epoch 13/50\n",
      "2768/2768 [==============================] - 16s 6ms/step - loss: 0.0018 - mean_squared_error: 0.0018 - mean_absolute_error: 0.0317 - mean_absolute_percentage_error: 25775.4193 - cosine_proximity: -0.9989\n",
      "Epoch 14/50\n",
      "2768/2768 [==============================] - 16s 6ms/step - loss: 0.0019 - mean_squared_error: 0.0019 - mean_absolute_error: 0.0321 - mean_absolute_percentage_error: 8076.2883 - cosine_proximity: -0.9989\n",
      "Epoch 15/50\n",
      "2768/2768 [==============================] - 18s 6ms/step - loss: 0.0015 - mean_squared_error: 0.0015 - mean_absolute_error: 0.0290 - mean_absolute_percentage_error: 21141.4507 - cosine_proximity: -0.9996\n",
      "Epoch 16/50\n",
      "2768/2768 [==============================] - 18s 7ms/step - loss: 0.0015 - mean_squared_error: 0.0015 - mean_absolute_error: 0.0294 - mean_absolute_percentage_error: 17551.9060 - cosine_proximity: -0.9989\n",
      "Epoch 17/50\n",
      "2768/2768 [==============================] - 18s 7ms/step - loss: 0.0015 - mean_squared_error: 0.0015 - mean_absolute_error: 0.0289 - mean_absolute_percentage_error: 16507.0414 - cosine_proximity: -0.9982\n",
      "Epoch 18/50\n",
      "2768/2768 [==============================] - 18s 7ms/step - loss: 0.0016 - mean_squared_error: 0.0016 - mean_absolute_error: 0.0300 - mean_absolute_percentage_error: 20874.5702 - cosine_proximity: -0.9989\n",
      "Epoch 19/50\n",
      "2768/2768 [==============================] - 18s 6ms/step - loss: 0.0014 - mean_squared_error: 0.0014 - mean_absolute_error: 0.0275 - mean_absolute_percentage_error: 16468.2816 - cosine_proximity: -0.9989\n",
      "Epoch 20/50\n",
      "2768/2768 [==============================] - 18s 7ms/step - loss: 0.0013 - mean_squared_error: 0.0013 - mean_absolute_error: 0.0270 - mean_absolute_percentage_error: 20652.7173 - cosine_proximity: -0.9989\n",
      "Epoch 21/50\n",
      "2768/2768 [==============================] - 17s 6ms/step - loss: 0.0014 - mean_squared_error: 0.0014 - mean_absolute_error: 0.0274 - mean_absolute_percentage_error: 10156.4773 - cosine_proximity: -0.9989\n",
      "Epoch 22/50\n",
      "2768/2768 [==============================] - 16s 6ms/step - loss: 0.0013 - mean_squared_error: 0.0013 - mean_absolute_error: 0.0267 - mean_absolute_percentage_error: 27457.9858 - cosine_proximity: -0.9996\n",
      "Epoch 23/50\n",
      "2768/2768 [==============================] - 16s 6ms/step - loss: 0.0012 - mean_squared_error: 0.0012 - mean_absolute_error: 0.0261 - mean_absolute_percentage_error: 4144.3385 - cosine_proximity: -0.9982\n",
      "Epoch 24/50\n",
      "2768/2768 [==============================] - 16s 6ms/step - loss: 0.0012 - mean_squared_error: 0.0012 - mean_absolute_error: 0.0260 - mean_absolute_percentage_error: 15035.3563 - cosine_proximity: -0.9982\n",
      "Epoch 25/50\n",
      "2768/2768 [==============================] - 16s 6ms/step - loss: 0.0014 - mean_squared_error: 0.0014 - mean_absolute_error: 0.0272 - mean_absolute_percentage_error: 11274.3775 - cosine_proximity: -0.9996\n",
      "Epoch 26/50\n",
      "2768/2768 [==============================] - 16s 6ms/step - loss: 0.0013 - mean_squared_error: 0.0013 - mean_absolute_error: 0.0274 - mean_absolute_percentage_error: 24191.4915 - cosine_proximity: -0.9982\n",
      "Epoch 27/50\n",
      "2768/2768 [==============================] - 16s 6ms/step - loss: 0.0011 - mean_squared_error: 0.0011 - mean_absolute_error: 0.0241 - mean_absolute_percentage_error: 12087.3656 - cosine_proximity: -0.9996\n",
      "Epoch 28/50\n",
      "2768/2768 [==============================] - 16s 6ms/step - loss: 0.0011 - mean_squared_error: 0.0011 - mean_absolute_error: 0.0244 - mean_absolute_percentage_error: 16979.3884 - cosine_proximity: -0.9967\n",
      "Epoch 29/50\n",
      "2768/2768 [==============================] - 16s 6ms/step - loss: 0.0011 - mean_squared_error: 0.0011 - mean_absolute_error: 0.0240 - mean_absolute_percentage_error: 20247.9554 - cosine_proximity: -0.9982\n",
      "Epoch 30/50\n",
      "2768/2768 [==============================] - 16s 6ms/step - loss: 0.0011 - mean_squared_error: 0.0011 - mean_absolute_error: 0.0243 - mean_absolute_percentage_error: 24567.1823 - cosine_proximity: -0.9975\n",
      "Epoch 31/50\n",
      "2768/2768 [==============================] - 16s 6ms/step - loss: 9.8671e-04 - mean_squared_error: 9.8671e-04 - mean_absolute_error: 0.0230 - mean_absolute_percentage_error: 25471.1313 - cosine_proximity: -0.9982\n",
      "Epoch 32/50\n",
      "2768/2768 [==============================] - 16s 6ms/step - loss: 9.5515e-04 - mean_squared_error: 9.5515e-04 - mean_absolute_error: 0.0227 - mean_absolute_percentage_error: 31377.6362 - cosine_proximity: -0.9989\n",
      "Epoch 33/50\n",
      "2768/2768 [==============================] - 16s 6ms/step - loss: 0.0011 - mean_squared_error: 0.0011 - mean_absolute_error: 0.0245 - mean_absolute_percentage_error: 638.6384 - cosine_proximity: -0.9989\n",
      "Epoch 34/50\n",
      "2768/2768 [==============================] - 16s 6ms/step - loss: 9.7672e-04 - mean_squared_error: 9.7672e-04 - mean_absolute_error: 0.0230 - mean_absolute_percentage_error: 20451.4419 - cosine_proximity: -0.9996\n",
      "Epoch 35/50\n",
      "2768/2768 [==============================] - 16s 6ms/step - loss: 9.7605e-04 - mean_squared_error: 9.7605e-04 - mean_absolute_error: 0.0231 - mean_absolute_percentage_error: 16239.7217 - cosine_proximity: -0.9967\n",
      "Epoch 36/50\n",
      "2768/2768 [==============================] - 16s 6ms/step - loss: 9.7774e-04 - mean_squared_error: 9.7774e-04 - mean_absolute_error: 0.0232 - mean_absolute_percentage_error: 22539.1893 - cosine_proximity: -0.9982\n",
      "Epoch 37/50\n",
      "2768/2768 [==============================] - 16s 6ms/step - loss: 0.0010 - mean_squared_error: 0.0010 - mean_absolute_error: 0.0237 - mean_absolute_percentage_error: 2285.4193 - cosine_proximity: -0.9996\n",
      "Epoch 38/50\n"
     ]
    },
    {
     "name": "stdout",
     "output_type": "stream",
     "text": [
      "2768/2768 [==============================] - 16s 6ms/step - loss: 9.8056e-04 - mean_squared_error: 9.8056e-04 - mean_absolute_error: 0.0230 - mean_absolute_percentage_error: 33365.3935 - cosine_proximity: -0.9975\n",
      "Epoch 39/50\n",
      "2768/2768 [==============================] - 17s 6ms/step - loss: 0.0010 - mean_squared_error: 0.0010 - mean_absolute_error: 0.0240 - mean_absolute_percentage_error: 22047.9576 - cosine_proximity: -0.9996\n",
      "Epoch 40/50\n",
      "2768/2768 [==============================] - 17s 6ms/step - loss: 8.6629e-04 - mean_squared_error: 8.6629e-04 - mean_absolute_error: 0.0215 - mean_absolute_percentage_error: 4088.2948 - cosine_proximity: -0.9989\n",
      "Epoch 41/50\n",
      "2768/2768 [==============================] - 17s 6ms/step - loss: 8.6992e-04 - mean_squared_error: 8.6992e-04 - mean_absolute_error: 0.0217 - mean_absolute_percentage_error: 1544.1197 - cosine_proximity: -0.9989\n",
      "Epoch 42/50\n",
      "2768/2768 [==============================] - 16s 6ms/step - loss: 8.3346e-04 - mean_squared_error: 8.3346e-04 - mean_absolute_error: 0.0213 - mean_absolute_percentage_error: 19763.6593 - cosine_proximity: -0.9996\n",
      "Epoch 43/50\n",
      "2768/2768 [==============================] - 17s 6ms/step - loss: 8.8104e-04 - mean_squared_error: 8.8104e-04 - mean_absolute_error: 0.0217 - mean_absolute_percentage_error: 17586.4901 - cosine_proximity: -0.9982\n",
      "Epoch 44/50\n",
      "2768/2768 [==============================] - 17s 6ms/step - loss: 7.6186e-04 - mean_squared_error: 7.6186e-04 - mean_absolute_error: 0.0204 - mean_absolute_percentage_error: 19024.8568 - cosine_proximity: -0.9996\n",
      "Epoch 45/50\n",
      "2768/2768 [==============================] - 17s 6ms/step - loss: 9.1762e-04 - mean_squared_error: 9.1762e-04 - mean_absolute_error: 0.0222 - mean_absolute_percentage_error: 13966.7602 - cosine_proximity: -0.9989\n",
      "Epoch 46/50\n",
      "2768/2768 [==============================] - 17s 6ms/step - loss: 8.8173e-04 - mean_squared_error: 8.8173e-04 - mean_absolute_error: 0.0217 - mean_absolute_percentage_error: 15261.4644 - cosine_proximity: -0.9982\n",
      "Epoch 47/50\n",
      "2768/2768 [==============================] - 17s 6ms/step - loss: 8.7258e-04 - mean_squared_error: 8.7258e-04 - mean_absolute_error: 0.0214 - mean_absolute_percentage_error: 20630.9004 - cosine_proximity: -0.9982\n",
      "Epoch 48/50\n",
      "2768/2768 [==============================] - 17s 6ms/step - loss: 8.1794e-04 - mean_squared_error: 8.1794e-04 - mean_absolute_error: 0.0205 - mean_absolute_percentage_error: 12572.7371 - cosine_proximity: -0.9996\n",
      "Epoch 49/50\n",
      "2768/2768 [==============================] - 17s 6ms/step - loss: 8.1194e-04 - mean_squared_error: 8.1194e-04 - mean_absolute_error: 0.0205 - mean_absolute_percentage_error: 4510.6255 - cosine_proximity: -0.9982\n",
      "Epoch 50/50\n",
      "2768/2768 [==============================] - 17s 6ms/step - loss: 9.7352e-04 - mean_squared_error: 9.7352e-04 - mean_absolute_error: 0.0231 - mean_absolute_percentage_error: 11947.2501 - cosine_proximity: -0.9982\n"
     ]
    }
   ],
   "source": [
    "if(not os.path.exists('stock_prediction.h5')):\n",
    "    model.fit(x_train, y_train, epochs=50, batch_size=32)\n",
    "    model.save('stock_prediction.h5')"
   ]
  },
  {
   "cell_type": "code",
   "execution_count": 32,
   "metadata": {},
   "outputs": [],
   "source": [
    "model = load_model('stock_prediction.h5')"
   ]
  },
  {
   "cell_type": "code",
   "execution_count": 33,
   "metadata": {},
   "outputs": [
    {
     "name": "stdout",
     "output_type": "stream",
     "text": [
      "(705, 1)\n",
      "\n",
      " (705, 1)\n"
     ]
    },
    {
     "data": {
      "text/plain": [
       "<matplotlib.legend.Legend at 0x1e4342a9400>"
      ]
     },
     "execution_count": 33,
     "metadata": {},
     "output_type": "execute_result"
    },
    {
     "data": {
      "image/png": "[encoded data removed]",
      "text/plain": [
       "<Figure size 576x288 with 1 Axes>"
      ]
     },
     "metadata": {
      "needs_background": "light"
     },
     "output_type": "display_data"
    }
   ],
   "source": [
    "predictions = model.predict(x_test)\n",
    "print(predictions.shape)\n",
    "predictions = scaler.inverse_transform(predictions)\n",
    "print(\"\\n\", predictions.shape)\n",
    "fig, ax = plt.subplots(figsize=(8,4))\n",
    "plt.plot(df, color='red',  label=\"True Price\")\n",
    "ax.plot(range(len(y_train)+50,len(y_train)+50+len(predictions)),predictions, color='blue', label='Predicted Testing Price')\n",
    "plt.legend()"
   ]
  },
  {
   "cell_type": "code",
   "execution_count": 34,
   "metadata": {
    "scrolled": true
   },
   "outputs": [
    {
     "data": {
      "text/plain": [
       "<matplotlib.legend.Legend at 0x1e4372716d8>"
      ]
     },
     "execution_count": 34,
     "metadata": {},
     "output_type": "execute_result"
    },
    {
     "data": {
      "image/png": "[encoded data removed]",
      "text/plain": [
       "<Figure size 576x288 with 1 Axes>"
      ]
     },
     "metadata": {
      "needs_background": "light"
     },
     "output_type": "display_data"
    }
   ],
   "source": [
    "y_test_scaled = scaler.inverse_transform(y_test.reshape(-1, 1))\n",
    "\n",
    "fig, ax = plt.subplots(figsize=(8,4))\n",
    "ax.plot(y_test_scaled, color='red', label='True Testing Price')\n",
    "plt.plot(predictions, color='blue', label='Predicted Testing Price')\n",
    "plt.legend()"
   ]
  },
  {
   "cell_type": "code",
   "execution_count": 35,
   "metadata": {
    "scrolled": true
   },
   "outputs": [
    {
     "data": {
      "text/plain": [
       "<matplotlib.legend.Legend at 0x1e4372c3a20>"
      ]
     },
     "execution_count": 35,
     "metadata": {},
     "output_type": "execute_result"
    },
    {
     "data": {
      "image/png": "[encoded data removed]",
      "text/plain": [
       "<Figure size 576x288 with 1 Axes>"
      ]
     },
     "metadata": {
      "needs_background": "light"
     },
     "output_type": "display_data"
    }
   ],
   "source": [
    "delta = y_test_scaled - predictions\n",
    "\n",
    "fig, ax = plt.subplots(figsize=(8,4))\n",
    "ax.plot(delta, color='green', label='Delta')\n",
    "plt.legend()"
   ]
  },
  {
   "cell_type": "code",
   "execution_count": 36,
   "metadata": {},
   "outputs": [
    {
     "name": "stdout",
     "output_type": "stream",
     "text": [
      "705/705 [==============================] - 2s 3ms/step\n",
      "\n",
      "MSE:\t 0.015769649316814353\n",
      "MAE:\t 0.015769649316814353\n",
      "MAPE:\t 0.11204553783362639\n",
      "CP:\t 8.641796623392308\n"
     ]
    }
   ],
   "source": [
    "# metrics = ['mean_squared_error', 'mean_absolute_error', 'mean_absolute_percentage_error', 'cosine_proximity']\n",
    "model_metric = ['MSE', 'MAE', 'MAPE', 'CP']\n",
    "\n",
    "score = model.evaluate(x_test, y_test, verbose=1)\n",
    "for i in range(len(model_metric)):\n",
    "    if i==0:\n",
    "        print()\n",
    "    print(model_metric[i] + \":\\t\", score[i])"
   ]
  },
  {
   "cell_type": "code",
   "execution_count": null,
   "metadata": {},
   "outputs": [],
   "source": []
  },
  {
   "cell_type": "markdown",
   "metadata": {},
   "source": [
    "# Predicting Stock['Open'] with happiness too"
   ]
  },
  {
   "cell_type": "code",
   "execution_count": 37,
   "metadata": {},
   "outputs": [
    {
     "data": {
      "text/html": [
       "<div>\n",
       "<style scoped>\n",
       "    .dataframe tbody tr th:only-of-type {\n",
       "        vertical-align: middle;\n",
       "    }\n",
       "\n",
       "    .dataframe tbody tr th {\n",
       "        vertical-align: top;\n",
       "    }\n",
       "\n",
       "    .dataframe thead th {\n",
       "        text-align: right;\n",
       "    }\n",
       "</style>\n",
       "<table border=\"1\" class=\"dataframe\">\n",
       "  <thead>\n",
       "    <tr style=\"text-align: right;\">\n",
       "      <th></th>\n",
       "      <th>Country</th>\n",
       "      <th>Year</th>\n",
       "      <th>Happiness</th>\n",
       "      <th>LogGDP</th>\n",
       "      <th>Social support</th>\n",
       "      <th>Life_expectancy</th>\n",
       "      <th>Freedom</th>\n",
       "      <th>Generosity</th>\n",
       "      <th>Perceptions of corruption</th>\n",
       "      <th>Pos_affect</th>\n",
       "      <th>Neg_affect</th>\n",
       "      <th>Confidence in national government</th>\n",
       "      <th>Democratic Quality</th>\n",
       "      <th>Delivery Quality</th>\n",
       "      <th>Standard deviation of ladder by country-year</th>\n",
       "      <th>Standard deviation/Mean of ladder by country-year</th>\n",
       "      <th>GINI_householdincome</th>\n",
       "    </tr>\n",
       "  </thead>\n",
       "  <tbody>\n",
       "    <tr>\n",
       "      <th>0</th>\n",
       "      <td>United States</td>\n",
       "      <td>2009</td>\n",
       "      <td>7.158032</td>\n",
       "      <td>10.790511</td>\n",
       "      <td>0.911794</td>\n",
       "      <td>68.540001</td>\n",
       "      <td>0.830684</td>\n",
       "      <td>0.192269</td>\n",
       "      <td>0.665394</td>\n",
       "      <td>0.843484</td>\n",
       "      <td>0.261661</td>\n",
       "      <td>0.503047</td>\n",
       "      <td>0.772818</td>\n",
       "      <td>1.450143</td>\n",
       "      <td>2.021277</td>\n",
       "      <td>0.282379</td>\n",
       "      <td>0.705702</td>\n",
       "    </tr>\n",
       "    <tr>\n",
       "      <th>1</th>\n",
       "      <td>United States</td>\n",
       "      <td>2010</td>\n",
       "      <td>7.163616</td>\n",
       "      <td>10.807183</td>\n",
       "      <td>0.926159</td>\n",
       "      <td>68.699997</td>\n",
       "      <td>0.828044</td>\n",
       "      <td>0.235522</td>\n",
       "      <td>0.689583</td>\n",
       "      <td>0.860642</td>\n",
       "      <td>0.231053</td>\n",
       "      <td>0.418276</td>\n",
       "      <td>0.786005</td>\n",
       "      <td>1.478330</td>\n",
       "      <td>2.182074</td>\n",
       "      <td>0.304605</td>\n",
       "      <td>0.739406</td>\n",
       "    </tr>\n",
       "    <tr>\n",
       "      <th>2</th>\n",
       "      <td>United States</td>\n",
       "      <td>2011</td>\n",
       "      <td>7.115139</td>\n",
       "      <td>10.815644</td>\n",
       "      <td>0.921705</td>\n",
       "      <td>68.680000</td>\n",
       "      <td>0.863202</td>\n",
       "      <td>0.152239</td>\n",
       "      <td>0.696926</td>\n",
       "      <td>0.836360</td>\n",
       "      <td>0.273379</td>\n",
       "      <td>0.382532</td>\n",
       "      <td>0.859107</td>\n",
       "      <td>1.462401</td>\n",
       "      <td>1.945976</td>\n",
       "      <td>0.273498</td>\n",
       "      <td>0.612990</td>\n",
       "    </tr>\n",
       "    <tr>\n",
       "      <th>3</th>\n",
       "      <td>United States</td>\n",
       "      <td>2012</td>\n",
       "      <td>7.026227</td>\n",
       "      <td>10.830132</td>\n",
       "      <td>0.903192</td>\n",
       "      <td>68.660004</td>\n",
       "      <td>0.822662</td>\n",
       "      <td>0.206243</td>\n",
       "      <td>0.710034</td>\n",
       "      <td>0.833771</td>\n",
       "      <td>0.259644</td>\n",
       "      <td>0.348856</td>\n",
       "      <td>0.897015</td>\n",
       "      <td>1.467070</td>\n",
       "      <td>2.163160</td>\n",
       "      <td>0.307869</td>\n",
       "      <td>0.629069</td>\n",
       "    </tr>\n",
       "    <tr>\n",
       "      <th>4</th>\n",
       "      <td>United States</td>\n",
       "      <td>2013</td>\n",
       "      <td>7.249285</td>\n",
       "      <td>10.839653</td>\n",
       "      <td>0.925397</td>\n",
       "      <td>68.639999</td>\n",
       "      <td>0.792256</td>\n",
       "      <td>0.265563</td>\n",
       "      <td>0.746894</td>\n",
       "      <td>0.813678</td>\n",
       "      <td>0.260328</td>\n",
       "      <td>0.288648</td>\n",
       "      <td>0.873046</td>\n",
       "      <td>1.415544</td>\n",
       "      <td>1.938088</td>\n",
       "      <td>0.267349</td>\n",
       "      <td>0.678262</td>\n",
       "    </tr>\n",
       "    <tr>\n",
       "      <th>5</th>\n",
       "      <td>United States</td>\n",
       "      <td>2014</td>\n",
       "      <td>7.151114</td>\n",
       "      <td>10.857497</td>\n",
       "      <td>0.902097</td>\n",
       "      <td>68.620003</td>\n",
       "      <td>0.866077</td>\n",
       "      <td>0.212869</td>\n",
       "      <td>0.702267</td>\n",
       "      <td>0.834294</td>\n",
       "      <td>0.281265</td>\n",
       "      <td>0.348671</td>\n",
       "      <td>0.826821</td>\n",
       "      <td>1.433888</td>\n",
       "      <td>2.070654</td>\n",
       "      <td>0.289557</td>\n",
       "      <td>0.753396</td>\n",
       "    </tr>\n",
       "    <tr>\n",
       "      <th>6</th>\n",
       "      <td>United States</td>\n",
       "      <td>2015</td>\n",
       "      <td>6.863947</td>\n",
       "      <td>10.878154</td>\n",
       "      <td>0.903571</td>\n",
       "      <td>68.599998</td>\n",
       "      <td>0.848753</td>\n",
       "      <td>0.210956</td>\n",
       "      <td>0.697543</td>\n",
       "      <td>0.813908</td>\n",
       "      <td>0.274688</td>\n",
       "      <td>0.346936</td>\n",
       "      <td>0.893903</td>\n",
       "      <td>1.428245</td>\n",
       "      <td>1.953670</td>\n",
       "      <td>0.284628</td>\n",
       "      <td>0.649792</td>\n",
       "    </tr>\n",
       "    <tr>\n",
       "      <th>7</th>\n",
       "      <td>United States</td>\n",
       "      <td>2016</td>\n",
       "      <td>6.803600</td>\n",
       "      <td>10.885554</td>\n",
       "      <td>0.896751</td>\n",
       "      <td>68.500000</td>\n",
       "      <td>0.757893</td>\n",
       "      <td>0.135592</td>\n",
       "      <td>0.738920</td>\n",
       "      <td>0.805674</td>\n",
       "      <td>0.264204</td>\n",
       "      <td>0.297206</td>\n",
       "      <td>0.755765</td>\n",
       "      <td>1.491426</td>\n",
       "      <td>1.972203</td>\n",
       "      <td>0.289876</td>\n",
       "      <td>0.693315</td>\n",
       "    </tr>\n",
       "    <tr>\n",
       "      <th>8</th>\n",
       "      <td>United States</td>\n",
       "      <td>2017</td>\n",
       "      <td>6.991759</td>\n",
       "      <td>10.900906</td>\n",
       "      <td>0.921003</td>\n",
       "      <td>68.400002</td>\n",
       "      <td>0.868497</td>\n",
       "      <td>0.188833</td>\n",
       "      <td>0.681191</td>\n",
       "      <td>0.826555</td>\n",
       "      <td>0.268269</td>\n",
       "      <td>0.386535</td>\n",
       "      <td>0.677056</td>\n",
       "      <td>1.552135</td>\n",
       "      <td>1.880688</td>\n",
       "      <td>0.268986</td>\n",
       "      <td>0.610804</td>\n",
       "    </tr>\n",
       "  </tbody>\n",
       "</table>\n",
       "</div>"
      ],
      "text/plain": [
       "         Country  Year  Happiness     LogGDP  Social support  Life_expectancy  \\\n",
       "0  United States  2009   7.158032  10.790511        0.911794        68.540001   \n",
       "1  United States  2010   7.163616  10.807183        0.926159        68.699997   \n",
       "2  United States  2011   7.115139  10.815644        0.921705        68.680000   \n",
       "3  United States  2012   7.026227  10.830132        0.903192        68.660004   \n",
       "4  United States  2013   7.249285  10.839653        0.925397        68.639999   \n",
       "5  United States  2014   7.151114  10.857497        0.902097        68.620003   \n",
       "6  United States  2015   6.863947  10.878154        0.903571        68.599998   \n",
       "7  United States  2016   6.803600  10.885554        0.896751        68.500000   \n",
       "8  United States  2017   6.991759  10.900906        0.921003        68.400002   \n",
       "\n",
       "    Freedom  Generosity  Perceptions of corruption  Pos_affect  Neg_affect  \\\n",
       "0  0.830684    0.192269                   0.665394    0.843484    0.261661   \n",
       "1  0.828044    0.235522                   0.689583    0.860642    0.231053   \n",
       "2  0.863202    0.152239                   0.696926    0.836360    0.273379   \n",
       "3  0.822662    0.206243                   0.710034    0.833771    0.259644   \n",
       "4  0.792256    0.265563                   0.746894    0.813678    0.260328   \n",
       "5  0.866077    0.212869                   0.702267    0.834294    0.281265   \n",
       "6  0.848753    0.210956                   0.697543    0.813908    0.274688   \n",
       "7  0.757893    0.135592                   0.738920    0.805674    0.264204   \n",
       "8  0.868497    0.188833                   0.681191    0.826555    0.268269   \n",
       "\n",
       "   Confidence in national government  Democratic Quality  Delivery Quality  \\\n",
       "0                           0.503047            0.772818          1.450143   \n",
       "1                           0.418276            0.786005          1.478330   \n",
       "2                           0.382532            0.859107          1.462401   \n",
       "3                           0.348856            0.897015          1.467070   \n",
       "4                           0.288648            0.873046          1.415544   \n",
       "5                           0.348671            0.826821          1.433888   \n",
       "6                           0.346936            0.893903          1.428245   \n",
       "7                           0.297206            0.755765          1.491426   \n",
       "8                           0.386535            0.677056          1.552135   \n",
       "\n",
       "   Standard deviation of ladder by country-year  \\\n",
       "0                                      2.021277   \n",
       "1                                      2.182074   \n",
       "2                                      1.945976   \n",
       "3                                      2.163160   \n",
       "4                                      1.938088   \n",
       "5                                      2.070654   \n",
       "6                                      1.953670   \n",
       "7                                      1.972203   \n",
       "8                                      1.880688   \n",
       "\n",
       "   Standard deviation/Mean of ladder by country-year  GINI_householdincome  \n",
       "0                                           0.282379              0.705702  \n",
       "1                                           0.304605              0.739406  \n",
       "2                                           0.273498              0.612990  \n",
       "3                                           0.307869              0.629069  \n",
       "4                                           0.267349              0.678262  \n",
       "5                                           0.289557              0.753396  \n",
       "6                                           0.284628              0.649792  \n",
       "7                                           0.289876              0.693315  \n",
       "8                                           0.268986              0.610804  "
      ]
     },
     "execution_count": 37,
     "metadata": {},
     "output_type": "execute_result"
    }
   ],
   "source": [
    "US = data.loc[(data['Country'].str.contains('United States'))].reset_index(drop=True)\n",
    "US"
   ]
  },
  {
   "cell_type": "code",
   "execution_count": 38,
   "metadata": {},
   "outputs": [
    {
     "data": {
      "text/html": [
       "<div>\n",
       "<style scoped>\n",
       "    .dataframe tbody tr th:only-of-type {\n",
       "        vertical-align: middle;\n",
       "    }\n",
       "\n",
       "    .dataframe tbody tr th {\n",
       "        vertical-align: top;\n",
       "    }\n",
       "\n",
       "    .dataframe thead th {\n",
       "        text-align: right;\n",
       "    }\n",
       "</style>\n",
       "<table border=\"1\" class=\"dataframe\">\n",
       "  <thead>\n",
       "    <tr style=\"text-align: right;\">\n",
       "      <th></th>\n",
       "      <th>Year</th>\n",
       "      <th>Happiness</th>\n",
       "    </tr>\n",
       "  </thead>\n",
       "  <tbody>\n",
       "    <tr>\n",
       "      <th>0</th>\n",
       "      <td>2009</td>\n",
       "      <td>7.158032</td>\n",
       "    </tr>\n",
       "    <tr>\n",
       "      <th>1</th>\n",
       "      <td>2010</td>\n",
       "      <td>7.163616</td>\n",
       "    </tr>\n",
       "    <tr>\n",
       "      <th>2</th>\n",
       "      <td>2011</td>\n",
       "      <td>7.115139</td>\n",
       "    </tr>\n",
       "    <tr>\n",
       "      <th>3</th>\n",
       "      <td>2012</td>\n",
       "      <td>7.026227</td>\n",
       "    </tr>\n",
       "    <tr>\n",
       "      <th>4</th>\n",
       "      <td>2013</td>\n",
       "      <td>7.249285</td>\n",
       "    </tr>\n",
       "    <tr>\n",
       "      <th>5</th>\n",
       "      <td>2014</td>\n",
       "      <td>7.151114</td>\n",
       "    </tr>\n",
       "    <tr>\n",
       "      <th>6</th>\n",
       "      <td>2015</td>\n",
       "      <td>6.863947</td>\n",
       "    </tr>\n",
       "    <tr>\n",
       "      <th>7</th>\n",
       "      <td>2016</td>\n",
       "      <td>6.803600</td>\n",
       "    </tr>\n",
       "    <tr>\n",
       "      <th>8</th>\n",
       "      <td>2017</td>\n",
       "      <td>6.991759</td>\n",
       "    </tr>\n",
       "  </tbody>\n",
       "</table>\n",
       "</div>"
      ],
      "text/plain": [
       "   Year  Happiness\n",
       "0  2009   7.158032\n",
       "1  2010   7.163616\n",
       "2  2011   7.115139\n",
       "3  2012   7.026227\n",
       "4  2013   7.249285\n",
       "5  2014   7.151114\n",
       "6  2015   6.863947\n",
       "7  2016   6.803600\n",
       "8  2017   6.991759"
      ]
     },
     "execution_count": 38,
     "metadata": {},
     "output_type": "execute_result"
    }
   ],
   "source": [
    "# US = US[['Year', 'Happiness', 'Pos_affect', 'Neg_affect']]\n",
    "US = US[['Year', 'Happiness']]\n",
    "US"
   ]
  },
  {
   "cell_type": "code",
   "execution_count": 39,
   "metadata": {},
   "outputs": [
    {
     "data": {
      "text/html": [
       "<div>\n",
       "<style scoped>\n",
       "    .dataframe tbody tr th:only-of-type {\n",
       "        vertical-align: middle;\n",
       "    }\n",
       "\n",
       "    .dataframe tbody tr th {\n",
       "        vertical-align: top;\n",
       "    }\n",
       "\n",
       "    .dataframe thead th {\n",
       "        text-align: right;\n",
       "    }\n",
       "</style>\n",
       "<table border=\"1\" class=\"dataframe\">\n",
       "  <thead>\n",
       "    <tr style=\"text-align: right;\">\n",
       "      <th></th>\n",
       "      <th>Date</th>\n",
       "      <th>Open</th>\n",
       "      <th>High</th>\n",
       "      <th>Low</th>\n",
       "      <th>Close</th>\n",
       "      <th>Volume</th>\n",
       "      <th>Average</th>\n",
       "    </tr>\n",
       "  </thead>\n",
       "  <tbody>\n",
       "    <tr>\n",
       "      <th>0</th>\n",
       "      <td>31/12/2004</td>\n",
       "      <td>1213.550049</td>\n",
       "      <td>1217.329956</td>\n",
       "      <td>1211.650024</td>\n",
       "      <td>1211.920044</td>\n",
       "      <td>786900000</td>\n",
       "      <td>1214.489990</td>\n",
       "    </tr>\n",
       "    <tr>\n",
       "      <th>1</th>\n",
       "      <td>3/1/2005</td>\n",
       "      <td>1211.920044</td>\n",
       "      <td>1217.800049</td>\n",
       "      <td>1200.319946</td>\n",
       "      <td>1202.079956</td>\n",
       "      <td>1510800000</td>\n",
       "      <td>1209.059998</td>\n",
       "    </tr>\n",
       "    <tr>\n",
       "      <th>2</th>\n",
       "      <td>4/1/2005</td>\n",
       "      <td>1202.079956</td>\n",
       "      <td>1205.839966</td>\n",
       "      <td>1185.390015</td>\n",
       "      <td>1188.050049</td>\n",
       "      <td>1721000000</td>\n",
       "      <td>1195.614990</td>\n",
       "    </tr>\n",
       "    <tr>\n",
       "      <th>3</th>\n",
       "      <td>5/1/2005</td>\n",
       "      <td>1188.050049</td>\n",
       "      <td>1192.729980</td>\n",
       "      <td>1183.719971</td>\n",
       "      <td>1183.739990</td>\n",
       "      <td>1738900000</td>\n",
       "      <td>1188.224976</td>\n",
       "    </tr>\n",
       "    <tr>\n",
       "      <th>4</th>\n",
       "      <td>6/1/2005</td>\n",
       "      <td>1183.739990</td>\n",
       "      <td>1191.630005</td>\n",
       "      <td>1183.270020</td>\n",
       "      <td>1187.890015</td>\n",
       "      <td>1569100000</td>\n",
       "      <td>1187.450012</td>\n",
       "    </tr>\n",
       "  </tbody>\n",
       "</table>\n",
       "</div>"
      ],
      "text/plain": [
       "         Date         Open         High          Low        Close      Volume  \\\n",
       "0  31/12/2004  1213.550049  1217.329956  1211.650024  1211.920044   786900000   \n",
       "1    3/1/2005  1211.920044  1217.800049  1200.319946  1202.079956  1510800000   \n",
       "2    4/1/2005  1202.079956  1205.839966  1185.390015  1188.050049  1721000000   \n",
       "3    5/1/2005  1188.050049  1192.729980  1183.719971  1183.739990  1738900000   \n",
       "4    6/1/2005  1183.739990  1191.630005  1183.270020  1187.890015  1569100000   \n",
       "\n",
       "       Average  \n",
       "0  1214.489990  \n",
       "1  1209.059998  \n",
       "2  1195.614990  \n",
       "3  1188.224976  \n",
       "4  1187.450012  "
      ]
     },
     "execution_count": 39,
     "metadata": {},
     "output_type": "execute_result"
    }
   ],
   "source": [
    "Stocks = Stocks.drop(\"Adj Close\", axis=1)\n",
    "Stocks.head()"
   ]
  },
  {
   "cell_type": "code",
   "execution_count": null,
   "metadata": {},
   "outputs": [],
   "source": []
  },
  {
   "cell_type": "code",
   "execution_count": 40,
   "metadata": {},
   "outputs": [
    {
     "name": "stdout",
     "output_type": "stream",
     "text": [
      "(3523, 2)\n"
     ]
    },
    {
     "data": {
      "text/plain": [
       "array([[1.21448999e+03, 7.86900000e+08],\n",
       "       [1.20906000e+03, 1.51080000e+09],\n",
       "       [1.19561499e+03, 1.72100000e+09],\n",
       "       [1.18822498e+03, 1.73890000e+09],\n",
       "       [1.18745001e+03, 1.56910000e+09]])"
      ]
     },
     "execution_count": 40,
     "metadata": {},
     "output_type": "execute_result"
    }
   ],
   "source": [
    "df_happy = Stocks[['Average','Volume']].values\n",
    "df_happy = df_happy.reshape(-1, 2)\n",
    "print(df_happy.shape)\n",
    "df_happy[:5]\n"
   ]
  },
  {
   "cell_type": "code",
   "execution_count": 43,
   "metadata": {},
   "outputs": [
    {
     "name": "stdout",
     "output_type": "stream",
     "text": [
      "(2818, 2)\n",
      "(755, 2)\n"
     ]
    }
   ],
   "source": [
    "lookback = 50\n",
    "dataset_train_h = np.array(df_happy[:int(df_happy.shape[0]*0.8)])\n",
    "dataset_test_h = np.array(df_happy[int(df_happy.shape[0]*0.8)-lookback:])\n",
    "print(dataset_train_h.shape)\n",
    "print(dataset_test_h.shape) "
   ]
  },
  {
   "cell_type": "code",
   "execution_count": 44,
   "metadata": {},
   "outputs": [
    {
     "data": {
      "text/plain": [
       "array([[0.36755833, 0.00577377],\n",
       "       [0.36380358, 0.07323071],\n",
       "       [0.35450657, 0.09281829],\n",
       "       [0.34939649, 0.09448631],\n",
       "       [0.34886062, 0.07866342]])"
      ]
     },
     "execution_count": 44,
     "metadata": {},
     "output_type": "execute_result"
    }
   ],
   "source": [
    "scaler1 = MinMaxScaler(feature_range=(0,1))\n",
    "scaler2 = MinMaxScaler(feature_range=(0,1))\n",
    "average_h = scaler1.fit_transform(dataset_train_h[:,0].reshape(int(dataset_train_h.shape[0]),1))\n",
    "dataset_train_h = scaler2.fit_transform(dataset_train_h)\n",
    "dataset_train_h[:5] \n",
    "# average_h[:5]"
   ]
  },
  {
   "cell_type": "code",
   "execution_count": 45,
   "metadata": {},
   "outputs": [
    {
     "data": {
      "text/plain": [
       "array([[0.95889131, 0.15305616],\n",
       "       [0.94742995, 0.17988425],\n",
       "       [0.92036526, 0.33359829],\n",
       "       [0.91975329, 0.27784917],\n",
       "       [0.90753131, 0.33655972]])"
      ]
     },
     "execution_count": 45,
     "metadata": {},
     "output_type": "execute_result"
    }
   ],
   "source": [
    "dataset_test_h = scaler2.transform(dataset_test_h) \n",
    "dataset_test_h[:5]"
   ]
  },
  {
   "cell_type": "code",
   "execution_count": 46,
   "metadata": {},
   "outputs": [],
   "source": [
    "def create_dataset_2features(df):\n",
    "    lookback = 50\n",
    "    x = []\n",
    "    y = []\n",
    "    for i in range(lookback, df.shape[0]):\n",
    "        x.append(df[i-lookback:i, :])\n",
    "        y.append(df[i, 0])\n",
    "    x = np.array(x)\n",
    "    y = np.array(y)\n",
    "    return x,y"
   ]
  },
  {
   "cell_type": "code",
   "execution_count": 47,
   "metadata": {},
   "outputs": [
    {
     "data": {
      "text/plain": [
       "array([[[0.36755833, 0.00577377],\n",
       "        [0.36380358, 0.07323071],\n",
       "        [0.35450657, 0.09281829],\n",
       "        [0.34939649, 0.09448631],\n",
       "        [0.34886062, 0.07866342],\n",
       "        [0.3486739 , 0.07016491],\n",
       "        [0.35047871, 0.07132973],\n",
       "        [0.3474016 , 0.07118063],\n",
       "        [0.34493992, 0.07801112],\n",
       "        [0.34492261, 0.07318412],\n",
       "        [0.3446287 , 0.05688598],\n",
       "        [0.34926857, 0.08124466],\n",
       "        [0.35075874, 0.07210317],\n",
       "        [0.34303487, 0.09011591],\n",
       "        [0.33930772, 0.08559642],\n",
       "        [0.33568094, 0.07172111],\n",
       "        [0.33612003, 0.08251198],\n",
       "        [0.33830511, 0.08488821],\n",
       "        [0.33943915, 0.08159876],\n",
       "        [0.33743729, 0.085438  ],\n",
       "        [0.34143751, 0.08897905],\n",
       "        [0.34762976, 0.0891822 ],\n",
       "        [0.35206565, 0.07797758],\n",
       "        [0.35021936, 0.07729919],\n",
       "        [0.35516695, 0.08603066],\n",
       "        [0.35872119, 0.0579921 ],\n",
       "        [0.3593608 , 0.06441257],\n",
       "        [0.35593795, 0.07325308],\n",
       "        [0.35418159, 0.07144807],\n",
       "        [0.35811268, 0.07802976],\n",
       "        [0.36117595, 0.05267214],\n",
       "        [0.36374825, 0.07474777],\n",
       "        [0.36358922, 0.07130177],\n",
       "        [0.36171182, 0.07969033],\n",
       "        [0.35763209, 0.0769954 ],\n",
       "        [0.35291963, 0.09504915],\n",
       "        [0.34982179, 0.07232588],\n",
       "        [0.35346593, 0.07397154],\n",
       "        [0.36160466, 0.07443094],\n",
       "        [0.36082328, 0.09975874],\n",
       "        [0.36301874, 0.09161247],\n",
       "        [0.36445704, 0.07861124],\n",
       "        [0.36451233, 0.08305618],\n",
       "        [0.36971922, 0.08497394],\n",
       "        [0.37525109, 0.07118343],\n",
       "        [0.37284124, 0.07437596],\n",
       "        [0.36655918, 0.09132453],\n",
       "        [0.36190892, 0.08191746],\n",
       "        [0.36140761, 0.06754826],\n",
       "        [0.35973073, 0.0663937 ]]])"
      ]
     },
     "execution_count": 47,
     "metadata": {},
     "output_type": "execute_result"
    }
   ],
   "source": [
    "x_train_h, y_train_h = create_dataset_2features(dataset_train_h)\n",
    "x_train_h[:1] "
   ]
  },
  {
   "cell_type": "code",
   "execution_count": 48,
   "metadata": {},
   "outputs": [
    {
     "data": {
      "text/plain": [
       "array([[[0.95889131, 0.15305616],\n",
       "        [0.94742995, 0.17988425],\n",
       "        [0.92036526, 0.33359829],\n",
       "        [0.91975329, 0.27784917],\n",
       "        [0.90753131, 0.33655972],\n",
       "        [0.8845014 , 0.40551043],\n",
       "        [0.86884277, 0.36715064],\n",
       "        [0.85428358, 0.3617785 ],\n",
       "        [0.86292021, 0.38786763],\n",
       "        [0.85428012, 0.40648328],\n",
       "        [0.84621051, 0.4208413 ],\n",
       "        [0.8327646 , 0.44202701],\n",
       "        [0.82983614, 0.39169662],\n",
       "        [0.80301699, 0.53033046],\n",
       "        [0.82042851, 0.4057173 ],\n",
       "        [0.83682361, 0.38921882],\n",
       "        [0.83544064, 0.34259069],\n",
       "        [0.83657122, 0.33854271],\n",
       "        [0.83801294, 0.37545346],\n",
       "        [0.83349065, 0.36976636],\n",
       "        [0.85341577, 0.44473964],\n",
       "        [0.86491515, 0.33524301],\n",
       "        [0.85283148, 0.34835048],\n",
       "        [0.83820312, 0.41448978],\n",
       "        [0.85121339, 0.41638796],\n",
       "        [0.83664036, 0.39184478],\n",
       "        [0.80759457, 0.45768216],\n",
       "        [0.80810626, 0.41544679],\n",
       "        [0.81803942, 0.3490941 ],\n",
       "        [0.79217102, 0.44504062],\n",
       "        [0.80637413, 0.37013071],\n",
       "        [0.83024067, 0.35836605],\n",
       "        [0.85177007, 0.39944871],\n",
       "        [0.85716706, 0.34586243],\n",
       "        [0.84882088, 0.31849945],\n",
       "        [0.86617361, 0.31028609],\n",
       "        [0.86295132, 0.29499809],\n",
       "        [0.84955727, 0.33475099],\n",
       "        [0.86828267, 0.31620336],\n",
       "        [0.87917355, 0.33766397],\n",
       "        [0.87272203, 0.35999773],\n",
       "        [0.88149   , 0.38157668],\n",
       "        [0.89527478, 0.36730626],\n",
       "        [0.90072017, 0.40598661],\n",
       "        [0.90930843, 0.49621155],\n",
       "        [0.90917013, 0.39540819],\n",
       "        [0.90184387, 0.36498035],\n",
       "        [0.9012284 , 0.30874014],\n",
       "        [0.90185075, 0.34029926],\n",
       "        [0.91663123, 0.31251415]]])"
      ]
     },
     "execution_count": 48,
     "metadata": {},
     "output_type": "execute_result"
    }
   ],
   "source": [
    "x_test_h, y_test_h = create_dataset_2features(dataset_test_h)\n",
    "x_test_h[:1] "
   ]
  },
  {
   "cell_type": "code",
   "execution_count": 49,
   "metadata": {},
   "outputs": [
    {
     "data": {
      "text/plain": [
       "(2768, 50, 2)"
      ]
     },
     "execution_count": 49,
     "metadata": {},
     "output_type": "execute_result"
    }
   ],
   "source": [
    "# Reshape features for LSTM Layer\n",
    "x_train_h = np.reshape(x_train_h, (x_train_h.shape[0], x_train_h.shape[1], 2))\n",
    "x_test_h = np.reshape(x_test_h, (x_test_h.shape[0], x_test_h.shape[1], 2)) \n",
    "x_train_h.shape"
   ]
  },
  {
   "cell_type": "code",
   "execution_count": 50,
   "metadata": {},
   "outputs": [],
   "source": [
    "model_happy = Sequential()\n",
    "model_happy.add(LSTM(units=96, return_sequences=True, input_shape=(x_train_h.shape[1], 2)))\n",
    "model_happy.add(Dropout(0.2))\n",
    "model_happy.add(LSTM(units=96, return_sequences=True))\n",
    "model_happy.add(Dropout(0.2))\n",
    "model_happy.add(LSTM(units=96, return_sequences=True))\n",
    "model_happy.add(Dropout(0.2))\n",
    "model_happy.add(LSTM(units=96))\n",
    "model_happy.add(Dropout(0.2))\n",
    "model_happy.add(Dense(units=1))"
   ]
  },
  {
   "cell_type": "code",
   "execution_count": 51,
   "metadata": {
    "scrolled": true
   },
   "outputs": [
    {
     "name": "stdout",
     "output_type": "stream",
     "text": [
      "_________________________________________________________________\n",
      "Layer (type)                 Output Shape              Param #   \n",
      "=================================================================\n",
      "lstm_5 (LSTM)                (None, 50, 96)            38016     \n",
      "_________________________________________________________________\n",
      "dropout_5 (Dropout)          (None, 50, 96)            0         \n",
      "_________________________________________________________________\n",
      "lstm_6 (LSTM)                (None, 50, 96)            74112     \n",
      "_________________________________________________________________\n",
      "dropout_6 (Dropout)          (None, 50, 96)            0         \n",
      "_________________________________________________________________\n",
      "lstm_7 (LSTM)                (None, 50, 96)            74112     \n",
      "_________________________________________________________________\n",
      "dropout_7 (Dropout)          (None, 50, 96)            0         \n",
      "_________________________________________________________________\n",
      "lstm_8 (LSTM)                (None, 96)                74112     \n",
      "_________________________________________________________________\n",
      "dropout_8 (Dropout)          (None, 96)                0         \n",
      "_________________________________________________________________\n",
      "dense_2 (Dense)              (None, 1)                 97        \n",
      "=================================================================\n",
      "Total params: 260,449\n",
      "Trainable params: 260,449\n",
      "Non-trainable params: 0\n",
      "_________________________________________________________________\n"
     ]
    }
   ],
   "source": [
    "model_happy.summary()"
   ]
  },
  {
   "cell_type": "code",
   "execution_count": 1,
   "metadata": {},
   "outputs": [
    {
     "ename": "NameError",
     "evalue": "name 'model_happy' is not defined",
     "output_type": "error",
     "traceback": [
      "\u001b[1;31m---------------------------------------------------------------------------\u001b[0m",
      "\u001b[1;31mNameError\u001b[0m                                 Traceback (most recent call last)",
      "\u001b[1;32m<ipython-input-1-72c2aa696cdf>\u001b[0m in \u001b[0;36m<module>\u001b[1;34m()\u001b[0m\n\u001b[1;32m----> 1\u001b[1;33m model_happy.compile(loss='mean_squared_error', \n\u001b[0m\u001b[0;32m      2\u001b[0m                     \u001b[0moptimizer\u001b[0m\u001b[1;33m=\u001b[0m\u001b[1;34m'adam'\u001b[0m\u001b[1;33m,\u001b[0m\u001b[1;33m\u001b[0m\u001b[0m\n\u001b[0;32m      3\u001b[0m                    metrics=['mean_squared_error', 'mean_absolute_error', 'mean_absolute_percentage_error', 'cosine_proximity'])\n",
      "\u001b[1;31mNameError\u001b[0m: name 'model_happy' is not defined"
     ]
    }
   ],
   "source": [
    "model_happy.compile(loss='mean_squared_error', \n",
    "                    optimizer='adam',\n",
    "                   metrics=['mean_squared_error', 'mean_absolute_error', 'mean_absolute_percentage_error', 'cosine_proximity'])"
   ]
  },
  {
   "cell_type": "code",
   "execution_count": 2,
   "metadata": {},
   "outputs": [
    {
     "ename": "NameError",
     "evalue": "name 'os' is not defined",
     "output_type": "error",
     "traceback": [
      "\u001b[1;31m---------------------------------------------------------------------------\u001b[0m",
      "\u001b[1;31mNameError\u001b[0m                                 Traceback (most recent call last)",
      "\u001b[1;32m<ipython-input-2-c55dafdf0cda>\u001b[0m in \u001b[0;36m<module>\u001b[1;34m()\u001b[0m\n\u001b[1;32m----> 1\u001b[1;33m \u001b[1;32mif\u001b[0m\u001b[1;33m(\u001b[0m\u001b[1;32mnot\u001b[0m \u001b[0mos\u001b[0m\u001b[1;33m.\u001b[0m\u001b[0mpath\u001b[0m\u001b[1;33m.\u001b[0m\u001b[0mexists\u001b[0m\u001b[1;33m(\u001b[0m\u001b[1;34m'stock_prediction_happy.h5'\u001b[0m\u001b[1;33m)\u001b[0m\u001b[1;33m)\u001b[0m\u001b[1;33m:\u001b[0m\u001b[1;33m\u001b[0m\u001b[0m\n\u001b[0m\u001b[0;32m      2\u001b[0m     \u001b[0mmodel_happy\u001b[0m\u001b[1;33m.\u001b[0m\u001b[0mfit\u001b[0m\u001b[1;33m(\u001b[0m\u001b[0mx_train_h\u001b[0m\u001b[1;33m,\u001b[0m \u001b[0my_train_h\u001b[0m\u001b[1;33m,\u001b[0m \u001b[0mepochs\u001b[0m\u001b[1;33m=\u001b[0m\u001b[1;36m50\u001b[0m\u001b[1;33m,\u001b[0m \u001b[0mbatch_size\u001b[0m\u001b[1;33m=\u001b[0m\u001b[1;36m32\u001b[0m\u001b[1;33m)\u001b[0m\u001b[1;33m\u001b[0m\u001b[0m\n\u001b[0;32m      3\u001b[0m     \u001b[0mmodel_happy\u001b[0m\u001b[1;33m.\u001b[0m\u001b[0msave\u001b[0m\u001b[1;33m(\u001b[0m\u001b[1;34m'stock_prediction_happy.h5'\u001b[0m\u001b[1;33m)\u001b[0m\u001b[1;33m\u001b[0m\u001b[0m\n",
      "\u001b[1;31mNameError\u001b[0m: name 'os' is not defined"
     ]
    }
   ],
   "source": [
    "if(not os.path.exists('stock_prediction_happy.h5')):\n",
    "    model_happy.fit(x_train_h, y_train_h, epochs=50, batch_size=32)\n",
    "    model_happy.save('stock_prediction_happy.h5')"
   ]
  },
  {
   "cell_type": "code",
   "execution_count": null,
   "metadata": {},
   "outputs": [],
   "source": [
    "model_happy = load_model('stock_prediction_happy.h5')"
   ]
  },
  {
   "cell_type": "code",
   "execution_count": null,
   "metadata": {},
   "outputs": [],
   "source": [
    "df2 = Stocks['Average'].values\n",
    "\n",
    "predictions_happy = model_happy.predict(x_test_h)\n",
    "predictions_happy = scaler.inverse_transform(predictions_happy)\n",
    "\n",
    "fig, ax = plt.subplots(figsize=(8,4))\n",
    "plt.plot(df2, color='red',  label=\"True Price\")\n",
    "ax.plot(range(len(y_train_h)+50,len(y_train_h)+50+len(predictions_happy)),predictions_happy, color='blue', label='Predicted Testing Price')\n",
    "\n",
    "plt.legend()"
   ]
  },
  {
   "cell_type": "code",
   "execution_count": null,
   "metadata": {},
   "outputs": [],
   "source": [
    "y_test_scaled_happy = scaler.inverse_transform(y_test_h.reshape(-1, 1))\n",
    "\n",
    "\n",
    "fig, ax = plt.subplots(figsize=(8,4))\n",
    "ax.plot(y_test_scaled_happy, color='red', label='True Testing Price')\n",
    "plt.plot(predictions_happy, color='blue', label='Predicted Testing Price')\n",
    "plt.legend()"
   ]
  },
  {
   "cell_type": "code",
   "execution_count": null,
   "metadata": {},
   "outputs": [],
   "source": [
    "delta_happy = y_test_scaled_happy - predictions_happy\n",
    "\n",
    "fig, ax = plt.subplots(figsize=(8,4))\n",
    "ax.plot(delta_happy, color='green', label='Delta')\n",
    "plt.legend()"
   ]
  },
  {
   "cell_type": "code",
   "execution_count": null,
   "metadata": {},
   "outputs": [],
   "source": [
    "# metrics = ['mean_squared_error', 'mean_absolute_error', 'mean_absolute_percentage_error', 'cosine_proximity']\n",
    "model_metric = ['MSE', 'MAE', 'MAPE', 'CP']\n",
    "\n",
    "score_happy = model_happy.evaluate(x_test_h, y_test_h, verbose=1)\n",
    "for i in range(len(model_metric)):\n",
    "    if i==0:\n",
    "        print()\n",
    "    print(model_metric[i] + \":\\t\", score[i])"
   ]
  }
 ],
 "metadata": {
  "kernelspec": {
   "display_name": "Python 3",
   "language": "python",
   "name": "python3"
  },
  "language_info": {
   "codemirror_mode": {
    "name": "ipython",
    "version": 3
   },
   "file_extension": ".py",
   "mimetype": "text/x-python",
   "name": "python",
   "nbconvert_exporter": "python",
   "pygments_lexer": "ipython3",
   "version": "3.6.6"
  }
 },
 "nbformat": 4,
 "nbformat_minor": 2
}
