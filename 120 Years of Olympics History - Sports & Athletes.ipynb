{
 "cells": [
  {
   "cell_type": "code",
   "execution_count": 1,
   "metadata": {},
   "outputs": [],
   "source": [
    "import numpy as np\n",
    "import pandas as pd\n",
    "import seaborn as sb\n",
    "import matplotlib.pyplot as plt\n",
    "sb.set()\n",
    "from sklearn.linear_model import LinearRegression\n",
    "linreg = LinearRegression()\n",
    "from sklearn.tree import export_graphviz\n",
    "import graphviz\n",
    "from sklearn.tree import DecisionTreeClassifier"
   ]
  },
  {
   "cell_type": "code",
   "execution_count": 2,
   "metadata": {},
   "outputs": [
    {
     "data": {
      "text/html": [
       "<div>\n",
       "<style scoped>\n",
       "    .dataframe tbody tr th:only-of-type {\n",
       "        vertical-align: middle;\n",
       "    }\n",
       "\n",
       "    .dataframe tbody tr th {\n",
       "        vertical-align: top;\n",
       "    }\n",
       "\n",
       "    .dataframe thead th {\n",
       "        text-align: right;\n",
       "    }\n",
       "</style>\n",
       "<table border=\"1\" class=\"dataframe\">\n",
       "  <thead>\n",
       "    <tr style=\"text-align: right;\">\n",
       "      <th></th>\n",
       "      <th>ID</th>\n",
       "      <th>Name</th>\n",
       "      <th>Sex</th>\n",
       "      <th>Age</th>\n",
       "      <th>Height</th>\n",
       "      <th>Weight</th>\n",
       "      <th>Team</th>\n",
       "      <th>NOC</th>\n",
       "      <th>Games</th>\n",
       "      <th>Year</th>\n",
       "      <th>Season</th>\n",
       "      <th>City</th>\n",
       "      <th>Sport</th>\n",
       "      <th>Event</th>\n",
       "      <th>Medal</th>\n",
       "    </tr>\n",
       "  </thead>\n",
       "  <tbody>\n",
       "    <tr>\n",
       "      <th>0</th>\n",
       "      <td>1</td>\n",
       "      <td>A Dijiang</td>\n",
       "      <td>M</td>\n",
       "      <td>24.0</td>\n",
       "      <td>180.0</td>\n",
       "      <td>80.0</td>\n",
       "      <td>China</td>\n",
       "      <td>CHN</td>\n",
       "      <td>1992 Summer</td>\n",
       "      <td>1992</td>\n",
       "      <td>Summer</td>\n",
       "      <td>Barcelona</td>\n",
       "      <td>Basketball</td>\n",
       "      <td>Basketball Men's Basketball</td>\n",
       "      <td>NaN</td>\n",
       "    </tr>\n",
       "    <tr>\n",
       "      <th>1</th>\n",
       "      <td>2</td>\n",
       "      <td>A Lamusi</td>\n",
       "      <td>M</td>\n",
       "      <td>23.0</td>\n",
       "      <td>170.0</td>\n",
       "      <td>60.0</td>\n",
       "      <td>China</td>\n",
       "      <td>CHN</td>\n",
       "      <td>2012 Summer</td>\n",
       "      <td>2012</td>\n",
       "      <td>Summer</td>\n",
       "      <td>London</td>\n",
       "      <td>Judo</td>\n",
       "      <td>Judo Men's Extra-Lightweight</td>\n",
       "      <td>NaN</td>\n",
       "    </tr>\n",
       "    <tr>\n",
       "      <th>2</th>\n",
       "      <td>3</td>\n",
       "      <td>Gunnar Nielsen Aaby</td>\n",
       "      <td>M</td>\n",
       "      <td>24.0</td>\n",
       "      <td>NaN</td>\n",
       "      <td>NaN</td>\n",
       "      <td>Denmark</td>\n",
       "      <td>DEN</td>\n",
       "      <td>1920 Summer</td>\n",
       "      <td>1920</td>\n",
       "      <td>Summer</td>\n",
       "      <td>Antwerpen</td>\n",
       "      <td>Football</td>\n",
       "      <td>Football Men's Football</td>\n",
       "      <td>NaN</td>\n",
       "    </tr>\n",
       "    <tr>\n",
       "      <th>3</th>\n",
       "      <td>4</td>\n",
       "      <td>Edgar Lindenau Aabye</td>\n",
       "      <td>M</td>\n",
       "      <td>34.0</td>\n",
       "      <td>NaN</td>\n",
       "      <td>NaN</td>\n",
       "      <td>Denmark/Sweden</td>\n",
       "      <td>DEN</td>\n",
       "      <td>1900 Summer</td>\n",
       "      <td>1900</td>\n",
       "      <td>Summer</td>\n",
       "      <td>Paris</td>\n",
       "      <td>Tug-Of-War</td>\n",
       "      <td>Tug-Of-War Men's Tug-Of-War</td>\n",
       "      <td>Gold</td>\n",
       "    </tr>\n",
       "    <tr>\n",
       "      <th>4</th>\n",
       "      <td>5</td>\n",
       "      <td>Christine Jacoba Aaftink</td>\n",
       "      <td>F</td>\n",
       "      <td>21.0</td>\n",
       "      <td>185.0</td>\n",
       "      <td>82.0</td>\n",
       "      <td>Netherlands</td>\n",
       "      <td>NED</td>\n",
       "      <td>1988 Winter</td>\n",
       "      <td>1988</td>\n",
       "      <td>Winter</td>\n",
       "      <td>Calgary</td>\n",
       "      <td>Speed Skating</td>\n",
       "      <td>Speed Skating Women's 500 metres</td>\n",
       "      <td>NaN</td>\n",
       "    </tr>\n",
       "  </tbody>\n",
       "</table>\n",
       "</div>"
      ],
      "text/plain": [
       "   ID                      Name Sex   Age  Height  Weight            Team  \\\n",
       "0   1                 A Dijiang   M  24.0   180.0    80.0           China   \n",
       "1   2                  A Lamusi   M  23.0   170.0    60.0           China   \n",
       "2   3       Gunnar Nielsen Aaby   M  24.0     NaN     NaN         Denmark   \n",
       "3   4      Edgar Lindenau Aabye   M  34.0     NaN     NaN  Denmark/Sweden   \n",
       "4   5  Christine Jacoba Aaftink   F  21.0   185.0    82.0     Netherlands   \n",
       "\n",
       "   NOC        Games  Year  Season       City          Sport  \\\n",
       "0  CHN  1992 Summer  1992  Summer  Barcelona     Basketball   \n",
       "1  CHN  2012 Summer  2012  Summer     London           Judo   \n",
       "2  DEN  1920 Summer  1920  Summer  Antwerpen       Football   \n",
       "3  DEN  1900 Summer  1900  Summer      Paris     Tug-Of-War   \n",
       "4  NED  1988 Winter  1988  Winter    Calgary  Speed Skating   \n",
       "\n",
       "                              Event Medal  \n",
       "0       Basketball Men's Basketball   NaN  \n",
       "1      Judo Men's Extra-Lightweight   NaN  \n",
       "2           Football Men's Football   NaN  \n",
       "3       Tug-Of-War Men's Tug-Of-War  Gold  \n",
       "4  Speed Skating Women's 500 metres   NaN  "
      ]
     },
     "execution_count": 2,
     "metadata": {},
     "output_type": "execute_result"
    }
   ],
   "source": [
    "athleteData = pd.read_csv('athlete_events.csv')\n",
    "athleteData.head()"
   ]
  },
  {
   "cell_type": "markdown",
   "metadata": {},
   "source": [
    "### Analysis between Variables - Events and Medal Tally"
   ]
  },
  {
   "cell_type": "code",
   "execution_count": 3,
   "metadata": {},
   "outputs": [
    {
     "data": {
      "text/html": [
       "<div>\n",
       "<style scoped>\n",
       "    .dataframe tbody tr th:only-of-type {\n",
       "        vertical-align: middle;\n",
       "    }\n",
       "\n",
       "    .dataframe tbody tr th {\n",
       "        vertical-align: top;\n",
       "    }\n",
       "\n",
       "    .dataframe thead th {\n",
       "        text-align: right;\n",
       "    }\n",
       "</style>\n",
       "<table border=\"1\" class=\"dataframe\">\n",
       "  <thead>\n",
       "    <tr style=\"text-align: right;\">\n",
       "      <th></th>\n",
       "      <th>ID</th>\n",
       "      <th>Name</th>\n",
       "      <th>Sex</th>\n",
       "      <th>Age</th>\n",
       "      <th>Height</th>\n",
       "      <th>Weight</th>\n",
       "      <th>Team</th>\n",
       "      <th>NOC</th>\n",
       "      <th>Games</th>\n",
       "      <th>Year</th>\n",
       "      <th>Season</th>\n",
       "      <th>City</th>\n",
       "      <th>Sport</th>\n",
       "      <th>Event</th>\n",
       "      <th>Medal</th>\n",
       "    </tr>\n",
       "  </thead>\n",
       "  <tbody>\n",
       "    <tr>\n",
       "      <th>28</th>\n",
       "      <td>9</td>\n",
       "      <td>Antti Sami Aalto</td>\n",
       "      <td>M</td>\n",
       "      <td>26.0</td>\n",
       "      <td>186.0</td>\n",
       "      <td>96.0</td>\n",
       "      <td>Finland</td>\n",
       "      <td>FIN</td>\n",
       "      <td>2002 Winter</td>\n",
       "      <td>2002</td>\n",
       "      <td>Winter</td>\n",
       "      <td>Salt Lake City</td>\n",
       "      <td>Ice Hockey</td>\n",
       "      <td>Ice Hockey Men's Ice Hockey</td>\n",
       "      <td>NaN</td>\n",
       "    </tr>\n",
       "    <tr>\n",
       "      <th>40</th>\n",
       "      <td>16</td>\n",
       "      <td>Juhamatti Tapio Aaltonen</td>\n",
       "      <td>M</td>\n",
       "      <td>28.0</td>\n",
       "      <td>184.0</td>\n",
       "      <td>85.0</td>\n",
       "      <td>Finland</td>\n",
       "      <td>FIN</td>\n",
       "      <td>2014 Winter</td>\n",
       "      <td>2014</td>\n",
       "      <td>Winter</td>\n",
       "      <td>Sochi</td>\n",
       "      <td>Ice Hockey</td>\n",
       "      <td>Ice Hockey Men's Ice Hockey</td>\n",
       "      <td>Bronze</td>\n",
       "    </tr>\n",
       "    <tr>\n",
       "      <th>672</th>\n",
       "      <td>391</td>\n",
       "      <td>Clarence John Abel</td>\n",
       "      <td>M</td>\n",
       "      <td>23.0</td>\n",
       "      <td>185.0</td>\n",
       "      <td>102.0</td>\n",
       "      <td>United States</td>\n",
       "      <td>USA</td>\n",
       "      <td>1924 Winter</td>\n",
       "      <td>1924</td>\n",
       "      <td>Winter</td>\n",
       "      <td>Chamonix</td>\n",
       "      <td>Ice Hockey</td>\n",
       "      <td>Ice Hockey Men's Ice Hockey</td>\n",
       "      <td>Silver</td>\n",
       "    </tr>\n",
       "    <tr>\n",
       "      <th>673</th>\n",
       "      <td>392</td>\n",
       "      <td>George Gordon Abel</td>\n",
       "      <td>M</td>\n",
       "      <td>35.0</td>\n",
       "      <td>NaN</td>\n",
       "      <td>NaN</td>\n",
       "      <td>Canada</td>\n",
       "      <td>CAN</td>\n",
       "      <td>1952 Winter</td>\n",
       "      <td>1952</td>\n",
       "      <td>Winter</td>\n",
       "      <td>Oslo</td>\n",
       "      <td>Ice Hockey</td>\n",
       "      <td>Ice Hockey Men's Ice Hockey</td>\n",
       "      <td>Gold</td>\n",
       "    </tr>\n",
       "    <tr>\n",
       "      <th>923</th>\n",
       "      <td>523</td>\n",
       "      <td>Trond Sevg Abrahamsen</td>\n",
       "      <td>M</td>\n",
       "      <td>19.0</td>\n",
       "      <td>183.0</td>\n",
       "      <td>87.0</td>\n",
       "      <td>Norway</td>\n",
       "      <td>NOR</td>\n",
       "      <td>1980 Winter</td>\n",
       "      <td>1980</td>\n",
       "      <td>Winter</td>\n",
       "      <td>Lake Placid</td>\n",
       "      <td>Ice Hockey</td>\n",
       "      <td>Ice Hockey Men's Ice Hockey</td>\n",
       "      <td>NaN</td>\n",
       "    </tr>\n",
       "  </tbody>\n",
       "</table>\n",
       "</div>"
      ],
      "text/plain": [
       "      ID                      Name Sex   Age  Height  Weight           Team  \\\n",
       "28     9          Antti Sami Aalto   M  26.0   186.0    96.0        Finland   \n",
       "40    16  Juhamatti Tapio Aaltonen   M  28.0   184.0    85.0        Finland   \n",
       "672  391        Clarence John Abel   M  23.0   185.0   102.0  United States   \n",
       "673  392        George Gordon Abel   M  35.0     NaN     NaN         Canada   \n",
       "923  523     Trond Sevg Abrahamsen   M  19.0   183.0    87.0         Norway   \n",
       "\n",
       "     NOC        Games  Year  Season            City       Sport  \\\n",
       "28   FIN  2002 Winter  2002  Winter  Salt Lake City  Ice Hockey   \n",
       "40   FIN  2014 Winter  2014  Winter           Sochi  Ice Hockey   \n",
       "672  USA  1924 Winter  1924  Winter        Chamonix  Ice Hockey   \n",
       "673  CAN  1952 Winter  1952  Winter            Oslo  Ice Hockey   \n",
       "923  NOR  1980 Winter  1980  Winter     Lake Placid  Ice Hockey   \n",
       "\n",
       "                           Event   Medal  \n",
       "28   Ice Hockey Men's Ice Hockey     NaN  \n",
       "40   Ice Hockey Men's Ice Hockey  Bronze  \n",
       "672  Ice Hockey Men's Ice Hockey  Silver  \n",
       "673  Ice Hockey Men's Ice Hockey    Gold  \n",
       "923  Ice Hockey Men's Ice Hockey     NaN  "
      ]
     },
     "execution_count": 3,
     "metadata": {},
     "output_type": "execute_result"
    }
   ],
   "source": [
    "Ice_Hockey_data = athleteData[athleteData[\"Sport\"] == \"Ice Hockey\"]\n",
    "Ice_Hockey_data.head()"
   ]
  },
  {
   "cell_type": "code",
   "execution_count": 4,
   "metadata": {},
   "outputs": [
    {
     "name": "stdout",
     "output_type": "stream",
     "text": [
      "Silver    515\n",
      "Gold      508\n",
      "Bronze    507\n",
      "Name: Medal, dtype: int64\n",
      "\n",
      "The most number of participants in Ice Hockey, in the history of Olympics, come from:\n",
      "USA    498\n",
      "SWE    486\n",
      "CAN    469\n",
      "FIN    420\n",
      "SUI    341\n",
      "Name: NOC, dtype: int64\n"
     ]
    }
   ],
   "source": [
    "print(Ice_Hockey_data[\"Medal\"].value_counts())\n",
    "print(\"\\nThe most number of participants in Ice Hockey, in the history of Olympics, come from:\")\n",
    "print(Ice_Hockey_data['NOC'].value_counts().nlargest(5))"
   ]
  },
  {
   "cell_type": "code",
   "execution_count": 5,
   "metadata": {},
   "outputs": [
    {
     "name": "stdout",
     "output_type": "stream",
     "text": [
      "The most no. of medals from Ice Hockey were won by:\n",
      "USA    498\n",
      "SWE    486\n",
      "CAN    469\n",
      "FIN    420\n",
      "SUI    341\n",
      "Name: NOC, dtype: int64\n",
      "\n",
      "The most no. of Gold Medals from Ice Hockey came from:\n",
      "CAN    220\n",
      "URS    131\n",
      "USA     56\n",
      "SWE     46\n",
      "EUN     22\n",
      "Name: NOC, dtype: int64\n"
     ]
    }
   ],
   "source": [
    "print(\"The most no. of medals from Ice Hockey were won by:\")\n",
    "print(Ice_Hockey_data['NOC'].value_counts().nlargest(5))\n",
    "print(\"\\nThe most no. of Gold Medals from Ice Hockey came from:\")\n",
    "Ice_Hockey_data_Gold = Ice_Hockey_data[Ice_Hockey_data[\"Medal\"] == \"Gold\"]\n",
    "print(Ice_Hockey_data_Gold['NOC'].value_counts().nlargest(5))"
   ]
  },
  {
   "cell_type": "code",
   "execution_count": 6,
   "metadata": {},
   "outputs": [
    {
     "data": {
      "text/plain": [
       "<matplotlib.axes._subplots.AxesSubplot at 0x2049224b470>"
      ]
     },
     "execution_count": 6,
     "metadata": {},
     "output_type": "execute_result"
    },
    {
     "data": {
      "image/png": "[encoded data removed]",
      "text/plain": [
       "<Figure size 1728x216 with 1 Axes>"
      ]
     },
     "metadata": {
      "needs_background": "light"
     },
     "output_type": "display_data"
    },
    {
     "data": {
      "image/png": "[encoded data removed]",
      "text/plain": [
       "<Figure size 1728x216 with 1 Axes>"
      ]
     },
     "metadata": {
      "needs_background": "light"
     },
     "output_type": "display_data"
    }
   ],
   "source": [
    "f, axes = plt.subplots(1, 1, figsize=(24, 3))\n",
    "sb.boxplot(Ice_Hockey_data['Height'], orient = \"h\", color = 'g')\n",
    "\n",
    "f, axes = plt.subplots(1, 1, figsize=(24, 3))\n",
    "sb.boxplot(Ice_Hockey_data['Weight'], orient = \"h\", color = 'w')"
   ]
  },
  {
   "cell_type": "code",
   "execution_count": 7,
   "metadata": {},
   "outputs": [
    {
     "name": "stdout",
     "output_type": "stream",
     "text": [
      "None      293\n",
      "Silver     43\n",
      "Gold       43\n",
      "Bronze     41\n",
      "Name: Medal, dtype: int64\n"
     ]
    },
    {
     "name": "stderr",
     "output_type": "stream",
     "text": [
      "C:\\Users\\tkjie\\Anaconda3\\lib\\site-packages\\pandas\\core\\generic.py:5434: SettingWithCopyWarning: \n",
      "A value is trying to be set on a copy of a slice from a DataFrame\n",
      "\n",
      "See the caveats in the documentation: http://pandas.pydata.org/pandas-docs/stable/indexing.html#indexing-view-versus-copy\n",
      "  self._update_inplace(new_data)\n"
     ]
    },
    {
     "data": {
      "text/plain": [
       "<matplotlib.axes._subplots.AxesSubplot at 0x2049223ca90>"
      ]
     },
     "execution_count": 7,
     "metadata": {},
     "output_type": "execute_result"
    },
    {
     "data": {
      "image/png": "[encoded data removed]",
      "text/plain": [
       "<Figure size 432x288 with 1 Axes>"
      ]
     },
     "metadata": {
      "needs_background": "light"
     },
     "output_type": "display_data"
    }
   ],
   "source": [
    "Ice_Hockey_data_Vancouver2010 = Ice_Hockey_data[Ice_Hockey_data[\"Year\"] == 2010]\n",
    "Ice_Hockey_data_Vancouver2010['Medal'].fillna('None', inplace = True)\n",
    "print(Ice_Hockey_data_Vancouver2010[\"Medal\"].value_counts())\n",
    "sb.countplot(Ice_Hockey_data_Vancouver2010[\"Medal\"], order = Ice_Hockey_data_Vancouver2010[\"Medal\"].value_counts().index)"
   ]
  },
  {
   "cell_type": "code",
   "execution_count": 8,
   "metadata": {},
   "outputs": [
    {
     "name": "stderr",
     "output_type": "stream",
     "text": [
      "C:\\Users\\tkjie\\Anaconda3\\lib\\site-packages\\scipy\\stats\\stats.py:1713: FutureWarning: Using a non-tuple sequence for multidimensional indexing is deprecated; use `arr[tuple(seq)]` instead of `arr[seq]`. In the future this will be interpreted as an array index, `arr[np.array(seq)]`, which will result either in an error or a different result.\n",
      "  return np.add.reduce(sorted[indexer] * weights, axis=axis) / sumval\n"
     ]
    },
    {
     "data": {
      "text/plain": [
       "<seaborn.axisgrid.JointGrid at 0x20492562b38>"
      ]
     },
     "execution_count": 8,
     "metadata": {},
     "output_type": "execute_result"
    },
    {
     "data": {
      "image/png": "[encoded data removed]",
      "text/plain": [
       "<Figure size 1728x216 with 1 Axes>"
      ]
     },
     "metadata": {
      "needs_background": "light"
     },
     "output_type": "display_data"
    },
    {
     "data": {
      "image/png": "[encoded data removed]",
      "text/plain": [
       "<Figure size 1728x216 with 1 Axes>"
      ]
     },
     "metadata": {
      "needs_background": "light"
     },
     "output_type": "display_data"
    },
    {
     "data": {
      "image/png": "[encoded data removed]",
      "text/plain": [
       "<Figure size 576x576 with 3 Axes>"
      ]
     },
     "metadata": {
      "needs_background": "light"
     },
     "output_type": "display_data"
    }
   ],
   "source": [
    "Ice_Hockey_data_Vancouver2010_win = Ice_Hockey_data_Vancouver2010[Ice_Hockey_data_Vancouver2010[\"Medal\"] != \"None\"]\n",
    "Ice_Hockey_data_Vancouver2010_win_NoDupid = Ice_Hockey_data_Vancouver2010_win.drop_duplicates()\n",
    "\n",
    "f, axes = plt.subplots(1, 1, figsize=(24, 3))\n",
    "sb.boxplot(Ice_Hockey_data_Vancouver2010_win_NoDupid['Height'], orient = \"h\", color = 'r')\n",
    "\n",
    "f, axes = plt.subplots(1, 1, figsize=(24, 3))\n",
    "sb.boxplot(Ice_Hockey_data_Vancouver2010_win_NoDupid['Weight'], orient = \"h\", color = 'y')\n",
    "\n",
    "sb.jointplot(x = Ice_Hockey_data_Vancouver2010_win_NoDupid['Weight'], y = Ice_Hockey_data_Vancouver2010_win_NoDupid['Height'], height = 8)"
   ]
  },
  {
   "cell_type": "code",
   "execution_count": 9,
   "metadata": {},
   "outputs": [
    {
     "data": {
      "text/html": [
       "<div>\n",
       "<style scoped>\n",
       "    .dataframe tbody tr th:only-of-type {\n",
       "        vertical-align: middle;\n",
       "    }\n",
       "\n",
       "    .dataframe tbody tr th {\n",
       "        vertical-align: top;\n",
       "    }\n",
       "\n",
       "    .dataframe thead th {\n",
       "        text-align: right;\n",
       "    }\n",
       "</style>\n",
       "<table border=\"1\" class=\"dataframe\">\n",
       "  <thead>\n",
       "    <tr style=\"text-align: right;\">\n",
       "      <th></th>\n",
       "      <th>Height</th>\n",
       "    </tr>\n",
       "  </thead>\n",
       "  <tbody>\n",
       "    <tr>\n",
       "      <th>count</th>\n",
       "      <td>127.00</td>\n",
       "    </tr>\n",
       "    <tr>\n",
       "      <th>mean</th>\n",
       "      <td>177.83</td>\n",
       "    </tr>\n",
       "    <tr>\n",
       "      <th>std</th>\n",
       "      <td>9.69</td>\n",
       "    </tr>\n",
       "    <tr>\n",
       "      <th>min</th>\n",
       "      <td>152.00</td>\n",
       "    </tr>\n",
       "    <tr>\n",
       "      <th>25%</th>\n",
       "      <td>170.00</td>\n",
       "    </tr>\n",
       "    <tr>\n",
       "      <th>50%</th>\n",
       "      <td>180.00</td>\n",
       "    </tr>\n",
       "    <tr>\n",
       "      <th>75%</th>\n",
       "      <td>185.00</td>\n",
       "    </tr>\n",
       "    <tr>\n",
       "      <th>max</th>\n",
       "      <td>198.00</td>\n",
       "    </tr>\n",
       "  </tbody>\n",
       "</table>\n",
       "</div>"
      ],
      "text/plain": [
       "       Height\n",
       "count  127.00\n",
       "mean   177.83\n",
       "std      9.69\n",
       "min    152.00\n",
       "25%    170.00\n",
       "50%    180.00\n",
       "75%    185.00\n",
       "max    198.00"
      ]
     },
     "execution_count": 9,
     "metadata": {},
     "output_type": "execute_result"
    }
   ],
   "source": [
    "dataset_Height = pd.DataFrame(Ice_Hockey_data_Vancouver2010_win_NoDupid['Height'])\n",
    "dataset_Weight = pd.DataFrame(Ice_Hockey_data_Vancouver2010_win_NoDupid['Weight'])\n",
    "dataset_Height.describe().round(2)"
   ]
  },
  {
   "cell_type": "code",
   "execution_count": 10,
   "metadata": {},
   "outputs": [
    {
     "data": {
      "text/html": [
       "<div>\n",
       "<style scoped>\n",
       "    .dataframe tbody tr th:only-of-type {\n",
       "        vertical-align: middle;\n",
       "    }\n",
       "\n",
       "    .dataframe tbody tr th {\n",
       "        vertical-align: top;\n",
       "    }\n",
       "\n",
       "    .dataframe thead th {\n",
       "        text-align: right;\n",
       "    }\n",
       "</style>\n",
       "<table border=\"1\" class=\"dataframe\">\n",
       "  <thead>\n",
       "    <tr style=\"text-align: right;\">\n",
       "      <th></th>\n",
       "      <th>Weight</th>\n",
       "    </tr>\n",
       "  </thead>\n",
       "  <tbody>\n",
       "    <tr>\n",
       "      <th>count</th>\n",
       "      <td>127.00</td>\n",
       "    </tr>\n",
       "    <tr>\n",
       "      <th>mean</th>\n",
       "      <td>80.74</td>\n",
       "    </tr>\n",
       "    <tr>\n",
       "      <th>std</th>\n",
       "      <td>13.05</td>\n",
       "    </tr>\n",
       "    <tr>\n",
       "      <th>min</th>\n",
       "      <td>59.00</td>\n",
       "    </tr>\n",
       "    <tr>\n",
       "      <th>25%</th>\n",
       "      <td>68.50</td>\n",
       "    </tr>\n",
       "    <tr>\n",
       "      <th>50%</th>\n",
       "      <td>81.50</td>\n",
       "    </tr>\n",
       "    <tr>\n",
       "      <th>75%</th>\n",
       "      <td>92.00</td>\n",
       "    </tr>\n",
       "    <tr>\n",
       "      <th>max</th>\n",
       "      <td>107.00</td>\n",
       "    </tr>\n",
       "  </tbody>\n",
       "</table>\n",
       "</div>"
      ],
      "text/plain": [
       "       Weight\n",
       "count  127.00\n",
       "mean    80.74\n",
       "std     13.05\n",
       "min     59.00\n",
       "25%     68.50\n",
       "50%     81.50\n",
       "75%     92.00\n",
       "max    107.00"
      ]
     },
     "execution_count": 10,
     "metadata": {},
     "output_type": "execute_result"
    }
   ],
   "source": [
    "dataset_Weight.describe().round(2)"
   ]
  },
  {
   "cell_type": "code",
   "execution_count": 11,
   "metadata": {},
   "outputs": [
    {
     "data": {
      "text/plain": [
       "<matplotlib.axes._subplots.AxesSubplot at 0x20493cfcf98>"
      ]
     },
     "execution_count": 11,
     "metadata": {},
     "output_type": "execute_result"
    },
    {
     "data": {
      "image/png": "[encoded data removed]",
      "text/plain": [
       "<Figure size 432x288 with 1 Axes>"
      ]
     },
     "metadata": {
      "needs_background": "light"
     },
     "output_type": "display_data"
    }
   ],
   "source": [
    "sb.swarmplot(x = \"Height\", y = \"Medal\", data = Ice_Hockey_data_Vancouver2010_win_NoDupid, orient = \"h\")\n",
    "sb.swarmplot(x = \"Weight\", y = \"Medal\", data = Ice_Hockey_data_Vancouver2010_win_NoDupid, orient = \"h\")"
   ]
  },
  {
   "cell_type": "code",
   "execution_count": 12,
   "metadata": {},
   "outputs": [
    {
     "data": {
      "text/plain": [
       "<matplotlib.axes._subplots.AxesSubplot at 0x20493f21fd0>"
      ]
     },
     "execution_count": 12,
     "metadata": {},
     "output_type": "execute_result"
    },
    {
     "data": {
      "image/png": "[encoded data removed]",
      "text/plain": [
       "<Figure size 1728x864 with 6 Axes>"
      ]
     },
     "metadata": {
      "needs_background": "light"
     },
     "output_type": "display_data"
    }
   ],
   "source": [
    "f, axes = plt.subplots(2, 3, figsize=(24, 12))\n",
    "\n",
    "# Plot the basic uni-variate figures for HP Train\n",
    "sb.boxplot(dataset_Weight, orient = \"h\", ax = axes[0,0], color = 'y')\n",
    "sb.distplot(dataset_Weight, kde = True, ax = axes[0,1], color = 'y')\n",
    "sb.violinplot(dataset_Weight, ax = axes[0,2], color = 'y')\n",
    "\n",
    "# Plot the basic uni-variate figures for Total Train\n",
    "sb.boxplot(dataset_Height, orient = \"h\", ax = axes[1,0], color = 'r')\n",
    "sb.distplot(dataset_Height, kde = True, ax = axes[1,1], color = 'r')\n",
    "sb.violinplot(dataset_Height, ax = axes[1,2], color = 'r')"
   ]
  },
  {
   "cell_type": "code",
   "execution_count": 13,
   "metadata": {},
   "outputs": [
    {
     "data": {
      "text/plain": [
       "<seaborn.axisgrid.JointGrid at 0x204945f8550>"
      ]
     },
     "execution_count": 13,
     "metadata": {},
     "output_type": "execute_result"
    },
    {
     "data": {
      "image/png": "[encoded data removed]",
      "text/plain": [
       "<Figure size 576x576 with 3 Axes>"
      ]
     },
     "metadata": {
      "needs_background": "light"
     },
     "output_type": "display_data"
    }
   ],
   "source": [
    "sb.jointplot(dataset_Weight, dataset_Height, height = 8)"
   ]
  },
  {
   "cell_type": "code",
   "execution_count": 14,
   "metadata": {},
   "outputs": [
    {
     "name": "stdout",
     "output_type": "stream",
     "text": [
      "Intercept \t: b =  [124.52639634]\n",
      "Coefficients \t: a =  [[0.66011484]]\n"
     ]
    },
    {
     "data": {
      "image/png": "[encoded data removed]",
      "text/plain": [
       "<Figure size 1152x576 with 1 Axes>"
      ]
     },
     "metadata": {
      "needs_background": "light"
     },
     "output_type": "display_data"
    }
   ],
   "source": [
    "linreg.fit(dataset_Weight, dataset_Height)\n",
    "\n",
    "print('Intercept \\t: b = ', linreg.intercept_)\n",
    "print('Coefficients \\t: a = ', linreg.coef_)\n",
    "\n",
    "# Formula for the Regression line\n",
    "regline_x = dataset_Weight\n",
    "regline_y = linreg.intercept_ + linreg.coef_ * dataset_Weight\n",
    "\n",
    "# function to plot the line and scatter plot\n",
    "# Plot the Linear Regression line\n",
    "f, axes = plt.subplots(1, 1, figsize=(16, 8))\n",
    "plt.scatter(dataset_Weight, dataset_Height)\n",
    "plt.plot(regline_x, regline_y, 'r-', linewidth = 3)\n",
    "plt.show()"
   ]
  },
  {
   "cell_type": "markdown",
   "metadata": {},
   "source": [
    "It seems like the no. of datasets are different. Hence need to do spliting."
   ]
  },
  {
   "cell_type": "code",
   "execution_count": 15,
   "metadata": {},
   "outputs": [
    {
     "name": "stdout",
     "output_type": "stream",
     "text": [
      "127 127\n"
     ]
    },
    {
     "name": "stderr",
     "output_type": "stream",
     "text": [
      "C:\\Users\\tkjie\\Anaconda3\\lib\\site-packages\\pandas\\core\\generic.py:5434: SettingWithCopyWarning: \n",
      "A value is trying to be set on a copy of a slice from a DataFrame\n",
      "\n",
      "See the caveats in the documentation: http://pandas.pydata.org/pandas-docs/stable/indexing.html#indexing-view-versus-copy\n",
      "  self._update_inplace(new_data)\n"
     ]
    }
   ],
   "source": [
    "Ice_Hockey_data_2006 = Ice_Hockey_data[Ice_Hockey_data[\"Year\"] == 2006]\n",
    "Ice_Hockey_data_2006['Medal'].fillna('None', inplace = True)\n",
    "Ice_Hockey_data_2006_win = Ice_Hockey_data_2006[Ice_Hockey_data_2006[\"Medal\"] != \"None\"]\n",
    "Ice_Hockey_data_2006_win_NoDupid = Ice_Hockey_data_2006_win.drop_duplicates()\n",
    "Weight_Test = pd.DataFrame(Ice_Hockey_data_2006_win['Weight'])\n",
    "Height_Test = pd.DataFrame(Ice_Hockey_data_2006_win['Height'])\n",
    "Height_Test = pd.DataFrame(Height_Test[:127])\n",
    "Weight_Test = pd.DataFrame(Weight_Test[:127])\n",
    "print(len(Weight_Test), len(Height_Test))"
   ]
  },
  {
   "cell_type": "code",
   "execution_count": 16,
   "metadata": {},
   "outputs": [
    {
     "name": "stdout",
     "output_type": "stream",
     "text": [
      "127\n"
     ]
    },
    {
     "data": {
      "image/png": "[encoded data removed]",
      "text/plain": [
       "<Figure size 1152x576 with 1 Axes>"
      ]
     },
     "metadata": {
      "needs_background": "light"
     },
     "output_type": "display_data"
    }
   ],
   "source": [
    "Height_pred = linreg.predict(Height_Test)\n",
    "print(len(Height_pred))\n",
    "\n",
    "# Plot the Linear Regression line\n",
    "f, axes = plt.subplots(1, 1, figsize=(16, 8))\n",
    "plt.scatter(dataset_Weight, dataset_Height)\n",
    "plt.scatter(dataset_Weight, Height_pred, color = \"r\")\n",
    "plt.show()"
   ]
  },
  {
   "cell_type": "code",
   "execution_count": 17,
   "metadata": {},
   "outputs": [
    {
     "data": {
      "image/svg+xml": [
       "<?xml version=\"1.0\" encoding=\"UTF-8\" standalone=\"no\"?>\r\n",
       "<!DOCTYPE svg PUBLIC \"-//W3C//DTD SVG 1.1//EN\"\r\n",
       " \"http://www.w3.org/Graphics/SVG/1.1/DTD/svg11.dtd\">\r\n",
       "<!-- Generated by graphviz version 2.38.0 (20140413.2041)\r\n",
       " -->\r\n",
       "<!-- Title: Tree Pages: 1 -->\r\n",
       "<svg width=\"590pt\" height=\"225pt\"\r\n",
       " viewBox=\"0.00 0.00 590.00 225.00\" xmlns=\"http://www.w3.org/2000/svg\" xmlns:xlink=\"http://www.w3.org/1999/xlink\">\r\n",
       "<g id=\"graph0\" class=\"graph\" transform=\"scale(1 1) rotate(0) translate(4 221)\">\r\n",
       "<title>Tree</title>\r\n",
       "<polygon fill=\"white\" stroke=\"none\" points=\"-4,4 -4,-221 586,-221 586,4 -4,4\"/>\r\n",
       "<!-- 0 -->\r\n",
       "<g id=\"node1\" class=\"node\"><title>0</title>\r\n",
       "<path fill=\"none\" stroke=\"black\" d=\"M420,-217C420,-217 162,-217 162,-217 156,-217 150,-211 150,-205 150,-205 150,-131 150,-131 150,-125 156,-119 162,-119 162,-119 420,-119 420,-119 426,-119 432,-125 432,-131 432,-131 432,-205 432,-205 432,-211 426,-217 420,-217\"/>\r\n",
       "<text text-anchor=\"start\" x=\"248.5\" y=\"-201.8\" font-family=\"Helvetica,sans-Serif\" font-size=\"14.00\">Height ≤ 78.5</text>\r\n",
       "<text text-anchor=\"start\" x=\"253.5\" y=\"-186.8\" font-family=\"Helvetica,sans-Serif\" font-size=\"14.00\">gini = 0.945</text>\r\n",
       "<text text-anchor=\"start\" x=\"243.5\" y=\"-171.8\" font-family=\"Helvetica,sans-Serif\" font-size=\"14.00\">samples = 127</text>\r\n",
       "<text text-anchor=\"start\" x=\"158\" y=\"-156.8\" font-family=\"Helvetica,sans-Serif\" font-size=\"14.00\">value = [1, 1, 1, 1, 7, 2, 3, 4, 7, 4, 8, 2, 5, 1</text>\r\n",
       "<text text-anchor=\"start\" x=\"176\" y=\"-141.8\" font-family=\"Helvetica,sans-Serif\" font-size=\"14.00\">8, 2, 4, 1, 12, 2, 12, 1, 9, 2, 1, 9, 1, 5</text>\r\n",
       "<text text-anchor=\"start\" x=\"269\" y=\"-126.8\" font-family=\"Helvetica,sans-Serif\" font-size=\"14.00\">2, 8, 1]</text>\r\n",
       "</g>\r\n",
       "<!-- 1 -->\r\n",
       "<g id=\"node2\" class=\"node\"><title>1</title>\r\n",
       "<path fill=\"none\" stroke=\"black\" d=\"M270,-83C270,-83 12,-83 12,-83 6,-83 0,-77 0,-71 0,-71 0,-12 0,-12 0,-6 6,-0 12,-0 12,-0 270,-0 270,-0 276,-0 282,-6 282,-12 282,-12 282,-71 282,-71 282,-77 276,-83 270,-83\"/>\r\n",
       "<text text-anchor=\"start\" x=\"103.5\" y=\"-67.8\" font-family=\"Helvetica,sans-Serif\" font-size=\"14.00\">gini = 0.914</text>\r\n",
       "<text text-anchor=\"start\" x=\"97.5\" y=\"-52.8\" font-family=\"Helvetica,sans-Serif\" font-size=\"14.00\">samples = 57</text>\r\n",
       "<text text-anchor=\"start\" x=\"8\" y=\"-37.8\" font-family=\"Helvetica,sans-Serif\" font-size=\"14.00\">value = [1, 1, 1, 1, 7, 2, 3, 4, 7, 4, 7, 2, 5, 1</text>\r\n",
       "<text text-anchor=\"start\" x=\"34\" y=\"-22.8\" font-family=\"Helvetica,sans-Serif\" font-size=\"14.00\">7, 0, 2, 0, 1, 0, 0, 0, 0, 0, 0, 1, 0, 0</text>\r\n",
       "<text text-anchor=\"start\" x=\"119\" y=\"-7.8\" font-family=\"Helvetica,sans-Serif\" font-size=\"14.00\">0, 0, 0]</text>\r\n",
       "</g>\r\n",
       "<!-- 0&#45;&gt;1 -->\r\n",
       "<g id=\"edge1\" class=\"edge\"><title>0&#45;&gt;1</title>\r\n",
       "<path fill=\"none\" stroke=\"black\" d=\"M233.006,-118.865C221.485,-109.302 209.399,-99.2708 197.914,-89.7385\"/>\r\n",
       "<polygon fill=\"black\" stroke=\"black\" points=\"200.004,-86.9245 190.073,-83.231 195.533,-92.3109 200.004,-86.9245\"/>\r\n",
       "<text text-anchor=\"middle\" x=\"192.386\" y=\"-104.424\" font-family=\"Helvetica,sans-Serif\" font-size=\"14.00\">True</text>\r\n",
       "</g>\r\n",
       "<!-- 2 -->\r\n",
       "<g id=\"node3\" class=\"node\"><title>2</title>\r\n",
       "<path fill=\"#6a39e5\" fill-opacity=\"0.015686\" stroke=\"black\" d=\"M570,-83C570,-83 312,-83 312,-83 306,-83 300,-77 300,-71 300,-71 300,-12 300,-12 300,-6 306,-0 312,-0 312,-0 570,-0 570,-0 576,-0 582,-6 582,-12 582,-12 582,-71 582,-71 582,-77 576,-83 570,-83\"/>\r\n",
       "<text text-anchor=\"start\" x=\"403.5\" y=\"-67.8\" font-family=\"Helvetica,sans-Serif\" font-size=\"14.00\">gini = 0.893</text>\r\n",
       "<text text-anchor=\"start\" x=\"397.5\" y=\"-52.8\" font-family=\"Helvetica,sans-Serif\" font-size=\"14.00\">samples = 70</text>\r\n",
       "<text text-anchor=\"start\" x=\"308\" y=\"-37.8\" font-family=\"Helvetica,sans-Serif\" font-size=\"14.00\">value = [0, 0, 0, 0, 0, 0, 0, 0, 0, 0, 1, 0, 0, 0</text>\r\n",
       "<text text-anchor=\"start\" x=\"326\" y=\"-22.8\" font-family=\"Helvetica,sans-Serif\" font-size=\"14.00\">1, 2, 2, 1, 11, 2, 12, 1, 9, 2, 1, 8, 1, 5</text>\r\n",
       "<text text-anchor=\"start\" x=\"419\" y=\"-7.8\" font-family=\"Helvetica,sans-Serif\" font-size=\"14.00\">2, 8, 1]</text>\r\n",
       "</g>\r\n",
       "<!-- 0&#45;&gt;2 -->\r\n",
       "<g id=\"edge2\" class=\"edge\"><title>0&#45;&gt;2</title>\r\n",
       "<path fill=\"none\" stroke=\"black\" d=\"M348.994,-118.865C360.515,-109.302 372.601,-99.2708 384.086,-89.7385\"/>\r\n",
       "<polygon fill=\"black\" stroke=\"black\" points=\"386.467,-92.3109 391.927,-83.231 381.996,-86.9245 386.467,-92.3109\"/>\r\n",
       "<text text-anchor=\"middle\" x=\"389.614\" y=\"-104.424\" font-family=\"Helvetica,sans-Serif\" font-size=\"14.00\">False</text>\r\n",
       "</g>\r\n",
       "</g>\r\n",
       "</svg>\r\n"
      ],
      "text/plain": [
       "<graphviz.files.Source at 0x20494385080>"
      ]
     },
     "execution_count": 17,
     "metadata": {},
     "output_type": "execute_result"
    }
   ],
   "source": [
    "dectree = DecisionTreeClassifier(max_depth = 1)\n",
    "dectree.fit(dataset_Weight, dataset_Height)\n",
    "# Export the Decision Tree as a dot object\n",
    "treedot = export_graphviz(dectree,\n",
    "                          feature_names = dataset_Height.columns,\n",
    "                          out_file = None,\n",
    "                          filled = True,\n",
    "                          rounded = True,\n",
    "                          special_characters = True)\n",
    "# Render using graphviz\n",
    "graphviz.Source(treedot)"
   ]
  },
  {
   "cell_type": "markdown",
   "metadata": {},
   "source": [
    "### Analysis into Sports and its Events"
   ]
  },
  {
   "cell_type": "code",
   "execution_count": 18,
   "metadata": {},
   "outputs": [
    {
     "name": "stdout",
     "output_type": "stream",
     "text": [
      "There are 3058 data points in Bobsleigh_Data.\n"
     ]
    },
    {
     "data": {
      "text/html": [
       "<div>\n",
       "<style scoped>\n",
       "    .dataframe tbody tr th:only-of-type {\n",
       "        vertical-align: middle;\n",
       "    }\n",
       "\n",
       "    .dataframe tbody tr th {\n",
       "        vertical-align: top;\n",
       "    }\n",
       "\n",
       "    .dataframe thead th {\n",
       "        text-align: right;\n",
       "    }\n",
       "</style>\n",
       "<table border=\"1\" class=\"dataframe\">\n",
       "  <thead>\n",
       "    <tr style=\"text-align: right;\">\n",
       "      <th></th>\n",
       "      <th>ID</th>\n",
       "      <th>Name</th>\n",
       "      <th>Sex</th>\n",
       "      <th>Age</th>\n",
       "      <th>Height</th>\n",
       "      <th>Weight</th>\n",
       "      <th>Team</th>\n",
       "      <th>NOC</th>\n",
       "      <th>Games</th>\n",
       "      <th>Year</th>\n",
       "      <th>Season</th>\n",
       "      <th>City</th>\n",
       "      <th>Sport</th>\n",
       "      <th>Event</th>\n",
       "      <th>Medal</th>\n",
       "    </tr>\n",
       "  </thead>\n",
       "  <tbody>\n",
       "    <tr>\n",
       "      <th>99</th>\n",
       "      <td>35</td>\n",
       "      <td>Dagfinn Sverre Aarskog</td>\n",
       "      <td>M</td>\n",
       "      <td>24.0</td>\n",
       "      <td>190.0</td>\n",
       "      <td>98.0</td>\n",
       "      <td>Norway</td>\n",
       "      <td>NOR</td>\n",
       "      <td>1998 Winter</td>\n",
       "      <td>1998</td>\n",
       "      <td>Winter</td>\n",
       "      <td>Nagano</td>\n",
       "      <td>Bobsleigh</td>\n",
       "      <td>Bobsleigh Men's Four</td>\n",
       "      <td>NaN</td>\n",
       "    </tr>\n",
       "    <tr>\n",
       "      <th>626</th>\n",
       "      <td>363</td>\n",
       "      <td>Kazumi Abe</td>\n",
       "      <td>M</td>\n",
       "      <td>24.0</td>\n",
       "      <td>178.0</td>\n",
       "      <td>67.0</td>\n",
       "      <td>Japan-1</td>\n",
       "      <td>JPN</td>\n",
       "      <td>1972 Winter</td>\n",
       "      <td>1972</td>\n",
       "      <td>Winter</td>\n",
       "      <td>Sapporo</td>\n",
       "      <td>Bobsleigh</td>\n",
       "      <td>Bobsleigh Men's Two</td>\n",
       "      <td>NaN</td>\n",
       "    </tr>\n",
       "    <tr>\n",
       "      <th>627</th>\n",
       "      <td>363</td>\n",
       "      <td>Kazumi Abe</td>\n",
       "      <td>M</td>\n",
       "      <td>24.0</td>\n",
       "      <td>178.0</td>\n",
       "      <td>67.0</td>\n",
       "      <td>Japan-1</td>\n",
       "      <td>JPN</td>\n",
       "      <td>1972 Winter</td>\n",
       "      <td>1972</td>\n",
       "      <td>Winter</td>\n",
       "      <td>Sapporo</td>\n",
       "      <td>Bobsleigh</td>\n",
       "      <td>Bobsleigh Men's Four</td>\n",
       "      <td>NaN</td>\n",
       "    </tr>\n",
       "    <tr>\n",
       "      <th>628</th>\n",
       "      <td>363</td>\n",
       "      <td>Kazumi Abe</td>\n",
       "      <td>M</td>\n",
       "      <td>28.0</td>\n",
       "      <td>178.0</td>\n",
       "      <td>67.0</td>\n",
       "      <td>Japan-1</td>\n",
       "      <td>JPN</td>\n",
       "      <td>1976 Winter</td>\n",
       "      <td>1976</td>\n",
       "      <td>Winter</td>\n",
       "      <td>Innsbruck</td>\n",
       "      <td>Bobsleigh</td>\n",
       "      <td>Bobsleigh Men's Two</td>\n",
       "      <td>NaN</td>\n",
       "    </tr>\n",
       "    <tr>\n",
       "      <th>629</th>\n",
       "      <td>363</td>\n",
       "      <td>Kazumi Abe</td>\n",
       "      <td>M</td>\n",
       "      <td>28.0</td>\n",
       "      <td>178.0</td>\n",
       "      <td>67.0</td>\n",
       "      <td>Japan</td>\n",
       "      <td>JPN</td>\n",
       "      <td>1976 Winter</td>\n",
       "      <td>1976</td>\n",
       "      <td>Winter</td>\n",
       "      <td>Innsbruck</td>\n",
       "      <td>Bobsleigh</td>\n",
       "      <td>Bobsleigh Men's Four</td>\n",
       "      <td>NaN</td>\n",
       "    </tr>\n",
       "    <tr>\n",
       "      <th>978</th>\n",
       "      <td>550</td>\n",
       "      <td>Dmitry Vladimirovich Abramovich</td>\n",
       "      <td>M</td>\n",
       "      <td>27.0</td>\n",
       "      <td>182.0</td>\n",
       "      <td>96.0</td>\n",
       "      <td>Russia-2</td>\n",
       "      <td>RUS</td>\n",
       "      <td>2010 Winter</td>\n",
       "      <td>2010</td>\n",
       "      <td>Winter</td>\n",
       "      <td>Vancouver</td>\n",
       "      <td>Bobsleigh</td>\n",
       "      <td>Bobsleigh Men's Two</td>\n",
       "      <td>NaN</td>\n",
       "    </tr>\n",
       "    <tr>\n",
       "      <th>979</th>\n",
       "      <td>550</td>\n",
       "      <td>Dmitry Vladimirovich Abramovich</td>\n",
       "      <td>M</td>\n",
       "      <td>27.0</td>\n",
       "      <td>182.0</td>\n",
       "      <td>96.0</td>\n",
       "      <td>Russia-1</td>\n",
       "      <td>RUS</td>\n",
       "      <td>2010 Winter</td>\n",
       "      <td>2010</td>\n",
       "      <td>Winter</td>\n",
       "      <td>Vancouver</td>\n",
       "      <td>Bobsleigh</td>\n",
       "      <td>Bobsleigh Men's Four</td>\n",
       "      <td>NaN</td>\n",
       "    </tr>\n",
       "    <tr>\n",
       "      <th>1187</th>\n",
       "      <td>665</td>\n",
       "      <td>Gilbert Achard-Picard</td>\n",
       "      <td>M</td>\n",
       "      <td>29.0</td>\n",
       "      <td>NaN</td>\n",
       "      <td>NaN</td>\n",
       "      <td>France-2</td>\n",
       "      <td>FRA</td>\n",
       "      <td>1948 Winter</td>\n",
       "      <td>1948</td>\n",
       "      <td>Winter</td>\n",
       "      <td>Sankt Moritz</td>\n",
       "      <td>Bobsleigh</td>\n",
       "      <td>Bobsleigh Men's Four</td>\n",
       "      <td>NaN</td>\n",
       "    </tr>\n",
       "    <tr>\n",
       "      <th>1253</th>\n",
       "      <td>705</td>\n",
       "      <td>Donat Acklin</td>\n",
       "      <td>M</td>\n",
       "      <td>22.0</td>\n",
       "      <td>190.0</td>\n",
       "      <td>99.0</td>\n",
       "      <td>Switzerland-2</td>\n",
       "      <td>SUI</td>\n",
       "      <td>1988 Winter</td>\n",
       "      <td>1988</td>\n",
       "      <td>Winter</td>\n",
       "      <td>Calgary</td>\n",
       "      <td>Bobsleigh</td>\n",
       "      <td>Bobsleigh Men's Two</td>\n",
       "      <td>NaN</td>\n",
       "    </tr>\n",
       "    <tr>\n",
       "      <th>1254</th>\n",
       "      <td>705</td>\n",
       "      <td>Donat Acklin</td>\n",
       "      <td>M</td>\n",
       "      <td>26.0</td>\n",
       "      <td>190.0</td>\n",
       "      <td>99.0</td>\n",
       "      <td>Switzerland-1</td>\n",
       "      <td>SUI</td>\n",
       "      <td>1992 Winter</td>\n",
       "      <td>1992</td>\n",
       "      <td>Winter</td>\n",
       "      <td>Albertville</td>\n",
       "      <td>Bobsleigh</td>\n",
       "      <td>Bobsleigh Men's Two</td>\n",
       "      <td>Gold</td>\n",
       "    </tr>\n",
       "    <tr>\n",
       "      <th>1255</th>\n",
       "      <td>705</td>\n",
       "      <td>Donat Acklin</td>\n",
       "      <td>M</td>\n",
       "      <td>26.0</td>\n",
       "      <td>190.0</td>\n",
       "      <td>99.0</td>\n",
       "      <td>Switzerland-1</td>\n",
       "      <td>SUI</td>\n",
       "      <td>1992 Winter</td>\n",
       "      <td>1992</td>\n",
       "      <td>Winter</td>\n",
       "      <td>Albertville</td>\n",
       "      <td>Bobsleigh</td>\n",
       "      <td>Bobsleigh Men's Four</td>\n",
       "      <td>Bronze</td>\n",
       "    </tr>\n",
       "    <tr>\n",
       "      <th>1256</th>\n",
       "      <td>705</td>\n",
       "      <td>Donat Acklin</td>\n",
       "      <td>M</td>\n",
       "      <td>28.0</td>\n",
       "      <td>190.0</td>\n",
       "      <td>99.0</td>\n",
       "      <td>Switzerland-1</td>\n",
       "      <td>SUI</td>\n",
       "      <td>1994 Winter</td>\n",
       "      <td>1994</td>\n",
       "      <td>Winter</td>\n",
       "      <td>Lillehammer</td>\n",
       "      <td>Bobsleigh</td>\n",
       "      <td>Bobsleigh Men's Two</td>\n",
       "      <td>Gold</td>\n",
       "    </tr>\n",
       "    <tr>\n",
       "      <th>1257</th>\n",
       "      <td>705</td>\n",
       "      <td>Donat Acklin</td>\n",
       "      <td>M</td>\n",
       "      <td>28.0</td>\n",
       "      <td>190.0</td>\n",
       "      <td>99.0</td>\n",
       "      <td>Switzerland-1</td>\n",
       "      <td>SUI</td>\n",
       "      <td>1994 Winter</td>\n",
       "      <td>1994</td>\n",
       "      <td>Winter</td>\n",
       "      <td>Lillehammer</td>\n",
       "      <td>Bobsleigh</td>\n",
       "      <td>Bobsleigh Men's Four</td>\n",
       "      <td>Silver</td>\n",
       "    </tr>\n",
       "    <tr>\n",
       "      <th>1258</th>\n",
       "      <td>706</td>\n",
       "      <td>Guido Acklin</td>\n",
       "      <td>M</td>\n",
       "      <td>24.0</td>\n",
       "      <td>200.0</td>\n",
       "      <td>104.0</td>\n",
       "      <td>Switzerland-2</td>\n",
       "      <td>SUI</td>\n",
       "      <td>1994 Winter</td>\n",
       "      <td>1994</td>\n",
       "      <td>Winter</td>\n",
       "      <td>Lillehammer</td>\n",
       "      <td>Bobsleigh</td>\n",
       "      <td>Bobsleigh Men's Two</td>\n",
       "      <td>Silver</td>\n",
       "    </tr>\n",
       "    <tr>\n",
       "      <th>1259</th>\n",
       "      <td>706</td>\n",
       "      <td>Guido Acklin</td>\n",
       "      <td>M</td>\n",
       "      <td>28.0</td>\n",
       "      <td>200.0</td>\n",
       "      <td>104.0</td>\n",
       "      <td>Switzerland-1</td>\n",
       "      <td>SUI</td>\n",
       "      <td>1998 Winter</td>\n",
       "      <td>1998</td>\n",
       "      <td>Winter</td>\n",
       "      <td>Nagano</td>\n",
       "      <td>Bobsleigh</td>\n",
       "      <td>Bobsleigh Men's Two</td>\n",
       "      <td>NaN</td>\n",
       "    </tr>\n",
       "    <tr>\n",
       "      <th>1260</th>\n",
       "      <td>706</td>\n",
       "      <td>Guido Acklin</td>\n",
       "      <td>M</td>\n",
       "      <td>32.0</td>\n",
       "      <td>200.0</td>\n",
       "      <td>104.0</td>\n",
       "      <td>Switzerland-2</td>\n",
       "      <td>SUI</td>\n",
       "      <td>2002 Winter</td>\n",
       "      <td>2002</td>\n",
       "      <td>Winter</td>\n",
       "      <td>Salt Lake City</td>\n",
       "      <td>Bobsleigh</td>\n",
       "      <td>Bobsleigh Men's Four</td>\n",
       "      <td>NaN</td>\n",
       "    </tr>\n",
       "    <tr>\n",
       "      <th>1363</th>\n",
       "      <td>770</td>\n",
       "      <td>Marcus Adam</td>\n",
       "      <td>M</td>\n",
       "      <td>33.0</td>\n",
       "      <td>182.0</td>\n",
       "      <td>82.0</td>\n",
       "      <td>Great Britain-1</td>\n",
       "      <td>GBR</td>\n",
       "      <td>2002 Winter</td>\n",
       "      <td>2002</td>\n",
       "      <td>Winter</td>\n",
       "      <td>Salt Lake City</td>\n",
       "      <td>Bobsleigh</td>\n",
       "      <td>Bobsleigh Men's Two</td>\n",
       "      <td>NaN</td>\n",
       "    </tr>\n",
       "    <tr>\n",
       "      <th>1720</th>\n",
       "      <td>956</td>\n",
       "      <td>Richard \"Richy\"  Adjei</td>\n",
       "      <td>M</td>\n",
       "      <td>27.0</td>\n",
       "      <td>190.0</td>\n",
       "      <td>110.0</td>\n",
       "      <td>Germany-2</td>\n",
       "      <td>GER</td>\n",
       "      <td>2010 Winter</td>\n",
       "      <td>2010</td>\n",
       "      <td>Winter</td>\n",
       "      <td>Vancouver</td>\n",
       "      <td>Bobsleigh</td>\n",
       "      <td>Bobsleigh Men's Two</td>\n",
       "      <td>Silver</td>\n",
       "    </tr>\n",
       "    <tr>\n",
       "      <th>1721</th>\n",
       "      <td>956</td>\n",
       "      <td>Richard \"Richy\"  Adjei</td>\n",
       "      <td>M</td>\n",
       "      <td>27.0</td>\n",
       "      <td>190.0</td>\n",
       "      <td>110.0</td>\n",
       "      <td>Germany-2</td>\n",
       "      <td>GER</td>\n",
       "      <td>2010 Winter</td>\n",
       "      <td>2010</td>\n",
       "      <td>Winter</td>\n",
       "      <td>Vancouver</td>\n",
       "      <td>Bobsleigh</td>\n",
       "      <td>Bobsleigh Men's Four</td>\n",
       "      <td>NaN</td>\n",
       "    </tr>\n",
       "    <tr>\n",
       "      <th>1892</th>\n",
       "      <td>1040</td>\n",
       "      <td>Urs Aeberhard</td>\n",
       "      <td>M</td>\n",
       "      <td>30.0</td>\n",
       "      <td>180.0</td>\n",
       "      <td>98.0</td>\n",
       "      <td>Switzerland-2</td>\n",
       "      <td>SUI</td>\n",
       "      <td>2002 Winter</td>\n",
       "      <td>2002</td>\n",
       "      <td>Winter</td>\n",
       "      <td>Salt Lake City</td>\n",
       "      <td>Bobsleigh</td>\n",
       "      <td>Bobsleigh Men's Four</td>\n",
       "      <td>NaN</td>\n",
       "    </tr>\n",
       "    <tr>\n",
       "      <th>1898</th>\n",
       "      <td>1045</td>\n",
       "      <td>Christian Aebli</td>\n",
       "      <td>M</td>\n",
       "      <td>27.0</td>\n",
       "      <td>180.0</td>\n",
       "      <td>95.0</td>\n",
       "      <td>Switzerland-2</td>\n",
       "      <td>SUI</td>\n",
       "      <td>2006 Winter</td>\n",
       "      <td>2006</td>\n",
       "      <td>Winter</td>\n",
       "      <td>Torino</td>\n",
       "      <td>Bobsleigh</td>\n",
       "      <td>Bobsleigh Men's Four</td>\n",
       "      <td>NaN</td>\n",
       "    </tr>\n",
       "  </tbody>\n",
       "</table>\n",
       "</div>"
      ],
      "text/plain": [
       "        ID                             Name Sex   Age  Height  Weight  \\\n",
       "99      35           Dagfinn Sverre Aarskog   M  24.0   190.0    98.0   \n",
       "626    363                       Kazumi Abe   M  24.0   178.0    67.0   \n",
       "627    363                       Kazumi Abe   M  24.0   178.0    67.0   \n",
       "628    363                       Kazumi Abe   M  28.0   178.0    67.0   \n",
       "629    363                       Kazumi Abe   M  28.0   178.0    67.0   \n",
       "978    550  Dmitry Vladimirovich Abramovich   M  27.0   182.0    96.0   \n",
       "979    550  Dmitry Vladimirovich Abramovich   M  27.0   182.0    96.0   \n",
       "1187   665            Gilbert Achard-Picard   M  29.0     NaN     NaN   \n",
       "1253   705                     Donat Acklin   M  22.0   190.0    99.0   \n",
       "1254   705                     Donat Acklin   M  26.0   190.0    99.0   \n",
       "1255   705                     Donat Acklin   M  26.0   190.0    99.0   \n",
       "1256   705                     Donat Acklin   M  28.0   190.0    99.0   \n",
       "1257   705                     Donat Acklin   M  28.0   190.0    99.0   \n",
       "1258   706                     Guido Acklin   M  24.0   200.0   104.0   \n",
       "1259   706                     Guido Acklin   M  28.0   200.0   104.0   \n",
       "1260   706                     Guido Acklin   M  32.0   200.0   104.0   \n",
       "1363   770                      Marcus Adam   M  33.0   182.0    82.0   \n",
       "1720   956           Richard \"Richy\"  Adjei   M  27.0   190.0   110.0   \n",
       "1721   956           Richard \"Richy\"  Adjei   M  27.0   190.0   110.0   \n",
       "1892  1040                    Urs Aeberhard   M  30.0   180.0    98.0   \n",
       "1898  1045                  Christian Aebli   M  27.0   180.0    95.0   \n",
       "\n",
       "                 Team  NOC        Games  Year  Season            City  \\\n",
       "99             Norway  NOR  1998 Winter  1998  Winter          Nagano   \n",
       "626           Japan-1  JPN  1972 Winter  1972  Winter         Sapporo   \n",
       "627           Japan-1  JPN  1972 Winter  1972  Winter         Sapporo   \n",
       "628           Japan-1  JPN  1976 Winter  1976  Winter       Innsbruck   \n",
       "629             Japan  JPN  1976 Winter  1976  Winter       Innsbruck   \n",
       "978          Russia-2  RUS  2010 Winter  2010  Winter       Vancouver   \n",
       "979          Russia-1  RUS  2010 Winter  2010  Winter       Vancouver   \n",
       "1187         France-2  FRA  1948 Winter  1948  Winter    Sankt Moritz   \n",
       "1253    Switzerland-2  SUI  1988 Winter  1988  Winter         Calgary   \n",
       "1254    Switzerland-1  SUI  1992 Winter  1992  Winter     Albertville   \n",
       "1255    Switzerland-1  SUI  1992 Winter  1992  Winter     Albertville   \n",
       "1256    Switzerland-1  SUI  1994 Winter  1994  Winter     Lillehammer   \n",
       "1257    Switzerland-1  SUI  1994 Winter  1994  Winter     Lillehammer   \n",
       "1258    Switzerland-2  SUI  1994 Winter  1994  Winter     Lillehammer   \n",
       "1259    Switzerland-1  SUI  1998 Winter  1998  Winter          Nagano   \n",
       "1260    Switzerland-2  SUI  2002 Winter  2002  Winter  Salt Lake City   \n",
       "1363  Great Britain-1  GBR  2002 Winter  2002  Winter  Salt Lake City   \n",
       "1720        Germany-2  GER  2010 Winter  2010  Winter       Vancouver   \n",
       "1721        Germany-2  GER  2010 Winter  2010  Winter       Vancouver   \n",
       "1892    Switzerland-2  SUI  2002 Winter  2002  Winter  Salt Lake City   \n",
       "1898    Switzerland-2  SUI  2006 Winter  2006  Winter          Torino   \n",
       "\n",
       "          Sport                 Event   Medal  \n",
       "99    Bobsleigh  Bobsleigh Men's Four     NaN  \n",
       "626   Bobsleigh   Bobsleigh Men's Two     NaN  \n",
       "627   Bobsleigh  Bobsleigh Men's Four     NaN  \n",
       "628   Bobsleigh   Bobsleigh Men's Two     NaN  \n",
       "629   Bobsleigh  Bobsleigh Men's Four     NaN  \n",
       "978   Bobsleigh   Bobsleigh Men's Two     NaN  \n",
       "979   Bobsleigh  Bobsleigh Men's Four     NaN  \n",
       "1187  Bobsleigh  Bobsleigh Men's Four     NaN  \n",
       "1253  Bobsleigh   Bobsleigh Men's Two     NaN  \n",
       "1254  Bobsleigh   Bobsleigh Men's Two    Gold  \n",
       "1255  Bobsleigh  Bobsleigh Men's Four  Bronze  \n",
       "1256  Bobsleigh   Bobsleigh Men's Two    Gold  \n",
       "1257  Bobsleigh  Bobsleigh Men's Four  Silver  \n",
       "1258  Bobsleigh   Bobsleigh Men's Two  Silver  \n",
       "1259  Bobsleigh   Bobsleigh Men's Two     NaN  \n",
       "1260  Bobsleigh  Bobsleigh Men's Four     NaN  \n",
       "1363  Bobsleigh   Bobsleigh Men's Two     NaN  \n",
       "1720  Bobsleigh   Bobsleigh Men's Two  Silver  \n",
       "1721  Bobsleigh  Bobsleigh Men's Four     NaN  \n",
       "1892  Bobsleigh  Bobsleigh Men's Four     NaN  \n",
       "1898  Bobsleigh  Bobsleigh Men's Four     NaN  "
      ]
     },
     "execution_count": 18,
     "metadata": {},
     "output_type": "execute_result"
    }
   ],
   "source": [
    "Bobsleigh_Data = pd.DataFrame(athleteData[athleteData[\"Sport\"] == \"Bobsleigh\"])\n",
    "print(\"There are\", len(Bobsleigh_Data), \"data points in Bobsleigh_Data.\")\n",
    "Bobsleigh_Data.head(21)"
   ]
  },
  {
   "cell_type": "code",
   "execution_count": null,
   "metadata": {},
   "outputs": [],
   "source": []
  }
 ],
 "metadata": {
  "kernelspec": {
   "display_name": "Python 3",
   "language": "python",
   "name": "python3"
  },
  "language_info": {
   "codemirror_mode": {
    "name": "ipython",
    "version": 3
   },
   "file_extension": ".py",
   "mimetype": "text/x-python",
   "name": "python",
   "nbconvert_exporter": "python",
   "pygments_lexer": "ipython3",
   "version": "3.7.1"
  }
 },
 "nbformat": 4,
 "nbformat_minor": 2
}
