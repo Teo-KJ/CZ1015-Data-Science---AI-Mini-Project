{
 "cells": [
  {
   "cell_type": "markdown",
   "metadata": {},
   "source": [
    "# 120 Years of Olympics History\n",
    "This analysis is done for the past 120 years of Olympic editions, to analyse on the effect of various factors on the performance of the athletes and NOC teams."
   ]
  },
  {
   "cell_type": "code",
   "execution_count": 1,
   "metadata": {},
   "outputs": [],
   "source": [
    "import numpy as np\n",
    "import pandas as pd\n",
    "import seaborn as sb\n",
    "import matplotlib.pyplot as plt\n",
    "sb.set()"
   ]
  },
  {
   "cell_type": "code",
   "execution_count": 2,
   "metadata": {},
   "outputs": [
    {
     "data": {
      "text/html": [
       "<div>\n",
       "<style scoped>\n",
       "    .dataframe tbody tr th:only-of-type {\n",
       "        vertical-align: middle;\n",
       "    }\n",
       "\n",
       "    .dataframe tbody tr th {\n",
       "        vertical-align: top;\n",
       "    }\n",
       "\n",
       "    .dataframe thead th {\n",
       "        text-align: right;\n",
       "    }\n",
       "</style>\n",
       "<table border=\"1\" class=\"dataframe\">\n",
       "  <thead>\n",
       "    <tr style=\"text-align: right;\">\n",
       "      <th></th>\n",
       "      <th>ID</th>\n",
       "      <th>Name</th>\n",
       "      <th>Sex</th>\n",
       "      <th>Age</th>\n",
       "      <th>Height</th>\n",
       "      <th>Weight</th>\n",
       "      <th>Team</th>\n",
       "      <th>NOC</th>\n",
       "      <th>Games</th>\n",
       "      <th>Year</th>\n",
       "      <th>Season</th>\n",
       "      <th>City</th>\n",
       "      <th>Sport</th>\n",
       "      <th>Event</th>\n",
       "      <th>Medal</th>\n",
       "    </tr>\n",
       "  </thead>\n",
       "  <tbody>\n",
       "    <tr>\n",
       "      <th>0</th>\n",
       "      <td>1</td>\n",
       "      <td>A Dijiang</td>\n",
       "      <td>M</td>\n",
       "      <td>24.0</td>\n",
       "      <td>180.0</td>\n",
       "      <td>80.0</td>\n",
       "      <td>China</td>\n",
       "      <td>CHN</td>\n",
       "      <td>1992 Summer</td>\n",
       "      <td>1992</td>\n",
       "      <td>Summer</td>\n",
       "      <td>Barcelona</td>\n",
       "      <td>Basketball</td>\n",
       "      <td>Basketball Men's Basketball</td>\n",
       "      <td>NaN</td>\n",
       "    </tr>\n",
       "    <tr>\n",
       "      <th>1</th>\n",
       "      <td>2</td>\n",
       "      <td>A Lamusi</td>\n",
       "      <td>M</td>\n",
       "      <td>23.0</td>\n",
       "      <td>170.0</td>\n",
       "      <td>60.0</td>\n",
       "      <td>China</td>\n",
       "      <td>CHN</td>\n",
       "      <td>2012 Summer</td>\n",
       "      <td>2012</td>\n",
       "      <td>Summer</td>\n",
       "      <td>London</td>\n",
       "      <td>Judo</td>\n",
       "      <td>Judo Men's Extra-Lightweight</td>\n",
       "      <td>NaN</td>\n",
       "    </tr>\n",
       "    <tr>\n",
       "      <th>2</th>\n",
       "      <td>3</td>\n",
       "      <td>Gunnar Nielsen Aaby</td>\n",
       "      <td>M</td>\n",
       "      <td>24.0</td>\n",
       "      <td>NaN</td>\n",
       "      <td>NaN</td>\n",
       "      <td>Denmark</td>\n",
       "      <td>DEN</td>\n",
       "      <td>1920 Summer</td>\n",
       "      <td>1920</td>\n",
       "      <td>Summer</td>\n",
       "      <td>Antwerpen</td>\n",
       "      <td>Football</td>\n",
       "      <td>Football Men's Football</td>\n",
       "      <td>NaN</td>\n",
       "    </tr>\n",
       "    <tr>\n",
       "      <th>3</th>\n",
       "      <td>4</td>\n",
       "      <td>Edgar Lindenau Aabye</td>\n",
       "      <td>M</td>\n",
       "      <td>34.0</td>\n",
       "      <td>NaN</td>\n",
       "      <td>NaN</td>\n",
       "      <td>Denmark/Sweden</td>\n",
       "      <td>DEN</td>\n",
       "      <td>1900 Summer</td>\n",
       "      <td>1900</td>\n",
       "      <td>Summer</td>\n",
       "      <td>Paris</td>\n",
       "      <td>Tug-Of-War</td>\n",
       "      <td>Tug-Of-War Men's Tug-Of-War</td>\n",
       "      <td>Gold</td>\n",
       "    </tr>\n",
       "    <tr>\n",
       "      <th>4</th>\n",
       "      <td>5</td>\n",
       "      <td>Christine Jacoba Aaftink</td>\n",
       "      <td>F</td>\n",
       "      <td>21.0</td>\n",
       "      <td>185.0</td>\n",
       "      <td>82.0</td>\n",
       "      <td>Netherlands</td>\n",
       "      <td>NED</td>\n",
       "      <td>1988 Winter</td>\n",
       "      <td>1988</td>\n",
       "      <td>Winter</td>\n",
       "      <td>Calgary</td>\n",
       "      <td>Speed Skating</td>\n",
       "      <td>Speed Skating Women's 500 metres</td>\n",
       "      <td>NaN</td>\n",
       "    </tr>\n",
       "  </tbody>\n",
       "</table>\n",
       "</div>"
      ],
      "text/plain": [
       "   ID                      Name Sex   Age  Height  Weight            Team  \\\n",
       "0   1                 A Dijiang   M  24.0   180.0    80.0           China   \n",
       "1   2                  A Lamusi   M  23.0   170.0    60.0           China   \n",
       "2   3       Gunnar Nielsen Aaby   M  24.0     NaN     NaN         Denmark   \n",
       "3   4      Edgar Lindenau Aabye   M  34.0     NaN     NaN  Denmark/Sweden   \n",
       "4   5  Christine Jacoba Aaftink   F  21.0   185.0    82.0     Netherlands   \n",
       "\n",
       "   NOC        Games  Year  Season       City          Sport  \\\n",
       "0  CHN  1992 Summer  1992  Summer  Barcelona     Basketball   \n",
       "1  CHN  2012 Summer  2012  Summer     London           Judo   \n",
       "2  DEN  1920 Summer  1920  Summer  Antwerpen       Football   \n",
       "3  DEN  1900 Summer  1900  Summer      Paris     Tug-Of-War   \n",
       "4  NED  1988 Winter  1988  Winter    Calgary  Speed Skating   \n",
       "\n",
       "                              Event Medal  \n",
       "0       Basketball Men's Basketball   NaN  \n",
       "1      Judo Men's Extra-Lightweight   NaN  \n",
       "2           Football Men's Football   NaN  \n",
       "3       Tug-Of-War Men's Tug-Of-War  Gold  \n",
       "4  Speed Skating Women's 500 metres   NaN  "
      ]
     },
     "execution_count": 2,
     "metadata": {},
     "output_type": "execute_result"
    }
   ],
   "source": [
    "athleteData = pd.read_csv('athlete_events.csv')\n",
    "athleteData.head()"
   ]
  },
  {
   "cell_type": "code",
   "execution_count": 3,
   "metadata": {},
   "outputs": [
    {
     "name": "stdout",
     "output_type": "stream",
     "text": [
      "ID          int64\n",
      "Name       object\n",
      "Sex        object\n",
      "Age       float64\n",
      "Height    float64\n",
      "Weight    float64\n",
      "Team       object\n",
      "NOC        object\n",
      "Games      object\n",
      "Year        int64\n",
      "Season     object\n",
      "City       object\n",
      "Sport      object\n",
      "Event      object\n",
      "Medal      object\n",
      "dtype: object\n",
      "\n",
      "Total number of data:  271116\n"
     ]
    }
   ],
   "source": [
    "print(athleteData.dtypes)\n",
    "print(\"\\nTotal number of data: \", len(athleteData))"
   ]
  },
  {
   "cell_type": "markdown",
   "metadata": {},
   "source": [
    "### Athletes Profile"
   ]
  },
  {
   "cell_type": "code",
   "execution_count": 4,
   "metadata": {},
   "outputs": [
    {
     "name": "stdout",
     "output_type": "stream",
     "text": [
      "Number of Olympic Editions : 35\n",
      "\n",
      "Year with the No. of Athletes\n"
     ]
    },
    {
     "data": {
      "text/plain": [
       "<seaborn.axisgrid.FacetGrid at 0x1cace94c940>"
      ]
     },
     "execution_count": 4,
     "metadata": {},
     "output_type": "execute_result"
    },
    {
     "data": {
      "image/png": "[encoded data removed]",
      "text/plain": [
       "<Figure size 720x720 with 1 Axes>"
      ]
     },
     "metadata": {
      "needs_background": "light"
     },
     "output_type": "display_data"
    }
   ],
   "source": [
    "print(\"Number of Olympic Editions :\", len(athleteData[\"Year\"].unique()))\n",
    "# print(athleteData[\"Year\"].value_counts())\n",
    "print(\"\\nYear with the No. of Athletes\")\n",
    "sb.catplot(y = \"Year\", data = athleteData, kind = \"count\", height = 10)"
   ]
  },
  {
   "cell_type": "code",
   "execution_count": 5,
   "metadata": {},
   "outputs": [
    {
     "data": {
      "text/html": [
       "<div>\n",
       "<style scoped>\n",
       "    .dataframe tbody tr th:only-of-type {\n",
       "        vertical-align: middle;\n",
       "    }\n",
       "\n",
       "    .dataframe tbody tr th {\n",
       "        vertical-align: top;\n",
       "    }\n",
       "\n",
       "    .dataframe thead th {\n",
       "        text-align: right;\n",
       "    }\n",
       "</style>\n",
       "<table border=\"1\" class=\"dataframe\">\n",
       "  <thead>\n",
       "    <tr style=\"text-align: right;\">\n",
       "      <th></th>\n",
       "      <th>Height</th>\n",
       "    </tr>\n",
       "  </thead>\n",
       "  <tbody>\n",
       "    <tr>\n",
       "      <th>count</th>\n",
       "      <td>210945.00</td>\n",
       "    </tr>\n",
       "    <tr>\n",
       "      <th>mean</th>\n",
       "      <td>175.34</td>\n",
       "    </tr>\n",
       "    <tr>\n",
       "      <th>std</th>\n",
       "      <td>10.52</td>\n",
       "    </tr>\n",
       "    <tr>\n",
       "      <th>min</th>\n",
       "      <td>127.00</td>\n",
       "    </tr>\n",
       "    <tr>\n",
       "      <th>25%</th>\n",
       "      <td>168.00</td>\n",
       "    </tr>\n",
       "    <tr>\n",
       "      <th>50%</th>\n",
       "      <td>175.00</td>\n",
       "    </tr>\n",
       "    <tr>\n",
       "      <th>75%</th>\n",
       "      <td>183.00</td>\n",
       "    </tr>\n",
       "    <tr>\n",
       "      <th>max</th>\n",
       "      <td>226.00</td>\n",
       "    </tr>\n",
       "  </tbody>\n",
       "</table>\n",
       "</div>"
      ],
      "text/plain": [
       "          Height\n",
       "count  210945.00\n",
       "mean      175.34\n",
       "std        10.52\n",
       "min       127.00\n",
       "25%       168.00\n",
       "50%       175.00\n",
       "75%       183.00\n",
       "max       226.00"
      ]
     },
     "execution_count": 5,
     "metadata": {},
     "output_type": "execute_result"
    }
   ],
   "source": [
    "Height_NaN = pd.DataFrame(athleteData['Height'])\n",
    "Height = Height_NaN.dropna()\n",
    "Height.describe().round(2)"
   ]
  },
  {
   "cell_type": "code",
   "execution_count": 6,
   "metadata": {},
   "outputs": [
    {
     "data": {
      "text/html": [
       "<div>\n",
       "<style scoped>\n",
       "    .dataframe tbody tr th:only-of-type {\n",
       "        vertical-align: middle;\n",
       "    }\n",
       "\n",
       "    .dataframe tbody tr th {\n",
       "        vertical-align: top;\n",
       "    }\n",
       "\n",
       "    .dataframe thead th {\n",
       "        text-align: right;\n",
       "    }\n",
       "</style>\n",
       "<table border=\"1\" class=\"dataframe\">\n",
       "  <thead>\n",
       "    <tr style=\"text-align: right;\">\n",
       "      <th></th>\n",
       "      <th>Weight</th>\n",
       "    </tr>\n",
       "  </thead>\n",
       "  <tbody>\n",
       "    <tr>\n",
       "      <th>count</th>\n",
       "      <td>208241.00</td>\n",
       "    </tr>\n",
       "    <tr>\n",
       "      <th>mean</th>\n",
       "      <td>70.70</td>\n",
       "    </tr>\n",
       "    <tr>\n",
       "      <th>std</th>\n",
       "      <td>14.35</td>\n",
       "    </tr>\n",
       "    <tr>\n",
       "      <th>min</th>\n",
       "      <td>25.00</td>\n",
       "    </tr>\n",
       "    <tr>\n",
       "      <th>25%</th>\n",
       "      <td>60.00</td>\n",
       "    </tr>\n",
       "    <tr>\n",
       "      <th>50%</th>\n",
       "      <td>70.00</td>\n",
       "    </tr>\n",
       "    <tr>\n",
       "      <th>75%</th>\n",
       "      <td>79.00</td>\n",
       "    </tr>\n",
       "    <tr>\n",
       "      <th>max</th>\n",
       "      <td>214.00</td>\n",
       "    </tr>\n",
       "  </tbody>\n",
       "</table>\n",
       "</div>"
      ],
      "text/plain": [
       "          Weight\n",
       "count  208241.00\n",
       "mean       70.70\n",
       "std        14.35\n",
       "min        25.00\n",
       "25%        60.00\n",
       "50%        70.00\n",
       "75%        79.00\n",
       "max       214.00"
      ]
     },
     "execution_count": 6,
     "metadata": {},
     "output_type": "execute_result"
    }
   ],
   "source": [
    "Weight_NaN = pd.DataFrame(athleteData['Weight'])\n",
    "Weight = Weight_NaN.dropna()\n",
    "Weight.describe().round(2)"
   ]
  },
  {
   "cell_type": "code",
   "execution_count": 7,
   "metadata": {},
   "outputs": [
    {
     "data": {
      "text/html": [
       "<div>\n",
       "<style scoped>\n",
       "    .dataframe tbody tr th:only-of-type {\n",
       "        vertical-align: middle;\n",
       "    }\n",
       "\n",
       "    .dataframe tbody tr th {\n",
       "        vertical-align: top;\n",
       "    }\n",
       "\n",
       "    .dataframe thead th {\n",
       "        text-align: right;\n",
       "    }\n",
       "</style>\n",
       "<table border=\"1\" class=\"dataframe\">\n",
       "  <thead>\n",
       "    <tr style=\"text-align: right;\">\n",
       "      <th></th>\n",
       "      <th>Age</th>\n",
       "    </tr>\n",
       "  </thead>\n",
       "  <tbody>\n",
       "    <tr>\n",
       "      <th>count</th>\n",
       "      <td>261642.00</td>\n",
       "    </tr>\n",
       "    <tr>\n",
       "      <th>mean</th>\n",
       "      <td>25.56</td>\n",
       "    </tr>\n",
       "    <tr>\n",
       "      <th>std</th>\n",
       "      <td>6.39</td>\n",
       "    </tr>\n",
       "    <tr>\n",
       "      <th>min</th>\n",
       "      <td>10.00</td>\n",
       "    </tr>\n",
       "    <tr>\n",
       "      <th>25%</th>\n",
       "      <td>21.00</td>\n",
       "    </tr>\n",
       "    <tr>\n",
       "      <th>50%</th>\n",
       "      <td>24.00</td>\n",
       "    </tr>\n",
       "    <tr>\n",
       "      <th>75%</th>\n",
       "      <td>28.00</td>\n",
       "    </tr>\n",
       "    <tr>\n",
       "      <th>max</th>\n",
       "      <td>97.00</td>\n",
       "    </tr>\n",
       "  </tbody>\n",
       "</table>\n",
       "</div>"
      ],
      "text/plain": [
       "             Age\n",
       "count  261642.00\n",
       "mean       25.56\n",
       "std         6.39\n",
       "min        10.00\n",
       "25%        21.00\n",
       "50%        24.00\n",
       "75%        28.00\n",
       "max        97.00"
      ]
     },
     "execution_count": 7,
     "metadata": {},
     "output_type": "execute_result"
    }
   ],
   "source": [
    "Age_NaN = pd.DataFrame(athleteData['Age'])\n",
    "Age = Age_NaN.dropna()\n",
    "Age.describe().round(2)"
   ]
  },
  {
   "cell_type": "code",
   "execution_count": 8,
   "metadata": {},
   "outputs": [
    {
     "name": "stdout",
     "output_type": "stream",
     "text": [
      "M    196594\n",
      "F     74522\n",
      "Name: Sex, dtype: int64\n"
     ]
    },
    {
     "data": {
      "text/plain": [
       "<matplotlib.axes._subplots.AxesSubplot at 0x1cacff03a20>"
      ]
     },
     "execution_count": 8,
     "metadata": {},
     "output_type": "execute_result"
    },
    {
     "data": {
      "image/png": "[encoded data removed]",
      "text/plain": [
       "<Figure size 432x288 with 1 Axes>"
      ]
     },
     "metadata": {
      "needs_background": "light"
     },
     "output_type": "display_data"
    }
   ],
   "source": [
    "Sex_NaN = pd.DataFrame(athleteData['Sex'])\n",
    "Sex = Sex_NaN.dropna()\n",
    "print(athleteData['Sex'].value_counts())\n",
    "sb.countplot(athleteData[\"Sex\"])"
   ]
  },
  {
   "cell_type": "markdown",
   "metadata": {},
   "source": [
    "### Team Profile"
   ]
  },
  {
   "cell_type": "code",
   "execution_count": 9,
   "metadata": {},
   "outputs": [
    {
     "name": "stdout",
     "output_type": "stream",
     "text": [
      "Number of NOCs : 230\n",
      "Number of Teams : 765\n"
     ]
    }
   ],
   "source": [
    "print(\"Number of NOCs :\", len(athleteData[\"NOC\"].unique()))\n",
    "print(\"Number of Teams :\", len(athleteData[\"Event\"].unique()))"
   ]
  },
  {
   "cell_type": "code",
   "execution_count": 10,
   "metadata": {},
   "outputs": [
    {
     "name": "stdout",
     "output_type": "stream",
     "text": [
      "The top 10 number of athletes sent by NOCs\n"
     ]
    },
    {
     "data": {
      "text/plain": [
       "USA    18853\n",
       "FRA    12758\n",
       "GBR    12256\n",
       "ITA    10715\n",
       "GER     9830\n",
       "CAN     9733\n",
       "JPN     8444\n",
       "SWE     8339\n",
       "AUS     7638\n",
       "HUN     6607\n",
       "Name: NOC, dtype: int64"
      ]
     },
     "execution_count": 10,
     "metadata": {},
     "output_type": "execute_result"
    }
   ],
   "source": [
    "# import re\n",
    "# athleteData_clean = athleteData.copy()\n",
    "# athleteData_clean[\"Team\"] = athleteData_clean[\"Team\"].apply(lambda x: re.sub(r'(A North American Team)',r'United States', x))\n",
    "\n",
    "NOCnAthlete = pd.DataFrame(athleteData[['NOC', 'Name']])\n",
    "NOCnAthlete_top = NOCnAthlete['NOC'].value_counts()\n",
    "print(\"The top 10 number of athletes sent by NOCs\")\n",
    "NOCnAthlete_top.nlargest(10)"
   ]
  },
  {
   "cell_type": "markdown",
   "metadata": {},
   "source": [
    "### Sport and Events Profile"
   ]
  },
  {
   "cell_type": "code",
   "execution_count": 11,
   "metadata": {},
   "outputs": [
    {
     "name": "stdout",
     "output_type": "stream",
     "text": [
      "Number of Events : 765\n",
      "Number of Sports : 66\n"
     ]
    }
   ],
   "source": [
    "print(\"Number of Events :\", len(athleteData[\"Event\"].unique()))\n",
    "print(\"Number of Sports :\", len(athleteData[\"Sport\"].unique()))"
   ]
  },
  {
   "cell_type": "markdown",
   "metadata": {},
   "source": [
    "This could be the most popular sports in the history of Olympics"
   ]
  },
  {
   "cell_type": "code",
   "execution_count": 12,
   "metadata": {},
   "outputs": [
    {
     "name": "stdout",
     "output_type": "stream",
     "text": [
      "Athletics               38624\n",
      "Gymnastics              26707\n",
      "Swimming                23195\n",
      "Shooting                11448\n",
      "Cycling                 10859\n",
      "Fencing                 10735\n",
      "Rowing                  10595\n",
      "Cross Country Skiing     9133\n",
      "Alpine Skiing            8829\n",
      "Wrestling                7154\n",
      "Name: Sport, dtype: int64\n"
     ]
    }
   ],
   "source": [
    "print(athleteData['Sport'].value_counts().nlargest(10))"
   ]
  },
  {
   "cell_type": "markdown",
   "metadata": {},
   "source": [
    "### The Olympic Editions"
   ]
  },
  {
   "cell_type": "code",
   "execution_count": 13,
   "metadata": {},
   "outputs": [
    {
     "name": "stdout",
     "output_type": "stream",
     "text": [
      "Number of Olympic Editions : 35\n",
      "Number of Seasons : 2\n"
     ]
    }
   ],
   "source": [
    "print(\"Number of Olympic Editions :\", len(athleteData[\"Year\"].unique()))\n",
    "print(\"Number of Seasons :\", len(athleteData[\"Season\"].unique()))"
   ]
  },
  {
   "cell_type": "markdown",
   "metadata": {},
   "source": [
    "These are the cities that have hosted the Olympics since its inception."
   ]
  },
  {
   "cell_type": "code",
   "execution_count": 14,
   "metadata": {},
   "outputs": [
    {
     "name": "stdout",
     "output_type": "stream",
     "text": [
      "London                    22426\n",
      "Athina                    15556\n",
      "Sydney                    13821\n",
      "Atlanta                   13780\n",
      "Rio de Janeiro            13688\n",
      "Beijing                   13602\n",
      "Barcelona                 12977\n",
      "Los Angeles               12423\n",
      "Seoul                     12037\n",
      "Munich                    10304\n",
      "Montreal                   8641\n",
      "Mexico City                8588\n",
      "Helsinki                   8270\n",
      "Roma                       8119\n",
      "Tokyo                      7702\n",
      "Moskva                     7191\n",
      "Paris                      7169\n",
      "Berlin                     6506\n",
      "Amsterdam                  4992\n",
      "Sochi                      4891\n",
      "Melbourne                  4829\n",
      "Vancouver                  4402\n",
      "Torino                     4382\n",
      "Stockholm                  4338\n",
      "Antwerpen                  4292\n",
      "Salt Lake City             4109\n",
      "Innsbruck                  3639\n",
      "Nagano                     3605\n",
      "Albertville                3436\n",
      "Lillehammer                3160\n",
      "Calgary                    2639\n",
      "Sarajevo                   2134\n",
      "Lake Placid                2098\n",
      "Grenoble                   1891\n",
      "Sankt Moritz               1657\n",
      "Sapporo                    1655\n",
      "Cortina d'Ampezzo          1307\n",
      "St. Louis                  1301\n",
      "Squaw Valley               1116\n",
      "Oslo                       1088\n",
      "Garmisch-Partenkirchen      895\n",
      "Chamonix                    460\n",
      "Name: City, dtype: int64\n"
     ]
    }
   ],
   "source": [
    "print(athleteData['City'].value_counts())"
   ]
  },
  {
   "cell_type": "markdown",
   "metadata": {},
   "source": [
    "### Medal Count"
   ]
  },
  {
   "cell_type": "code",
   "execution_count": 15,
   "metadata": {},
   "outputs": [
    {
     "name": "stdout",
     "output_type": "stream",
     "text": [
      "The number of medals won:  39783\n"
     ]
    }
   ],
   "source": [
    "Medals = pd.DataFrame(athleteData['Medal'])\n",
    "Medals_new = Medals.dropna()\n",
    "print(\"The number of medals won: \", len(Medals_new))"
   ]
  },
  {
   "cell_type": "code",
   "execution_count": 16,
   "metadata": {},
   "outputs": [
    {
     "name": "stdout",
     "output_type": "stream",
     "text": [
      "Gold      13372\n",
      "Bronze    13295\n",
      "Silver    13116\n",
      "Name: Medal, dtype: int64\n"
     ]
    },
    {
     "data": {
      "text/plain": [
       "<matplotlib.axes._subplots.AxesSubplot at 0x1cacfc9ac18>"
      ]
     },
     "execution_count": 16,
     "metadata": {},
     "output_type": "execute_result"
    },
    {
     "data": {
      "image/png": "[encoded data removed]",
      "text/plain": [
       "<Figure size 432x288 with 1 Axes>"
      ]
     },
     "metadata": {
      "needs_background": "light"
     },
     "output_type": "display_data"
    }
   ],
   "source": [
    "print(athleteData['Medal'].value_counts())\n",
    "sb.countplot(Medals_new[\"Medal\"])"
   ]
  },
  {
   "cell_type": "code",
   "execution_count": 17,
   "metadata": {},
   "outputs": [
    {
     "name": "stdout",
     "output_type": "stream",
     "text": [
      "1896     143\n",
      "1994     331\n",
      "1998     440\n",
      "1906     458\n",
      "2002     478\n",
      "1904     486\n",
      "2010     520\n",
      "2006     526\n",
      "2014     597\n",
      "1900     604\n",
      "1932     739\n",
      "1928     823\n",
      "1908     831\n",
      "1912     941\n",
      "1924     962\n",
      "1948     987\n",
      "1936    1025\n",
      "1952    1033\n",
      "1956    1043\n",
      "1960    1058\n",
      "1964    1215\n",
      "1968    1256\n",
      "1920    1308\n",
      "1972    1414\n",
      "1976    1531\n",
      "1980    1602\n",
      "1984    1698\n",
      "1996    1842\n",
      "1988    1845\n",
      "2012    1941\n",
      "2004    2001\n",
      "2000    2004\n",
      "2016    2023\n",
      "1992    2030\n",
      "2008    2048\n",
      "Name: Year, dtype: int64\n",
      "\n",
      "The number of medals won in each year.\n"
     ]
    },
    {
     "data": {
      "text/plain": [
       "<seaborn.axisgrid.FacetGrid at 0x1cacfe7aa20>"
      ]
     },
     "execution_count": 17,
     "metadata": {},
     "output_type": "execute_result"
    },
    {
     "data": {
      "image/png": "[encoded data removed]",
      "text/plain": [
       "<Figure size 720x720 with 1 Axes>"
      ]
     },
     "metadata": {
      "needs_background": "light"
     },
     "output_type": "display_data"
    }
   ],
   "source": [
    "DF_SeasonNMedal_old = pd.DataFrame(athleteData[['Year', 'Medal']])\n",
    "DF_SeasonNMedal = DF_SeasonNMedal_old.dropna()\n",
    "print(DF_SeasonNMedal[\"Year\"].value_counts(ascending = True))\n",
    "print(\"\\nThe number of medals won in each year.\")\n",
    "sb.catplot(y = \"Year\", data = DF_SeasonNMedal, kind = \"count\", height = 10)"
   ]
  },
  {
   "cell_type": "markdown",
   "metadata": {},
   "source": [
    "### Analysis between Variables - Height, Weight and Medal Tally"
   ]
  },
  {
   "cell_type": "code",
   "execution_count": 18,
   "metadata": {},
   "outputs": [
    {
     "data": {
      "text/plain": [
       "<matplotlib.axes._subplots.AxesSubplot at 0x1cacfe11e80>"
      ]
     },
     "execution_count": 18,
     "metadata": {},
     "output_type": "execute_result"
    },
    {
     "data": {
      "image/png": "[encoded data removed]",
      "text/plain": [
       "<Figure size 1728x216 with 1 Axes>"
      ]
     },
     "metadata": {
      "needs_background": "light"
     },
     "output_type": "display_data"
    },
    {
     "data": {
      "image/png": "[encoded data removed]",
      "text/plain": [
       "<Figure size 1728x216 with 1 Axes>"
      ]
     },
     "metadata": {
      "needs_background": "light"
     },
     "output_type": "display_data"
    }
   ],
   "source": [
    "athlete_data_1 = pd.DataFrame(athleteData[['Weight', 'Height']])\n",
    "f, axes = plt.subplots(1, 1, figsize=(24, 3))\n",
    "sb.boxplot(athleteData['Height'], orient = \"h\")\n",
    "\n",
    "f, axes = plt.subplots(1, 1, figsize=(24, 3))\n",
    "sb.boxplot(athleteData['Weight'], orient = \"h\", color = 'g')"
   ]
  },
  {
   "cell_type": "code",
   "execution_count": 19,
   "metadata": {},
   "outputs": [
    {
     "name": "stderr",
     "output_type": "stream",
     "text": [
      "C:\\Users\\tkjie\\Anaconda3\\lib\\site-packages\\statsmodels\\nonparametric\\kde.py:448: RuntimeWarning: invalid value encountered in greater\n",
      "  X = X[np.logical_and(X > clip[0], X < clip[1])] # won't work for two columns.\n",
      "C:\\Users\\tkjie\\Anaconda3\\lib\\site-packages\\statsmodels\\nonparametric\\kde.py:448: RuntimeWarning: invalid value encountered in less\n",
      "  X = X[np.logical_and(X > clip[0], X < clip[1])] # won't work for two columns.\n",
      "C:\\Users\\tkjie\\Anaconda3\\lib\\site-packages\\scipy\\stats\\stats.py:1713: FutureWarning: Using a non-tuple sequence for multidimensional indexing is deprecated; use `arr[tuple(seq)]` instead of `arr[seq]`. In the future this will be interpreted as an array index, `arr[np.array(seq)]`, which will result either in an error or a different result.\n",
      "  return np.add.reduce(sorted[indexer] * weights, axis=axis) / sumval\n"
     ]
    },
    {
     "data": {
      "text/plain": [
       "<matplotlib.axes._subplots.AxesSubplot at 0x1cacff7bda0>"
      ]
     },
     "execution_count": 19,
     "metadata": {},
     "output_type": "execute_result"
    },
    {
     "data": {
      "image/png": "[encoded data removed]",
      "text/plain": [
       "<Figure size 1728x648 with 1 Axes>"
      ]
     },
     "metadata": {
      "needs_background": "light"
     },
     "output_type": "display_data"
    },
    {
     "data": {
      "image/png": "[encoded data removed]",
      "text/plain": [
       "<Figure size 1728x648 with 1 Axes>"
      ]
     },
     "metadata": {
      "needs_background": "light"
     },
     "output_type": "display_data"
    }
   ],
   "source": [
    "f, axes = plt.subplots(1, 1, figsize=(24, 9))\n",
    "sb.distplot(athleteData['Height'], hist = False, color = \"blue\")\n",
    "\n",
    "f, axes = plt.subplots(1, 1, figsize=(24, 9))\n",
    "sb.distplot(athleteData['Weight'], hist = False, color = \"green\")"
   ]
  },
  {
   "cell_type": "code",
   "execution_count": 20,
   "metadata": {},
   "outputs": [
    {
     "data": {
      "text/plain": [
       "<matplotlib.axes._subplots.AxesSubplot at 0x1cacfcd7048>"
      ]
     },
     "execution_count": 20,
     "metadata": {},
     "output_type": "execute_result"
    },
    {
     "data": {
      "image/png": "[encoded data removed]",
      "text/plain": [
       "<Figure size 432x288 with 2 Axes>"
      ]
     },
     "metadata": {
      "needs_background": "light"
     },
     "output_type": "display_data"
    }
   ],
   "source": [
    "f, axes = plt.subplots(1,1 , figsize = (6,4))\n",
    "sb.heatmap(athlete_data_1.corr(), vmin=-1, vmax=1, annot=True, fmt='.2f')"
   ]
  },
  {
   "cell_type": "code",
   "execution_count": 21,
   "metadata": {},
   "outputs": [
    {
     "data": {
      "text/plain": [
       "<seaborn.axisgrid.JointGrid at 0x1cad3e296a0>"
      ]
     },
     "execution_count": 21,
     "metadata": {},
     "output_type": "execute_result"
    },
    {
     "data": {
      "image/png": "[encoded data removed]",
      "text/plain": [
       "<Figure size 576x576 with 3 Axes>"
      ]
     },
     "metadata": {
      "needs_background": "light"
     },
     "output_type": "display_data"
    }
   ],
   "source": [
    "sb.jointplot(x = athleteData['Weight'], y = athleteData['Height'], height = 8)"
   ]
  },
  {
   "cell_type": "code",
   "execution_count": 22,
   "metadata": {},
   "outputs": [
    {
     "name": "stdout",
     "output_type": "stream",
     "text": [
      "Gold      13372\n",
      "Bronze    13295\n",
      "Silver    13116\n",
      "Name: Medal, dtype: int64\n"
     ]
    },
    {
     "data": {
      "text/plain": [
       "<matplotlib.axes._subplots.AxesSubplot at 0x1cad51f8748>"
      ]
     },
     "execution_count": 22,
     "metadata": {},
     "output_type": "execute_result"
    },
    {
     "data": {
      "image/png": "[encoded data removed]",
      "text/plain": [
       "<Figure size 432x288 with 1 Axes>"
      ]
     },
     "metadata": {
      "needs_background": "light"
     },
     "output_type": "display_data"
    }
   ],
   "source": [
    "athlete_data_2 = pd.DataFrame(athleteData[['Weight', 'Medal']])\n",
    "print(athlete_data_2[\"Medal\"].value_counts())\n",
    "sb.countplot(athlete_data_2[\"Medal\"].value_counts().index)"
   ]
  },
  {
   "cell_type": "code",
   "execution_count": 23,
   "metadata": {},
   "outputs": [
    {
     "data": {
      "text/html": [
       "<div>\n",
       "<style scoped>\n",
       "    .dataframe tbody tr th:only-of-type {\n",
       "        vertical-align: middle;\n",
       "    }\n",
       "\n",
       "    .dataframe tbody tr th {\n",
       "        vertical-align: top;\n",
       "    }\n",
       "\n",
       "    .dataframe thead th {\n",
       "        text-align: right;\n",
       "    }\n",
       "</style>\n",
       "<table border=\"1\" class=\"dataframe\">\n",
       "  <thead>\n",
       "    <tr style=\"text-align: right;\">\n",
       "      <th></th>\n",
       "      <th>Weight</th>\n",
       "    </tr>\n",
       "  </thead>\n",
       "  <tbody>\n",
       "    <tr>\n",
       "      <th>count</th>\n",
       "      <td>10254.00</td>\n",
       "    </tr>\n",
       "    <tr>\n",
       "      <th>mean</th>\n",
       "      <td>74.18</td>\n",
       "    </tr>\n",
       "    <tr>\n",
       "      <th>std</th>\n",
       "      <td>15.21</td>\n",
       "    </tr>\n",
       "    <tr>\n",
       "      <th>min</th>\n",
       "      <td>28.00</td>\n",
       "    </tr>\n",
       "    <tr>\n",
       "      <th>25%</th>\n",
       "      <td>63.00</td>\n",
       "    </tr>\n",
       "    <tr>\n",
       "      <th>50%</th>\n",
       "      <td>73.00</td>\n",
       "    </tr>\n",
       "    <tr>\n",
       "      <th>75%</th>\n",
       "      <td>84.00</td>\n",
       "    </tr>\n",
       "    <tr>\n",
       "      <th>max</th>\n",
       "      <td>170.00</td>\n",
       "    </tr>\n",
       "  </tbody>\n",
       "</table>\n",
       "</div>"
      ],
      "text/plain": [
       "         Weight\n",
       "count  10254.00\n",
       "mean      74.18\n",
       "std       15.21\n",
       "min       28.00\n",
       "25%       63.00\n",
       "50%       73.00\n",
       "75%       84.00\n",
       "max      170.00"
      ]
     },
     "execution_count": 23,
     "metadata": {},
     "output_type": "execute_result"
    }
   ],
   "source": [
    "Gold_Only_Weight = athlete_data_2[athlete_data_2[\"Medal\"] == \"Gold\"]\n",
    "Gold_Only_Weight = Gold_Only_Weight.dropna()\n",
    "Gold_Only_Weight.describe().round(2)"
   ]
  },
  {
   "cell_type": "code",
   "execution_count": 24,
   "metadata": {},
   "outputs": [
    {
     "data": {
      "text/plain": [
       "<matplotlib.axes._subplots.AxesSubplot at 0x1cad6009f60>"
      ]
     },
     "execution_count": 24,
     "metadata": {},
     "output_type": "execute_result"
    },
    {
     "data": {
      "image/png": "[encoded data removed]",
      "text/plain": [
       "<Figure size 1728x216 with 1 Axes>"
      ]
     },
     "metadata": {
      "needs_background": "light"
     },
     "output_type": "display_data"
    }
   ],
   "source": [
    "f, axes = plt.subplots(1, 1, figsize=(24, 3))\n",
    "sb.boxplot(Gold_Only_Weight['Weight'], orient = \"h\")"
   ]
  },
  {
   "cell_type": "code",
   "execution_count": 25,
   "metadata": {},
   "outputs": [
    {
     "data": {
      "text/html": [
       "<div>\n",
       "<style scoped>\n",
       "    .dataframe tbody tr th:only-of-type {\n",
       "        vertical-align: middle;\n",
       "    }\n",
       "\n",
       "    .dataframe tbody tr th {\n",
       "        vertical-align: top;\n",
       "    }\n",
       "\n",
       "    .dataframe thead th {\n",
       "        text-align: right;\n",
       "    }\n",
       "</style>\n",
       "<table border=\"1\" class=\"dataframe\">\n",
       "  <thead>\n",
       "    <tr style=\"text-align: right;\">\n",
       "      <th></th>\n",
       "      <th>Height</th>\n",
       "    </tr>\n",
       "  </thead>\n",
       "  <tbody>\n",
       "    <tr>\n",
       "      <th>count</th>\n",
       "      <td>10539.00</td>\n",
       "    </tr>\n",
       "    <tr>\n",
       "      <th>mean</th>\n",
       "      <td>177.90</td>\n",
       "    </tr>\n",
       "    <tr>\n",
       "      <th>std</th>\n",
       "      <td>11.05</td>\n",
       "    </tr>\n",
       "    <tr>\n",
       "      <th>min</th>\n",
       "      <td>136.00</td>\n",
       "    </tr>\n",
       "    <tr>\n",
       "      <th>25%</th>\n",
       "      <td>170.00</td>\n",
       "    </tr>\n",
       "    <tr>\n",
       "      <th>50%</th>\n",
       "      <td>178.00</td>\n",
       "    </tr>\n",
       "    <tr>\n",
       "      <th>75%</th>\n",
       "      <td>185.00</td>\n",
       "    </tr>\n",
       "    <tr>\n",
       "      <th>max</th>\n",
       "      <td>223.00</td>\n",
       "    </tr>\n",
       "  </tbody>\n",
       "</table>\n",
       "</div>"
      ],
      "text/plain": [
       "         Height\n",
       "count  10539.00\n",
       "mean     177.90\n",
       "std       11.05\n",
       "min      136.00\n",
       "25%      170.00\n",
       "50%      178.00\n",
       "75%      185.00\n",
       "max      223.00"
      ]
     },
     "execution_count": 25,
     "metadata": {},
     "output_type": "execute_result"
    }
   ],
   "source": [
    "athlete_data_3 = pd.DataFrame(athleteData[['Height', 'Medal']])\n",
    "Gold_Only_Height = athlete_data_3[athlete_data_3[\"Medal\"] == \"Gold\"]\n",
    "Gold_Only_Height = Gold_Only_Height.dropna()\n",
    "Gold_Only_Height.describe().round(2)"
   ]
  },
  {
   "cell_type": "code",
   "execution_count": 26,
   "metadata": {},
   "outputs": [
    {
     "data": {
      "text/plain": [
       "<matplotlib.axes._subplots.AxesSubplot at 0x1cad61d06a0>"
      ]
     },
     "execution_count": 26,
     "metadata": {},
     "output_type": "execute_result"
    },
    {
     "data": {
      "image/png": "[encoded data removed]",
      "text/plain": [
       "<Figure size 1728x216 with 1 Axes>"
      ]
     },
     "metadata": {
      "needs_background": "light"
     },
     "output_type": "display_data"
    }
   ],
   "source": [
    "f, axes = plt.subplots(1, 1, figsize=(24, 3))\n",
    "sb.boxplot(Gold_Only_Height['Height'], orient = \"h\", color = 'g')"
   ]
  },
  {
   "cell_type": "markdown",
   "metadata": {},
   "source": [
    "### Analysis between Variables - Countries, Team and Medal Tally\n",
    "Let's take an analysis of Team USA."
   ]
  },
  {
   "cell_type": "code",
   "execution_count": 27,
   "metadata": {},
   "outputs": [
    {
     "data": {
      "text/html": [
       "<div>\n",
       "<style scoped>\n",
       "    .dataframe tbody tr th:only-of-type {\n",
       "        vertical-align: middle;\n",
       "    }\n",
       "\n",
       "    .dataframe tbody tr th {\n",
       "        vertical-align: top;\n",
       "    }\n",
       "\n",
       "    .dataframe thead th {\n",
       "        text-align: right;\n",
       "    }\n",
       "</style>\n",
       "<table border=\"1\" class=\"dataframe\">\n",
       "  <thead>\n",
       "    <tr style=\"text-align: right;\">\n",
       "      <th></th>\n",
       "      <th>ID</th>\n",
       "      <th>Name</th>\n",
       "      <th>Sex</th>\n",
       "      <th>Age</th>\n",
       "      <th>Height</th>\n",
       "      <th>Weight</th>\n",
       "      <th>Team</th>\n",
       "      <th>NOC</th>\n",
       "      <th>Games</th>\n",
       "      <th>Year</th>\n",
       "      <th>Season</th>\n",
       "      <th>City</th>\n",
       "      <th>Sport</th>\n",
       "      <th>Event</th>\n",
       "      <th>Medal</th>\n",
       "    </tr>\n",
       "  </thead>\n",
       "  <tbody>\n",
       "    <tr>\n",
       "      <th>10</th>\n",
       "      <td>6</td>\n",
       "      <td>Per Knut Aaland</td>\n",
       "      <td>M</td>\n",
       "      <td>31.0</td>\n",
       "      <td>188.0</td>\n",
       "      <td>75.0</td>\n",
       "      <td>United States</td>\n",
       "      <td>USA</td>\n",
       "      <td>1992 Winter</td>\n",
       "      <td>1992</td>\n",
       "      <td>Winter</td>\n",
       "      <td>Albertville</td>\n",
       "      <td>Cross Country Skiing</td>\n",
       "      <td>Cross Country Skiing Men's 10 kilometres</td>\n",
       "      <td>NaN</td>\n",
       "    </tr>\n",
       "    <tr>\n",
       "      <th>11</th>\n",
       "      <td>6</td>\n",
       "      <td>Per Knut Aaland</td>\n",
       "      <td>M</td>\n",
       "      <td>31.0</td>\n",
       "      <td>188.0</td>\n",
       "      <td>75.0</td>\n",
       "      <td>United States</td>\n",
       "      <td>USA</td>\n",
       "      <td>1992 Winter</td>\n",
       "      <td>1992</td>\n",
       "      <td>Winter</td>\n",
       "      <td>Albertville</td>\n",
       "      <td>Cross Country Skiing</td>\n",
       "      <td>Cross Country Skiing Men's 50 kilometres</td>\n",
       "      <td>NaN</td>\n",
       "    </tr>\n",
       "    <tr>\n",
       "      <th>12</th>\n",
       "      <td>6</td>\n",
       "      <td>Per Knut Aaland</td>\n",
       "      <td>M</td>\n",
       "      <td>31.0</td>\n",
       "      <td>188.0</td>\n",
       "      <td>75.0</td>\n",
       "      <td>United States</td>\n",
       "      <td>USA</td>\n",
       "      <td>1992 Winter</td>\n",
       "      <td>1992</td>\n",
       "      <td>Winter</td>\n",
       "      <td>Albertville</td>\n",
       "      <td>Cross Country Skiing</td>\n",
       "      <td>Cross Country Skiing Men's 10/15 kilometres Pu...</td>\n",
       "      <td>NaN</td>\n",
       "    </tr>\n",
       "    <tr>\n",
       "      <th>13</th>\n",
       "      <td>6</td>\n",
       "      <td>Per Knut Aaland</td>\n",
       "      <td>M</td>\n",
       "      <td>31.0</td>\n",
       "      <td>188.0</td>\n",
       "      <td>75.0</td>\n",
       "      <td>United States</td>\n",
       "      <td>USA</td>\n",
       "      <td>1992 Winter</td>\n",
       "      <td>1992</td>\n",
       "      <td>Winter</td>\n",
       "      <td>Albertville</td>\n",
       "      <td>Cross Country Skiing</td>\n",
       "      <td>Cross Country Skiing Men's 4 x 10 kilometres R...</td>\n",
       "      <td>NaN</td>\n",
       "    </tr>\n",
       "    <tr>\n",
       "      <th>14</th>\n",
       "      <td>6</td>\n",
       "      <td>Per Knut Aaland</td>\n",
       "      <td>M</td>\n",
       "      <td>33.0</td>\n",
       "      <td>188.0</td>\n",
       "      <td>75.0</td>\n",
       "      <td>United States</td>\n",
       "      <td>USA</td>\n",
       "      <td>1994 Winter</td>\n",
       "      <td>1994</td>\n",
       "      <td>Winter</td>\n",
       "      <td>Lillehammer</td>\n",
       "      <td>Cross Country Skiing</td>\n",
       "      <td>Cross Country Skiing Men's 10 kilometres</td>\n",
       "      <td>NaN</td>\n",
       "    </tr>\n",
       "  </tbody>\n",
       "</table>\n",
       "</div>"
      ],
      "text/plain": [
       "    ID             Name Sex   Age  Height  Weight           Team  NOC  \\\n",
       "10   6  Per Knut Aaland   M  31.0   188.0    75.0  United States  USA   \n",
       "11   6  Per Knut Aaland   M  31.0   188.0    75.0  United States  USA   \n",
       "12   6  Per Knut Aaland   M  31.0   188.0    75.0  United States  USA   \n",
       "13   6  Per Knut Aaland   M  31.0   188.0    75.0  United States  USA   \n",
       "14   6  Per Knut Aaland   M  33.0   188.0    75.0  United States  USA   \n",
       "\n",
       "          Games  Year  Season         City                 Sport  \\\n",
       "10  1992 Winter  1992  Winter  Albertville  Cross Country Skiing   \n",
       "11  1992 Winter  1992  Winter  Albertville  Cross Country Skiing   \n",
       "12  1992 Winter  1992  Winter  Albertville  Cross Country Skiing   \n",
       "13  1992 Winter  1992  Winter  Albertville  Cross Country Skiing   \n",
       "14  1994 Winter  1994  Winter  Lillehammer  Cross Country Skiing   \n",
       "\n",
       "                                                Event Medal  \n",
       "10           Cross Country Skiing Men's 10 kilometres   NaN  \n",
       "11           Cross Country Skiing Men's 50 kilometres   NaN  \n",
       "12  Cross Country Skiing Men's 10/15 kilometres Pu...   NaN  \n",
       "13  Cross Country Skiing Men's 4 x 10 kilometres R...   NaN  \n",
       "14           Cross Country Skiing Men's 10 kilometres   NaN  "
      ]
     },
     "execution_count": 27,
     "metadata": {},
     "output_type": "execute_result"
    }
   ],
   "source": [
    "USA_athlete_data = athleteData[athleteData[\"NOC\"] == \"USA\"]\n",
    "USA_athlete_data.head()"
   ]
  },
  {
   "cell_type": "code",
   "execution_count": 28,
   "metadata": {},
   "outputs": [
    {
     "data": {
      "text/plain": [
       "<matplotlib.axes._subplots.AxesSubplot at 0x1cad622d940>"
      ]
     },
     "execution_count": 28,
     "metadata": {},
     "output_type": "execute_result"
    },
    {
     "data": {
      "image/png": "[encoded data removed]",
      "text/plain": [
       "<Figure size 432x288 with 1 Axes>"
      ]
     },
     "metadata": {
      "needs_background": "light"
     },
     "output_type": "display_data"
    }
   ],
   "source": [
    "sb.countplot(USA_athlete_data[\"Medal\"], order = USA_athlete_data[\"Medal\"].value_counts().index)"
   ]
  },
  {
   "cell_type": "markdown",
   "metadata": {},
   "source": [
    "American people are quite tall and heavy."
   ]
  },
  {
   "cell_type": "code",
   "execution_count": 29,
   "metadata": {},
   "outputs": [
    {
     "data": {
      "text/plain": [
       "<matplotlib.axes._subplots.AxesSubplot at 0x1cad93de978>"
      ]
     },
     "execution_count": 29,
     "metadata": {},
     "output_type": "execute_result"
    },
    {
     "data": {
      "image/png": "[encoded data removed]",
      "text/plain": [
       "<Figure size 1728x216 with 1 Axes>"
      ]
     },
     "metadata": {
      "needs_background": "light"
     },
     "output_type": "display_data"
    },
    {
     "data": {
      "image/png": "[encoded data removed]",
      "text/plain": [
       "<Figure size 1728x216 with 1 Axes>"
      ]
     },
     "metadata": {
      "needs_background": "light"
     },
     "output_type": "display_data"
    }
   ],
   "source": [
    "f, axes = plt.subplots(1, 1, figsize=(24, 3))\n",
    "sb.boxplot(USA_athlete_data['Height'], orient = \"h\", color = 'r')\n",
    "\n",
    "f, axes = plt.subplots(1, 1, figsize=(24, 3))\n",
    "sb.boxplot(USA_athlete_data['Weight'], orient = \"h\", color = 'y')"
   ]
  },
  {
   "cell_type": "code",
   "execution_count": 30,
   "metadata": {},
   "outputs": [
    {
     "name": "stdout",
     "output_type": "stream",
     "text": [
      "Athletics               3211\n",
      "Gymnastics              2013\n",
      "Swimming                1638\n",
      "Rowing                   828\n",
      "Fencing                  690\n",
      "Shooting                 645\n",
      "Speed Skating            570\n",
      "Art Competitions         562\n",
      "Alpine Skiing            552\n",
      "Cross Country Skiing     538\n",
      "Name: Sport, dtype: int64\n"
     ]
    }
   ],
   "source": [
    "print(USA_athlete_data['Sport'].value_counts().nlargest(10))"
   ]
  },
  {
   "cell_type": "markdown",
   "metadata": {},
   "source": [
    "Let's anaylse the statitics for Gymnastics in Team USA"
   ]
  },
  {
   "cell_type": "code",
   "execution_count": 31,
   "metadata": {},
   "outputs": [
    {
     "data": {
      "text/plain": [
       "<matplotlib.axes._subplots.AxesSubplot at 0x1cad6248320>"
      ]
     },
     "execution_count": 31,
     "metadata": {},
     "output_type": "execute_result"
    },
    {
     "data": {
      "image/png": "[encoded data removed]",
      "text/plain": [
       "<Figure size 432x288 with 1 Axes>"
      ]
     },
     "metadata": {
      "needs_background": "light"
     },
     "output_type": "display_data"
    }
   ],
   "source": [
    "USA_athlete_data_Gym = USA_athlete_data[USA_athlete_data[\"Sport\"] == \"Gymnastics\"]\n",
    "sb.countplot(USA_athlete_data_Gym[\"Medal\"], order = USA_athlete_data_Gym[\"Medal\"].value_counts().index)"
   ]
  },
  {
   "cell_type": "code",
   "execution_count": 32,
   "metadata": {},
   "outputs": [
    {
     "data": {
      "text/plain": [
       "count    1150.00\n",
       "mean       57.50\n",
       "std        10.46\n",
       "min        34.00\n",
       "25%        49.00\n",
       "50%        58.00\n",
       "75%        65.00\n",
       "max        77.00\n",
       "Name: Weight, dtype: float64"
      ]
     },
     "execution_count": 32,
     "metadata": {},
     "output_type": "execute_result"
    }
   ],
   "source": [
    "USA_athlete_data_Gym['Weight'].describe().round(2)"
   ]
  },
  {
   "cell_type": "code",
   "execution_count": 33,
   "metadata": {},
   "outputs": [
    {
     "name": "stderr",
     "output_type": "stream",
     "text": [
      "C:\\Users\\tkjie\\Anaconda3\\lib\\site-packages\\pandas\\core\\generic.py:5434: SettingWithCopyWarning: \n",
      "A value is trying to be set on a copy of a slice from a DataFrame\n",
      "\n",
      "See the caveats in the documentation: http://pandas.pydata.org/pandas-docs/stable/indexing.html#indexing-view-versus-copy\n",
      "  self._update_inplace(new_data)\n"
     ]
    },
    {
     "data": {
      "text/html": [
       "<div>\n",
       "<style scoped>\n",
       "    .dataframe tbody tr th:only-of-type {\n",
       "        vertical-align: middle;\n",
       "    }\n",
       "\n",
       "    .dataframe tbody tr th {\n",
       "        vertical-align: top;\n",
       "    }\n",
       "\n",
       "    .dataframe thead th {\n",
       "        text-align: right;\n",
       "    }\n",
       "</style>\n",
       "<table border=\"1\" class=\"dataframe\">\n",
       "  <thead>\n",
       "    <tr style=\"text-align: right;\">\n",
       "      <th></th>\n",
       "      <th>ID</th>\n",
       "      <th>Name</th>\n",
       "      <th>Sex</th>\n",
       "      <th>Age</th>\n",
       "      <th>Height</th>\n",
       "      <th>Weight</th>\n",
       "      <th>Team</th>\n",
       "      <th>NOC</th>\n",
       "      <th>Games</th>\n",
       "      <th>Year</th>\n",
       "      <th>Season</th>\n",
       "      <th>City</th>\n",
       "      <th>Sport</th>\n",
       "      <th>Event</th>\n",
       "      <th>Medal</th>\n",
       "    </tr>\n",
       "  </thead>\n",
       "  <tbody>\n",
       "    <tr>\n",
       "      <th>4986</th>\n",
       "      <td>2848</td>\n",
       "      <td>James Kanati Allen</td>\n",
       "      <td>M</td>\n",
       "      <td>21.0</td>\n",
       "      <td>173.0</td>\n",
       "      <td>64.0</td>\n",
       "      <td>United States</td>\n",
       "      <td>USA</td>\n",
       "      <td>1968 Summer</td>\n",
       "      <td>1968</td>\n",
       "      <td>Summer</td>\n",
       "      <td>Mexico City</td>\n",
       "      <td>Gymnastics</td>\n",
       "      <td>Gymnastics Men's Individual All-Around</td>\n",
       "      <td>None</td>\n",
       "    </tr>\n",
       "    <tr>\n",
       "      <th>4987</th>\n",
       "      <td>2848</td>\n",
       "      <td>James Kanati Allen</td>\n",
       "      <td>M</td>\n",
       "      <td>21.0</td>\n",
       "      <td>173.0</td>\n",
       "      <td>64.0</td>\n",
       "      <td>United States</td>\n",
       "      <td>USA</td>\n",
       "      <td>1968 Summer</td>\n",
       "      <td>1968</td>\n",
       "      <td>Summer</td>\n",
       "      <td>Mexico City</td>\n",
       "      <td>Gymnastics</td>\n",
       "      <td>Gymnastics Men's Team All-Around</td>\n",
       "      <td>None</td>\n",
       "    </tr>\n",
       "    <tr>\n",
       "      <th>4988</th>\n",
       "      <td>2848</td>\n",
       "      <td>James Kanati Allen</td>\n",
       "      <td>M</td>\n",
       "      <td>21.0</td>\n",
       "      <td>173.0</td>\n",
       "      <td>64.0</td>\n",
       "      <td>United States</td>\n",
       "      <td>USA</td>\n",
       "      <td>1968 Summer</td>\n",
       "      <td>1968</td>\n",
       "      <td>Summer</td>\n",
       "      <td>Mexico City</td>\n",
       "      <td>Gymnastics</td>\n",
       "      <td>Gymnastics Men's Floor Exercise</td>\n",
       "      <td>None</td>\n",
       "    </tr>\n",
       "    <tr>\n",
       "      <th>4989</th>\n",
       "      <td>2848</td>\n",
       "      <td>James Kanati Allen</td>\n",
       "      <td>M</td>\n",
       "      <td>21.0</td>\n",
       "      <td>173.0</td>\n",
       "      <td>64.0</td>\n",
       "      <td>United States</td>\n",
       "      <td>USA</td>\n",
       "      <td>1968 Summer</td>\n",
       "      <td>1968</td>\n",
       "      <td>Summer</td>\n",
       "      <td>Mexico City</td>\n",
       "      <td>Gymnastics</td>\n",
       "      <td>Gymnastics Men's Horse Vault</td>\n",
       "      <td>None</td>\n",
       "    </tr>\n",
       "    <tr>\n",
       "      <th>4990</th>\n",
       "      <td>2848</td>\n",
       "      <td>James Kanati Allen</td>\n",
       "      <td>M</td>\n",
       "      <td>21.0</td>\n",
       "      <td>173.0</td>\n",
       "      <td>64.0</td>\n",
       "      <td>United States</td>\n",
       "      <td>USA</td>\n",
       "      <td>1968 Summer</td>\n",
       "      <td>1968</td>\n",
       "      <td>Summer</td>\n",
       "      <td>Mexico City</td>\n",
       "      <td>Gymnastics</td>\n",
       "      <td>Gymnastics Men's Parallel Bars</td>\n",
       "      <td>None</td>\n",
       "    </tr>\n",
       "  </tbody>\n",
       "</table>\n",
       "</div>"
      ],
      "text/plain": [
       "        ID                Name Sex   Age  Height  Weight           Team  NOC  \\\n",
       "4986  2848  James Kanati Allen   M  21.0   173.0    64.0  United States  USA   \n",
       "4987  2848  James Kanati Allen   M  21.0   173.0    64.0  United States  USA   \n",
       "4988  2848  James Kanati Allen   M  21.0   173.0    64.0  United States  USA   \n",
       "4989  2848  James Kanati Allen   M  21.0   173.0    64.0  United States  USA   \n",
       "4990  2848  James Kanati Allen   M  21.0   173.0    64.0  United States  USA   \n",
       "\n",
       "            Games  Year  Season         City       Sport  \\\n",
       "4986  1968 Summer  1968  Summer  Mexico City  Gymnastics   \n",
       "4987  1968 Summer  1968  Summer  Mexico City  Gymnastics   \n",
       "4988  1968 Summer  1968  Summer  Mexico City  Gymnastics   \n",
       "4989  1968 Summer  1968  Summer  Mexico City  Gymnastics   \n",
       "4990  1968 Summer  1968  Summer  Mexico City  Gymnastics   \n",
       "\n",
       "                                       Event Medal  \n",
       "4986  Gymnastics Men's Individual All-Around  None  \n",
       "4987        Gymnastics Men's Team All-Around  None  \n",
       "4988         Gymnastics Men's Floor Exercise  None  \n",
       "4989            Gymnastics Men's Horse Vault  None  \n",
       "4990          Gymnastics Men's Parallel Bars  None  "
      ]
     },
     "execution_count": 33,
     "metadata": {},
     "output_type": "execute_result"
    }
   ],
   "source": [
    "USA_athlete_data_Gym['Medal'].fillna('None', inplace = True)\n",
    "USA_athlete_data_Gym.head()"
   ]
  },
  {
   "cell_type": "markdown",
   "metadata": {},
   "source": [
    "Analysis specifically in the 2000 Olympics"
   ]
  },
  {
   "cell_type": "code",
   "execution_count": 34,
   "metadata": {},
   "outputs": [
    {
     "data": {
      "text/html": [
       "<div>\n",
       "<style scoped>\n",
       "    .dataframe tbody tr th:only-of-type {\n",
       "        vertical-align: middle;\n",
       "    }\n",
       "\n",
       "    .dataframe tbody tr th {\n",
       "        vertical-align: top;\n",
       "    }\n",
       "\n",
       "    .dataframe thead th {\n",
       "        text-align: right;\n",
       "    }\n",
       "</style>\n",
       "<table border=\"1\" class=\"dataframe\">\n",
       "  <thead>\n",
       "    <tr style=\"text-align: right;\">\n",
       "      <th></th>\n",
       "      <th>ID</th>\n",
       "      <th>Name</th>\n",
       "      <th>Sex</th>\n",
       "      <th>Age</th>\n",
       "      <th>Height</th>\n",
       "      <th>Weight</th>\n",
       "      <th>Team</th>\n",
       "      <th>NOC</th>\n",
       "      <th>Games</th>\n",
       "      <th>Year</th>\n",
       "      <th>Season</th>\n",
       "      <th>City</th>\n",
       "      <th>Sport</th>\n",
       "      <th>Event</th>\n",
       "      <th>Medal</th>\n",
       "    </tr>\n",
       "  </thead>\n",
       "  <tbody>\n",
       "    <tr>\n",
       "      <th>41092</th>\n",
       "      <td>21181</td>\n",
       "      <td>Amy Yuen-Yee Chow (-Ho)</td>\n",
       "      <td>F</td>\n",
       "      <td>22.0</td>\n",
       "      <td>155.0</td>\n",
       "      <td>44.0</td>\n",
       "      <td>United States</td>\n",
       "      <td>USA</td>\n",
       "      <td>2000 Summer</td>\n",
       "      <td>2000</td>\n",
       "      <td>Summer</td>\n",
       "      <td>Sydney</td>\n",
       "      <td>Gymnastics</td>\n",
       "      <td>Gymnastics Women's Individual All-Around</td>\n",
       "      <td>None</td>\n",
       "    </tr>\n",
       "    <tr>\n",
       "      <th>41093</th>\n",
       "      <td>21181</td>\n",
       "      <td>Amy Yuen-Yee Chow (-Ho)</td>\n",
       "      <td>F</td>\n",
       "      <td>22.0</td>\n",
       "      <td>155.0</td>\n",
       "      <td>44.0</td>\n",
       "      <td>United States</td>\n",
       "      <td>USA</td>\n",
       "      <td>2000 Summer</td>\n",
       "      <td>2000</td>\n",
       "      <td>Summer</td>\n",
       "      <td>Sydney</td>\n",
       "      <td>Gymnastics</td>\n",
       "      <td>Gymnastics Women's Team All-Around</td>\n",
       "      <td>Bronze</td>\n",
       "    </tr>\n",
       "    <tr>\n",
       "      <th>41094</th>\n",
       "      <td>21181</td>\n",
       "      <td>Amy Yuen-Yee Chow (-Ho)</td>\n",
       "      <td>F</td>\n",
       "      <td>22.0</td>\n",
       "      <td>155.0</td>\n",
       "      <td>44.0</td>\n",
       "      <td>United States</td>\n",
       "      <td>USA</td>\n",
       "      <td>2000 Summer</td>\n",
       "      <td>2000</td>\n",
       "      <td>Summer</td>\n",
       "      <td>Sydney</td>\n",
       "      <td>Gymnastics</td>\n",
       "      <td>Gymnastics Women's Floor Exercise</td>\n",
       "      <td>None</td>\n",
       "    </tr>\n",
       "    <tr>\n",
       "      <th>41095</th>\n",
       "      <td>21181</td>\n",
       "      <td>Amy Yuen-Yee Chow (-Ho)</td>\n",
       "      <td>F</td>\n",
       "      <td>22.0</td>\n",
       "      <td>155.0</td>\n",
       "      <td>44.0</td>\n",
       "      <td>United States</td>\n",
       "      <td>USA</td>\n",
       "      <td>2000 Summer</td>\n",
       "      <td>2000</td>\n",
       "      <td>Summer</td>\n",
       "      <td>Sydney</td>\n",
       "      <td>Gymnastics</td>\n",
       "      <td>Gymnastics Women's Horse Vault</td>\n",
       "      <td>None</td>\n",
       "    </tr>\n",
       "    <tr>\n",
       "      <th>41096</th>\n",
       "      <td>21181</td>\n",
       "      <td>Amy Yuen-Yee Chow (-Ho)</td>\n",
       "      <td>F</td>\n",
       "      <td>22.0</td>\n",
       "      <td>155.0</td>\n",
       "      <td>44.0</td>\n",
       "      <td>United States</td>\n",
       "      <td>USA</td>\n",
       "      <td>2000 Summer</td>\n",
       "      <td>2000</td>\n",
       "      <td>Summer</td>\n",
       "      <td>Sydney</td>\n",
       "      <td>Gymnastics</td>\n",
       "      <td>Gymnastics Women's Uneven Bars</td>\n",
       "      <td>None</td>\n",
       "    </tr>\n",
       "  </tbody>\n",
       "</table>\n",
       "</div>"
      ],
      "text/plain": [
       "          ID                     Name Sex   Age  Height  Weight  \\\n",
       "41092  21181  Amy Yuen-Yee Chow (-Ho)   F  22.0   155.0    44.0   \n",
       "41093  21181  Amy Yuen-Yee Chow (-Ho)   F  22.0   155.0    44.0   \n",
       "41094  21181  Amy Yuen-Yee Chow (-Ho)   F  22.0   155.0    44.0   \n",
       "41095  21181  Amy Yuen-Yee Chow (-Ho)   F  22.0   155.0    44.0   \n",
       "41096  21181  Amy Yuen-Yee Chow (-Ho)   F  22.0   155.0    44.0   \n",
       "\n",
       "                Team  NOC        Games  Year  Season    City       Sport  \\\n",
       "41092  United States  USA  2000 Summer  2000  Summer  Sydney  Gymnastics   \n",
       "41093  United States  USA  2000 Summer  2000  Summer  Sydney  Gymnastics   \n",
       "41094  United States  USA  2000 Summer  2000  Summer  Sydney  Gymnastics   \n",
       "41095  United States  USA  2000 Summer  2000  Summer  Sydney  Gymnastics   \n",
       "41096  United States  USA  2000 Summer  2000  Summer  Sydney  Gymnastics   \n",
       "\n",
       "                                          Event   Medal  \n",
       "41092  Gymnastics Women's Individual All-Around    None  \n",
       "41093        Gymnastics Women's Team All-Around  Bronze  \n",
       "41094         Gymnastics Women's Floor Exercise    None  \n",
       "41095            Gymnastics Women's Horse Vault    None  \n",
       "41096            Gymnastics Women's Uneven Bars    None  "
      ]
     },
     "execution_count": 34,
     "metadata": {},
     "output_type": "execute_result"
    }
   ],
   "source": [
    "USA_athlete_data_Gym_2000 = USA_athlete_data_Gym[USA_athlete_data_Gym[\"Year\"] == 2000]\n",
    "USA_athlete_data_Gym_2000.head()"
   ]
  },
  {
   "cell_type": "code",
   "execution_count": 35,
   "metadata": {},
   "outputs": [
    {
     "name": "stdout",
     "output_type": "stream",
     "text": [
      "None      68\n",
      "Bronze     6\n",
      "Name: Medal, dtype: int64\n"
     ]
    }
   ],
   "source": [
    "print(USA_athlete_data_Gym_2000[\"Medal\"].value_counts())"
   ]
  },
  {
   "cell_type": "code",
   "execution_count": 36,
   "metadata": {},
   "outputs": [
    {
     "data": {
      "text/plain": [
       "<matplotlib.axes._subplots.AxesSubplot at 0x1cad9687278>"
      ]
     },
     "execution_count": 36,
     "metadata": {},
     "output_type": "execute_result"
    },
    {
     "data": {
      "image/png": "[encoded data removed]",
      "text/plain": [
       "<Figure size 1728x216 with 1 Axes>"
      ]
     },
     "metadata": {
      "needs_background": "light"
     },
     "output_type": "display_data"
    },
    {
     "data": {
      "image/png": "[encoded data removed]",
      "text/plain": [
       "<Figure size 1728x216 with 1 Axes>"
      ]
     },
     "metadata": {
      "needs_background": "light"
     },
     "output_type": "display_data"
    }
   ],
   "source": [
    "f, axes = plt.subplots(1, 1, figsize=(24, 3))\n",
    "sb.boxplot(USA_athlete_data_Gym_2000['Height'], orient = \"h\", color = 'r')\n",
    "\n",
    "f, axes = plt.subplots(1, 1, figsize=(24, 3))\n",
    "sb.boxplot(USA_athlete_data_Gym_2000['Weight'], orient = \"h\", color = 'y')"
   ]
  },
  {
   "cell_type": "code",
   "execution_count": 37,
   "metadata": {},
   "outputs": [
    {
     "name": "stdout",
     "output_type": "stream",
     "text": [
      "Mary Elise Ray                         1\n",
      "Tasha Schwikert-Warren                 1\n",
      "Jamie Annette Dantzscher               1\n",
      "Dominique Margaux Dawes (-Thompson)    1\n",
      "Amy Yuen-Yee Chow (-Ho)                1\n",
      "Kristen Ann Maloney                    1\n",
      "Name: Name, dtype: int64\n"
     ]
    },
    {
     "data": {
      "text/html": [
       "<div>\n",
       "<style scoped>\n",
       "    .dataframe tbody tr th:only-of-type {\n",
       "        vertical-align: middle;\n",
       "    }\n",
       "\n",
       "    .dataframe tbody tr th {\n",
       "        vertical-align: top;\n",
       "    }\n",
       "\n",
       "    .dataframe thead th {\n",
       "        text-align: right;\n",
       "    }\n",
       "</style>\n",
       "<table border=\"1\" class=\"dataframe\">\n",
       "  <thead>\n",
       "    <tr style=\"text-align: right;\">\n",
       "      <th></th>\n",
       "      <th>ID</th>\n",
       "      <th>Name</th>\n",
       "      <th>Sex</th>\n",
       "      <th>Age</th>\n",
       "      <th>Height</th>\n",
       "      <th>Weight</th>\n",
       "      <th>Team</th>\n",
       "      <th>NOC</th>\n",
       "      <th>Games</th>\n",
       "      <th>Year</th>\n",
       "      <th>Season</th>\n",
       "      <th>City</th>\n",
       "      <th>Sport</th>\n",
       "      <th>Event</th>\n",
       "      <th>Medal</th>\n",
       "    </tr>\n",
       "  </thead>\n",
       "  <tbody>\n",
       "    <tr>\n",
       "      <th>41093</th>\n",
       "      <td>21181</td>\n",
       "      <td>Amy Yuen-Yee Chow (-Ho)</td>\n",
       "      <td>F</td>\n",
       "      <td>22.0</td>\n",
       "      <td>155.0</td>\n",
       "      <td>44.0</td>\n",
       "      <td>United States</td>\n",
       "      <td>USA</td>\n",
       "      <td>2000 Summer</td>\n",
       "      <td>2000</td>\n",
       "      <td>Summer</td>\n",
       "      <td>Sydney</td>\n",
       "      <td>Gymnastics</td>\n",
       "      <td>Gymnastics Women's Team All-Around</td>\n",
       "      <td>Bronze</td>\n",
       "    </tr>\n",
       "    <tr>\n",
       "      <th>49151</th>\n",
       "      <td>25312</td>\n",
       "      <td>Jamie Annette Dantzscher</td>\n",
       "      <td>F</td>\n",
       "      <td>18.0</td>\n",
       "      <td>152.0</td>\n",
       "      <td>49.0</td>\n",
       "      <td>United States</td>\n",
       "      <td>USA</td>\n",
       "      <td>2000 Summer</td>\n",
       "      <td>2000</td>\n",
       "      <td>Summer</td>\n",
       "      <td>Sydney</td>\n",
       "      <td>Gymnastics</td>\n",
       "      <td>Gymnastics Women's Team All-Around</td>\n",
       "      <td>Bronze</td>\n",
       "    </tr>\n",
       "    <tr>\n",
       "      <th>50078</th>\n",
       "      <td>25774</td>\n",
       "      <td>Dominique Margaux Dawes (-Thompson)</td>\n",
       "      <td>F</td>\n",
       "      <td>23.0</td>\n",
       "      <td>158.0</td>\n",
       "      <td>54.0</td>\n",
       "      <td>United States</td>\n",
       "      <td>USA</td>\n",
       "      <td>2000 Summer</td>\n",
       "      <td>2000</td>\n",
       "      <td>Summer</td>\n",
       "      <td>Sydney</td>\n",
       "      <td>Gymnastics</td>\n",
       "      <td>Gymnastics Women's Team All-Around</td>\n",
       "      <td>Bronze</td>\n",
       "    </tr>\n",
       "    <tr>\n",
       "      <th>147833</th>\n",
       "      <td>74186</td>\n",
       "      <td>Kristen Ann Maloney</td>\n",
       "      <td>F</td>\n",
       "      <td>19.0</td>\n",
       "      <td>152.0</td>\n",
       "      <td>46.0</td>\n",
       "      <td>United States</td>\n",
       "      <td>USA</td>\n",
       "      <td>2000 Summer</td>\n",
       "      <td>2000</td>\n",
       "      <td>Summer</td>\n",
       "      <td>Sydney</td>\n",
       "      <td>Gymnastics</td>\n",
       "      <td>Gymnastics Women's Team All-Around</td>\n",
       "      <td>Bronze</td>\n",
       "    </tr>\n",
       "    <tr>\n",
       "      <th>197674</th>\n",
       "      <td>99252</td>\n",
       "      <td>Mary Elise Ray</td>\n",
       "      <td>F</td>\n",
       "      <td>18.0</td>\n",
       "      <td>152.0</td>\n",
       "      <td>48.0</td>\n",
       "      <td>United States</td>\n",
       "      <td>USA</td>\n",
       "      <td>2000 Summer</td>\n",
       "      <td>2000</td>\n",
       "      <td>Summer</td>\n",
       "      <td>Sydney</td>\n",
       "      <td>Gymnastics</td>\n",
       "      <td>Gymnastics Women's Team All-Around</td>\n",
       "      <td>Bronze</td>\n",
       "    </tr>\n",
       "    <tr>\n",
       "      <th>214995</th>\n",
       "      <td>107925</td>\n",
       "      <td>Tasha Schwikert-Warren</td>\n",
       "      <td>F</td>\n",
       "      <td>15.0</td>\n",
       "      <td>NaN</td>\n",
       "      <td>NaN</td>\n",
       "      <td>United States</td>\n",
       "      <td>USA</td>\n",
       "      <td>2000 Summer</td>\n",
       "      <td>2000</td>\n",
       "      <td>Summer</td>\n",
       "      <td>Sydney</td>\n",
       "      <td>Gymnastics</td>\n",
       "      <td>Gymnastics Women's Team All-Around</td>\n",
       "      <td>Bronze</td>\n",
       "    </tr>\n",
       "  </tbody>\n",
       "</table>\n",
       "</div>"
      ],
      "text/plain": [
       "            ID                                 Name Sex   Age  Height  Weight  \\\n",
       "41093    21181              Amy Yuen-Yee Chow (-Ho)   F  22.0   155.0    44.0   \n",
       "49151    25312             Jamie Annette Dantzscher   F  18.0   152.0    49.0   \n",
       "50078    25774  Dominique Margaux Dawes (-Thompson)   F  23.0   158.0    54.0   \n",
       "147833   74186                  Kristen Ann Maloney   F  19.0   152.0    46.0   \n",
       "197674   99252                       Mary Elise Ray   F  18.0   152.0    48.0   \n",
       "214995  107925               Tasha Schwikert-Warren   F  15.0     NaN     NaN   \n",
       "\n",
       "                 Team  NOC        Games  Year  Season    City       Sport  \\\n",
       "41093   United States  USA  2000 Summer  2000  Summer  Sydney  Gymnastics   \n",
       "49151   United States  USA  2000 Summer  2000  Summer  Sydney  Gymnastics   \n",
       "50078   United States  USA  2000 Summer  2000  Summer  Sydney  Gymnastics   \n",
       "147833  United States  USA  2000 Summer  2000  Summer  Sydney  Gymnastics   \n",
       "197674  United States  USA  2000 Summer  2000  Summer  Sydney  Gymnastics   \n",
       "214995  United States  USA  2000 Summer  2000  Summer  Sydney  Gymnastics   \n",
       "\n",
       "                                     Event   Medal  \n",
       "41093   Gymnastics Women's Team All-Around  Bronze  \n",
       "49151   Gymnastics Women's Team All-Around  Bronze  \n",
       "50078   Gymnastics Women's Team All-Around  Bronze  \n",
       "147833  Gymnastics Women's Team All-Around  Bronze  \n",
       "197674  Gymnastics Women's Team All-Around  Bronze  \n",
       "214995  Gymnastics Women's Team All-Around  Bronze  "
      ]
     },
     "execution_count": 37,
     "metadata": {},
     "output_type": "execute_result"
    }
   ],
   "source": [
    "USA_athlete_data_Gym_2000_Win = USA_athlete_data_Gym_2000[USA_athlete_data_Gym_2000[\"Medal\"] != \"None\"]\n",
    "USA_athlete_data_Gym_2000_Win_NoDupid = USA_athlete_data_Gym_2000_Win.drop_duplicates()\n",
    "print(USA_athlete_data_Gym_2000_Win_NoDupid['Name'].value_counts())\n",
    "USA_athlete_data_Gym_2000_Win_NoDupid"
   ]
  },
  {
   "cell_type": "markdown",
   "metadata": {},
   "source": [
    "We have managed to find out some details from the Team USA who represented the US in the 2000 Sydney Olympics, in the category of Gymnastics. Next, let's find out further details from another sport. Let's say swimming in the 2008 Beijing Olympics for Team USA!\n",
    "\n",
    "### Analysis for Team USA - Swimming in 2008 Beijing Olympics"
   ]
  },
  {
   "cell_type": "code",
   "execution_count": 38,
   "metadata": {},
   "outputs": [
    {
     "data": {
      "text/plain": [
       "<matplotlib.axes._subplots.AxesSubplot at 0x1cad966ae10>"
      ]
     },
     "execution_count": 38,
     "metadata": {},
     "output_type": "execute_result"
    },
    {
     "data": {
      "image/png": "[encoded data removed]",
      "text/plain": [
       "<Figure size 432x288 with 1 Axes>"
      ]
     },
     "metadata": {
      "needs_background": "light"
     },
     "output_type": "display_data"
    }
   ],
   "source": [
    "USA_athlete_data_Swim = USA_athlete_data[USA_athlete_data[\"Sport\"] == \"Swimming\"]\n",
    "USA_athlete_data_Swim_2008 = USA_athlete_data_Swim[USA_athlete_data_Swim[\"Year\"] == 2008]\n",
    "sb.countplot(USA_athlete_data_Swim_2008[\"Medal\"], order = USA_athlete_data_Swim_2008[\"Medal\"].value_counts().index)"
   ]
  },
  {
   "cell_type": "code",
   "execution_count": 39,
   "metadata": {},
   "outputs": [
    {
     "name": "stdout",
     "output_type": "stream",
     "text": [
      "The top Gold medalist for Team USA:\n",
      "Michael Fred Phelps, II    8\n",
      "Ryan Steven Lochte         2\n",
      "Jason Edward Lezak         2\n",
      "Garrett Weber-Gale         2\n",
      "Aaron Wells Peirsol        2\n",
      "Name: Name, dtype: int64\n",
      "\n",
      "The top Silver medalist for Team USA:\n",
      "Dara Grace Torres (-Hoffman, -Minas)    3\n",
      "Kara Lynn Joyce                         2\n",
      "Christine Marie Magnuson                2\n",
      "Rebecca Soni                            2\n",
      "Natalie Anne Coughlin (-Hall)           2\n",
      "Name: Name, dtype: int64\n"
     ]
    }
   ],
   "source": [
    "USA_athlete_data_Swim_2008['Medal'].fillna('None', inplace = True)\n",
    "USA_athlete_data_Swim_2008_win = USA_athlete_data_Swim_2008[USA_athlete_data_Swim_2008[\"Medal\"] != \"None\"]\n",
    "USA_athlete_data_Swim_2008_win_Gold = USA_athlete_data_Swim_2008_win[USA_athlete_data_Swim_2008_win[\"Medal\"] == \"Gold\"]\n",
    "USA_athlete_data_Swim_2008_win_Silver = USA_athlete_data_Swim_2008_win[USA_athlete_data_Swim_2008_win[\"Medal\"] == \"Silver\"]\n",
    "print(\"The top Gold medalist for Team USA:\")\n",
    "print(USA_athlete_data_Swim_2008_win_Gold['Name'].value_counts().nlargest(5))\n",
    "print(\"\\nThe top Silver medalist for Team USA:\")\n",
    "print(USA_athlete_data_Swim_2008_win_Silver['Name'].value_counts().nlargest(5))"
   ]
  },
  {
   "cell_type": "markdown",
   "metadata": {},
   "source": [
    "Michael Phelps was the top Gold medalist for Team USA in Swimming during the 2008 Beijing Olympics.\n",
    "Let's analyse their height and weight."
   ]
  },
  {
   "cell_type": "code",
   "execution_count": 40,
   "metadata": {},
   "outputs": [
    {
     "data": {
      "text/plain": [
       "<matplotlib.axes._subplots.AxesSubplot at 0x1cad9834358>"
      ]
     },
     "execution_count": 40,
     "metadata": {},
     "output_type": "execute_result"
    },
    {
     "data": {
      "image/png": "[encoded data removed]",
      "text/plain": [
       "<Figure size 1728x216 with 1 Axes>"
      ]
     },
     "metadata": {
      "needs_background": "light"
     },
     "output_type": "display_data"
    },
    {
     "data": {
      "image/png": "[encoded data removed]",
      "text/plain": [
       "<Figure size 1728x216 with 1 Axes>"
      ]
     },
     "metadata": {
      "needs_background": "light"
     },
     "output_type": "display_data"
    }
   ],
   "source": [
    "USA_athlete_data_Swim_2008_win_NoDupid = USA_athlete_data_Swim_2008_win.drop_duplicates(subset = 'Name')\n",
    "f, axes = plt.subplots(1, 1, figsize=(24, 3))\n",
    "sb.boxplot(USA_athlete_data_Swim_2008_win_NoDupid['Height'], orient = \"h\", color = 'r')\n",
    "\n",
    "f, axes = plt.subplots(1, 1, figsize=(24, 3))\n",
    "sb.boxplot(USA_athlete_data_Swim_2008_win_NoDupid['Weight'], orient = \"h\", color = 'y')"
   ]
  }
 ],
 "metadata": {
  "kernelspec": {
   "display_name": "Python 3",
   "language": "python",
   "name": "python3"
  },
  "language_info": {
   "codemirror_mode": {
    "name": "ipython",
    "version": 3
   },
   "file_extension": ".py",
   "mimetype": "text/x-python",
   "name": "python",
   "nbconvert_exporter": "python",
   "pygments_lexer": "ipython3",
   "version": "3.7.1"
  }
 },
 "nbformat": 4,
 "nbformat_minor": 2
}
